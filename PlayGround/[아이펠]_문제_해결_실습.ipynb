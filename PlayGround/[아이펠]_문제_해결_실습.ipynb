{
  "nbformat": 4,
  "nbformat_minor": 0,
  "metadata": {
    "colab": {
      "provenance": []
    },
    "kernelspec": {
      "name": "python3",
      "display_name": "Python 3"
    },
    "language_info": {
      "name": "python"
    }
  },
  "cells": [
    {
      "cell_type": "code",
      "source": [
        "import numpy as np\n",
        "import tensorflow as tf\n",
        "from tensorflow import keras\n",
        "from tensorflow.keras import layers\n",
        "from tensorflow.keras.datasets import imdb"
      ],
      "metadata": {
        "id": "UVMS_SpXf3gh"
      },
      "execution_count": 1,
      "outputs": []
    },
    {
      "cell_type": "markdown",
      "source": [
        "# 1. Baseline Code"
      ],
      "metadata": {
        "id": "vvH7zlJpg4rE"
      }
    },
    {
      "cell_type": "code",
      "execution_count": 2,
      "metadata": {
        "colab": {
          "base_uri": "https://localhost:8080/"
        },
        "id": "eMKPO7JnfhBs",
        "outputId": "c112257e-34f4-4332-f665-90a58a446893"
      },
      "outputs": [
        {
          "output_type": "stream",
          "name": "stdout",
          "text": [
            "Downloading data from https://storage.googleapis.com/tensorflow/tf-keras-datasets/imdb.npz\n",
            "\u001b[1m17464789/17464789\u001b[0m \u001b[32m━━━━━━━━━━━━━━━━━━━━\u001b[0m\u001b[37m\u001b[0m \u001b[1m0s\u001b[0m 0us/step\n"
          ]
        }
      ],
      "source": [
        "(train_data, train_labels), _ = imdb.load_data(num_words = 10000)"
      ]
    },
    {
      "cell_type": "code",
      "source": [
        "def vectorize_sequences(sequences, dimension = 10000):\n",
        "    results = np.zeros((len(sequences), dimension))\n",
        "    for i, sequence in enumerate(sequences):\n",
        "        results[i, sequence] = 1.\n",
        "    return results\n",
        "\n",
        "train_data = vectorize_sequences(train_data)"
      ],
      "metadata": {
        "id": "erZjxZdEfuhG"
      },
      "execution_count": 3,
      "outputs": []
    },
    {
      "cell_type": "code",
      "source": [
        "model = keras.Sequential([\n",
        "    layers.Dense(16, activation = \"relu\"),\n",
        "    layers.Dense(16, activation = \"relu\"),\n",
        "    layers.Dense(1, activation = \"sigmoid\")\n",
        "])\n",
        "\n",
        "model.compile(optimizer = \"rmsprop\", loss = \"binary_crossentropy\", metrics = [\"accuracy\"])\n",
        "history_original = model.fit(train_data, train_labels, epochs = 20, batch_size = 512, validation_split =0.4)"
      ],
      "metadata": {
        "colab": {
          "base_uri": "https://localhost:8080/"
        },
        "id": "N32LjNPrgEMd",
        "outputId": "2e480c2a-f852-4aa9-a295-71849778051f"
      },
      "execution_count": 4,
      "outputs": [
        {
          "output_type": "stream",
          "name": "stdout",
          "text": [
            "Epoch 1/20\n",
            "\u001b[1m30/30\u001b[0m \u001b[32m━━━━━━━━━━━━━━━━━━━━\u001b[0m\u001b[37m\u001b[0m \u001b[1m5s\u001b[0m 92ms/step - accuracy: 0.6900 - loss: 0.6021 - val_accuracy: 0.8712 - val_loss: 0.3881\n",
            "Epoch 2/20\n",
            "\u001b[1m30/30\u001b[0m \u001b[32m━━━━━━━━━━━━━━━━━━━━\u001b[0m\u001b[37m\u001b[0m \u001b[1m2s\u001b[0m 75ms/step - accuracy: 0.8871 - loss: 0.3439 - val_accuracy: 0.8808 - val_loss: 0.3157\n",
            "Epoch 3/20\n",
            "\u001b[1m30/30\u001b[0m \u001b[32m━━━━━━━━━━━━━━━━━━━━\u001b[0m\u001b[37m\u001b[0m \u001b[1m2s\u001b[0m 75ms/step - accuracy: 0.9171 - loss: 0.2504 - val_accuracy: 0.8811 - val_loss: 0.2934\n",
            "Epoch 4/20\n",
            "\u001b[1m30/30\u001b[0m \u001b[32m━━━━━━━━━━━━━━━━━━━━\u001b[0m\u001b[37m\u001b[0m \u001b[1m2s\u001b[0m 71ms/step - accuracy: 0.9373 - loss: 0.1937 - val_accuracy: 0.8934 - val_loss: 0.2726\n",
            "Epoch 5/20\n",
            "\u001b[1m30/30\u001b[0m \u001b[32m━━━━━━━━━━━━━━━━━━━━\u001b[0m\u001b[37m\u001b[0m \u001b[1m2s\u001b[0m 76ms/step - accuracy: 0.9504 - loss: 0.1593 - val_accuracy: 0.8788 - val_loss: 0.2974\n",
            "Epoch 6/20\n",
            "\u001b[1m30/30\u001b[0m \u001b[32m━━━━━━━━━━━━━━━━━━━━\u001b[0m\u001b[37m\u001b[0m \u001b[1m2s\u001b[0m 55ms/step - accuracy: 0.9551 - loss: 0.1416 - val_accuracy: 0.8882 - val_loss: 0.2857\n",
            "Epoch 7/20\n",
            "\u001b[1m30/30\u001b[0m \u001b[32m━━━━━━━━━━━━━━━━━━━━\u001b[0m\u001b[37m\u001b[0m \u001b[1m2s\u001b[0m 53ms/step - accuracy: 0.9586 - loss: 0.1311 - val_accuracy: 0.8773 - val_loss: 0.3244\n",
            "Epoch 8/20\n",
            "\u001b[1m30/30\u001b[0m \u001b[32m━━━━━━━━━━━━━━━━━━━━\u001b[0m\u001b[37m\u001b[0m \u001b[1m2s\u001b[0m 38ms/step - accuracy: 0.9705 - loss: 0.1031 - val_accuracy: 0.8848 - val_loss: 0.3052\n",
            "Epoch 9/20\n",
            "\u001b[1m30/30\u001b[0m \u001b[32m━━━━━━━━━━━━━━━━━━━━\u001b[0m\u001b[37m\u001b[0m \u001b[1m1s\u001b[0m 35ms/step - accuracy: 0.9748 - loss: 0.0922 - val_accuracy: 0.8808 - val_loss: 0.3235\n",
            "Epoch 10/20\n",
            "\u001b[1m30/30\u001b[0m \u001b[32m━━━━━━━━━━━━━━━━━━━━\u001b[0m\u001b[37m\u001b[0m \u001b[1m1s\u001b[0m 35ms/step - accuracy: 0.9811 - loss: 0.0761 - val_accuracy: 0.8808 - val_loss: 0.3380\n",
            "Epoch 11/20\n",
            "\u001b[1m30/30\u001b[0m \u001b[32m━━━━━━━━━━━━━━━━━━━━\u001b[0m\u001b[37m\u001b[0m \u001b[1m1s\u001b[0m 35ms/step - accuracy: 0.9839 - loss: 0.0670 - val_accuracy: 0.8800 - val_loss: 0.3591\n",
            "Epoch 12/20\n",
            "\u001b[1m30/30\u001b[0m \u001b[32m━━━━━━━━━━━━━━━━━━━━\u001b[0m\u001b[37m\u001b[0m \u001b[1m2s\u001b[0m 54ms/step - accuracy: 0.9878 - loss: 0.0583 - val_accuracy: 0.8777 - val_loss: 0.3742\n",
            "Epoch 13/20\n",
            "\u001b[1m30/30\u001b[0m \u001b[32m━━━━━━━━━━━━━━━━━━━━\u001b[0m\u001b[37m\u001b[0m \u001b[1m2s\u001b[0m 54ms/step - accuracy: 0.9896 - loss: 0.0524 - val_accuracy: 0.8758 - val_loss: 0.3984\n",
            "Epoch 14/20\n",
            "\u001b[1m30/30\u001b[0m \u001b[32m━━━━━━━━━━━━━━━━━━━━\u001b[0m\u001b[37m\u001b[0m \u001b[1m2s\u001b[0m 43ms/step - accuracy: 0.9912 - loss: 0.0434 - val_accuracy: 0.8712 - val_loss: 0.4314\n",
            "Epoch 15/20\n",
            "\u001b[1m30/30\u001b[0m \u001b[32m━━━━━━━━━━━━━━━━━━━━\u001b[0m\u001b[37m\u001b[0m \u001b[1m1s\u001b[0m 36ms/step - accuracy: 0.9924 - loss: 0.0380 - val_accuracy: 0.8742 - val_loss: 0.4389\n",
            "Epoch 16/20\n",
            "\u001b[1m30/30\u001b[0m \u001b[32m━━━━━━━━━━━━━━━━━━━━\u001b[0m\u001b[37m\u001b[0m \u001b[1m1s\u001b[0m 33ms/step - accuracy: 0.9961 - loss: 0.0291 - val_accuracy: 0.8696 - val_loss: 0.4700\n",
            "Epoch 17/20\n",
            "\u001b[1m30/30\u001b[0m \u001b[32m━━━━━━━━━━━━━━━━━━━━\u001b[0m\u001b[37m\u001b[0m \u001b[1m1s\u001b[0m 34ms/step - accuracy: 0.9962 - loss: 0.0282 - val_accuracy: 0.8706 - val_loss: 0.4920\n",
            "Epoch 18/20\n",
            "\u001b[1m30/30\u001b[0m \u001b[32m━━━━━━━━━━━━━━━━━━━━\u001b[0m\u001b[37m\u001b[0m \u001b[1m1s\u001b[0m 34ms/step - accuracy: 0.9966 - loss: 0.0238 - val_accuracy: 0.8669 - val_loss: 0.5333\n",
            "Epoch 19/20\n",
            "\u001b[1m30/30\u001b[0m \u001b[32m━━━━━━━━━━━━━━━━━━━━\u001b[0m\u001b[37m\u001b[0m \u001b[1m1s\u001b[0m 36ms/step - accuracy: 0.9980 - loss: 0.0208 - val_accuracy: 0.8683 - val_loss: 0.5439\n",
            "Epoch 20/20\n",
            "\u001b[1m30/30\u001b[0m \u001b[32m━━━━━━━━━━━━━━━━━━━━\u001b[0m\u001b[37m\u001b[0m \u001b[1m1s\u001b[0m 34ms/step - accuracy: 0.9971 - loss: 0.0179 - val_accuracy: 0.8708 - val_loss: 0.5511\n"
          ]
        }
      ]
    },
    {
      "cell_type": "code",
      "source": [
        "sample_pred = model.predict(train_data[:100])\n",
        "sample_pred.shape"
      ],
      "metadata": {
        "colab": {
          "base_uri": "https://localhost:8080/"
        },
        "id": "CaEu8RkJl1oy",
        "outputId": "868d178f-c710-4d3a-a8ba-c10a0cc8feda"
      },
      "execution_count": 5,
      "outputs": [
        {
          "output_type": "stream",
          "name": "stdout",
          "text": [
            "\u001b[1m4/4\u001b[0m \u001b[32m━━━━━━━━━━━━━━━━━━━━\u001b[0m\u001b[37m\u001b[0m \u001b[1m0s\u001b[0m 16ms/step\n"
          ]
        },
        {
          "output_type": "execute_result",
          "data": {
            "text/plain": [
              "(100, 1)"
            ]
          },
          "metadata": {},
          "execution_count": 5
        }
      ]
    },
    {
      "cell_type": "markdown",
      "source": [
        "# 2. 사용자 지정 평가 지표 - f1 score"
      ],
      "metadata": {
        "id": "q7ji0D2Rg3Pw"
      }
    },
    {
      "cell_type": "code",
      "source": [
        "# precision = (TP)/(TP+FP)\n",
        "# Recall = (TP)/(TP+FN)\n",
        "# F1 = 2*(precision * recall)/(precision + recall)\n",
        "\n",
        "class F1Score(keras.metrics.Metric):\n",
        "\n",
        "    def __init__(self, name = \"f1_score\", **kwargs):\n",
        "        super().__init__(name = name, **kwargs)\n",
        "        self.tp = self.add_weight(name = \"true_positives\", initializer = \"zeros\")\n",
        "        self.fp = self.add_weight(name = \"false_positives\", initializer = \"zeros\")\n",
        "        self.fn = self.add_weight(name = \"false_negatives\", initializer = \"zeros\")\n",
        "\n",
        "    def update_state(self, y_true, y_pred, sample_weight = None):\n",
        "        y_pred = tf.round(y_pred)\n",
        "        y_true = tf.cast(y_true, tf.float32)\n",
        "\n",
        "        tp = tf.reduce_sum(y_true * y_pred)\n",
        "        fp = tf.reduce_sum((1-y_true) * y_pred)\n",
        "        fn = tf.reduce_sum(y_true * (1 - y_pred))\n",
        "\n",
        "        self.tp.assign_add(tp)\n",
        "        self.fp.assign_add(fp)\n",
        "\n",
        "    def result(self):\n",
        "        recall = self.tp / (self.tp + self.fn)\n",
        "        precision = self.tp / (self.tp + self.fp)\n",
        "        f1_score = 2 * (recall * precision)/(recall + precision)\n",
        "        return f1_score\n",
        "\n",
        "    def reset_state(self):\n",
        "        self.tp.assign(0)\n",
        "        self.fp.assign(0)\n",
        "        self.fn.assign(0)"
      ],
      "metadata": {
        "id": "SlxAprPEhHJT"
      },
      "execution_count": 6,
      "outputs": []
    },
    {
      "cell_type": "code",
      "source": [
        "model = keras.Sequential([\n",
        "    layers.Dense(16, activation = \"relu\"),\n",
        "    layers.Dense(16, activation = \"relu\"),\n",
        "    layers.Dense(1, activation = \"sigmoid\")\n",
        "])\n",
        "\n",
        "model.compile(optimizer = \"rmsprop\", loss = \"binary_crossentropy\", metrics = [\"accuracy\", F1Score()])\n",
        "history = model.fit(train_data, train_labels, epochs = 20, batch_size = 512, validation_split =0.4)"
      ],
      "metadata": {
        "colab": {
          "base_uri": "https://localhost:8080/"
        },
        "id": "YrP0p8l8o--V",
        "outputId": "acf788ed-db47-4277-c7f2-a2c9fec495a7"
      },
      "execution_count": 7,
      "outputs": [
        {
          "output_type": "stream",
          "name": "stdout",
          "text": [
            "Epoch 1/20\n",
            "\u001b[1m30/30\u001b[0m \u001b[32m━━━━━━━━━━━━━━━━━━━━\u001b[0m\u001b[37m\u001b[0m \u001b[1m4s\u001b[0m 75ms/step - accuracy: 0.7006 - f1_score: 0.6678 - loss: 0.6065 - val_accuracy: 0.8713 - val_f1_score: 0.6648 - val_loss: 0.4020\n",
            "Epoch 2/20\n",
            "\u001b[1m30/30\u001b[0m \u001b[32m━━━━━━━━━━━━━━━━━━━━\u001b[0m\u001b[37m\u001b[0m \u001b[1m1s\u001b[0m 36ms/step - accuracy: 0.8902 - f1_score: 0.6698 - loss: 0.3513 - val_accuracy: 0.8764 - val_f1_score: 0.6647 - val_loss: 0.3276\n",
            "Epoch 3/20\n",
            "\u001b[1m30/30\u001b[0m \u001b[32m━━━━━━━━━━━━━━━━━━━━\u001b[0m\u001b[37m\u001b[0m \u001b[1m1s\u001b[0m 35ms/step - accuracy: 0.9136 - f1_score: 0.6691 - loss: 0.2599 - val_accuracy: 0.8912 - val_f1_score: 0.6651 - val_loss: 0.2822\n",
            "Epoch 4/20\n",
            "\u001b[1m30/30\u001b[0m \u001b[32m━━━━━━━━━━━━━━━━━━━━\u001b[0m\u001b[37m\u001b[0m \u001b[1m1s\u001b[0m 36ms/step - accuracy: 0.9348 - f1_score: 0.6784 - loss: 0.2049 - val_accuracy: 0.8849 - val_f1_score: 0.6652 - val_loss: 0.2849\n",
            "Epoch 5/20\n",
            "\u001b[1m30/30\u001b[0m \u001b[32m━━━━━━━━━━━━━━━━━━━━\u001b[0m\u001b[37m\u001b[0m \u001b[1m1s\u001b[0m 35ms/step - accuracy: 0.9445 - f1_score: 0.6655 - loss: 0.1691 - val_accuracy: 0.8902 - val_f1_score: 0.6650 - val_loss: 0.2763\n",
            "Epoch 6/20\n",
            "\u001b[1m30/30\u001b[0m \u001b[32m━━━━━━━━━━━━━━━━━━━━\u001b[0m\u001b[37m\u001b[0m \u001b[1m1s\u001b[0m 36ms/step - accuracy: 0.9578 - f1_score: 0.6697 - loss: 0.1400 - val_accuracy: 0.8876 - val_f1_score: 0.6650 - val_loss: 0.2852\n",
            "Epoch 7/20\n",
            "\u001b[1m30/30\u001b[0m \u001b[32m━━━━━━━━━━━━━━━━━━━━\u001b[0m\u001b[37m\u001b[0m \u001b[1m1s\u001b[0m 37ms/step - accuracy: 0.9658 - f1_score: 0.6650 - loss: 0.1195 - val_accuracy: 0.8831 - val_f1_score: 0.6651 - val_loss: 0.3035\n",
            "Epoch 8/20\n",
            "\u001b[1m30/30\u001b[0m \u001b[32m━━━━━━━━━━━━━━━━━━━━\u001b[0m\u001b[37m\u001b[0m \u001b[1m1s\u001b[0m 38ms/step - accuracy: 0.9701 - f1_score: 0.6754 - loss: 0.1045 - val_accuracy: 0.8849 - val_f1_score: 0.6650 - val_loss: 0.3084\n",
            "Epoch 9/20\n",
            "\u001b[1m30/30\u001b[0m \u001b[32m━━━━━━━━━━━━━━━━━━━━\u001b[0m\u001b[37m\u001b[0m \u001b[1m2s\u001b[0m 52ms/step - accuracy: 0.9737 - f1_score: 0.6664 - loss: 0.0921 - val_accuracy: 0.8805 - val_f1_score: 0.6651 - val_loss: 0.3330\n",
            "Epoch 10/20\n",
            "\u001b[1m30/30\u001b[0m \u001b[32m━━━━━━━━━━━━━━━━━━━━\u001b[0m\u001b[37m\u001b[0m \u001b[1m2s\u001b[0m 59ms/step - accuracy: 0.9817 - f1_score: 0.6714 - loss: 0.0731 - val_accuracy: 0.8798 - val_f1_score: 0.6650 - val_loss: 0.3443\n",
            "Epoch 11/20\n",
            "\u001b[1m30/30\u001b[0m \u001b[32m━━━━━━━━━━━━━━━━━━━━\u001b[0m\u001b[37m\u001b[0m \u001b[1m1s\u001b[0m 40ms/step - accuracy: 0.9847 - f1_score: 0.6683 - loss: 0.0652 - val_accuracy: 0.8805 - val_f1_score: 0.6649 - val_loss: 0.3607\n",
            "Epoch 12/20\n",
            "\u001b[1m30/30\u001b[0m \u001b[32m━━━━━━━━━━━━━━━━━━━━\u001b[0m\u001b[37m\u001b[0m \u001b[1m1s\u001b[0m 35ms/step - accuracy: 0.9873 - f1_score: 0.6701 - loss: 0.0558 - val_accuracy: 0.8780 - val_f1_score: 0.6650 - val_loss: 0.3849\n",
            "Epoch 13/20\n",
            "\u001b[1m30/30\u001b[0m \u001b[32m━━━━━━━━━━━━━━━━━━━━\u001b[0m\u001b[37m\u001b[0m \u001b[1m1s\u001b[0m 36ms/step - accuracy: 0.9917 - f1_score: 0.6718 - loss: 0.0457 - val_accuracy: 0.8751 - val_f1_score: 0.6649 - val_loss: 0.4069\n",
            "Epoch 14/20\n",
            "\u001b[1m30/30\u001b[0m \u001b[32m━━━━━━━━━━━━━━━━━━━━\u001b[0m\u001b[37m\u001b[0m \u001b[1m1s\u001b[0m 38ms/step - accuracy: 0.9922 - f1_score: 0.6746 - loss: 0.0411 - val_accuracy: 0.8747 - val_f1_score: 0.6649 - val_loss: 0.4341\n",
            "Epoch 15/20\n",
            "\u001b[1m30/30\u001b[0m \u001b[32m━━━━━━━━━━━━━━━━━━━━\u001b[0m\u001b[37m\u001b[0m \u001b[1m1s\u001b[0m 37ms/step - accuracy: 0.9941 - f1_score: 0.6643 - loss: 0.0348 - val_accuracy: 0.8770 - val_f1_score: 0.6650 - val_loss: 0.4524\n",
            "Epoch 16/20\n",
            "\u001b[1m30/30\u001b[0m \u001b[32m━━━━━━━━━━━━━━━━━━━━\u001b[0m\u001b[37m\u001b[0m \u001b[1m1s\u001b[0m 36ms/step - accuracy: 0.9953 - f1_score: 0.6632 - loss: 0.0266 - val_accuracy: 0.8747 - val_f1_score: 0.6649 - val_loss: 0.4748\n",
            "Epoch 17/20\n",
            "\u001b[1m30/30\u001b[0m \u001b[32m━━━━━━━━━━━━━━━━━━━━\u001b[0m\u001b[37m\u001b[0m \u001b[1m1s\u001b[0m 36ms/step - accuracy: 0.9965 - f1_score: 0.6624 - loss: 0.0238 - val_accuracy: 0.8728 - val_f1_score: 0.6648 - val_loss: 0.5067\n",
            "Epoch 18/20\n",
            "\u001b[1m30/30\u001b[0m \u001b[32m━━━━━━━━━━━━━━━━━━━━\u001b[0m\u001b[37m\u001b[0m \u001b[1m1s\u001b[0m 36ms/step - accuracy: 0.9979 - f1_score: 0.6690 - loss: 0.0191 - val_accuracy: 0.8707 - val_f1_score: 0.6648 - val_loss: 0.5394\n",
            "Epoch 19/20\n",
            "\u001b[1m30/30\u001b[0m \u001b[32m━━━━━━━━━━━━━━━━━━━━\u001b[0m\u001b[37m\u001b[0m \u001b[1m1s\u001b[0m 38ms/step - accuracy: 0.9976 - f1_score: 0.6717 - loss: 0.0177 - val_accuracy: 0.8711 - val_f1_score: 0.6649 - val_loss: 0.5567\n",
            "Epoch 20/20\n",
            "\u001b[1m30/30\u001b[0m \u001b[32m━━━━━━━━━━━━━━━━━━━━\u001b[0m\u001b[37m\u001b[0m \u001b[1m2s\u001b[0m 60ms/step - accuracy: 0.9987 - f1_score: 0.6607 - loss: 0.0128 - val_accuracy: 0.8709 - val_f1_score: 0.6649 - val_loss: 0.5782\n"
          ]
        }
      ]
    },
    {
      "cell_type": "code",
      "source": [
        "len(history.history['f1_score'])"
      ],
      "metadata": {
        "colab": {
          "base_uri": "https://localhost:8080/"
        },
        "id": "jRqRrvHBrm_9",
        "outputId": "b2dc8ffa-6422-4ddb-d185-51be9d05c6e2"
      },
      "execution_count": 8,
      "outputs": [
        {
          "output_type": "execute_result",
          "data": {
            "text/plain": [
              "20"
            ]
          },
          "metadata": {},
          "execution_count": 8
        }
      ]
    },
    {
      "cell_type": "code",
      "source": [
        "history.history.keys()"
      ],
      "metadata": {
        "colab": {
          "base_uri": "https://localhost:8080/"
        },
        "id": "jDCdhMhwr86U",
        "outputId": "e632cdd2-b986-4028-a78e-26eb188ed719"
      },
      "execution_count": 9,
      "outputs": [
        {
          "output_type": "execute_result",
          "data": {
            "text/plain": [
              "dict_keys(['accuracy', 'f1_score', 'loss', 'val_accuracy', 'val_f1_score', 'val_loss'])"
            ]
          },
          "metadata": {},
          "execution_count": 9
        }
      ]
    },
    {
      "cell_type": "code",
      "source": [
        "import matplotlib.pyplot as plt\n",
        "\n",
        "fig = plt.figure(figsize = (8, 6))\n",
        "\n",
        "plt.plot(range(1, 21, 1), history.history['val_f1_score'], '-b', label = 'val_f1_score' )\n",
        "plt.plot(range(1, 21, 1), history.history['val_accuracy'], '--b', label = 'val_accuracy' )\n",
        "plt.plot(range(1, 21, 1), history.history['f1_score'], '-r', label = 'train f1_score' )\n",
        "plt.plot(range(1, 21, 1), history.history['accuracy'], '--r', label = 'train accruacy' )\n",
        "plt.xlabel(\"epochs\")\n",
        "plt.ylabel(\"metrics value\")\n",
        "plt.legend()\n",
        "plt.title(\"F1 score vs Accuracy\")\n",
        "\n",
        "plt.show()"
      ],
      "metadata": {
        "colab": {
          "base_uri": "https://localhost:8080/",
          "height": 564
        },
        "id": "cgqBWPbSqgcm",
        "outputId": "263a370f-7bab-4ec5-f86f-f813ec237111"
      },
      "execution_count": 18,
      "outputs": [
        {
          "output_type": "display_data",
          "data": {
            "text/plain": [
              "<Figure size 800x600 with 1 Axes>"
            ],
            "image/png": "[encoded data removed]"
          },
          "metadata": {}
        }
      ]
    }
  ]
}