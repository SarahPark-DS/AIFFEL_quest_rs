{
 "cells": [
  {
   "cell_type": "markdown",
   "id": "a8b3df0e",
   "metadata": {},
   "source": [
    "# 1. 데이터 가져오기"
   ]
  },
  {
   "cell_type": "markdown",
   "id": "fc1451a4",
   "metadata": {},
   "source": [
    "- sklearn.datasets의 load_diabetes에서 데이터를 가져와주세요.\n",
    "- diabetes의 data를 df_X에, target을 df_y에 저장해주세요."
   ]
  },
  {
   "cell_type": "code",
   "execution_count": 1,
   "id": "b77c143f",
   "metadata": {},
   "outputs": [],
   "source": [
    "from sklearn.datasets import load_diabetes\n",
    "\n",
    "diabetes = load_diabetes()"
   ]
  },
  {
   "cell_type": "code",
   "execution_count": 2,
   "id": "f3802bb1",
   "metadata": {},
   "outputs": [
    {
     "data": {
      "text/plain": [
       "dict_keys(['data', 'target', 'frame', 'DESCR', 'feature_names', 'data_filename', 'target_filename', 'data_module'])"
      ]
     },
     "execution_count": 2,
     "metadata": {},
     "output_type": "execute_result"
    }
   ],
   "source": [
    "diabetes.keys()"
   ]
  },
  {
   "cell_type": "code",
   "execution_count": 3,
   "id": "28b71826",
   "metadata": {
    "scrolled": true
   },
   "outputs": [
    {
     "name": "stdout",
     "output_type": "stream",
     "text": [
      ".. _diabetes_dataset:\n",
      "\n",
      "Diabetes dataset\n",
      "----------------\n",
      "\n",
      "Ten baseline variables, age, sex, body mass index, average blood\n",
      "pressure, and six blood serum measurements were obtained for each of n =\n",
      "442 diabetes patients, as well as the response of interest, a\n",
      "quantitative measure of disease progression one year after baseline.\n",
      "\n",
      "**Data Set Characteristics:**\n",
      "\n",
      "  :Number of Instances: 442\n",
      "\n",
      "  :Number of Attributes: First 10 columns are numeric predictive values\n",
      "\n",
      "  :Target: Column 11 is a quantitative measure of disease progression one year after baseline\n",
      "\n",
      "  :Attribute Information:\n",
      "      - age     age in years\n",
      "      - sex\n",
      "      - bmi     body mass index\n",
      "      - bp      average blood pressure\n",
      "      - s1      tc, total serum cholesterol\n",
      "      - s2      ldl, low-density lipoproteins\n",
      "      - s3      hdl, high-density lipoproteins\n",
      "      - s4      tch, total cholesterol / HDL\n",
      "      - s5      ltg, possibly log of serum triglycerides level\n",
      "      - s6      glu, blood sugar level\n",
      "\n",
      "Note: Each of these 10 feature variables have been mean centered and scaled by the standard deviation times `n_samples` (i.e. the sum of squares of each column totals 1).\n",
      "\n",
      "Source URL:\n",
      "https://www4.stat.ncsu.edu/~boos/var.select/diabetes.html\n",
      "\n",
      "For more information see:\n",
      "Bradley Efron, Trevor Hastie, Iain Johnstone and Robert Tibshirani (2004) \"Least Angle Regression,\" Annals of Statistics (with discussion), 407-499.\n",
      "(https://web.stanford.edu/~hastie/Papers/LARS/LeastAngle_2002.pdf)\n"
     ]
    }
   ],
   "source": [
    "print(diabetes.DESCR)"
   ]
  },
  {
   "cell_type": "code",
   "execution_count": 4,
   "id": "ee7d3e9f",
   "metadata": {},
   "outputs": [
    {
     "data": {
      "text/plain": [
       "((442, 10), (442, 1))"
      ]
     },
     "execution_count": 4,
     "metadata": {},
     "output_type": "execute_result"
    }
   ],
   "source": [
    "import pandas as pd\n",
    "\n",
    "df_X = pd.DataFrame(diabetes.data, columns = diabetes.feature_names)\n",
    "df_y = pd.DataFrame(diabetes.target)\n",
    "\n",
    "df_X.shape, df_y.shape"
   ]
  },
  {
   "cell_type": "code",
   "execution_count": 5,
   "id": "e0c87c84",
   "metadata": {},
   "outputs": [
    {
     "data": {
      "text/html": [
       "<div>\n",
       "<style scoped>\n",
       "    .dataframe tbody tr th:only-of-type {\n",
       "        vertical-align: middle;\n",
       "    }\n",
       "\n",
       "    .dataframe tbody tr th {\n",
       "        vertical-align: top;\n",
       "    }\n",
       "\n",
       "    .dataframe thead th {\n",
       "        text-align: right;\n",
       "    }\n",
       "</style>\n",
       "<table border=\"1\" class=\"dataframe\">\n",
       "  <thead>\n",
       "    <tr style=\"text-align: right;\">\n",
       "      <th></th>\n",
       "      <th>age</th>\n",
       "      <th>sex</th>\n",
       "      <th>bmi</th>\n",
       "      <th>bp</th>\n",
       "      <th>s1</th>\n",
       "      <th>s2</th>\n",
       "      <th>s3</th>\n",
       "      <th>s4</th>\n",
       "      <th>s5</th>\n",
       "      <th>s6</th>\n",
       "    </tr>\n",
       "  </thead>\n",
       "  <tbody>\n",
       "    <tr>\n",
       "      <th>0</th>\n",
       "      <td>0.038076</td>\n",
       "      <td>0.050680</td>\n",
       "      <td>0.061696</td>\n",
       "      <td>0.021872</td>\n",
       "      <td>-0.044223</td>\n",
       "      <td>-0.034821</td>\n",
       "      <td>-0.043401</td>\n",
       "      <td>-0.002592</td>\n",
       "      <td>0.019908</td>\n",
       "      <td>-0.017646</td>\n",
       "    </tr>\n",
       "    <tr>\n",
       "      <th>1</th>\n",
       "      <td>-0.001882</td>\n",
       "      <td>-0.044642</td>\n",
       "      <td>-0.051474</td>\n",
       "      <td>-0.026328</td>\n",
       "      <td>-0.008449</td>\n",
       "      <td>-0.019163</td>\n",
       "      <td>0.074412</td>\n",
       "      <td>-0.039493</td>\n",
       "      <td>-0.068330</td>\n",
       "      <td>-0.092204</td>\n",
       "    </tr>\n",
       "    <tr>\n",
       "      <th>2</th>\n",
       "      <td>0.085299</td>\n",
       "      <td>0.050680</td>\n",
       "      <td>0.044451</td>\n",
       "      <td>-0.005671</td>\n",
       "      <td>-0.045599</td>\n",
       "      <td>-0.034194</td>\n",
       "      <td>-0.032356</td>\n",
       "      <td>-0.002592</td>\n",
       "      <td>0.002864</td>\n",
       "      <td>-0.025930</td>\n",
       "    </tr>\n",
       "    <tr>\n",
       "      <th>3</th>\n",
       "      <td>-0.089063</td>\n",
       "      <td>-0.044642</td>\n",
       "      <td>-0.011595</td>\n",
       "      <td>-0.036656</td>\n",
       "      <td>0.012191</td>\n",
       "      <td>0.024991</td>\n",
       "      <td>-0.036038</td>\n",
       "      <td>0.034309</td>\n",
       "      <td>0.022692</td>\n",
       "      <td>-0.009362</td>\n",
       "    </tr>\n",
       "    <tr>\n",
       "      <th>4</th>\n",
       "      <td>0.005383</td>\n",
       "      <td>-0.044642</td>\n",
       "      <td>-0.036385</td>\n",
       "      <td>0.021872</td>\n",
       "      <td>0.003935</td>\n",
       "      <td>0.015596</td>\n",
       "      <td>0.008142</td>\n",
       "      <td>-0.002592</td>\n",
       "      <td>-0.031991</td>\n",
       "      <td>-0.046641</td>\n",
       "    </tr>\n",
       "  </tbody>\n",
       "</table>\n",
       "</div>"
      ],
      "text/plain": [
       "        age       sex       bmi        bp        s1        s2        s3  \\\n",
       "0  0.038076  0.050680  0.061696  0.021872 -0.044223 -0.034821 -0.043401   \n",
       "1 -0.001882 -0.044642 -0.051474 -0.026328 -0.008449 -0.019163  0.074412   \n",
       "2  0.085299  0.050680  0.044451 -0.005671 -0.045599 -0.034194 -0.032356   \n",
       "3 -0.089063 -0.044642 -0.011595 -0.036656  0.012191  0.024991 -0.036038   \n",
       "4  0.005383 -0.044642 -0.036385  0.021872  0.003935  0.015596  0.008142   \n",
       "\n",
       "         s4        s5        s6  \n",
       "0 -0.002592  0.019908 -0.017646  \n",
       "1 -0.039493 -0.068330 -0.092204  \n",
       "2 -0.002592  0.002864 -0.025930  \n",
       "3  0.034309  0.022692 -0.009362  \n",
       "4 -0.002592 -0.031991 -0.046641  "
      ]
     },
     "execution_count": 5,
     "metadata": {},
     "output_type": "execute_result"
    }
   ],
   "source": [
    "df_X.head()"
   ]
  },
  {
   "cell_type": "code",
   "execution_count": 6,
   "id": "3f68d271",
   "metadata": {},
   "outputs": [
    {
     "name": "stdout",
     "output_type": "stream",
     "text": [
      "<class 'pandas.core.frame.DataFrame'>\n",
      "RangeIndex: 442 entries, 0 to 441\n",
      "Data columns (total 10 columns):\n",
      " #   Column  Non-Null Count  Dtype  \n",
      "---  ------  --------------  -----  \n",
      " 0   age     442 non-null    float64\n",
      " 1   sex     442 non-null    float64\n",
      " 2   bmi     442 non-null    float64\n",
      " 3   bp      442 non-null    float64\n",
      " 4   s1      442 non-null    float64\n",
      " 5   s2      442 non-null    float64\n",
      " 6   s3      442 non-null    float64\n",
      " 7   s4      442 non-null    float64\n",
      " 8   s5      442 non-null    float64\n",
      " 9   s6      442 non-null    float64\n",
      "dtypes: float64(10)\n",
      "memory usage: 34.7 KB\n"
     ]
    }
   ],
   "source": [
    "df_X.info()"
   ]
  },
  {
   "cell_type": "markdown",
   "id": "1ba1e278",
   "metadata": {},
   "source": [
    "## 1-1 데이터 전처리 수행하기"
   ]
  },
  {
   "cell_type": "code",
   "execution_count": 7,
   "id": "1182c2f8",
   "metadata": {},
   "outputs": [
    {
     "data": {
      "text/html": [
       "<div>\n",
       "<style scoped>\n",
       "    .dataframe tbody tr th:only-of-type {\n",
       "        vertical-align: middle;\n",
       "    }\n",
       "\n",
       "    .dataframe tbody tr th {\n",
       "        vertical-align: top;\n",
       "    }\n",
       "\n",
       "    .dataframe thead th {\n",
       "        text-align: right;\n",
       "    }\n",
       "</style>\n",
       "<table border=\"1\" class=\"dataframe\">\n",
       "  <thead>\n",
       "    <tr style=\"text-align: right;\">\n",
       "      <th></th>\n",
       "      <th>age</th>\n",
       "      <th>sex</th>\n",
       "      <th>bmi</th>\n",
       "      <th>bp</th>\n",
       "      <th>s1</th>\n",
       "      <th>s2</th>\n",
       "      <th>s3</th>\n",
       "      <th>s4</th>\n",
       "      <th>s5</th>\n",
       "      <th>s6</th>\n",
       "      <th>target</th>\n",
       "    </tr>\n",
       "  </thead>\n",
       "  <tbody>\n",
       "    <tr>\n",
       "      <th>0</th>\n",
       "      <td>0.038076</td>\n",
       "      <td>0.050680</td>\n",
       "      <td>0.061696</td>\n",
       "      <td>0.021872</td>\n",
       "      <td>-0.044223</td>\n",
       "      <td>-0.034821</td>\n",
       "      <td>-0.043401</td>\n",
       "      <td>-0.002592</td>\n",
       "      <td>0.019908</td>\n",
       "      <td>-0.017646</td>\n",
       "      <td>151.0</td>\n",
       "    </tr>\n",
       "    <tr>\n",
       "      <th>1</th>\n",
       "      <td>-0.001882</td>\n",
       "      <td>-0.044642</td>\n",
       "      <td>-0.051474</td>\n",
       "      <td>-0.026328</td>\n",
       "      <td>-0.008449</td>\n",
       "      <td>-0.019163</td>\n",
       "      <td>0.074412</td>\n",
       "      <td>-0.039493</td>\n",
       "      <td>-0.068330</td>\n",
       "      <td>-0.092204</td>\n",
       "      <td>75.0</td>\n",
       "    </tr>\n",
       "    <tr>\n",
       "      <th>2</th>\n",
       "      <td>0.085299</td>\n",
       "      <td>0.050680</td>\n",
       "      <td>0.044451</td>\n",
       "      <td>-0.005671</td>\n",
       "      <td>-0.045599</td>\n",
       "      <td>-0.034194</td>\n",
       "      <td>-0.032356</td>\n",
       "      <td>-0.002592</td>\n",
       "      <td>0.002864</td>\n",
       "      <td>-0.025930</td>\n",
       "      <td>141.0</td>\n",
       "    </tr>\n",
       "    <tr>\n",
       "      <th>3</th>\n",
       "      <td>-0.089063</td>\n",
       "      <td>-0.044642</td>\n",
       "      <td>-0.011595</td>\n",
       "      <td>-0.036656</td>\n",
       "      <td>0.012191</td>\n",
       "      <td>0.024991</td>\n",
       "      <td>-0.036038</td>\n",
       "      <td>0.034309</td>\n",
       "      <td>0.022692</td>\n",
       "      <td>-0.009362</td>\n",
       "      <td>206.0</td>\n",
       "    </tr>\n",
       "    <tr>\n",
       "      <th>4</th>\n",
       "      <td>0.005383</td>\n",
       "      <td>-0.044642</td>\n",
       "      <td>-0.036385</td>\n",
       "      <td>0.021872</td>\n",
       "      <td>0.003935</td>\n",
       "      <td>0.015596</td>\n",
       "      <td>0.008142</td>\n",
       "      <td>-0.002592</td>\n",
       "      <td>-0.031991</td>\n",
       "      <td>-0.046641</td>\n",
       "      <td>135.0</td>\n",
       "    </tr>\n",
       "  </tbody>\n",
       "</table>\n",
       "</div>"
      ],
      "text/plain": [
       "        age       sex       bmi        bp        s1        s2        s3  \\\n",
       "0  0.038076  0.050680  0.061696  0.021872 -0.044223 -0.034821 -0.043401   \n",
       "1 -0.001882 -0.044642 -0.051474 -0.026328 -0.008449 -0.019163  0.074412   \n",
       "2  0.085299  0.050680  0.044451 -0.005671 -0.045599 -0.034194 -0.032356   \n",
       "3 -0.089063 -0.044642 -0.011595 -0.036656  0.012191  0.024991 -0.036038   \n",
       "4  0.005383 -0.044642 -0.036385  0.021872  0.003935  0.015596  0.008142   \n",
       "\n",
       "         s4        s5        s6  target  \n",
       "0 -0.002592  0.019908 -0.017646   151.0  \n",
       "1 -0.039493 -0.068330 -0.092204    75.0  \n",
       "2 -0.002592  0.002864 -0.025930   141.0  \n",
       "3  0.034309  0.022692 -0.009362   206.0  \n",
       "4 -0.002592 -0.031991 -0.046641   135.0  "
      ]
     },
     "execution_count": 7,
     "metadata": {},
     "output_type": "execute_result"
    }
   ],
   "source": [
    "df_diabetes = pd.concat([df_X, df_y], axis = 1)\n",
    "df_diabetes.rename(columns = {0: \"target\"}, inplace = True)\n",
    "df_diabetes.head()"
   ]
  },
  {
   "cell_type": "code",
   "execution_count": 8,
   "id": "aced1592",
   "metadata": {},
   "outputs": [
    {
     "data": {
      "text/plain": [
       "<AxesSubplot:>"
      ]
     },
     "execution_count": 8,
     "metadata": {},
     "output_type": "execute_result"
    },
    {
     "data": {
      "image/png": "[encoded data removed]",
      "text/plain": [
       "<Figure size 864x720 with 2 Axes>"
      ]
     },
     "metadata": {
      "needs_background": "light"
     },
     "output_type": "display_data"
    }
   ],
   "source": [
    "# 상관계수 확인하기\n",
    "import seaborn as sns\n",
    "import matplotlib.pyplot as plt\n",
    "%matplotlib inline\n",
    "\n",
    "plt.figure(figsize = (12, 10))\n",
    "sns.heatmap(data = df_diabetes.corr(), annot = True, fmt = '.2f', linewidths = 0.5, cmap = 'RdGy')"
   ]
  },
  {
   "cell_type": "code",
   "execution_count": 9,
   "id": "91d9e1b1",
   "metadata": {},
   "outputs": [
    {
     "data": {
      "image/png": "[encoded data removed]",
      "text/plain": [
       "<Figure size 576x1440 with 10 Axes>"
      ]
     },
     "metadata": {
      "needs_background": "light"
     },
     "output_type": "display_data"
    }
   ],
   "source": [
    "# 데이터 분포 확인하기 -> 이미 standardized 되어있어서 데이터 분포가 정규분표를 따름\n",
    "fig, ax = plt.subplots(5, 2, figsize = (8, 20))\n",
    "columns = df_X.columns\n",
    "\n",
    "count = 0\n",
    "\n",
    "for row in range(5):\n",
    "    for col in range(2):\n",
    "        sns.kdeplot(data = df_X[columns[count]], ax = ax[row][col] )\n",
    "        ax[row][col].set_xlabel('')\n",
    "        ax[row][col].set_title(f'{columns[count]}')\n",
    "        count += 1\n",
    "\n",
    "plt.show()"
   ]
  },
  {
   "cell_type": "code",
   "execution_count": 10,
   "id": "0f3a0463",
   "metadata": {},
   "outputs": [
    {
     "data": {
      "image/png": "[encoded data removed]",
      "text/plain": [
       "<Figure size 432x288 with 1 Axes>"
      ]
     },
     "metadata": {
      "needs_background": "light"
     },
     "output_type": "display_data"
    }
   ],
   "source": [
    "sns.kdeplot(data = df_y)\n",
    "plt.show()"
   ]
  },
  {
   "cell_type": "markdown",
   "id": "b01b67fa",
   "metadata": {},
   "source": [
    "# 2~3. 모델에 입력할 X, y 준비하기"
   ]
  },
  {
   "cell_type": "code",
   "execution_count": 11,
   "id": "c5ec0b7f",
   "metadata": {},
   "outputs": [],
   "source": [
    "# df_X와 df_y 값 numpy array로 변환하기\n",
    "X = df_X.values\n",
    "y = df_y.values"
   ]
  },
  {
   "cell_type": "markdown",
   "id": "4c27045f",
   "metadata": {},
   "source": [
    "# 4. train 데이터와 test 데이터로 분리하기"
   ]
  },
  {
   "cell_type": "code",
   "execution_count": 12,
   "id": "8173afd5",
   "metadata": {},
   "outputs": [
    {
     "data": {
      "text/plain": [
       "((309, 10), (309, 1), (133, 10), (133, 1))"
      ]
     },
     "execution_count": 12,
     "metadata": {},
     "output_type": "execute_result"
    }
   ],
   "source": [
    "from sklearn.model_selection import train_test_split\n",
    "\n",
    "X_train, X_test, y_train, y_test = train_test_split(X, y, test_size = 0.3, shuffle = True, random_state = 2021)\n",
    "X_train.shape, y_train.shape, X_test.shape, y_test.shape"
   ]
  },
  {
   "cell_type": "code",
   "execution_count": 13,
   "id": "aea6e375",
   "metadata": {},
   "outputs": [
    {
     "data": {
      "text/plain": [
       "((309,), (133,))"
      ]
     },
     "execution_count": 13,
     "metadata": {},
     "output_type": "execute_result"
    }
   ],
   "source": [
    "# y_train, y_test의 차원수를 낮춤\n",
    "y_train = y_train.reshape(-1)\n",
    "y_test = y_test.reshape(-1)\n",
    "\n",
    "y_train.shape, y_test.shape"
   ]
  },
  {
   "cell_type": "markdown",
   "id": "998455d7",
   "metadata": {},
   "source": [
    "# 5. 모델 준비하기"
   ]
  },
  {
   "cell_type": "code",
   "execution_count": 14,
   "id": "197e7850",
   "metadata": {},
   "outputs": [],
   "source": [
    "# 입력 데이터 개수에 맞는 가중치 w, b 준비하기 \n",
    "import numpy as np\n",
    "W = np.random.rand(10)\n",
    "b = np.random.rand()"
   ]
  },
  {
   "cell_type": "code",
   "execution_count": 15,
   "id": "fcdc57e0",
   "metadata": {},
   "outputs": [],
   "source": [
    "# 모델 함수 구현 \n",
    "def model(X, W, b):\n",
    "    predictions = 0\n",
    "    for i in range(len(W)):\n",
    "        predictions += X[:, i] * W[i]\n",
    "    predictions += b\n",
    "    return predictions"
   ]
  },
  {
   "cell_type": "markdown",
   "id": "bc5824cd",
   "metadata": {},
   "source": [
    "# 6. 손실함수 loss 정의하기 "
   ]
  },
  {
   "cell_type": "code",
   "execution_count": 16,
   "id": "e50a2326",
   "metadata": {},
   "outputs": [],
   "source": [
    "# 손실함수를 MSE 함수로 정의\n",
    "def MSE(y, y_pred):\n",
    "    mse = ((y-y_pred)**2).mean()\n",
    "    return mse"
   ]
  },
  {
   "cell_type": "code",
   "execution_count": 17,
   "id": "140ff7eb",
   "metadata": {},
   "outputs": [],
   "source": [
    "def loss(X, W, b, y):\n",
    "    predictions = model(X, W, b)\n",
    "    L = MSE(predictions, y)\n",
    "    return L"
   ]
  },
  {
   "cell_type": "markdown",
   "id": "8cb5739c",
   "metadata": {},
   "source": [
    "# 7.  기울기를 구하는 gradient 함수 구현하기"
   ]
  },
  {
   "cell_type": "code",
   "execution_count": 18,
   "id": "d3b6a29f",
   "metadata": {},
   "outputs": [],
   "source": [
    "def gradient(X, W, b, y):\n",
    "    N = len(y)\n",
    "    y_pred = model(X, W, b)\n",
    "    dW = 1/ N * 2 * X.T.dot(y_pred - y)\n",
    "    db = 2 * (y_pred - y).mean()\n",
    "    return dW, db"
   ]
  },
  {
   "cell_type": "markdown",
   "id": "cc69c84d",
   "metadata": {},
   "source": [
    "# 8. 하이퍼 파라미터인 학습률 설정하기 "
   ]
  },
  {
   "cell_type": "code",
   "execution_count": 19,
   "id": "15355ac8",
   "metadata": {},
   "outputs": [],
   "source": [
    "LEARNING_RATE = 0.01"
   ]
  },
  {
   "cell_type": "markdown",
   "id": "f5c83c74",
   "metadata": {},
   "source": [
    "# 9. 모델 학습하기"
   ]
  },
  {
   "cell_type": "code",
   "execution_count": 20,
   "id": "ac0e4c12",
   "metadata": {},
   "outputs": [
    {
     "name": "stdout",
     "output_type": "stream",
     "text": [
      "Iteration 1000: Loss 5395.4286\n",
      "Iteration 2000: Loss 4895.5367\n",
      "Iteration 3000: Loss 4529.1382\n",
      "Iteration 4000: Loss 4257.0946\n",
      "Iteration 5000: Loss 4052.1217\n",
      "Iteration 6000: Loss 3895.1594\n",
      "Iteration 7000: Loss 3772.8579\n",
      "Iteration 8000: Loss 3675.8360\n",
      "Iteration 9000: Loss 3597.4732\n",
      "Iteration 10000: Loss 3533.0731\n",
      "Iteration 11000: Loss 3479.2827\n",
      "Iteration 12000: Loss 3433.6889\n",
      "Iteration 13000: Loss 3394.5390\n",
      "Iteration 14000: Loss 3360.5451\n",
      "Iteration 15000: Loss 3330.7492\n",
      "Iteration 16000: Loss 3304.4276\n",
      "Iteration 17000: Loss 3281.0256\n",
      "Iteration 18000: Loss 3260.1101\n",
      "Iteration 19000: Loss 3241.3375\n",
      "Iteration 20000: Loss 3224.4303\n",
      "Iteration 21000: Loss 3209.1608\n",
      "Iteration 22000: Loss 3195.3390\n",
      "Iteration 23000: Loss 3182.8044\n",
      "Iteration 24000: Loss 3171.4194\n",
      "Iteration 25000: Loss 3161.0654\n",
      "Iteration 26000: Loss 3151.6384\n",
      "Iteration 27000: Loss 3143.0473\n",
      "Iteration 28000: Loss 3135.2114\n",
      "Iteration 29000: Loss 3128.0589\n",
      "Iteration 30000: Loss 3121.5258\n",
      "Iteration 31000: Loss 3115.5546\n",
      "Iteration 32000: Loss 3110.0937\n",
      "Iteration 33000: Loss 3105.0968\n",
      "Iteration 34000: Loss 3100.5220\n",
      "Iteration 35000: Loss 3096.3314\n",
      "Iteration 36000: Loss 3092.4909\n",
      "Iteration 37000: Loss 3088.9694\n",
      "Iteration 38000: Loss 3085.7390\n",
      "Iteration 39000: Loss 3082.7741\n",
      "Iteration 40000: Loss 3080.0517\n",
      "Iteration 41000: Loss 3077.5507\n",
      "Iteration 42000: Loss 3075.2520\n",
      "Iteration 43000: Loss 3073.1384\n",
      "Iteration 44000: Loss 3071.1940\n",
      "Iteration 45000: Loss 3069.4045\n",
      "Iteration 46000: Loss 3067.7567\n",
      "Iteration 47000: Loss 3066.2387\n",
      "Iteration 48000: Loss 3064.8397\n",
      "Iteration 49000: Loss 3063.5497\n",
      "Iteration 50000: Loss 3062.3597\n",
      "Iteration 51000: Loss 3061.2614\n",
      "Iteration 52000: Loss 3060.2472\n",
      "Iteration 53000: Loss 3059.3104\n",
      "Iteration 54000: Loss 3058.4445\n",
      "Iteration 55000: Loss 3057.6438\n",
      "Iteration 56000: Loss 3056.9031\n",
      "Iteration 57000: Loss 3056.2174\n",
      "Iteration 58000: Loss 3055.5825\n",
      "Iteration 59000: Loss 3054.9942\n",
      "Iteration 60000: Loss 3054.4489\n",
      "Iteration 61000: Loss 3053.9431\n",
      "Iteration 62000: Loss 3053.4737\n",
      "Iteration 63000: Loss 3053.0380\n",
      "Iteration 64000: Loss 3052.6332\n",
      "Iteration 65000: Loss 3052.2569\n",
      "Iteration 66000: Loss 3051.9070\n",
      "Iteration 67000: Loss 3051.5815\n",
      "Iteration 68000: Loss 3051.2784\n",
      "Iteration 69000: Loss 3050.9960\n",
      "Iteration 70000: Loss 3050.7328\n",
      "Iteration 71000: Loss 3050.4873\n",
      "Iteration 72000: Loss 3050.2582\n",
      "Iteration 73000: Loss 3050.0443\n",
      "Iteration 74000: Loss 3049.8444\n",
      "Iteration 75000: Loss 3049.6575\n",
      "Iteration 76000: Loss 3049.4827\n",
      "Iteration 77000: Loss 3049.3189\n",
      "Iteration 78000: Loss 3049.1655\n",
      "Iteration 79000: Loss 3049.0217\n",
      "Iteration 80000: Loss 3048.8868\n",
      "Iteration 81000: Loss 3048.7601\n",
      "Iteration 82000: Loss 3048.6411\n",
      "Iteration 83000: Loss 3048.5292\n",
      "Iteration 84000: Loss 3048.4239\n",
      "Iteration 85000: Loss 3048.3247\n",
      "Iteration 86000: Loss 3048.2312\n",
      "Iteration 87000: Loss 3048.1431\n",
      "Iteration 88000: Loss 3048.0599\n",
      "Iteration 89000: Loss 3047.9812\n",
      "Iteration 90000: Loss 3047.9069\n",
      "Iteration 91000: Loss 3047.8365\n",
      "Iteration 92000: Loss 3047.7699\n",
      "Iteration 93000: Loss 3047.7067\n",
      "Iteration 94000: Loss 3047.6467\n",
      "Iteration 95000: Loss 3047.5898\n",
      "Iteration 96000: Loss 3047.5357\n",
      "Iteration 97000: Loss 3047.4842\n",
      "Iteration 98000: Loss 3047.4351\n",
      "Iteration 99000: Loss 3047.3884\n",
      "Iteration 100000: Loss 3047.3438\n"
     ]
    }
   ],
   "source": [
    "losses = []\n",
    "\n",
    "for i in range(1, 100001):\n",
    "    dW, db = gradient(X_train, W, b, y_train)\n",
    "    W -= LEARNING_RATE * dW\n",
    "    b -= LEARNING_RATE * db\n",
    "    L = loss(X_train, W, b, y_train)\n",
    "    losses.append(L)\n",
    "    if i % 1000 == 0:\n",
    "        print('Iteration %d: Loss %0.4f'%(i, L))"
   ]
  },
  {
   "cell_type": "code",
   "execution_count": 21,
   "id": "55c2d1fe",
   "metadata": {},
   "outputs": [
    {
     "data": {
      "image/png": "[encoded data removed]",
      "text/plain": [
       "<Figure size 432x288 with 1 Axes>"
      ]
     },
     "metadata": {
      "needs_background": "light"
     },
     "output_type": "display_data"
    }
   ],
   "source": [
    "# loss 시각화\n",
    "import matplotlib.pyplot as plt\n",
    "\n",
    "plt.plot(losses)\n",
    "plt.show()"
   ]
  },
  {
   "cell_type": "markdown",
   "id": "37bcdaac",
   "metadata": {},
   "source": [
    "# 10. test 데이터에 대한 성능 확인하기"
   ]
  },
  {
   "cell_type": "code",
   "execution_count": 22,
   "id": "bda03e3c",
   "metadata": {},
   "outputs": [
    {
     "data": {
      "text/plain": [
       "2605.404178637374"
      ]
     },
     "execution_count": 22,
     "metadata": {},
     "output_type": "execute_result"
    }
   ],
   "source": [
    "prediction = model(X_test, W, b)\n",
    "mse = loss(X_test, W, b, y_test)\n",
    "mse"
   ]
  },
  {
   "cell_type": "markdown",
   "id": "9f20cd98",
   "metadata": {},
   "source": [
    "# 11. 정답 데이터와 예측한 데이터 시각화하기"
   ]
  },
  {
   "cell_type": "code",
   "execution_count": 23,
   "id": "da4ec7b0",
   "metadata": {},
   "outputs": [
    {
     "data": {
      "image/png": "[encoded data removed]",
      "text/plain": [
       "<Figure size 432x288 with 1 Axes>"
      ]
     },
     "metadata": {
      "needs_background": "light"
     },
     "output_type": "display_data"
    }
   ],
   "source": [
    "plt.scatter(X_test[:, 0], y_test).set_label('y_true')\n",
    "plt.scatter(X_test[:, 0], prediction).set_label('y_pred')\n",
    "plt.legend()\n",
    "plt.show()"
   ]
  },
  {
   "cell_type": "markdown",
   "id": "3b58988f",
   "metadata": {},
   "source": [
    "# 2차 시도 "
   ]
  },
  {
   "cell_type": "code",
   "execution_count": 24,
   "id": "927313b5",
   "metadata": {},
   "outputs": [],
   "source": [
    "y_train_z = (y_train - y_train.mean())/y_train.std()\n",
    "y_test_z = (y_test - y_train.mean())/y_train.std()"
   ]
  },
  {
   "cell_type": "code",
   "execution_count": 25,
   "id": "d8a445dc",
   "metadata": {},
   "outputs": [],
   "source": [
    "# 입력 데이터 개수에 맞는 가중치 w, b 준비하기 \n",
    "import numpy as np\n",
    "W = np.random.rand(10)\n",
    "b = np.random.rand()"
   ]
  },
  {
   "cell_type": "code",
   "execution_count": 26,
   "id": "93e3e13d",
   "metadata": {},
   "outputs": [
    {
     "name": "stdout",
     "output_type": "stream",
     "text": [
      "Iteration 1000: Loss 0.8199\n",
      "Iteration 2000: Loss 0.7587\n",
      "Iteration 3000: Loss 0.7130\n",
      "Iteration 4000: Loss 0.6783\n",
      "Iteration 5000: Loss 0.6515\n",
      "Iteration 6000: Loss 0.6305\n",
      "Iteration 7000: Loss 0.6137\n",
      "Iteration 8000: Loss 0.5999\n",
      "Iteration 9000: Loss 0.5886\n",
      "Iteration 10000: Loss 0.5790\n",
      "Iteration 11000: Loss 0.5708\n",
      "Iteration 12000: Loss 0.5638\n",
      "Iteration 13000: Loss 0.5576\n",
      "Iteration 14000: Loss 0.5522\n",
      "Iteration 15000: Loss 0.5474\n",
      "Iteration 16000: Loss 0.5431\n",
      "Iteration 17000: Loss 0.5392\n",
      "Iteration 18000: Loss 0.5358\n",
      "Iteration 19000: Loss 0.5326\n",
      "Iteration 20000: Loss 0.5298\n",
      "Iteration 21000: Loss 0.5273\n",
      "Iteration 22000: Loss 0.5249\n",
      "Iteration 23000: Loss 0.5228\n",
      "Iteration 24000: Loss 0.5209\n",
      "Iteration 25000: Loss 0.5191\n",
      "Iteration 26000: Loss 0.5175\n",
      "Iteration 27000: Loss 0.5161\n",
      "Iteration 28000: Loss 0.5147\n",
      "Iteration 29000: Loss 0.5135\n",
      "Iteration 30000: Loss 0.5124\n",
      "Iteration 31000: Loss 0.5114\n",
      "Iteration 32000: Loss 0.5104\n",
      "Iteration 33000: Loss 0.5096\n",
      "Iteration 34000: Loss 0.5088\n",
      "Iteration 35000: Loss 0.5081\n",
      "Iteration 36000: Loss 0.5074\n",
      "Iteration 37000: Loss 0.5068\n",
      "Iteration 38000: Loss 0.5062\n",
      "Iteration 39000: Loss 0.5057\n",
      "Iteration 40000: Loss 0.5053\n",
      "Iteration 41000: Loss 0.5048\n",
      "Iteration 42000: Loss 0.5044\n",
      "Iteration 43000: Loss 0.5041\n",
      "Iteration 44000: Loss 0.5037\n",
      "Iteration 45000: Loss 0.5034\n",
      "Iteration 46000: Loss 0.5032\n",
      "Iteration 47000: Loss 0.5029\n",
      "Iteration 48000: Loss 0.5027\n",
      "Iteration 49000: Loss 0.5024\n",
      "Iteration 50000: Loss 0.5022\n",
      "Iteration 51000: Loss 0.5020\n",
      "Iteration 52000: Loss 0.5019\n",
      "Iteration 53000: Loss 0.5017\n",
      "Iteration 54000: Loss 0.5016\n",
      "Iteration 55000: Loss 0.5014\n",
      "Iteration 56000: Loss 0.5013\n",
      "Iteration 57000: Loss 0.5012\n",
      "Iteration 58000: Loss 0.5011\n",
      "Iteration 59000: Loss 0.5010\n",
      "Iteration 60000: Loss 0.5009\n",
      "Iteration 61000: Loss 0.5008\n",
      "Iteration 62000: Loss 0.5007\n",
      "Iteration 63000: Loss 0.5006\n",
      "Iteration 64000: Loss 0.5006\n",
      "Iteration 65000: Loss 0.5005\n",
      "Iteration 66000: Loss 0.5004\n",
      "Iteration 67000: Loss 0.5004\n",
      "Iteration 68000: Loss 0.5003\n",
      "Iteration 69000: Loss 0.5003\n",
      "Iteration 70000: Loss 0.5002\n",
      "Iteration 71000: Loss 0.5002\n",
      "Iteration 72000: Loss 0.5002\n",
      "Iteration 73000: Loss 0.5001\n",
      "Iteration 74000: Loss 0.5001\n",
      "Iteration 75000: Loss 0.5001\n",
      "Iteration 76000: Loss 0.5000\n",
      "Iteration 77000: Loss 0.5000\n",
      "Iteration 78000: Loss 0.5000\n",
      "Iteration 79000: Loss 0.5000\n",
      "Iteration 80000: Loss 0.4999\n",
      "Iteration 81000: Loss 0.4999\n",
      "Iteration 82000: Loss 0.4999\n",
      "Iteration 83000: Loss 0.4999\n",
      "Iteration 84000: Loss 0.4999\n",
      "Iteration 85000: Loss 0.4999\n",
      "Iteration 86000: Loss 0.4998\n",
      "Iteration 87000: Loss 0.4998\n",
      "Iteration 88000: Loss 0.4998\n",
      "Iteration 89000: Loss 0.4998\n",
      "Iteration 90000: Loss 0.4998\n",
      "Iteration 91000: Loss 0.4998\n",
      "Iteration 92000: Loss 0.4998\n",
      "Iteration 93000: Loss 0.4998\n",
      "Iteration 94000: Loss 0.4997\n",
      "Iteration 95000: Loss 0.4997\n",
      "Iteration 96000: Loss 0.4997\n",
      "Iteration 97000: Loss 0.4997\n",
      "Iteration 98000: Loss 0.4997\n",
      "Iteration 99000: Loss 0.4997\n",
      "Iteration 100000: Loss 0.4997\n"
     ]
    }
   ],
   "source": [
    "losses = []\n",
    "\n",
    "for i in range(1, 100001):\n",
    "    dW, db = gradient(X_train, W, b, y_train_z)\n",
    "    W -= LEARNING_RATE * dW\n",
    "    b -= LEARNING_RATE * db\n",
    "    L = loss(X_train, W, b, y_train_z)\n",
    "    losses.append(L)\n",
    "    if i % 1000 == 0:\n",
    "        print('Iteration %d: Loss %0.4f'%(i, L))"
   ]
  },
  {
   "cell_type": "code",
   "execution_count": 27,
   "id": "d1a6e76f",
   "metadata": {},
   "outputs": [],
   "source": [
    "prediction = model(X_test, W, b)\n",
    "# 정규화 > 원래 값으로 변환\n",
    "prediction = (prediction * y_train.std()) + y_train.mean()"
   ]
  },
  {
   "cell_type": "code",
   "execution_count": 28,
   "id": "d79210f3",
   "metadata": {},
   "outputs": [],
   "source": [
    "def MSE_z(y, y_pred):\n",
    "    y = (y * y_train.std()) + y_train.mean()\n",
    "    mse = ((y-y_pred)**2).mean()\n",
    "    return mse"
   ]
  },
  {
   "cell_type": "code",
   "execution_count": 29,
   "id": "9672b1ff",
   "metadata": {},
   "outputs": [
    {
     "data": {
      "text/plain": [
       "2607.1826939395387"
      ]
     },
     "execution_count": 29,
     "metadata": {},
     "output_type": "execute_result"
    }
   ],
   "source": [
    "mse = MSE_z(y_test_z, prediction)\n",
    "mse"
   ]
  },
  {
   "cell_type": "markdown",
   "id": "faf628f9",
   "metadata": {},
   "source": [
    "- y값 정규화 수행 후 모델학습 하는 것은 효과가 미미함... mse값 3정도만 감소함"
   ]
  },
  {
   "cell_type": "markdown",
   "id": "39aea7c9",
   "metadata": {},
   "source": [
    "# 3차 시도 - PCA"
   ]
  },
  {
   "cell_type": "code",
   "execution_count": 30,
   "id": "741b7ec5",
   "metadata": {},
   "outputs": [
    {
     "data": {
      "text/plain": [
       "(442, 9)"
      ]
     },
     "execution_count": 30,
     "metadata": {},
     "output_type": "execute_result"
    }
   ],
   "source": [
    "from sklearn.decomposition import PCA\n",
    "\n",
    "pca = PCA(n_components = 9)\n",
    "pca.fit(df_X)\n",
    "df_pca = pca.transform(df_X)\n",
    "df_pca.shape"
   ]
  },
  {
   "cell_type": "code",
   "execution_count": 31,
   "id": "417cf8e6",
   "metadata": {},
   "outputs": [
    {
     "data": {
      "text/plain": [
       "0.9991439470098975"
      ]
     },
     "execution_count": 31,
     "metadata": {},
     "output_type": "execute_result"
    }
   ],
   "source": [
    "pca.explained_variance_ratio_.sum()"
   ]
  },
  {
   "cell_type": "code",
   "execution_count": 32,
   "id": "a27c9b2e",
   "metadata": {},
   "outputs": [],
   "source": [
    "X_train, X_test, y_train, y_test = train_test_split(df_pca, y, test_size = 0.3, shuffle = True, random_state = 2021)"
   ]
  },
  {
   "cell_type": "code",
   "execution_count": 33,
   "id": "6184322f",
   "metadata": {},
   "outputs": [
    {
     "name": "stdout",
     "output_type": "stream",
     "text": [
      "Iteration 1000: Loss 5396.4601\n",
      "Iteration 2000: Loss 4895.9699\n",
      "Iteration 3000: Loss 4529.1768\n",
      "Iteration 4000: Loss 4256.8789\n",
      "Iteration 5000: Loss 4051.7481\n",
      "Iteration 6000: Loss 3894.6940\n",
      "Iteration 7000: Loss 3772.3459\n",
      "Iteration 8000: Loss 3675.3079\n",
      "Iteration 9000: Loss 3596.9495\n",
      "Iteration 10000: Loss 3532.5674\n",
      "Iteration 11000: Loss 3478.8037\n",
      "Iteration 12000: Loss 3433.2422\n",
      "Iteration 13000: Loss 3394.1277\n",
      "Iteration 14000: Loss 3360.1710\n",
      "Iteration 15000: Loss 3330.4128\n",
      "Iteration 16000: Loss 3304.1289\n",
      "Iteration 17000: Loss 3280.7640\n",
      "Iteration 18000: Loss 3259.8847\n",
      "Iteration 19000: Loss 3241.1474\n",
      "Iteration 20000: Loss 3224.2744\n",
      "Iteration 21000: Loss 3209.0378\n",
      "Iteration 22000: Loss 3195.2478\n",
      "Iteration 23000: Loss 3182.7437\n",
      "Iteration 24000: Loss 3171.3882\n",
      "Iteration 25000: Loss 3161.0624\n",
      "Iteration 26000: Loss 3151.6626\n",
      "Iteration 27000: Loss 3143.0978\n",
      "Iteration 28000: Loss 3135.2871\n",
      "Iteration 29000: Loss 3128.1589\n",
      "Iteration 30000: Loss 3121.6492\n",
      "Iteration 31000: Loss 3115.7006\n",
      "Iteration 32000: Loss 3110.2616\n",
      "Iteration 33000: Loss 3105.2858\n",
      "Iteration 34000: Loss 3100.7314\n",
      "Iteration 35000: Loss 3096.5607\n",
      "Iteration 36000: Loss 3092.7394\n",
      "Iteration 37000: Loss 3089.2366\n",
      "Iteration 38000: Loss 3086.0243\n",
      "Iteration 39000: Loss 3083.0770\n",
      "Iteration 40000: Loss 3080.3718\n",
      "Iteration 41000: Loss 3077.8875\n",
      "Iteration 42000: Loss 3075.6053\n",
      "Iteration 43000: Loss 3073.5076\n",
      "Iteration 44000: Loss 3071.5788\n",
      "Iteration 45000: Loss 3069.8046\n",
      "Iteration 46000: Loss 3068.1718\n",
      "Iteration 47000: Loss 3066.6686\n",
      "Iteration 48000: Loss 3065.2840\n",
      "Iteration 49000: Loss 3064.0082\n",
      "Iteration 50000: Loss 3062.8322\n",
      "Iteration 51000: Loss 3061.7477\n",
      "Iteration 52000: Loss 3060.7471\n",
      "Iteration 53000: Loss 3059.8237\n",
      "Iteration 54000: Loss 3058.9710\n",
      "Iteration 55000: Loss 3058.1834\n",
      "Iteration 56000: Loss 3057.4555\n",
      "Iteration 57000: Loss 3056.7826\n",
      "Iteration 58000: Loss 3056.1603\n",
      "Iteration 59000: Loss 3055.5845\n",
      "Iteration 60000: Loss 3055.0516\n",
      "Iteration 61000: Loss 3054.5581\n",
      "Iteration 62000: Loss 3054.1009\n",
      "Iteration 63000: Loss 3053.6773\n",
      "Iteration 64000: Loss 3053.2845\n",
      "Iteration 65000: Loss 3052.9202\n",
      "Iteration 66000: Loss 3052.5821\n",
      "Iteration 67000: Loss 3052.2683\n",
      "Iteration 68000: Loss 3051.9769\n",
      "Iteration 69000: Loss 3051.7062\n",
      "Iteration 70000: Loss 3051.4546\n",
      "Iteration 71000: Loss 3051.2206\n",
      "Iteration 72000: Loss 3051.0030\n",
      "Iteration 73000: Loss 3050.8005\n",
      "Iteration 74000: Loss 3050.6120\n",
      "Iteration 75000: Loss 3050.4364\n",
      "Iteration 76000: Loss 3050.2729\n",
      "Iteration 77000: Loss 3050.1204\n",
      "Iteration 78000: Loss 3049.9782\n",
      "Iteration 79000: Loss 3049.8456\n",
      "Iteration 80000: Loss 3049.7218\n",
      "Iteration 81000: Loss 3049.6063\n",
      "Iteration 82000: Loss 3049.4983\n",
      "Iteration 83000: Loss 3049.3975\n",
      "Iteration 84000: Loss 3049.3032\n",
      "Iteration 85000: Loss 3049.2150\n",
      "Iteration 86000: Loss 3049.1325\n",
      "Iteration 87000: Loss 3049.0553\n",
      "Iteration 88000: Loss 3048.9830\n",
      "Iteration 89000: Loss 3048.9153\n",
      "Iteration 90000: Loss 3048.8519\n",
      "Iteration 91000: Loss 3048.7924\n",
      "Iteration 92000: Loss 3048.7366\n",
      "Iteration 93000: Loss 3048.6842\n",
      "Iteration 94000: Loss 3048.6351\n",
      "Iteration 95000: Loss 3048.5889\n",
      "Iteration 96000: Loss 3048.5456\n",
      "Iteration 97000: Loss 3048.5048\n",
      "Iteration 98000: Loss 3048.4665\n",
      "Iteration 99000: Loss 3048.4305\n",
      "Iteration 100000: Loss 3048.3966\n"
     ]
    }
   ],
   "source": [
    "y_train = y_train.reshape(-1)\n",
    "y_test = y_test.reshape(-1)\n",
    "\n",
    "W = np.random.rand(X_train.shape[1])\n",
    "b = np.random.rand()\n",
    "\n",
    "losses = []\n",
    "\n",
    "for i in range(1, 100001):\n",
    "    dW, db = gradient(X_train, W, b, y_train)\n",
    "    W -= LEARNING_RATE * dW\n",
    "    b -= LEARNING_RATE * db\n",
    "    L = loss(X_train, W, b, y_train)\n",
    "    losses.append(L)\n",
    "    if i % 1000 == 0:\n",
    "        print('Iteration %d: Loss %0.4f'%(i, L))"
   ]
  },
  {
   "cell_type": "code",
   "execution_count": 34,
   "id": "cbf96ad4",
   "metadata": {},
   "outputs": [
    {
     "data": {
      "text/plain": [
       "2607.427493729709"
      ]
     },
     "execution_count": 34,
     "metadata": {},
     "output_type": "execute_result"
    }
   ],
   "source": [
    "prediction = model(X_test, W, b)\n",
    "mse = loss(X_test, W, b, y_test)\n",
    "mse"
   ]
  },
  {
   "cell_type": "code",
   "execution_count": 35,
   "id": "516d30f0",
   "metadata": {},
   "outputs": [
    {
     "name": "stdout",
     "output_type": "stream",
     "text": [
      "When n_components = 1, explained_variance_ratio = 0.4024214175678733\n",
      "When n_components = 2, explained_variance_ratio = 0.5516532410893153\n",
      "When n_components = 3, explained_variance_ratio = 0.6722494722420754\n",
      "When n_components = 4, explained_variance_ratio = 0.7677971110209649\n",
      "When n_components = 5, explained_variance_ratio = 0.8340156689459763\n",
      "When n_components = 6, explained_variance_ratio = 0.8942875900367641\n",
      "When n_components = 7, explained_variance_ratio = 0.9479436357350411\n",
      "When n_components = 8, explained_variance_ratio = 0.9913119559917795\n",
      "When n_components = 9, explained_variance_ratio = 0.9991439470098975\n"
     ]
    }
   ],
   "source": [
    "mse_list = []\n",
    "\n",
    "for i in range(9):\n",
    "    pca = PCA(n_components = i+1)\n",
    "    pca.fit(df_X)\n",
    "    df_pca = pca.transform(df_X)\n",
    "    \n",
    "    print(f\"When n_components = {i+1}, explained_variance_ratio = {pca.explained_variance_ratio_.sum()}\")\n",
    "    \n",
    "    X_train, X_test, y_train, y_test = train_test_split(df_pca, y, test_size = 0.3, shuffle = True, random_state = 2021)\n",
    "    \n",
    "    y_train = y_train.reshape(-1)\n",
    "    y_test = y_test.reshape(-1)\n",
    "\n",
    "    W = np.random.rand(X_train.shape[1])\n",
    "    b = np.random.rand()\n",
    "\n",
    "    losses = []\n",
    "\n",
    "    for i in range(1, 100001):\n",
    "        dW, db = gradient(X_train, W, b, y_train)\n",
    "        W -= LEARNING_RATE * dW\n",
    "        b -= LEARNING_RATE * db\n",
    "        L = loss(X_train, W, b, y_train)\n",
    "        losses.append(L)\n",
    "        #if i % 1000 == 0:\n",
    "            #print('Iteration %d: Loss %0.4f'%(i, L))\n",
    "    \n",
    "    mse = loss(X_test, W, b, y_test)\n",
    "    mse_list.append(mse)"
   ]
  },
  {
   "cell_type": "code",
   "execution_count": 36,
   "id": "5d68f9b9",
   "metadata": {},
   "outputs": [
    {
     "data": {
      "image/png": "[encoded data removed]",
      "text/plain": [
       "<Figure size 432x288 with 1 Axes>"
      ]
     },
     "metadata": {
      "needs_background": "light"
     },
     "output_type": "display_data"
    }
   ],
   "source": [
    "plt.plot([x for x in range(1, 10, 1)], mse_list)\n",
    "plt.show()"
   ]
  },
  {
   "cell_type": "code",
   "execution_count": 37,
   "id": "97ee428b",
   "metadata": {},
   "outputs": [
    {
     "data": {
      "text/plain": [
       "2602.1001061272864"
      ]
     },
     "execution_count": 37,
     "metadata": {},
     "output_type": "execute_result"
    }
   ],
   "source": [
    "min(mse_list)"
   ]
  },
  {
   "cell_type": "markdown",
   "id": "84060257",
   "metadata": {},
   "source": [
    "- PCA 수행하니 오히려 기본 모델보다 mse 값 올라감.."
   ]
  },
  {
   "cell_type": "markdown",
   "id": "8b2da60f",
   "metadata": {},
   "source": [
    "# 4차 시도 - 상관계수 낮은 SEX 값 없애고 모델학습 수행"
   ]
  },
  {
   "cell_type": "code",
   "execution_count": 38,
   "id": "a82fef6c",
   "metadata": {
    "scrolled": true
   },
   "outputs": [],
   "source": [
    "df_X4 = df_X.drop('sex', axis = 1)"
   ]
  },
  {
   "cell_type": "code",
   "execution_count": 39,
   "id": "b9b6df8a",
   "metadata": {},
   "outputs": [],
   "source": [
    "X_train, X_test, y_train, y_test = train_test_split(df_X4, y, test_size = 0.3, shuffle = True, random_state = 2021)\n",
    "y_train = y_train.reshape(-1)\n",
    "y_test = y_test.reshape(-1)\n",
    "X_train = X_train.values\n",
    "X_test = X_test.values"
   ]
  },
  {
   "cell_type": "code",
   "execution_count": 40,
   "id": "3fe84d38",
   "metadata": {},
   "outputs": [
    {
     "data": {
      "text/plain": [
       "((309,), (133,))"
      ]
     },
     "execution_count": 40,
     "metadata": {},
     "output_type": "execute_result"
    }
   ],
   "source": [
    "y_train.shape, y_test.shape"
   ]
  },
  {
   "cell_type": "code",
   "execution_count": 41,
   "id": "ba0a5707",
   "metadata": {},
   "outputs": [
    {
     "name": "stdout",
     "output_type": "stream",
     "text": [
      "Iteration 1000: Loss 5398.4510\n",
      "Iteration 2000: Loss 4896.7908\n",
      "Iteration 3000: Loss 4529.3588\n",
      "Iteration 4000: Loss 4257.5025\n",
      "Iteration 5000: Loss 4054.0062\n",
      "Iteration 6000: Loss 3899.6724\n",
      "Iteration 7000: Loss 3780.9289\n",
      "Iteration 8000: Loss 3688.1534\n",
      "Iteration 9000: Loss 3614.5005\n",
      "Iteration 10000: Loss 3555.0797\n",
      "Iteration 11000: Loss 3506.3789\n",
      "Iteration 12000: Loss 3465.8605\n",
      "Iteration 13000: Loss 3431.6772\n",
      "Iteration 14000: Loss 3402.4728\n",
      "Iteration 15000: Loss 3377.2415\n",
      "Iteration 16000: Loss 3355.2289\n",
      "Iteration 17000: Loss 3335.8622\n",
      "Iteration 18000: Loss 3318.7004\n",
      "Iteration 19000: Loss 3303.3993\n",
      "Iteration 20000: Loss 3289.6862\n",
      "Iteration 21000: Loss 3277.3418\n",
      "Iteration 22000: Loss 3266.1874\n",
      "Iteration 23000: Loss 3256.0753\n",
      "Iteration 24000: Loss 3246.8820\n",
      "Iteration 25000: Loss 3238.5030\n",
      "Iteration 26000: Loss 3230.8490\n",
      "Iteration 27000: Loss 3223.8431\n",
      "Iteration 28000: Loss 3217.4185\n",
      "Iteration 29000: Loss 3211.5169\n",
      "Iteration 30000: Loss 3206.0871\n",
      "Iteration 31000: Loss 3201.0837\n",
      "Iteration 32000: Loss 3196.4668\n",
      "Iteration 33000: Loss 3192.2006\n",
      "Iteration 34000: Loss 3188.2534\n",
      "Iteration 35000: Loss 3184.5969\n",
      "Iteration 36000: Loss 3181.2055\n",
      "Iteration 37000: Loss 3178.0563\n",
      "Iteration 38000: Loss 3175.1290\n",
      "Iteration 39000: Loss 3172.4049\n",
      "Iteration 40000: Loss 3169.8673\n",
      "Iteration 41000: Loss 3167.5011\n",
      "Iteration 42000: Loss 3165.2927\n",
      "Iteration 43000: Loss 3163.2296\n",
      "Iteration 44000: Loss 3161.3006\n",
      "Iteration 45000: Loss 3159.4954\n",
      "Iteration 46000: Loss 3157.8048\n",
      "Iteration 47000: Loss 3156.2203\n",
      "Iteration 48000: Loss 3154.7340\n",
      "Iteration 49000: Loss 3153.3390\n",
      "Iteration 50000: Loss 3152.0286\n",
      "Iteration 51000: Loss 3150.7971\n",
      "Iteration 52000: Loss 3149.6389\n",
      "Iteration 53000: Loss 3148.5490\n",
      "Iteration 54000: Loss 3147.5229\n",
      "Iteration 55000: Loss 3146.5562\n",
      "Iteration 56000: Loss 3145.6450\n",
      "Iteration 57000: Loss 3144.7858\n",
      "Iteration 58000: Loss 3143.9752\n",
      "Iteration 59000: Loss 3143.2101\n",
      "Iteration 60000: Loss 3142.4877\n",
      "Iteration 61000: Loss 3141.8052\n",
      "Iteration 62000: Loss 3141.1602\n",
      "Iteration 63000: Loss 3140.5505\n",
      "Iteration 64000: Loss 3139.9739\n",
      "Iteration 65000: Loss 3139.4284\n",
      "Iteration 66000: Loss 3138.9121\n",
      "Iteration 67000: Loss 3138.4234\n",
      "Iteration 68000: Loss 3137.9606\n",
      "Iteration 69000: Loss 3137.5222\n",
      "Iteration 70000: Loss 3137.1068\n",
      "Iteration 71000: Loss 3136.7131\n",
      "Iteration 72000: Loss 3136.3399\n",
      "Iteration 73000: Loss 3135.9859\n",
      "Iteration 74000: Loss 3135.6501\n",
      "Iteration 75000: Loss 3135.3315\n",
      "Iteration 76000: Loss 3135.0292\n",
      "Iteration 77000: Loss 3134.7422\n",
      "Iteration 78000: Loss 3134.4697\n",
      "Iteration 79000: Loss 3134.2108\n",
      "Iteration 80000: Loss 3133.9649\n",
      "Iteration 81000: Loss 3133.7313\n",
      "Iteration 82000: Loss 3133.5092\n",
      "Iteration 83000: Loss 3133.2981\n",
      "Iteration 84000: Loss 3133.0973\n",
      "Iteration 85000: Loss 3132.9064\n",
      "Iteration 86000: Loss 3132.7247\n",
      "Iteration 87000: Loss 3132.5518\n",
      "Iteration 88000: Loss 3132.3873\n",
      "Iteration 89000: Loss 3132.2306\n",
      "Iteration 90000: Loss 3132.0814\n",
      "Iteration 91000: Loss 3131.9392\n",
      "Iteration 92000: Loss 3131.8038\n",
      "Iteration 93000: Loss 3131.6747\n",
      "Iteration 94000: Loss 3131.5516\n",
      "Iteration 95000: Loss 3131.4343\n",
      "Iteration 96000: Loss 3131.3223\n",
      "Iteration 97000: Loss 3131.2155\n",
      "Iteration 98000: Loss 3131.1135\n",
      "Iteration 99000: Loss 3131.0162\n",
      "Iteration 100000: Loss 3130.9232\n"
     ]
    }
   ],
   "source": [
    "W = np.random.rand(9)\n",
    "b = np.random.rand()\n",
    "\n",
    "losses = []\n",
    "\n",
    "for i in range(1, 100001):\n",
    "    dW, db = gradient(X_train, W, b, y_train)\n",
    "    W -= LEARNING_RATE * dW\n",
    "    b -= LEARNING_RATE * db\n",
    "    L = loss(X_train, W, b, y_train)\n",
    "    losses.append(L)\n",
    "    if i % 1000 == 0:\n",
    "        print('Iteration %d: Loss %0.4f'%(i, L))"
   ]
  },
  {
   "cell_type": "code",
   "execution_count": 42,
   "id": "20bf3a8a",
   "metadata": {},
   "outputs": [
    {
     "data": {
      "text/plain": [
       "2736.0919311262414"
      ]
     },
     "execution_count": 42,
     "metadata": {},
     "output_type": "execute_result"
    }
   ],
   "source": [
    "mse = loss(X_test, W, b, y_test)\n",
    "mse"
   ]
  },
  {
   "cell_type": "markdown",
   "id": "56069a41",
   "metadata": {},
   "source": [
    "# 5차 시도 - 상관계수 높은 s1, s3 삭제 후 모델링 "
   ]
  },
  {
   "cell_type": "code",
   "execution_count": 43,
   "id": "a6e9d4c6",
   "metadata": {},
   "outputs": [],
   "source": [
    "df_X5 = df_X.drop(['s1', 's3'], axis = 1)\n",
    "\n",
    "X_train, X_test, y_train, y_test = train_test_split(df_X5, y, test_size = 0.3, shuffle = True, random_state = 2021)\n",
    "y_train = y_train.reshape(-1)\n",
    "y_test = y_test.reshape(-1)\n",
    "X_train = X_train.values\n",
    "X_test = X_test.values"
   ]
  },
  {
   "cell_type": "code",
   "execution_count": 44,
   "id": "57b83f46",
   "metadata": {},
   "outputs": [
    {
     "name": "stdout",
     "output_type": "stream",
     "text": [
      "Iteration 1000: Loss 5469.1111\n",
      "Iteration 2000: Loss 5000.8735\n",
      "Iteration 3000: Loss 4643.1761\n",
      "Iteration 4000: Loss 4368.0608\n",
      "Iteration 5000: Loss 4154.8023\n",
      "Iteration 6000: Loss 3988.0228\n",
      "Iteration 7000: Loss 3856.3005\n",
      "Iteration 8000: Loss 3751.1400\n",
      "Iteration 9000: Loss 3666.2129\n",
      "Iteration 10000: Loss 3596.7949\n",
      "Iteration 11000: Loss 3539.3514\n",
      "Iteration 12000: Loss 3491.2296\n",
      "Iteration 13000: Loss 3450.4320\n",
      "Iteration 14000: Loss 3415.4477\n",
      "Iteration 15000: Loss 3385.1287\n",
      "Iteration 16000: Loss 3358.5970\n",
      "Iteration 17000: Loss 3335.1773\n",
      "Iteration 18000: Loss 3314.3456\n",
      "Iteration 19000: Loss 3295.6918\n",
      "Iteration 20000: Loss 3278.8921\n",
      "Iteration 21000: Loss 3263.6879\n",
      "Iteration 22000: Loss 3249.8704\n",
      "Iteration 23000: Loss 3237.2691\n",
      "Iteration 24000: Loss 3225.7430\n",
      "Iteration 25000: Loss 3215.1742\n",
      "Iteration 26000: Loss 3205.4629\n",
      "Iteration 27000: Loss 3196.5239\n",
      "Iteration 28000: Loss 3188.2833\n",
      "Iteration 29000: Loss 3180.6767\n",
      "Iteration 30000: Loss 3173.6478\n",
      "Iteration 31000: Loss 3167.1462\n",
      "Iteration 32000: Loss 3161.1272\n",
      "Iteration 33000: Loss 3155.5509\n",
      "Iteration 34000: Loss 3150.3810\n",
      "Iteration 35000: Loss 3145.5848\n",
      "Iteration 36000: Loss 3141.1328\n",
      "Iteration 37000: Loss 3136.9979\n",
      "Iteration 38000: Loss 3133.1554\n",
      "Iteration 39000: Loss 3129.5830\n",
      "Iteration 40000: Loss 3126.2598\n",
      "Iteration 41000: Loss 3123.1671\n",
      "Iteration 42000: Loss 3120.2874\n",
      "Iteration 43000: Loss 3117.6049\n",
      "Iteration 44000: Loss 3115.1048\n",
      "Iteration 45000: Loss 3112.7736\n",
      "Iteration 46000: Loss 3110.5988\n",
      "Iteration 47000: Loss 3108.5691\n",
      "Iteration 48000: Loss 3106.6738\n",
      "Iteration 49000: Loss 3104.9031\n",
      "Iteration 50000: Loss 3103.2482\n",
      "Iteration 51000: Loss 3101.7005\n",
      "Iteration 52000: Loss 3100.2525\n",
      "Iteration 53000: Loss 3098.8971\n",
      "Iteration 54000: Loss 3097.6277\n",
      "Iteration 55000: Loss 3096.4382\n",
      "Iteration 56000: Loss 3095.3230\n",
      "Iteration 57000: Loss 3094.2769\n",
      "Iteration 58000: Loss 3093.2952\n",
      "Iteration 59000: Loss 3092.3733\n",
      "Iteration 60000: Loss 3091.5072\n",
      "Iteration 61000: Loss 3090.6930\n",
      "Iteration 62000: Loss 3089.9272\n",
      "Iteration 63000: Loss 3089.2065\n",
      "Iteration 64000: Loss 3088.5279\n",
      "Iteration 65000: Loss 3087.8885\n",
      "Iteration 66000: Loss 3087.2858\n",
      "Iteration 67000: Loss 3086.7173\n",
      "Iteration 68000: Loss 3086.1807\n",
      "Iteration 69000: Loss 3085.6740\n",
      "Iteration 70000: Loss 3085.1952\n",
      "Iteration 71000: Loss 3084.7425\n",
      "Iteration 72000: Loss 3084.3142\n",
      "Iteration 73000: Loss 3083.9088\n",
      "Iteration 74000: Loss 3083.5248\n",
      "Iteration 75000: Loss 3083.1609\n",
      "Iteration 76000: Loss 3082.8157\n",
      "Iteration 77000: Loss 3082.4882\n",
      "Iteration 78000: Loss 3082.1773\n",
      "Iteration 79000: Loss 3081.8818\n",
      "Iteration 80000: Loss 3081.6010\n",
      "Iteration 81000: Loss 3081.3338\n",
      "Iteration 82000: Loss 3081.0795\n",
      "Iteration 83000: Loss 3080.8372\n",
      "Iteration 84000: Loss 3080.6064\n",
      "Iteration 85000: Loss 3080.3863\n",
      "Iteration 86000: Loss 3080.1763\n",
      "Iteration 87000: Loss 3079.9757\n",
      "Iteration 88000: Loss 3079.7842\n",
      "Iteration 89000: Loss 3079.6010\n",
      "Iteration 90000: Loss 3079.4259\n",
      "Iteration 91000: Loss 3079.2582\n",
      "Iteration 92000: Loss 3079.0977\n",
      "Iteration 93000: Loss 3078.9439\n",
      "Iteration 94000: Loss 3078.7965\n",
      "Iteration 95000: Loss 3078.6550\n",
      "Iteration 96000: Loss 3078.5192\n",
      "Iteration 97000: Loss 3078.3888\n",
      "Iteration 98000: Loss 3078.2636\n",
      "Iteration 99000: Loss 3078.1431\n",
      "Iteration 100000: Loss 3078.0272\n"
     ]
    }
   ],
   "source": [
    "W = np.random.rand(8)\n",
    "b = np.random.rand()\n",
    "\n",
    "losses = []\n",
    "\n",
    "for i in range(1, 100001):\n",
    "    dW, db = gradient(X_train, W, b, y_train)\n",
    "    W -= LEARNING_RATE * dW\n",
    "    b -= LEARNING_RATE * db\n",
    "    L = loss(X_train, W, b, y_train)\n",
    "    losses.append(L)\n",
    "    if i % 1000 == 0:\n",
    "        print('Iteration %d: Loss %0.4f'%(i, L))"
   ]
  },
  {
   "cell_type": "code",
   "execution_count": 45,
   "id": "33d12ab7",
   "metadata": {},
   "outputs": [
    {
     "data": {
      "text/plain": [
       "2674.17435038003"
      ]
     },
     "execution_count": 45,
     "metadata": {},
     "output_type": "execute_result"
    }
   ],
   "source": [
    "mse = loss(X_test, W, b, y_test)\n",
    "mse"
   ]
  },
  {
   "cell_type": "markdown",
   "id": "86dcef1d",
   "metadata": {},
   "source": [
    "# 6차 시도 - Polynomial Features"
   ]
  },
  {
   "cell_type": "code",
   "execution_count": 46,
   "id": "b041beb0",
   "metadata": {},
   "outputs": [],
   "source": [
    "from sklearn.preprocessing import PolynomialFeatures\n",
    "\n",
    "poly = PolynomialFeatures(degree=2, interaction_only=True)\n",
    "X_interact = poly.fit_transform(df_X)"
   ]
  },
  {
   "cell_type": "code",
   "execution_count": 47,
   "id": "ad586d99",
   "metadata": {},
   "outputs": [],
   "source": [
    "X_train, X_test, y_train, y_test = train_test_split(X_interact, y, test_size = 0.3, shuffle = True, random_state = 2021)\n",
    "y_train = y_train.reshape(-1)\n",
    "y_test = y_test.reshape(-1)"
   ]
  },
  {
   "cell_type": "code",
   "execution_count": 48,
   "id": "d6daeaf4",
   "metadata": {},
   "outputs": [
    {
     "data": {
      "text/plain": [
       "(309, 56)"
      ]
     },
     "execution_count": 48,
     "metadata": {},
     "output_type": "execute_result"
    }
   ],
   "source": [
    "X_train.shape"
   ]
  },
  {
   "cell_type": "code",
   "execution_count": null,
   "id": "e3478fdb",
   "metadata": {},
   "outputs": [
    {
     "name": "stdout",
     "output_type": "stream",
     "text": [
      "Iteration 1000: Loss 5396.5511\n",
      "Iteration 2000: Loss 4895.9442\n",
      "Iteration 3000: Loss 4528.9808\n",
      "Iteration 4000: Loss 4256.4742\n",
      "Iteration 5000: Loss 4051.1088\n",
      "Iteration 6000: Loss 3893.8038\n",
      "Iteration 7000: Loss 3771.1960\n",
      "Iteration 8000: Loss 3673.8945\n",
      "Iteration 9000: Loss 3595.2729\n",
      "Iteration 10000: Loss 3530.6302\n",
      "Iteration 11000: Loss 3476.6102\n",
      "Iteration 12000: Loss 3430.7977\n",
      "Iteration 13000: Loss 3391.4378\n",
      "Iteration 14000: Loss 3357.2415\n",
      "Iteration 15000: Loss 3327.2494\n",
      "Iteration 16000: Loss 3300.7371\n",
      "Iteration 17000: Loss 3277.1489\n",
      "Iteration 18000: Loss 3256.0511\n",
      "Iteration 19000: Loss 3237.0996\n",
      "Iteration 20000: Loss 3220.0163\n",
      "Iteration 21000: Loss 3204.5731\n",
      "Iteration 22000: Loss 3190.5795\n",
      "Iteration 23000: Loss 3177.8748\n",
      "Iteration 24000: Loss 3166.3212\n",
      "Iteration 25000: Loss 3155.7997\n",
      "Iteration 26000: Loss 3146.2062\n",
      "Iteration 27000: Loss 3137.4494\n",
      "Iteration 28000: Loss 3129.4485\n",
      "Iteration 29000: Loss 3122.1314\n",
      "Iteration 30000: Loss 3115.4342\n",
      "Iteration 31000: Loss 3109.2992\n",
      "Iteration 32000: Loss 3103.6748\n",
      "Iteration 33000: Loss 3098.5146\n",
      "Iteration 34000: Loss 3093.7765\n",
      "Iteration 35000: Loss 3089.4229\n",
      "Iteration 36000: Loss 3085.4194\n",
      "Iteration 37000: Loss 3081.7350\n",
      "Iteration 38000: Loss 3078.3416\n",
      "Iteration 39000: Loss 3075.2139\n",
      "Iteration 40000: Loss 3072.3285\n",
      "Iteration 41000: Loss 3069.6646\n",
      "Iteration 42000: Loss 3067.2030\n",
      "Iteration 43000: Loss 3064.9264\n",
      "Iteration 44000: Loss 3062.8190\n",
      "Iteration 45000: Loss 3060.8665\n",
      "Iteration 46000: Loss 3059.0557\n",
      "Iteration 47000: Loss 3057.3747\n",
      "Iteration 48000: Loss 3055.8126\n",
      "Iteration 49000: Loss 3054.3596\n",
      "Iteration 50000: Loss 3053.0065\n",
      "Iteration 51000: Loss 3051.7451\n",
      "Iteration 52000: Loss 3050.5679\n",
      "Iteration 53000: Loss 3049.4680\n",
      "Iteration 54000: Loss 3048.4391\n",
      "Iteration 55000: Loss 3047.4754\n",
      "Iteration 56000: Loss 3046.5716\n",
      "Iteration 57000: Loss 3045.7230\n",
      "Iteration 58000: Loss 3044.9252\n",
      "Iteration 59000: Loss 3044.1740\n",
      "Iteration 60000: Loss 3043.4658\n",
      "Iteration 61000: Loss 3042.7972\n",
      "Iteration 62000: Loss 3042.1651\n",
      "Iteration 63000: Loss 3041.5666\n",
      "Iteration 64000: Loss 3040.9991\n",
      "Iteration 65000: Loss 3040.4603\n",
      "Iteration 66000: Loss 3039.9479\n",
      "Iteration 67000: Loss 3039.4598\n",
      "Iteration 68000: Loss 3038.9943\n",
      "Iteration 69000: Loss 3038.5497\n",
      "Iteration 70000: Loss 3038.1242\n",
      "Iteration 71000: Loss 3037.7166\n",
      "Iteration 72000: Loss 3037.3254\n",
      "Iteration 73000: Loss 3036.9495\n",
      "Iteration 74000: Loss 3036.5877\n",
      "Iteration 75000: Loss 3036.2390\n",
      "Iteration 76000: Loss 3035.9024\n",
      "Iteration 77000: Loss 3035.5770\n",
      "Iteration 78000: Loss 3035.2620\n",
      "Iteration 79000: Loss 3034.9568\n",
      "Iteration 80000: Loss 3034.6605\n",
      "Iteration 81000: Loss 3034.3725\n",
      "Iteration 82000: Loss 3034.0923\n",
      "Iteration 83000: Loss 3033.8193\n",
      "Iteration 84000: Loss 3033.5530\n",
      "Iteration 85000: Loss 3033.2930\n",
      "Iteration 86000: Loss 3033.0387\n",
      "Iteration 87000: Loss 3032.7899\n"
     ]
    }
   ],
   "source": [
    "W = np.random.rand(56)\n",
    "b = np.random.rand()\n",
    "\n",
    "losses = []\n",
    "\n",
    "for i in range(1, 100001):\n",
    "    dW, db = gradient(X_train, W, b, y_train)\n",
    "    W -= LEARNING_RATE * dW\n",
    "    b -= LEARNING_RATE * db\n",
    "    L = loss(X_train, W, b, y_train)\n",
    "    losses.append(L)\n",
    "    if i % 1000 == 0:\n",
    "        print('Iteration %d: Loss %0.4f'%(i, L))"
   ]
  },
  {
   "cell_type": "code",
   "execution_count": null,
   "id": "e875e65f",
   "metadata": {},
   "outputs": [],
   "source": [
    "mse = loss(X_test, W, b, y_test)\n",
    "mse"
   ]
  },
  {
   "cell_type": "code",
   "execution_count": null,
   "id": "32c8be1d",
   "metadata": {},
   "outputs": [],
   "source": [
    "plt.plot(losses)\n",
    "plt.show()"
   ]
  },
  {
   "cell_type": "code",
   "execution_count": null,
   "id": "973b3d23",
   "metadata": {},
   "outputs": [],
   "source": [
    "prediction = model(X_test, W, b)\n",
    "\n",
    "plt.scatter(X_test[:, 0], y_test).set_label('y_true')\n",
    "plt.scatter(X_test[:, 0], prediction).set_label('y_pred')\n",
    "plt.legend()\n",
    "plt.show()"
   ]
  },
  {
   "cell_type": "markdown",
   "id": "d1bc4c7e",
   "metadata": {},
   "source": [
    "# 7차 시도 - 그냥 Linear Regressor 써보자.."
   ]
  },
  {
   "cell_type": "code",
   "execution_count": null,
   "id": "92b53bcd",
   "metadata": {},
   "outputs": [],
   "source": [
    "from sklearn.datasets import load_diabetes\n",
    "\n",
    "diabetes = load_diabetes()"
   ]
  },
  {
   "cell_type": "code",
   "execution_count": null,
   "id": "fd66bd2e",
   "metadata": {},
   "outputs": [],
   "source": [
    "df_X = pd.DataFrame(diabetes.data, columns = diabetes.feature_names)\n",
    "df_y = pd.DataFrame(diabetes.target)"
   ]
  },
  {
   "cell_type": "code",
   "execution_count": null,
   "id": "0e4415ce",
   "metadata": {},
   "outputs": [],
   "source": [
    "df_diabetes = pd.concat([df_X, df_y], axis = 1)\n",
    "df_diabetes.rename(columns = {0: \"target\"}, inplace = True)\n",
    "df_diabetes.head()"
   ]
  },
  {
   "cell_type": "code",
   "execution_count": null,
   "id": "24ac52fc",
   "metadata": {},
   "outputs": [],
   "source": [
    "from sklearn.model_selection import train_test_split\n",
    "from sklearn.linear_model import LinearRegression\n",
    "from sklearn.metrics import mean_squared_error"
   ]
  },
  {
   "cell_type": "code",
   "execution_count": null,
   "id": "c32e4aa5",
   "metadata": {},
   "outputs": [],
   "source": [
    "X_train, X_test, y_train, y_test = train_test_split(df_X, df_y, test_size = 0.3, random_state = 2021)"
   ]
  },
  {
   "cell_type": "code",
   "execution_count": null,
   "id": "7ec0c4d2",
   "metadata": {},
   "outputs": [],
   "source": [
    "lr = LinearRegression()\n",
    "lr.fit(X_train, y_train)\n",
    "\n",
    "pred = lr.predict(X_test)"
   ]
  },
  {
   "cell_type": "code",
   "execution_count": null,
   "id": "39770144",
   "metadata": {},
   "outputs": [],
   "source": [
    "mse = mean_squared_error(y_test, pred)\n",
    "mse"
   ]
  },
  {
   "cell_type": "markdown",
   "id": "3c9482fb",
   "metadata": {},
   "source": [
    "# 결론 "
   ]
  },
  {
   "cell_type": "markdown",
   "id": "2dbc9228",
   "metadata": {},
   "source": [
    "- 처음부터 random_state = 2021로 지정하고 시도할껄 그랬다..\n",
    "- random_state = 2024 일때는 polynomial Featurees 시도했을 때 3099 값이 가장 최소였는데, 2021로 바꾸니까 첫번째 시도에서 바로 2600정도 나온다...\n",
    "- 하지만 random seed 값에 따라 mse 값이 크게 변하는 것이라면 Robust한 모델은 아니지 않을까..?\n",
    "- 현재 모델의 특이점으로는 train의 mse 값보다 test에서의 mse값이 약 400정도 낮게 나온다. 이게 과소적합인가?"
   ]
  }
 ],
 "metadata": {
  "kernelspec": {
   "display_name": "Python 3 (ipykernel)",
   "language": "python",
   "name": "python3"
  },
  "language_info": {
   "codemirror_mode": {
    "name": "ipython",
    "version": 3
   },
   "file_extension": ".py",
   "mimetype": "text/x-python",
   "name": "python",
   "nbconvert_exporter": "python",
   "pygments_lexer": "ipython3",
   "version": "3.9.7"
  }
 },
 "nbformat": 4,
 "nbformat_minor": 5
}
