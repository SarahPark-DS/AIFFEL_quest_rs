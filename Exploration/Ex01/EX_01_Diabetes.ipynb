{
 "cells": [
  {
   "cell_type": "markdown",
   "id": "83d52d05",
   "metadata": {},
   "source": [
    "# 1. 데이터 가져오기"
   ]
  },
  {
   "cell_type": "markdown",
   "id": "4ecce588",
   "metadata": {},
   "source": [
    "- sklearn.datasets의 load_diabetes에서 데이터를 가져와주세요.\n",
    "- diabetes의 data를 df_X에, target을 df_y에 저장해주세요."
   ]
  },
  {
   "cell_type": "code",
   "execution_count": 1,
   "id": "e48397e0",
   "metadata": {},
   "outputs": [],
   "source": [
    "from sklearn.datasets import load_diabetes\n",
    "\n",
    "diabetes = load_diabetes()"
   ]
  },
  {
   "cell_type": "code",
   "execution_count": 2,
   "id": "f2062e87",
   "metadata": {},
   "outputs": [
    {
     "data": {
      "text/plain": [
       "dict_keys(['data', 'target', 'frame', 'DESCR', 'feature_names', 'data_filename', 'target_filename', 'data_module'])"
      ]
     },
     "execution_count": 2,
     "metadata": {},
     "output_type": "execute_result"
    }
   ],
   "source": [
    "diabetes.keys()"
   ]
  },
  {
   "cell_type": "code",
   "execution_count": 3,
   "id": "10f173f9",
   "metadata": {
    "scrolled": true
   },
   "outputs": [
    {
     "name": "stdout",
     "output_type": "stream",
     "text": [
      ".. _diabetes_dataset:\n",
      "\n",
      "Diabetes dataset\n",
      "----------------\n",
      "\n",
      "Ten baseline variables, age, sex, body mass index, average blood\n",
      "pressure, and six blood serum measurements were obtained for each of n =\n",
      "442 diabetes patients, as well as the response of interest, a\n",
      "quantitative measure of disease progression one year after baseline.\n",
      "\n",
      "**Data Set Characteristics:**\n",
      "\n",
      "  :Number of Instances: 442\n",
      "\n",
      "  :Number of Attributes: First 10 columns are numeric predictive values\n",
      "\n",
      "  :Target: Column 11 is a quantitative measure of disease progression one year after baseline\n",
      "\n",
      "  :Attribute Information:\n",
      "      - age     age in years\n",
      "      - sex\n",
      "      - bmi     body mass index\n",
      "      - bp      average blood pressure\n",
      "      - s1      tc, total serum cholesterol\n",
      "      - s2      ldl, low-density lipoproteins\n",
      "      - s3      hdl, high-density lipoproteins\n",
      "      - s4      tch, total cholesterol / HDL\n",
      "      - s5      ltg, possibly log of serum triglycerides level\n",
      "      - s6      glu, blood sugar level\n",
      "\n",
      "Note: Each of these 10 feature variables have been mean centered and scaled by the standard deviation times `n_samples` (i.e. the sum of squares of each column totals 1).\n",
      "\n",
      "Source URL:\n",
      "https://www4.stat.ncsu.edu/~boos/var.select/diabetes.html\n",
      "\n",
      "For more information see:\n",
      "Bradley Efron, Trevor Hastie, Iain Johnstone and Robert Tibshirani (2004) \"Least Angle Regression,\" Annals of Statistics (with discussion), 407-499.\n",
      "(https://web.stanford.edu/~hastie/Papers/LARS/LeastAngle_2002.pdf)\n"
     ]
    }
   ],
   "source": [
    "print(diabetes.DESCR)"
   ]
  },
  {
   "cell_type": "code",
   "execution_count": 47,
   "id": "042e9ead",
   "metadata": {},
   "outputs": [
    {
     "data": {
      "text/plain": [
       "((442, 10), (442, 1))"
      ]
     },
     "execution_count": 47,
     "metadata": {},
     "output_type": "execute_result"
    }
   ],
   "source": [
    "import pandas as pd\n",
    "\n",
    "df_X = pd.DataFrame(diabetes.data, columns = diabetes.feature_names)\n",
    "df_y = pd.DataFrame(diabetes.target)\n",
    "\n",
    "df_X.shape, df_y.shape"
   ]
  },
  {
   "cell_type": "code",
   "execution_count": 5,
   "id": "33b2983b",
   "metadata": {},
   "outputs": [
    {
     "data": {
      "text/html": [
       "<div>\n",
       "<style scoped>\n",
       "    .dataframe tbody tr th:only-of-type {\n",
       "        vertical-align: middle;\n",
       "    }\n",
       "\n",
       "    .dataframe tbody tr th {\n",
       "        vertical-align: top;\n",
       "    }\n",
       "\n",
       "    .dataframe thead th {\n",
       "        text-align: right;\n",
       "    }\n",
       "</style>\n",
       "<table border=\"1\" class=\"dataframe\">\n",
       "  <thead>\n",
       "    <tr style=\"text-align: right;\">\n",
       "      <th></th>\n",
       "      <th>age</th>\n",
       "      <th>sex</th>\n",
       "      <th>bmi</th>\n",
       "      <th>bp</th>\n",
       "      <th>s1</th>\n",
       "      <th>s2</th>\n",
       "      <th>s3</th>\n",
       "      <th>s4</th>\n",
       "      <th>s5</th>\n",
       "      <th>s6</th>\n",
       "    </tr>\n",
       "  </thead>\n",
       "  <tbody>\n",
       "    <tr>\n",
       "      <th>0</th>\n",
       "      <td>0.038076</td>\n",
       "      <td>0.050680</td>\n",
       "      <td>0.061696</td>\n",
       "      <td>0.021872</td>\n",
       "      <td>-0.044223</td>\n",
       "      <td>-0.034821</td>\n",
       "      <td>-0.043401</td>\n",
       "      <td>-0.002592</td>\n",
       "      <td>0.019908</td>\n",
       "      <td>-0.017646</td>\n",
       "    </tr>\n",
       "    <tr>\n",
       "      <th>1</th>\n",
       "      <td>-0.001882</td>\n",
       "      <td>-0.044642</td>\n",
       "      <td>-0.051474</td>\n",
       "      <td>-0.026328</td>\n",
       "      <td>-0.008449</td>\n",
       "      <td>-0.019163</td>\n",
       "      <td>0.074412</td>\n",
       "      <td>-0.039493</td>\n",
       "      <td>-0.068330</td>\n",
       "      <td>-0.092204</td>\n",
       "    </tr>\n",
       "    <tr>\n",
       "      <th>2</th>\n",
       "      <td>0.085299</td>\n",
       "      <td>0.050680</td>\n",
       "      <td>0.044451</td>\n",
       "      <td>-0.005671</td>\n",
       "      <td>-0.045599</td>\n",
       "      <td>-0.034194</td>\n",
       "      <td>-0.032356</td>\n",
       "      <td>-0.002592</td>\n",
       "      <td>0.002864</td>\n",
       "      <td>-0.025930</td>\n",
       "    </tr>\n",
       "    <tr>\n",
       "      <th>3</th>\n",
       "      <td>-0.089063</td>\n",
       "      <td>-0.044642</td>\n",
       "      <td>-0.011595</td>\n",
       "      <td>-0.036656</td>\n",
       "      <td>0.012191</td>\n",
       "      <td>0.024991</td>\n",
       "      <td>-0.036038</td>\n",
       "      <td>0.034309</td>\n",
       "      <td>0.022692</td>\n",
       "      <td>-0.009362</td>\n",
       "    </tr>\n",
       "    <tr>\n",
       "      <th>4</th>\n",
       "      <td>0.005383</td>\n",
       "      <td>-0.044642</td>\n",
       "      <td>-0.036385</td>\n",
       "      <td>0.021872</td>\n",
       "      <td>0.003935</td>\n",
       "      <td>0.015596</td>\n",
       "      <td>0.008142</td>\n",
       "      <td>-0.002592</td>\n",
       "      <td>-0.031991</td>\n",
       "      <td>-0.046641</td>\n",
       "    </tr>\n",
       "  </tbody>\n",
       "</table>\n",
       "</div>"
      ],
      "text/plain": [
       "        age       sex       bmi        bp        s1        s2        s3  \\\n",
       "0  0.038076  0.050680  0.061696  0.021872 -0.044223 -0.034821 -0.043401   \n",
       "1 -0.001882 -0.044642 -0.051474 -0.026328 -0.008449 -0.019163  0.074412   \n",
       "2  0.085299  0.050680  0.044451 -0.005671 -0.045599 -0.034194 -0.032356   \n",
       "3 -0.089063 -0.044642 -0.011595 -0.036656  0.012191  0.024991 -0.036038   \n",
       "4  0.005383 -0.044642 -0.036385  0.021872  0.003935  0.015596  0.008142   \n",
       "\n",
       "         s4        s5        s6  \n",
       "0 -0.002592  0.019908 -0.017646  \n",
       "1 -0.039493 -0.068330 -0.092204  \n",
       "2 -0.002592  0.002864 -0.025930  \n",
       "3  0.034309  0.022692 -0.009362  \n",
       "4 -0.002592 -0.031991 -0.046641  "
      ]
     },
     "execution_count": 5,
     "metadata": {},
     "output_type": "execute_result"
    }
   ],
   "source": [
    "df_X.head()"
   ]
  },
  {
   "cell_type": "code",
   "execution_count": 6,
   "id": "e9261526",
   "metadata": {},
   "outputs": [
    {
     "name": "stdout",
     "output_type": "stream",
     "text": [
      "<class 'pandas.core.frame.DataFrame'>\n",
      "RangeIndex: 442 entries, 0 to 441\n",
      "Data columns (total 10 columns):\n",
      " #   Column  Non-Null Count  Dtype  \n",
      "---  ------  --------------  -----  \n",
      " 0   age     442 non-null    float64\n",
      " 1   sex     442 non-null    float64\n",
      " 2   bmi     442 non-null    float64\n",
      " 3   bp      442 non-null    float64\n",
      " 4   s1      442 non-null    float64\n",
      " 5   s2      442 non-null    float64\n",
      " 6   s3      442 non-null    float64\n",
      " 7   s4      442 non-null    float64\n",
      " 8   s5      442 non-null    float64\n",
      " 9   s6      442 non-null    float64\n",
      "dtypes: float64(10)\n",
      "memory usage: 34.7 KB\n"
     ]
    }
   ],
   "source": [
    "df_X.info()"
   ]
  },
  {
   "cell_type": "markdown",
   "id": "8d8f0b79",
   "metadata": {},
   "source": [
    "## 1-1 데이터 전처리 수행하기"
   ]
  },
  {
   "cell_type": "code",
   "execution_count": 7,
   "id": "e2704062",
   "metadata": {},
   "outputs": [
    {
     "data": {
      "text/html": [
       "<div>\n",
       "<style scoped>\n",
       "    .dataframe tbody tr th:only-of-type {\n",
       "        vertical-align: middle;\n",
       "    }\n",
       "\n",
       "    .dataframe tbody tr th {\n",
       "        vertical-align: top;\n",
       "    }\n",
       "\n",
       "    .dataframe thead th {\n",
       "        text-align: right;\n",
       "    }\n",
       "</style>\n",
       "<table border=\"1\" class=\"dataframe\">\n",
       "  <thead>\n",
       "    <tr style=\"text-align: right;\">\n",
       "      <th></th>\n",
       "      <th>age</th>\n",
       "      <th>sex</th>\n",
       "      <th>bmi</th>\n",
       "      <th>bp</th>\n",
       "      <th>s1</th>\n",
       "      <th>s2</th>\n",
       "      <th>s3</th>\n",
       "      <th>s4</th>\n",
       "      <th>s5</th>\n",
       "      <th>s6</th>\n",
       "      <th>target</th>\n",
       "    </tr>\n",
       "  </thead>\n",
       "  <tbody>\n",
       "    <tr>\n",
       "      <th>0</th>\n",
       "      <td>0.038076</td>\n",
       "      <td>0.050680</td>\n",
       "      <td>0.061696</td>\n",
       "      <td>0.021872</td>\n",
       "      <td>-0.044223</td>\n",
       "      <td>-0.034821</td>\n",
       "      <td>-0.043401</td>\n",
       "      <td>-0.002592</td>\n",
       "      <td>0.019908</td>\n",
       "      <td>-0.017646</td>\n",
       "      <td>151.0</td>\n",
       "    </tr>\n",
       "    <tr>\n",
       "      <th>1</th>\n",
       "      <td>-0.001882</td>\n",
       "      <td>-0.044642</td>\n",
       "      <td>-0.051474</td>\n",
       "      <td>-0.026328</td>\n",
       "      <td>-0.008449</td>\n",
       "      <td>-0.019163</td>\n",
       "      <td>0.074412</td>\n",
       "      <td>-0.039493</td>\n",
       "      <td>-0.068330</td>\n",
       "      <td>-0.092204</td>\n",
       "      <td>75.0</td>\n",
       "    </tr>\n",
       "    <tr>\n",
       "      <th>2</th>\n",
       "      <td>0.085299</td>\n",
       "      <td>0.050680</td>\n",
       "      <td>0.044451</td>\n",
       "      <td>-0.005671</td>\n",
       "      <td>-0.045599</td>\n",
       "      <td>-0.034194</td>\n",
       "      <td>-0.032356</td>\n",
       "      <td>-0.002592</td>\n",
       "      <td>0.002864</td>\n",
       "      <td>-0.025930</td>\n",
       "      <td>141.0</td>\n",
       "    </tr>\n",
       "    <tr>\n",
       "      <th>3</th>\n",
       "      <td>-0.089063</td>\n",
       "      <td>-0.044642</td>\n",
       "      <td>-0.011595</td>\n",
       "      <td>-0.036656</td>\n",
       "      <td>0.012191</td>\n",
       "      <td>0.024991</td>\n",
       "      <td>-0.036038</td>\n",
       "      <td>0.034309</td>\n",
       "      <td>0.022692</td>\n",
       "      <td>-0.009362</td>\n",
       "      <td>206.0</td>\n",
       "    </tr>\n",
       "    <tr>\n",
       "      <th>4</th>\n",
       "      <td>0.005383</td>\n",
       "      <td>-0.044642</td>\n",
       "      <td>-0.036385</td>\n",
       "      <td>0.021872</td>\n",
       "      <td>0.003935</td>\n",
       "      <td>0.015596</td>\n",
       "      <td>0.008142</td>\n",
       "      <td>-0.002592</td>\n",
       "      <td>-0.031991</td>\n",
       "      <td>-0.046641</td>\n",
       "      <td>135.0</td>\n",
       "    </tr>\n",
       "  </tbody>\n",
       "</table>\n",
       "</div>"
      ],
      "text/plain": [
       "        age       sex       bmi        bp        s1        s2        s3  \\\n",
       "0  0.038076  0.050680  0.061696  0.021872 -0.044223 -0.034821 -0.043401   \n",
       "1 -0.001882 -0.044642 -0.051474 -0.026328 -0.008449 -0.019163  0.074412   \n",
       "2  0.085299  0.050680  0.044451 -0.005671 -0.045599 -0.034194 -0.032356   \n",
       "3 -0.089063 -0.044642 -0.011595 -0.036656  0.012191  0.024991 -0.036038   \n",
       "4  0.005383 -0.044642 -0.036385  0.021872  0.003935  0.015596  0.008142   \n",
       "\n",
       "         s4        s5        s6  target  \n",
       "0 -0.002592  0.019908 -0.017646   151.0  \n",
       "1 -0.039493 -0.068330 -0.092204    75.0  \n",
       "2 -0.002592  0.002864 -0.025930   141.0  \n",
       "3  0.034309  0.022692 -0.009362   206.0  \n",
       "4 -0.002592 -0.031991 -0.046641   135.0  "
      ]
     },
     "execution_count": 7,
     "metadata": {},
     "output_type": "execute_result"
    }
   ],
   "source": [
    "df_diabetes = pd.concat([df_X, df_y], axis = 1)\n",
    "df_diabetes.rename(columns = {0: \"target\"}, inplace = True)\n",
    "df_diabetes.head()"
   ]
  },
  {
   "cell_type": "code",
   "execution_count": 8,
   "id": "d17b0b52",
   "metadata": {},
   "outputs": [
    {
     "data": {
      "text/plain": [
       "<AxesSubplot:>"
      ]
     },
     "execution_count": 8,
     "metadata": {},
     "output_type": "execute_result"
    },
    {
     "data": {
      "image/png": "[encoded data removed]",
      "text/plain": [
       "<Figure size 864x720 with 2 Axes>"
      ]
     },
     "metadata": {
      "needs_background": "light"
     },
     "output_type": "display_data"
    }
   ],
   "source": [
    "# 상관계수 확인하기\n",
    "import seaborn as sns\n",
    "import matplotlib.pyplot as plt\n",
    "%matplotlib inline\n",
    "\n",
    "plt.figure(figsize = (12, 10))\n",
    "sns.heatmap(data = df_diabetes.corr(), annot = True, fmt = '.2f', linewidths = 0.5, cmap = 'RdGy')"
   ]
  },
  {
   "cell_type": "code",
   "execution_count": 9,
   "id": "24f54020",
   "metadata": {},
   "outputs": [
    {
     "data": {
      "image/png": "[encoded data removed]",
      "text/plain": [
       "<Figure size 576x1440 with 10 Axes>"
      ]
     },
     "metadata": {
      "needs_background": "light"
     },
     "output_type": "display_data"
    }
   ],
   "source": [
    "# 데이터 분포 확인하기 -> 이미 standardized 되어있어서 데이터 분포가 정규분표를 따름\n",
    "fig, ax = plt.subplots(5, 2, figsize = (8, 20))\n",
    "columns = df_X.columns\n",
    "\n",
    "count = 0\n",
    "\n",
    "for row in range(5):\n",
    "    for col in range(2):\n",
    "        sns.kdeplot(data = df_X[columns[count]], ax = ax[row][col] )\n",
    "        ax[row][col].set_xlabel('')\n",
    "        ax[row][col].set_title(f'{columns[count]}')\n",
    "        count += 1\n",
    "\n",
    "plt.show()"
   ]
  },
  {
   "cell_type": "code",
   "execution_count": 10,
   "id": "41001a50",
   "metadata": {},
   "outputs": [
    {
     "data": {
      "image/png": "[encoded data removed]",
      "text/plain": [
       "<Figure size 432x288 with 1 Axes>"
      ]
     },
     "metadata": {
      "needs_background": "light"
     },
     "output_type": "display_data"
    }
   ],
   "source": [
    "sns.kdeplot(data = df_y)\n",
    "plt.show()"
   ]
  },
  {
   "cell_type": "markdown",
   "id": "214a2315",
   "metadata": {},
   "source": [
    "# 2~3. 모델에 입력할 X, y 준비하기"
   ]
  },
  {
   "cell_type": "code",
   "execution_count": 11,
   "id": "d22de069",
   "metadata": {},
   "outputs": [],
   "source": [
    "# df_X와 df_y 값 numpy array로 변환하기\n",
    "X = df_X.values\n",
    "y = df_y.values"
   ]
  },
  {
   "cell_type": "markdown",
   "id": "6c379659",
   "metadata": {},
   "source": [
    "# 4. train 데이터와 test 데이터로 분리하기"
   ]
  },
  {
   "cell_type": "code",
   "execution_count": 12,
   "id": "25192982",
   "metadata": {},
   "outputs": [
    {
     "data": {
      "text/plain": [
       "((309, 10), (309, 1), (133, 10), (133, 1))"
      ]
     },
     "execution_count": 12,
     "metadata": {},
     "output_type": "execute_result"
    }
   ],
   "source": [
    "from sklearn.model_selection import train_test_split\n",
    "\n",
    "X_train, X_test, y_train, y_test = train_test_split(X, y, test_size = 0.3, shuffle = True, random_state = 2024)\n",
    "X_train.shape, y_train.shape, X_test.shape, y_test.shape"
   ]
  },
  {
   "cell_type": "code",
   "execution_count": 13,
   "id": "bfb9c263",
   "metadata": {},
   "outputs": [
    {
     "data": {
      "text/plain": [
       "((309,), (133,))"
      ]
     },
     "execution_count": 13,
     "metadata": {},
     "output_type": "execute_result"
    }
   ],
   "source": [
    "# y_train, y_test의 차원수를 낮춤\n",
    "y_train = y_train.reshape(-1)\n",
    "y_test = y_test.reshape(-1)\n",
    "\n",
    "y_train.shape, y_test.shape"
   ]
  },
  {
   "cell_type": "markdown",
   "id": "74dec8df",
   "metadata": {},
   "source": [
    "# 5. 모델 준비하기"
   ]
  },
  {
   "cell_type": "code",
   "execution_count": 14,
   "id": "fc8f793b",
   "metadata": {},
   "outputs": [],
   "source": [
    "# 입력 데이터 개수에 맞는 가중치 w, b 준비하기 \n",
    "import numpy as np\n",
    "W = np.random.rand(10)\n",
    "b = np.random.rand()"
   ]
  },
  {
   "cell_type": "code",
   "execution_count": 15,
   "id": "48145ad2",
   "metadata": {},
   "outputs": [],
   "source": [
    "# 모델 함수 구현 \n",
    "def model(X, W, b):\n",
    "    predictions = 0\n",
    "    for i in range(len(W)):\n",
    "        predictions += X[:, i] * W[i]\n",
    "    predictions += b\n",
    "    return predictions"
   ]
  },
  {
   "cell_type": "markdown",
   "id": "555c8e27",
   "metadata": {},
   "source": [
    "# 6. 손실함수 loss 정의하기 "
   ]
  },
  {
   "cell_type": "code",
   "execution_count": 16,
   "id": "b4b9069b",
   "metadata": {},
   "outputs": [],
   "source": [
    "# 손실함수를 MSE 함수로 정의\n",
    "def MSE(y, y_pred):\n",
    "    mse = ((y-y_pred)**2).mean()\n",
    "    return mse"
   ]
  },
  {
   "cell_type": "code",
   "execution_count": 17,
   "id": "b5eb7a3c",
   "metadata": {},
   "outputs": [],
   "source": [
    "def loss(X, W, b, y):\n",
    "    predictions = model(X, W, b)\n",
    "    L = MSE(predictions, y)\n",
    "    return L"
   ]
  },
  {
   "cell_type": "markdown",
   "id": "8dfeee8c",
   "metadata": {},
   "source": [
    "# 7.  기울기를 구하는 gradient 함수 구현하기"
   ]
  },
  {
   "cell_type": "code",
   "execution_count": 18,
   "id": "70da1125",
   "metadata": {},
   "outputs": [],
   "source": [
    "def gradient(X, W, b, y):\n",
    "    N = len(y)\n",
    "    y_pred = model(X, W, b)\n",
    "    dW = 1/ N * 2 * X.T.dot(y_pred - y)\n",
    "    db = 2 * (y_pred - y).mean()\n",
    "    return dW, db"
   ]
  },
  {
   "cell_type": "markdown",
   "id": "7fa6b57d",
   "metadata": {},
   "source": [
    "# 8. 하이퍼 파라미터인 학습률 설정하기 "
   ]
  },
  {
   "cell_type": "code",
   "execution_count": 19,
   "id": "b4f48385",
   "metadata": {},
   "outputs": [],
   "source": [
    "LEARNING_RATE = 0.01"
   ]
  },
  {
   "cell_type": "markdown",
   "id": "00a1c2ee",
   "metadata": {},
   "source": [
    "# 9. 모델 학습하기"
   ]
  },
  {
   "cell_type": "code",
   "execution_count": 20,
   "id": "f2c0a6df",
   "metadata": {},
   "outputs": [
    {
     "name": "stdout",
     "output_type": "stream",
     "text": [
      "Iteration 1000: Loss 5206.3448\n",
      "Iteration 2000: Loss 4735.3804\n",
      "Iteration 3000: Loss 4383.8504\n",
      "Iteration 4000: Loss 4117.7368\n",
      "Iteration 5000: Loss 3913.1525\n",
      "Iteration 6000: Loss 3753.2744\n",
      "Iteration 7000: Loss 3626.2102\n",
      "Iteration 8000: Loss 3523.5151\n",
      "Iteration 9000: Loss 3439.1584\n",
      "Iteration 10000: Loss 3368.8045\n",
      "Iteration 11000: Loss 3309.3109\n",
      "Iteration 12000: Loss 3258.3782\n",
      "Iteration 13000: Loss 3214.3049\n",
      "Iteration 14000: Loss 3175.8166\n",
      "Iteration 15000: Loss 3141.9450\n",
      "Iteration 16000: Loss 3111.9437\n",
      "Iteration 17000: Loss 3085.2280\n",
      "Iteration 18000: Loss 3061.3327\n",
      "Iteration 19000: Loss 3039.8819\n",
      "Iteration 20000: Loss 3020.5669\n",
      "Iteration 21000: Loss 3003.1311\n",
      "Iteration 22000: Loss 2987.3580\n",
      "Iteration 23000: Loss 2973.0633\n",
      "Iteration 24000: Loss 2960.0881\n",
      "Iteration 25000: Loss 2948.2946\n",
      "Iteration 26000: Loss 2937.5623\n",
      "Iteration 27000: Loss 2927.7850\n",
      "Iteration 28000: Loss 2918.8691\n",
      "Iteration 29000: Loss 2910.7312\n",
      "Iteration 30000: Loss 2903.2972\n",
      "Iteration 31000: Loss 2896.5007\n",
      "Iteration 32000: Loss 2890.2824\n",
      "Iteration 33000: Loss 2884.5889\n",
      "Iteration 34000: Loss 2879.3723\n",
      "Iteration 35000: Loss 2874.5893\n",
      "Iteration 36000: Loss 2870.2011\n",
      "Iteration 37000: Loss 2866.1723\n",
      "Iteration 38000: Loss 2862.4712\n",
      "Iteration 39000: Loss 2859.0690\n",
      "Iteration 40000: Loss 2855.9396\n",
      "Iteration 41000: Loss 2853.0593\n",
      "Iteration 42000: Loss 2850.4068\n",
      "Iteration 43000: Loss 2847.9624\n",
      "Iteration 44000: Loss 2845.7086\n",
      "Iteration 45000: Loss 2843.6292\n",
      "Iteration 46000: Loss 2841.7095\n",
      "Iteration 47000: Loss 2839.9363\n",
      "Iteration 48000: Loss 2838.2974\n",
      "Iteration 49000: Loss 2836.7818\n",
      "Iteration 50000: Loss 2835.3792\n",
      "Iteration 51000: Loss 2834.0805\n",
      "Iteration 52000: Loss 2832.8774\n",
      "Iteration 53000: Loss 2831.7620\n",
      "Iteration 54000: Loss 2830.7274\n",
      "Iteration 55000: Loss 2829.7671\n",
      "Iteration 56000: Loss 2828.8753\n",
      "Iteration 57000: Loss 2828.0466\n",
      "Iteration 58000: Loss 2827.2760\n",
      "Iteration 59000: Loss 2826.5590\n",
      "Iteration 60000: Loss 2825.8915\n",
      "Iteration 61000: Loss 2825.2696\n",
      "Iteration 62000: Loss 2824.6900\n",
      "Iteration 63000: Loss 2824.1492\n",
      "Iteration 64000: Loss 2823.6446\n",
      "Iteration 65000: Loss 2823.1732\n",
      "Iteration 66000: Loss 2822.7326\n",
      "Iteration 67000: Loss 2822.3206\n",
      "Iteration 68000: Loss 2821.9351\n",
      "Iteration 69000: Loss 2821.5740\n",
      "Iteration 70000: Loss 2821.2356\n",
      "Iteration 71000: Loss 2820.9183\n",
      "Iteration 72000: Loss 2820.6205\n",
      "Iteration 73000: Loss 2820.3409\n",
      "Iteration 74000: Loss 2820.0781\n",
      "Iteration 75000: Loss 2819.8310\n",
      "Iteration 76000: Loss 2819.5984\n",
      "Iteration 77000: Loss 2819.3793\n",
      "Iteration 78000: Loss 2819.1729\n",
      "Iteration 79000: Loss 2818.9781\n",
      "Iteration 80000: Loss 2818.7943\n",
      "Iteration 81000: Loss 2818.6207\n",
      "Iteration 82000: Loss 2818.4565\n",
      "Iteration 83000: Loss 2818.3012\n",
      "Iteration 84000: Loss 2818.1542\n",
      "Iteration 85000: Loss 2818.0148\n",
      "Iteration 86000: Loss 2817.8826\n",
      "Iteration 87000: Loss 2817.7572\n",
      "Iteration 88000: Loss 2817.6380\n",
      "Iteration 89000: Loss 2817.5247\n",
      "Iteration 90000: Loss 2817.4169\n",
      "Iteration 91000: Loss 2817.3143\n",
      "Iteration 92000: Loss 2817.2164\n",
      "Iteration 93000: Loss 2817.1231\n",
      "Iteration 94000: Loss 2817.0340\n",
      "Iteration 95000: Loss 2816.9488\n",
      "Iteration 96000: Loss 2816.8674\n",
      "Iteration 97000: Loss 2816.7895\n",
      "Iteration 98000: Loss 2816.7148\n",
      "Iteration 99000: Loss 2816.6432\n",
      "Iteration 100000: Loss 2816.5745\n"
     ]
    }
   ],
   "source": [
    "losses = []\n",
    "\n",
    "for i in range(1, 100001):\n",
    "    dW, db = gradient(X_train, W, b, y_train)\n",
    "    W -= LEARNING_RATE * dW\n",
    "    b -= LEARNING_RATE * db\n",
    "    L = loss(X_train, W, b, y_train)\n",
    "    losses.append(L)\n",
    "    if i % 1000 == 0:\n",
    "        print('Iteration %d: Loss %0.4f'%(i, L))"
   ]
  },
  {
   "cell_type": "code",
   "execution_count": 21,
   "id": "0975ce83",
   "metadata": {},
   "outputs": [
    {
     "data": {
      "image/png": "[encoded data removed]",
      "text/plain": [
       "<Figure size 432x288 with 1 Axes>"
      ]
     },
     "metadata": {
      "needs_background": "light"
     },
     "output_type": "display_data"
    }
   ],
   "source": [
    "# loss 시각화\n",
    "import matplotlib.pyplot as plt\n",
    "\n",
    "plt.plot(losses)\n",
    "plt.show()"
   ]
  },
  {
   "cell_type": "markdown",
   "id": "a8cbad6c",
   "metadata": {},
   "source": [
    "# 10. test 데이터에 대한 성능 확인하기"
   ]
  },
  {
   "cell_type": "code",
   "execution_count": 22,
   "id": "00e6cc40",
   "metadata": {},
   "outputs": [
    {
     "data": {
      "text/plain": [
       "3107.8113439607378"
      ]
     },
     "execution_count": 22,
     "metadata": {},
     "output_type": "execute_result"
    }
   ],
   "source": [
    "prediction = model(X_test, W, b)\n",
    "mse = loss(X_test, W, b, y_test)\n",
    "mse"
   ]
  },
  {
   "cell_type": "markdown",
   "id": "95f94d43",
   "metadata": {},
   "source": [
    "# 11. 정답 데이터와 예측한 데이터 시각화하기"
   ]
  },
  {
   "cell_type": "code",
   "execution_count": 23,
   "id": "66833d03",
   "metadata": {},
   "outputs": [
    {
     "data": {
      "image/png": "[encoded data removed]",
      "text/plain": [
       "<Figure size 432x288 with 1 Axes>"
      ]
     },
     "metadata": {
      "needs_background": "light"
     },
     "output_type": "display_data"
    }
   ],
   "source": [
    "plt.scatter(X_test[:, 0], y_test).set_label('y_true')\n",
    "plt.scatter(X_test[:, 0], prediction).set_label('y_pred')\n",
    "plt.legend()\n",
    "plt.show()"
   ]
  },
  {
   "cell_type": "markdown",
   "id": "7f856b2f",
   "metadata": {},
   "source": [
    "# 2차 시도 "
   ]
  },
  {
   "cell_type": "code",
   "execution_count": 24,
   "id": "104a1534",
   "metadata": {},
   "outputs": [],
   "source": [
    "y_train_z = (y_train - y_train.mean())/y_train.std()\n",
    "y_test_z = (y_test - y_train.mean())/y_train.std()"
   ]
  },
  {
   "cell_type": "code",
   "execution_count": 25,
   "id": "f613f144",
   "metadata": {},
   "outputs": [],
   "source": [
    "# 입력 데이터 개수에 맞는 가중치 w, b 준비하기 \n",
    "import numpy as np\n",
    "W = np.random.rand(10)\n",
    "b = np.random.rand()"
   ]
  },
  {
   "cell_type": "code",
   "execution_count": 26,
   "id": "39b40bcb",
   "metadata": {},
   "outputs": [
    {
     "name": "stdout",
     "output_type": "stream",
     "text": [
      "Iteration 1000: Loss 0.7944\n",
      "Iteration 2000: Loss 0.7426\n",
      "Iteration 3000: Loss 0.7024\n",
      "Iteration 4000: Loss 0.6708\n",
      "Iteration 5000: Loss 0.6453\n",
      "Iteration 6000: Loss 0.6246\n",
      "Iteration 7000: Loss 0.6075\n",
      "Iteration 8000: Loss 0.5932\n",
      "Iteration 9000: Loss 0.5810\n",
      "Iteration 10000: Loss 0.5705\n",
      "Iteration 11000: Loss 0.5614\n",
      "Iteration 12000: Loss 0.5535\n",
      "Iteration 13000: Loss 0.5465\n",
      "Iteration 14000: Loss 0.5403\n",
      "Iteration 15000: Loss 0.5348\n",
      "Iteration 16000: Loss 0.5299\n",
      "Iteration 17000: Loss 0.5255\n",
      "Iteration 18000: Loss 0.5215\n",
      "Iteration 19000: Loss 0.5180\n",
      "Iteration 20000: Loss 0.5148\n",
      "Iteration 21000: Loss 0.5119\n",
      "Iteration 22000: Loss 0.5092\n",
      "Iteration 23000: Loss 0.5068\n",
      "Iteration 24000: Loss 0.5047\n",
      "Iteration 25000: Loss 0.5027\n",
      "Iteration 26000: Loss 0.5009\n",
      "Iteration 27000: Loss 0.4993\n",
      "Iteration 28000: Loss 0.4978\n",
      "Iteration 29000: Loss 0.4965\n",
      "Iteration 30000: Loss 0.4952\n",
      "Iteration 31000: Loss 0.4941\n",
      "Iteration 32000: Loss 0.4931\n",
      "Iteration 33000: Loss 0.4921\n",
      "Iteration 34000: Loss 0.4913\n",
      "Iteration 35000: Loss 0.4905\n",
      "Iteration 36000: Loss 0.4898\n",
      "Iteration 37000: Loss 0.4891\n",
      "Iteration 38000: Loss 0.4885\n",
      "Iteration 39000: Loss 0.4880\n",
      "Iteration 40000: Loss 0.4874\n",
      "Iteration 41000: Loss 0.4870\n",
      "Iteration 42000: Loss 0.4865\n",
      "Iteration 43000: Loss 0.4861\n",
      "Iteration 44000: Loss 0.4858\n",
      "Iteration 45000: Loss 0.4854\n",
      "Iteration 46000: Loss 0.4851\n",
      "Iteration 47000: Loss 0.4848\n",
      "Iteration 48000: Loss 0.4846\n",
      "Iteration 49000: Loss 0.4843\n",
      "Iteration 50000: Loss 0.4841\n",
      "Iteration 51000: Loss 0.4839\n",
      "Iteration 52000: Loss 0.4837\n",
      "Iteration 53000: Loss 0.4835\n",
      "Iteration 54000: Loss 0.4834\n",
      "Iteration 55000: Loss 0.4832\n",
      "Iteration 56000: Loss 0.4831\n",
      "Iteration 57000: Loss 0.4829\n",
      "Iteration 58000: Loss 0.4828\n",
      "Iteration 59000: Loss 0.4827\n",
      "Iteration 60000: Loss 0.4826\n",
      "Iteration 61000: Loss 0.4825\n",
      "Iteration 62000: Loss 0.4824\n",
      "Iteration 63000: Loss 0.4823\n",
      "Iteration 64000: Loss 0.4822\n",
      "Iteration 65000: Loss 0.4822\n",
      "Iteration 66000: Loss 0.4821\n",
      "Iteration 67000: Loss 0.4820\n",
      "Iteration 68000: Loss 0.4820\n",
      "Iteration 69000: Loss 0.4819\n",
      "Iteration 70000: Loss 0.4819\n",
      "Iteration 71000: Loss 0.4818\n",
      "Iteration 72000: Loss 0.4818\n",
      "Iteration 73000: Loss 0.4817\n",
      "Iteration 74000: Loss 0.4817\n",
      "Iteration 75000: Loss 0.4817\n",
      "Iteration 76000: Loss 0.4816\n",
      "Iteration 77000: Loss 0.4816\n",
      "Iteration 78000: Loss 0.4816\n",
      "Iteration 79000: Loss 0.4815\n",
      "Iteration 80000: Loss 0.4815\n",
      "Iteration 81000: Loss 0.4815\n",
      "Iteration 82000: Loss 0.4814\n",
      "Iteration 83000: Loss 0.4814\n",
      "Iteration 84000: Loss 0.4814\n",
      "Iteration 85000: Loss 0.4814\n",
      "Iteration 86000: Loss 0.4813\n",
      "Iteration 87000: Loss 0.4813\n",
      "Iteration 88000: Loss 0.4813\n",
      "Iteration 89000: Loss 0.4813\n",
      "Iteration 90000: Loss 0.4813\n",
      "Iteration 91000: Loss 0.4813\n",
      "Iteration 92000: Loss 0.4812\n",
      "Iteration 93000: Loss 0.4812\n",
      "Iteration 94000: Loss 0.4812\n",
      "Iteration 95000: Loss 0.4812\n",
      "Iteration 96000: Loss 0.4812\n",
      "Iteration 97000: Loss 0.4812\n",
      "Iteration 98000: Loss 0.4812\n",
      "Iteration 99000: Loss 0.4812\n",
      "Iteration 100000: Loss 0.4811\n"
     ]
    }
   ],
   "source": [
    "losses = []\n",
    "\n",
    "for i in range(1, 100001):\n",
    "    dW, db = gradient(X_train, W, b, y_train_z)\n",
    "    W -= LEARNING_RATE * dW\n",
    "    b -= LEARNING_RATE * db\n",
    "    L = loss(X_train, W, b, y_train_z)\n",
    "    losses.append(L)\n",
    "    if i % 1000 == 0:\n",
    "        print('Iteration %d: Loss %0.4f'%(i, L))"
   ]
  },
  {
   "cell_type": "code",
   "execution_count": 27,
   "id": "d8e49ede",
   "metadata": {},
   "outputs": [],
   "source": [
    "prediction = model(X_test, W, b)\n",
    "# 정규화 > 원래 값으로 변환\n",
    "prediction = (prediction * y_train.std()) + y_train.mean()"
   ]
  },
  {
   "cell_type": "code",
   "execution_count": 28,
   "id": "11ff38bc",
   "metadata": {},
   "outputs": [],
   "source": [
    "def MSE_z(y, y_pred):\n",
    "    y = (y * y_train.std()) + y_train.mean()\n",
    "    mse = ((y-y_pred)**2).mean()\n",
    "    return mse"
   ]
  },
  {
   "cell_type": "code",
   "execution_count": 29,
   "id": "96846321",
   "metadata": {},
   "outputs": [
    {
     "data": {
      "text/plain": [
       "3108.384705008671"
      ]
     },
     "execution_count": 29,
     "metadata": {},
     "output_type": "execute_result"
    }
   ],
   "source": [
    "mse = MSE_z(y_test_z, prediction)\n",
    "mse"
   ]
  },
  {
   "cell_type": "markdown",
   "id": "3efea3a4",
   "metadata": {},
   "source": [
    "- y값 정규화 수행 후 모델학습 하는 것은 효과가 미미함... mse값 3정도만 감소함"
   ]
  },
  {
   "cell_type": "markdown",
   "id": "7aeaadce",
   "metadata": {},
   "source": [
    "# 3차 시도 - PCA"
   ]
  },
  {
   "cell_type": "code",
   "execution_count": 30,
   "id": "9f61bac2",
   "metadata": {},
   "outputs": [
    {
     "data": {
      "text/plain": [
       "(442, 9)"
      ]
     },
     "execution_count": 30,
     "metadata": {},
     "output_type": "execute_result"
    }
   ],
   "source": [
    "from sklearn.decomposition import PCA\n",
    "\n",
    "pca = PCA(n_components = 9)\n",
    "pca.fit(df_X)\n",
    "df_pca = pca.transform(df_X)\n",
    "df_pca.shape"
   ]
  },
  {
   "cell_type": "code",
   "execution_count": 31,
   "id": "963d421f",
   "metadata": {},
   "outputs": [
    {
     "data": {
      "text/plain": [
       "0.9991439470098975"
      ]
     },
     "execution_count": 31,
     "metadata": {},
     "output_type": "execute_result"
    }
   ],
   "source": [
    "pca.explained_variance_ratio_.sum()"
   ]
  },
  {
   "cell_type": "code",
   "execution_count": 32,
   "id": "e13772ea",
   "metadata": {},
   "outputs": [],
   "source": [
    "X_train, X_test, y_train, y_test = train_test_split(df_pca, y, test_size = 0.3, shuffle = True, random_state = 2024)"
   ]
  },
  {
   "cell_type": "code",
   "execution_count": 33,
   "id": "33f17b90",
   "metadata": {},
   "outputs": [
    {
     "name": "stdout",
     "output_type": "stream",
     "text": [
      "Iteration 1000: Loss 5205.2582\n",
      "Iteration 2000: Loss 4734.0381\n",
      "Iteration 3000: Loss 4382.3910\n",
      "Iteration 4000: Loss 4116.2516\n",
      "Iteration 5000: Loss 3911.7002\n",
      "Iteration 6000: Loss 3751.8915\n",
      "Iteration 7000: Loss 3624.9184\n",
      "Iteration 8000: Loss 3522.3260\n",
      "Iteration 9000: Loss 3438.0770\n",
      "Iteration 10000: Loss 3367.8315\n",
      "Iteration 11000: Loss 3308.4442\n",
      "Iteration 12000: Loss 3257.6140\n",
      "Iteration 13000: Loss 3213.6386\n",
      "Iteration 14000: Loss 3175.2431\n",
      "Iteration 15000: Loss 3141.4590\n",
      "Iteration 16000: Loss 3111.5399\n",
      "Iteration 17000: Loss 3084.9015\n",
      "Iteration 18000: Loss 3061.0787\n",
      "Iteration 19000: Loss 3039.6958\n",
      "Iteration 20000: Loss 3020.4447\n",
      "Iteration 21000: Loss 3003.0688\n",
      "Iteration 22000: Loss 2987.3522\n",
      "Iteration 23000: Loss 2973.1107\n",
      "Iteration 24000: Loss 2960.1857\n",
      "Iteration 25000: Loss 2948.4397\n",
      "Iteration 26000: Loss 2937.7523\n",
      "Iteration 27000: Loss 2928.0178\n",
      "Iteration 28000: Loss 2919.1424\n",
      "Iteration 29000: Loss 2911.0432\n",
      "Iteration 30000: Loss 2903.6462\n",
      "Iteration 31000: Loss 2896.8851\n",
      "Iteration 32000: Loss 2890.7007\n",
      "Iteration 33000: Loss 2885.0398\n",
      "Iteration 34000: Loss 2879.8546\n",
      "Iteration 35000: Loss 2875.1020\n",
      "Iteration 36000: Loss 2870.7430\n",
      "Iteration 37000: Loss 2866.7426\n",
      "Iteration 38000: Loss 2863.0690\n",
      "Iteration 39000: Loss 2859.6936\n",
      "Iteration 40000: Loss 2856.5902\n",
      "Iteration 41000: Loss 2853.7354\n",
      "Iteration 42000: Loss 2851.1076\n",
      "Iteration 43000: Loss 2848.6876\n",
      "Iteration 44000: Loss 2846.4575\n",
      "Iteration 45000: Loss 2844.4014\n",
      "Iteration 46000: Loss 2842.5047\n",
      "Iteration 47000: Loss 2840.7541\n",
      "Iteration 48000: Loss 2839.1373\n",
      "Iteration 49000: Loss 2837.6435\n",
      "Iteration 50000: Loss 2836.2625\n",
      "Iteration 51000: Loss 2834.9851\n",
      "Iteration 52000: Loss 2833.8030\n",
      "Iteration 53000: Loss 2832.7084\n",
      "Iteration 54000: Loss 2831.6944\n",
      "Iteration 55000: Loss 2830.7546\n",
      "Iteration 56000: Loss 2829.8830\n",
      "Iteration 57000: Loss 2829.0743\n",
      "Iteration 58000: Loss 2828.3236\n",
      "Iteration 59000: Loss 2827.6264\n",
      "Iteration 60000: Loss 2826.9785\n",
      "Iteration 61000: Loss 2826.3762\n",
      "Iteration 62000: Loss 2825.8159\n",
      "Iteration 63000: Loss 2825.2945\n",
      "Iteration 64000: Loss 2824.8090\n",
      "Iteration 65000: Loss 2824.3567\n",
      "Iteration 66000: Loss 2823.9352\n",
      "Iteration 67000: Loss 2823.5421\n",
      "Iteration 68000: Loss 2823.1754\n",
      "Iteration 69000: Loss 2822.8331\n",
      "Iteration 70000: Loss 2822.5135\n",
      "Iteration 71000: Loss 2822.2148\n",
      "Iteration 72000: Loss 2821.9357\n",
      "Iteration 73000: Loss 2821.6746\n",
      "Iteration 74000: Loss 2821.4303\n",
      "Iteration 75000: Loss 2821.2017\n",
      "Iteration 76000: Loss 2820.9875\n",
      "Iteration 77000: Loss 2820.7869\n",
      "Iteration 78000: Loss 2820.5988\n",
      "Iteration 79000: Loss 2820.4223\n",
      "Iteration 80000: Loss 2820.2568\n",
      "Iteration 81000: Loss 2820.1014\n",
      "Iteration 82000: Loss 2819.9554\n",
      "Iteration 83000: Loss 2819.8183\n",
      "Iteration 84000: Loss 2819.6894\n",
      "Iteration 85000: Loss 2819.5681\n",
      "Iteration 86000: Loss 2819.4541\n",
      "Iteration 87000: Loss 2819.3467\n",
      "Iteration 88000: Loss 2819.2455\n",
      "Iteration 89000: Loss 2819.1503\n",
      "Iteration 90000: Loss 2819.0605\n",
      "Iteration 91000: Loss 2818.9758\n",
      "Iteration 92000: Loss 2818.8959\n",
      "Iteration 93000: Loss 2818.8204\n",
      "Iteration 94000: Loss 2818.7492\n",
      "Iteration 95000: Loss 2818.6820\n",
      "Iteration 96000: Loss 2818.6184\n",
      "Iteration 97000: Loss 2818.5583\n",
      "Iteration 98000: Loss 2818.5015\n",
      "Iteration 99000: Loss 2818.4477\n",
      "Iteration 100000: Loss 2818.3967\n"
     ]
    }
   ],
   "source": [
    "y_train = y_train.reshape(-1)\n",
    "y_test = y_test.reshape(-1)\n",
    "\n",
    "W = np.random.rand(X_train.shape[1])\n",
    "b = np.random.rand()\n",
    "\n",
    "losses = []\n",
    "\n",
    "for i in range(1, 100001):\n",
    "    dW, db = gradient(X_train, W, b, y_train)\n",
    "    W -= LEARNING_RATE * dW\n",
    "    b -= LEARNING_RATE * db\n",
    "    L = loss(X_train, W, b, y_train)\n",
    "    losses.append(L)\n",
    "    if i % 1000 == 0:\n",
    "        print('Iteration %d: Loss %0.4f'%(i, L))"
   ]
  },
  {
   "cell_type": "code",
   "execution_count": 34,
   "id": "3d173df4",
   "metadata": {},
   "outputs": [
    {
     "data": {
      "text/plain": [
       "3109.489436824413"
      ]
     },
     "execution_count": 34,
     "metadata": {},
     "output_type": "execute_result"
    }
   ],
   "source": [
    "prediction = model(X_test, W, b)\n",
    "mse = loss(X_test, W, b, y_test)\n",
    "mse"
   ]
  },
  {
   "cell_type": "code",
   "execution_count": 35,
   "id": "53bdf6d4",
   "metadata": {},
   "outputs": [
    {
     "name": "stdout",
     "output_type": "stream",
     "text": [
      "When n_components = 1, explained_variance_ratio = 0.4024214175678733\n",
      "When n_components = 2, explained_variance_ratio = 0.5516532410893153\n",
      "When n_components = 3, explained_variance_ratio = 0.6722494722420754\n",
      "When n_components = 4, explained_variance_ratio = 0.7677971110209649\n",
      "When n_components = 5, explained_variance_ratio = 0.8340156689459763\n",
      "When n_components = 6, explained_variance_ratio = 0.8942875900367641\n",
      "When n_components = 7, explained_variance_ratio = 0.9479436357350411\n",
      "When n_components = 8, explained_variance_ratio = 0.9913119559917795\n",
      "When n_components = 9, explained_variance_ratio = 0.9991439470098975\n"
     ]
    }
   ],
   "source": [
    "mse_list = []\n",
    "\n",
    "for i in range(9):\n",
    "    pca = PCA(n_components = i+1)\n",
    "    pca.fit(df_X)\n",
    "    df_pca = pca.transform(df_X)\n",
    "    \n",
    "    print(f\"When n_components = {i+1}, explained_variance_ratio = {pca.explained_variance_ratio_.sum()}\")\n",
    "    \n",
    "    X_train, X_test, y_train, y_test = train_test_split(df_pca, y, test_size = 0.3, shuffle = True, random_state = 2024)\n",
    "    \n",
    "    y_train = y_train.reshape(-1)\n",
    "    y_test = y_test.reshape(-1)\n",
    "\n",
    "    W = np.random.rand(X_train.shape[1])\n",
    "    b = np.random.rand()\n",
    "\n",
    "    losses = []\n",
    "\n",
    "    for i in range(1, 100001):\n",
    "        dW, db = gradient(X_train, W, b, y_train)\n",
    "        W -= LEARNING_RATE * dW\n",
    "        b -= LEARNING_RATE * db\n",
    "        L = loss(X_train, W, b, y_train)\n",
    "        losses.append(L)\n",
    "        #if i % 1000 == 0:\n",
    "            #print('Iteration %d: Loss %0.4f'%(i, L))\n",
    "    \n",
    "    mse = loss(X_test, W, b, y_test)\n",
    "    mse_list.append(mse)"
   ]
  },
  {
   "cell_type": "code",
   "execution_count": 36,
   "id": "c0d66840",
   "metadata": {},
   "outputs": [
    {
     "data": {
      "image/png": "[encoded data removed]",
      "text/plain": [
       "<Figure size 432x288 with 1 Axes>"
      ]
     },
     "metadata": {
      "needs_background": "light"
     },
     "output_type": "display_data"
    }
   ],
   "source": [
    "plt.plot([x for x in range(1, 10, 1)], mse_list)\n",
    "plt.show()"
   ]
  },
  {
   "cell_type": "code",
   "execution_count": 37,
   "id": "9f527f3b",
   "metadata": {},
   "outputs": [
    {
     "data": {
      "text/plain": [
       "3109.4782470490086"
      ]
     },
     "execution_count": 37,
     "metadata": {},
     "output_type": "execute_result"
    }
   ],
   "source": [
    "min(mse_list)"
   ]
  },
  {
   "cell_type": "markdown",
   "id": "8feac3b8",
   "metadata": {},
   "source": [
    "- PCA 수행하니 오히려 기본 모델보다 mse 값 올라감.."
   ]
  },
  {
   "cell_type": "markdown",
   "id": "782f031a",
   "metadata": {},
   "source": [
    "# 4차 시도 - 상관계수 낮은 SEX 값 없애고 모델학습 수행"
   ]
  },
  {
   "cell_type": "code",
   "execution_count": 38,
   "id": "0f505fb5",
   "metadata": {
    "scrolled": true
   },
   "outputs": [],
   "source": [
    "df_X4 = df_X.drop('sex', axis = 1)"
   ]
  },
  {
   "cell_type": "code",
   "execution_count": 44,
   "id": "51d29ffa",
   "metadata": {},
   "outputs": [],
   "source": [
    "X_train, X_test, y_train, y_test = train_test_split(df_X4, y, test_size = 0.3, shuffle = True, random_state = 2024)\n",
    "y_train = y_train.reshape(-1)\n",
    "y_test = y_test.reshape(-1)\n",
    "X_train = X_train.values\n",
    "X_test = X_test.values"
   ]
  },
  {
   "cell_type": "code",
   "execution_count": 43,
   "id": "73aa62ae",
   "metadata": {},
   "outputs": [
    {
     "data": {
      "text/plain": [
       "((309,), (133,))"
      ]
     },
     "execution_count": 43,
     "metadata": {},
     "output_type": "execute_result"
    }
   ],
   "source": [
    "y_train.shape, y_test.shape"
   ]
  },
  {
   "cell_type": "code",
   "execution_count": 45,
   "id": "5e9cc6e4",
   "metadata": {},
   "outputs": [
    {
     "name": "stdout",
     "output_type": "stream",
     "text": [
      "Iteration 1000: Loss 5208.9235\n",
      "Iteration 2000: Loss 4736.2728\n",
      "Iteration 3000: Loss 4383.5143\n",
      "Iteration 4000: Loss 4117.2803\n",
      "Iteration 5000: Loss 3913.8648\n",
      "Iteration 6000: Loss 3756.3791\n",
      "Iteration 7000: Loss 3632.7502\n",
      "Iteration 8000: Loss 3534.3120\n",
      "Iteration 9000: Loss 3454.8135\n",
      "Iteration 10000: Loss 3389.7196\n",
      "Iteration 11000: Loss 3335.7173\n",
      "Iteration 12000: Loss 3290.3677\n",
      "Iteration 13000: Loss 3251.8589\n",
      "Iteration 14000: Loss 3218.8314\n",
      "Iteration 15000: Loss 3190.2538\n",
      "Iteration 16000: Loss 3165.3342\n",
      "Iteration 17000: Loss 3143.4573\n",
      "Iteration 18000: Loss 3124.1384\n",
      "Iteration 19000: Loss 3106.9910\n",
      "Iteration 20000: Loss 3091.7030\n",
      "Iteration 21000: Loss 3078.0192\n",
      "Iteration 22000: Loss 3065.7289\n",
      "Iteration 23000: Loss 3054.6556\n",
      "Iteration 24000: Loss 3044.6511\n",
      "Iteration 25000: Loss 3035.5888\n",
      "Iteration 26000: Loss 3027.3607\n",
      "Iteration 27000: Loss 3019.8736\n",
      "Iteration 28000: Loss 3013.0465\n",
      "Iteration 29000: Loss 3006.8092\n",
      "Iteration 30000: Loss 3001.0999\n",
      "Iteration 31000: Loss 2995.8648\n",
      "Iteration 32000: Loss 2991.0562\n",
      "Iteration 33000: Loss 2986.6320\n",
      "Iteration 34000: Loss 2982.5551\n",
      "Iteration 35000: Loss 2978.7924\n",
      "Iteration 36000: Loss 2975.3145\n",
      "Iteration 37000: Loss 2972.0954\n",
      "Iteration 38000: Loss 2969.1115\n",
      "Iteration 39000: Loss 2966.3421\n",
      "Iteration 40000: Loss 2963.7684\n",
      "Iteration 41000: Loss 2961.3736\n",
      "Iteration 42000: Loss 2959.1426\n",
      "Iteration 43000: Loss 2957.0619\n",
      "Iteration 44000: Loss 2955.1191\n",
      "Iteration 45000: Loss 2953.3033\n",
      "Iteration 46000: Loss 2951.6043\n",
      "Iteration 47000: Loss 2950.0132\n",
      "Iteration 48000: Loss 2948.5217\n",
      "Iteration 49000: Loss 2947.1223\n",
      "Iteration 50000: Loss 2945.8083\n",
      "Iteration 51000: Loss 2944.5733\n",
      "Iteration 52000: Loss 2943.4118\n",
      "Iteration 53000: Loss 2942.3186\n",
      "Iteration 54000: Loss 2941.2889\n",
      "Iteration 55000: Loss 2940.3183\n",
      "Iteration 56000: Loss 2939.4030\n",
      "Iteration 57000: Loss 2938.5391\n",
      "Iteration 58000: Loss 2937.7234\n",
      "Iteration 59000: Loss 2936.9526\n",
      "Iteration 60000: Loss 2936.2240\n",
      "Iteration 61000: Loss 2935.5348\n",
      "Iteration 62000: Loss 2934.8826\n",
      "Iteration 63000: Loss 2934.2651\n",
      "Iteration 64000: Loss 2933.6802\n",
      "Iteration 65000: Loss 2933.1259\n",
      "Iteration 66000: Loss 2932.6004\n",
      "Iteration 67000: Loss 2932.1019\n",
      "Iteration 68000: Loss 2931.6289\n",
      "Iteration 69000: Loss 2931.1799\n",
      "Iteration 70000: Loss 2930.7536\n",
      "Iteration 71000: Loss 2930.3485\n",
      "Iteration 72000: Loss 2929.9635\n",
      "Iteration 73000: Loss 2929.5976\n",
      "Iteration 74000: Loss 2929.2495\n",
      "Iteration 75000: Loss 2928.9183\n",
      "Iteration 76000: Loss 2928.6031\n",
      "Iteration 77000: Loss 2928.3031\n",
      "Iteration 78000: Loss 2928.0173\n",
      "Iteration 79000: Loss 2927.7450\n",
      "Iteration 80000: Loss 2927.4855\n",
      "Iteration 81000: Loss 2927.2381\n",
      "Iteration 82000: Loss 2927.0022\n",
      "Iteration 83000: Loss 2926.7771\n",
      "Iteration 84000: Loss 2926.5623\n",
      "Iteration 85000: Loss 2926.3572\n",
      "Iteration 86000: Loss 2926.1614\n",
      "Iteration 87000: Loss 2925.9743\n",
      "Iteration 88000: Loss 2925.7954\n",
      "Iteration 89000: Loss 2925.6245\n",
      "Iteration 90000: Loss 2925.4610\n",
      "Iteration 91000: Loss 2925.3046\n",
      "Iteration 92000: Loss 2925.1549\n",
      "Iteration 93000: Loss 2925.0116\n",
      "Iteration 94000: Loss 2924.8743\n",
      "Iteration 95000: Loss 2924.7428\n",
      "Iteration 96000: Loss 2924.6167\n",
      "Iteration 97000: Loss 2924.4958\n",
      "Iteration 98000: Loss 2924.3798\n",
      "Iteration 99000: Loss 2924.2685\n",
      "Iteration 100000: Loss 2924.1617\n"
     ]
    }
   ],
   "source": [
    "W = np.random.rand(9)\n",
    "b = np.random.rand()\n",
    "\n",
    "losses = []\n",
    "\n",
    "for i in range(1, 100001):\n",
    "    dW, db = gradient(X_train, W, b, y_train)\n",
    "    W -= LEARNING_RATE * dW\n",
    "    b -= LEARNING_RATE * db\n",
    "    L = loss(X_train, W, b, y_train)\n",
    "    losses.append(L)\n",
    "    if i % 1000 == 0:\n",
    "        print('Iteration %d: Loss %0.4f'%(i, L))"
   ]
  },
  {
   "cell_type": "code",
   "execution_count": 46,
   "id": "7dfe0178",
   "metadata": {},
   "outputs": [
    {
     "data": {
      "text/plain": [
       "3195.6178913155504"
      ]
     },
     "execution_count": 46,
     "metadata": {},
     "output_type": "execute_result"
    }
   ],
   "source": [
    "mse = loss(X_test, W, b, y_test)\n",
    "mse"
   ]
  },
  {
   "cell_type": "markdown",
   "id": "323b0862",
   "metadata": {},
   "source": [
    "# 5차 시도 - 상관계수 높은 s1, s3 삭제 후 모델링 "
   ]
  },
  {
   "cell_type": "code",
   "execution_count": 51,
   "id": "85b841f1",
   "metadata": {},
   "outputs": [],
   "source": [
    "df_X5 = df_X.drop(['s1', 's3'], axis = 1)\n",
    "\n",
    "X_train, X_test, y_train, y_test = train_test_split(df_X5, y, test_size = 0.3, shuffle = True, random_state = 2024)\n",
    "y_train = y_train.reshape(-1)\n",
    "y_test = y_test.reshape(-1)\n",
    "X_train = X_train.values\n",
    "X_test = X_test.values"
   ]
  },
  {
   "cell_type": "code",
   "execution_count": 53,
   "id": "bf407487",
   "metadata": {},
   "outputs": [
    {
     "name": "stdout",
     "output_type": "stream",
     "text": [
      "Iteration 1000: Loss 5278.7424\n",
      "Iteration 2000: Loss 4840.8250\n",
      "Iteration 3000: Loss 4501.3016\n",
      "Iteration 4000: Loss 4236.0312\n",
      "Iteration 5000: Loss 4026.9825\n",
      "Iteration 6000: Loss 3860.6718\n",
      "Iteration 7000: Loss 3727.0011\n",
      "Iteration 8000: Loss 3618.3942\n",
      "Iteration 9000: Loss 3529.1552\n",
      "Iteration 10000: Loss 3454.9902\n",
      "Iteration 11000: Loss 3392.6527\n",
      "Iteration 12000: Loss 3339.6785\n",
      "Iteration 13000: Loss 3294.1894\n",
      "Iteration 14000: Loss 3254.7464\n",
      "Iteration 15000: Loss 3220.2406\n",
      "Iteration 16000: Loss 3189.8113\n",
      "Iteration 17000: Loss 3162.7859\n",
      "Iteration 18000: Loss 3138.6338\n",
      "Iteration 19000: Loss 3116.9326\n",
      "Iteration 20000: Loss 3097.3429\n",
      "Iteration 21000: Loss 3079.5889\n",
      "Iteration 22000: Loss 3063.4439\n",
      "Iteration 23000: Loss 3048.7198\n",
      "Iteration 24000: Loss 3035.2586\n",
      "Iteration 25000: Loss 3022.9263\n",
      "Iteration 26000: Loss 3011.6079\n",
      "Iteration 27000: Loss 3001.2041\n",
      "Iteration 28000: Loss 2991.6282\n",
      "Iteration 29000: Loss 2982.8040\n",
      "Iteration 30000: Loss 2974.6640\n",
      "Iteration 31000: Loss 2967.1481\n",
      "Iteration 32000: Loss 2960.2028\n",
      "Iteration 33000: Loss 2953.7795\n",
      "Iteration 34000: Loss 2947.8348\n",
      "Iteration 35000: Loss 2942.3293\n",
      "Iteration 36000: Loss 2937.2271\n",
      "Iteration 37000: Loss 2932.4957\n",
      "Iteration 38000: Loss 2928.1055\n",
      "Iteration 39000: Loss 2924.0293\n",
      "Iteration 40000: Loss 2920.2425\n",
      "Iteration 41000: Loss 2916.7224\n",
      "Iteration 42000: Loss 2913.4482\n",
      "Iteration 43000: Loss 2910.4010\n",
      "Iteration 44000: Loss 2907.5633\n",
      "Iteration 45000: Loss 2904.9191\n",
      "Iteration 46000: Loss 2902.4538\n",
      "Iteration 47000: Loss 2900.1537\n",
      "Iteration 48000: Loss 2898.0065\n",
      "Iteration 49000: Loss 2896.0008\n",
      "Iteration 50000: Loss 2894.1261\n",
      "Iteration 51000: Loss 2892.3726\n",
      "Iteration 52000: Loss 2890.7315\n",
      "Iteration 53000: Loss 2889.1945\n",
      "Iteration 54000: Loss 2887.7541\n",
      "Iteration 55000: Loss 2886.4034\n",
      "Iteration 56000: Loss 2885.1358\n",
      "Iteration 57000: Loss 2883.9455\n",
      "Iteration 58000: Loss 2882.8270\n",
      "Iteration 59000: Loss 2881.7753\n",
      "Iteration 60000: Loss 2880.7856\n",
      "Iteration 61000: Loss 2879.8536\n",
      "Iteration 62000: Loss 2878.9755\n",
      "Iteration 63000: Loss 2878.1474\n",
      "Iteration 64000: Loss 2877.3661\n",
      "Iteration 65000: Loss 2876.6283\n",
      "Iteration 66000: Loss 2875.9311\n",
      "Iteration 67000: Loss 2875.2718\n",
      "Iteration 68000: Loss 2874.6480\n",
      "Iteration 69000: Loss 2874.0573\n",
      "Iteration 70000: Loss 2873.4975\n",
      "Iteration 71000: Loss 2872.9667\n",
      "Iteration 72000: Loss 2872.4631\n",
      "Iteration 73000: Loss 2871.9849\n",
      "Iteration 74000: Loss 2871.5305\n",
      "Iteration 75000: Loss 2871.0985\n",
      "Iteration 76000: Loss 2870.6874\n",
      "Iteration 77000: Loss 2870.2960\n",
      "Iteration 78000: Loss 2869.9231\n",
      "Iteration 79000: Loss 2869.5677\n",
      "Iteration 80000: Loss 2869.2286\n",
      "Iteration 81000: Loss 2868.9049\n",
      "Iteration 82000: Loss 2868.5957\n",
      "Iteration 83000: Loss 2868.3003\n",
      "Iteration 84000: Loss 2868.0177\n",
      "Iteration 85000: Loss 2867.7473\n",
      "Iteration 86000: Loss 2867.4884\n",
      "Iteration 87000: Loss 2867.2404\n",
      "Iteration 88000: Loss 2867.0026\n",
      "Iteration 89000: Loss 2866.7746\n",
      "Iteration 90000: Loss 2866.5558\n",
      "Iteration 91000: Loss 2866.3457\n",
      "Iteration 92000: Loss 2866.1438\n",
      "Iteration 93000: Loss 2865.9498\n",
      "Iteration 94000: Loss 2865.7633\n",
      "Iteration 95000: Loss 2865.5838\n",
      "Iteration 96000: Loss 2865.4110\n",
      "Iteration 97000: Loss 2865.2446\n",
      "Iteration 98000: Loss 2865.0842\n",
      "Iteration 99000: Loss 2864.9296\n",
      "Iteration 100000: Loss 2864.7806\n"
     ]
    }
   ],
   "source": [
    "W = np.random.rand(8)\n",
    "b = np.random.rand()\n",
    "\n",
    "losses = []\n",
    "\n",
    "for i in range(1, 100001):\n",
    "    dW, db = gradient(X_train, W, b, y_train)\n",
    "    W -= LEARNING_RATE * dW\n",
    "    b -= LEARNING_RATE * db\n",
    "    L = loss(X_train, W, b, y_train)\n",
    "    losses.append(L)\n",
    "    if i % 1000 == 0:\n",
    "        print('Iteration %d: Loss %0.4f'%(i, L))"
   ]
  },
  {
   "cell_type": "code",
   "execution_count": 54,
   "id": "b43cf6d9",
   "metadata": {},
   "outputs": [
    {
     "data": {
      "text/plain": [
       "3140.639905375354"
      ]
     },
     "execution_count": 54,
     "metadata": {},
     "output_type": "execute_result"
    }
   ],
   "source": [
    "mse = loss(X_test, W, b, y_test)\n",
    "mse"
   ]
  },
  {
   "cell_type": "markdown",
   "id": "233e6d4c",
   "metadata": {},
   "source": [
    "# 6차 시도 - Polynomial Features"
   ]
  },
  {
   "cell_type": "code",
   "execution_count": 56,
   "id": "90967bb1",
   "metadata": {},
   "outputs": [],
   "source": [
    "from sklearn.preprocessing import PolynomialFeatures\n",
    "\n",
    "poly = PolynomialFeatures(degree=2, interaction_only=True)\n",
    "X_interact = poly.fit_transform(df_X)"
   ]
  },
  {
   "cell_type": "code",
   "execution_count": 58,
   "id": "c54172a8",
   "metadata": {},
   "outputs": [],
   "source": [
    "X_train, X_test, y_train, y_test = train_test_split(X_interact, y, test_size = 0.3, shuffle = True, random_state = 2024)\n",
    "y_train = y_train.reshape(-1)\n",
    "y_test = y_test.reshape(-1)"
   ]
  },
  {
   "cell_type": "code",
   "execution_count": 59,
   "id": "6c8f4512",
   "metadata": {},
   "outputs": [
    {
     "data": {
      "text/plain": [
       "(309, 56)"
      ]
     },
     "execution_count": 59,
     "metadata": {},
     "output_type": "execute_result"
    }
   ],
   "source": [
    "X_train.shape"
   ]
  },
  {
   "cell_type": "code",
   "execution_count": 60,
   "id": "6030aeba",
   "metadata": {},
   "outputs": [
    {
     "name": "stdout",
     "output_type": "stream",
     "text": [
      "Iteration 1000: Loss 5201.8770\n",
      "Iteration 2000: Loss 4731.2674\n",
      "Iteration 3000: Loss 4380.0226\n",
      "Iteration 4000: Loss 4114.1361\n",
      "Iteration 5000: Loss 3909.7311\n",
      "Iteration 6000: Loss 3749.9930\n",
      "Iteration 7000: Loss 3623.0366\n",
      "Iteration 8000: Loss 3520.4230\n",
      "Iteration 9000: Loss 3436.1261\n",
      "Iteration 10000: Loss 3365.8140\n",
      "Iteration 11000: Loss 3306.3469\n",
      "Iteration 12000: Loss 3255.4278\n",
      "Iteration 13000: Loss 3211.3572\n",
      "Iteration 14000: Loss 3172.8618\n",
      "Iteration 15000: Loss 3138.9748\n",
      "Iteration 16000: Loss 3108.9506\n",
      "Iteration 17000: Loss 3082.2053\n",
      "Iteration 18000: Loss 3058.2744\n",
      "Iteration 19000: Loss 3036.7825\n",
      "Iteration 20000: Loss 3017.4216\n",
      "Iteration 21000: Loss 2999.9352\n",
      "Iteration 22000: Loss 2984.1075\n",
      "Iteration 23000: Loss 2969.7543\n",
      "Iteration 24000: Loss 2956.7171\n",
      "Iteration 25000: Loss 2944.8584\n",
      "Iteration 26000: Loss 2934.0578\n",
      "Iteration 27000: Loss 2924.2096\n",
      "Iteration 28000: Loss 2915.2202\n",
      "Iteration 29000: Loss 2907.0065\n",
      "Iteration 30000: Loss 2899.4944\n",
      "Iteration 31000: Loss 2892.6180\n",
      "Iteration 32000: Loss 2886.3179\n",
      "Iteration 33000: Loss 2880.5409\n",
      "Iteration 34000: Loss 2875.2392\n",
      "Iteration 35000: Loss 2870.3697\n",
      "Iteration 36000: Loss 2865.8936\n",
      "Iteration 37000: Loss 2861.7757\n",
      "Iteration 38000: Loss 2857.9844\n",
      "Iteration 39000: Loss 2854.4909\n",
      "Iteration 40000: Loss 2851.2693\n",
      "Iteration 41000: Loss 2848.2960\n",
      "Iteration 42000: Loss 2845.5495\n",
      "Iteration 43000: Loss 2843.0105\n",
      "Iteration 44000: Loss 2840.6613\n",
      "Iteration 45000: Loss 2838.4859\n",
      "Iteration 46000: Loss 2836.4697\n",
      "Iteration 47000: Loss 2834.5995\n",
      "Iteration 48000: Loss 2832.8630\n",
      "Iteration 49000: Loss 2831.2493\n",
      "Iteration 50000: Loss 2829.7483\n",
      "Iteration 51000: Loss 2828.3508\n",
      "Iteration 52000: Loss 2827.0485\n",
      "Iteration 53000: Loss 2825.8336\n",
      "Iteration 54000: Loss 2824.6993\n",
      "Iteration 55000: Loss 2823.6390\n",
      "Iteration 56000: Loss 2822.6469\n",
      "Iteration 57000: Loss 2821.7177\n",
      "Iteration 58000: Loss 2820.8464\n",
      "Iteration 59000: Loss 2820.0285\n",
      "Iteration 60000: Loss 2819.2600\n",
      "Iteration 61000: Loss 2818.5370\n",
      "Iteration 62000: Loss 2817.8560\n",
      "Iteration 63000: Loss 2817.2138\n",
      "Iteration 64000: Loss 2816.6076\n",
      "Iteration 65000: Loss 2816.0346\n",
      "Iteration 66000: Loss 2815.4923\n",
      "Iteration 67000: Loss 2814.9785\n",
      "Iteration 68000: Loss 2814.4910\n",
      "Iteration 69000: Loss 2814.0280\n",
      "Iteration 70000: Loss 2813.5876\n",
      "Iteration 71000: Loss 2813.1683\n",
      "Iteration 72000: Loss 2812.7684\n",
      "Iteration 73000: Loss 2812.3867\n",
      "Iteration 74000: Loss 2812.0218\n",
      "Iteration 75000: Loss 2811.6725\n",
      "Iteration 76000: Loss 2811.3377\n",
      "Iteration 77000: Loss 2811.0165\n",
      "Iteration 78000: Loss 2810.7079\n",
      "Iteration 79000: Loss 2810.4110\n",
      "Iteration 80000: Loss 2810.1249\n",
      "Iteration 81000: Loss 2809.8491\n",
      "Iteration 82000: Loss 2809.5828\n",
      "Iteration 83000: Loss 2809.3253\n",
      "Iteration 84000: Loss 2809.0761\n",
      "Iteration 85000: Loss 2808.8346\n",
      "Iteration 86000: Loss 2808.6003\n",
      "Iteration 87000: Loss 2808.3727\n",
      "Iteration 88000: Loss 2808.1515\n",
      "Iteration 89000: Loss 2807.9361\n",
      "Iteration 90000: Loss 2807.7263\n",
      "Iteration 91000: Loss 2807.5216\n",
      "Iteration 92000: Loss 2807.3218\n",
      "Iteration 93000: Loss 2807.1265\n",
      "Iteration 94000: Loss 2806.9355\n",
      "Iteration 95000: Loss 2806.7484\n",
      "Iteration 96000: Loss 2806.5651\n",
      "Iteration 97000: Loss 2806.3854\n",
      "Iteration 98000: Loss 2806.2089\n",
      "Iteration 99000: Loss 2806.0356\n",
      "Iteration 100000: Loss 2805.8652\n"
     ]
    }
   ],
   "source": [
    "W = np.random.rand(56)\n",
    "b = np.random.rand()\n",
    "\n",
    "losses = []\n",
    "\n",
    "for i in range(1, 100001):\n",
    "    dW, db = gradient(X_train, W, b, y_train)\n",
    "    W -= LEARNING_RATE * dW\n",
    "    b -= LEARNING_RATE * db\n",
    "    L = loss(X_train, W, b, y_train)\n",
    "    losses.append(L)\n",
    "    if i % 1000 == 0:\n",
    "        print('Iteration %d: Loss %0.4f'%(i, L))"
   ]
  },
  {
   "cell_type": "code",
   "execution_count": 61,
   "id": "88166977",
   "metadata": {},
   "outputs": [
    {
     "data": {
      "text/plain": [
       "3099.2596541039684"
      ]
     },
     "execution_count": 61,
     "metadata": {},
     "output_type": "execute_result"
    }
   ],
   "source": [
    "mse = loss(X_test, W, b, y_test)\n",
    "mse"
   ]
  },
  {
   "cell_type": "code",
   "execution_count": 62,
   "id": "71dea674",
   "metadata": {},
   "outputs": [
    {
     "data": {
      "image/png": "[encoded data removed]",
      "text/plain": [
       "<Figure size 432x288 with 1 Axes>"
      ]
     },
     "metadata": {
      "needs_background": "light"
     },
     "output_type": "display_data"
    }
   ],
   "source": [
    "plt.plot(losses)\n",
    "plt.show()"
   ]
  },
  {
   "cell_type": "code",
   "execution_count": 63,
   "id": "e56d6c77",
   "metadata": {},
   "outputs": [
    {
     "data": {
      "image/png": "[encoded data removed]",
      "text/plain": [
       "<Figure size 432x288 with 1 Axes>"
      ]
     },
     "metadata": {
      "needs_background": "light"
     },
     "output_type": "display_data"
    }
   ],
   "source": [
    "prediction = model(X_test, W, b)\n",
    "\n",
    "plt.scatter(X_test[:, 0], y_test).set_label('y_true')\n",
    "plt.scatter(X_test[:, 0], prediction).set_label('y_pred')\n",
    "plt.legend()\n",
    "plt.show()"
   ]
  },
  {
   "cell_type": "code",
   "execution_count": null,
   "id": "674a39ce",
   "metadata": {},
   "outputs": [],
   "source": []
  }
 ],
 "metadata": {
  "kernelspec": {
   "display_name": "Python 3 (ipykernel)",
   "language": "python",
   "name": "python3"
  },
  "language_info": {
   "codemirror_mode": {
    "name": "ipython",
    "version": 3
   },
   "file_extension": ".py",
   "mimetype": "text/x-python",
   "name": "python",
   "nbconvert_exporter": "python",
   "pygments_lexer": "ipython3",
   "version": "3.9.7"
  }
 },
 "nbformat": 4,
 "nbformat_minor": 5
}
