{
 "cells": [
  {
   "cell_type": "code",
   "execution_count": 1,
   "id": "1171c44b",
   "metadata": {},
   "outputs": [
    {
     "name": "stdout",
     "output_type": "stream",
     "text": [
      "1.3.3\n",
      "0.5.2\n",
      "4.1.2\n"
     ]
    }
   ],
   "source": [
    "# 라이브러리 버전 확인\n",
    "import pandas\n",
    "import konlpy\n",
    "import gensim\n",
    "\n",
    "print(pandas.__version__)\n",
    "print(konlpy.__version__)\n",
    "print(gensim.__version__)"
   ]
  },
  {
   "cell_type": "markdown",
   "id": "7d816e46",
   "metadata": {},
   "source": [
    "# 1) 데이터 준비와 확인"
   ]
  },
  {
   "cell_type": "code",
   "execution_count": 2,
   "id": "0f07b641",
   "metadata": {},
   "outputs": [
    {
     "data": {
      "text/html": [
       "<div>\n",
       "<style scoped>\n",
       "    .dataframe tbody tr th:only-of-type {\n",
       "        vertical-align: middle;\n",
       "    }\n",
       "\n",
       "    .dataframe tbody tr th {\n",
       "        vertical-align: top;\n",
       "    }\n",
       "\n",
       "    .dataframe thead th {\n",
       "        text-align: right;\n",
       "    }\n",
       "</style>\n",
       "<table border=\"1\" class=\"dataframe\">\n",
       "  <thead>\n",
       "    <tr style=\"text-align: right;\">\n",
       "      <th></th>\n",
       "      <th>id</th>\n",
       "      <th>document</th>\n",
       "      <th>label</th>\n",
       "    </tr>\n",
       "  </thead>\n",
       "  <tbody>\n",
       "    <tr>\n",
       "      <th>0</th>\n",
       "      <td>9976970</td>\n",
       "      <td>아 더빙.. 진짜 짜증나네요 목소리</td>\n",
       "      <td>0</td>\n",
       "    </tr>\n",
       "    <tr>\n",
       "      <th>1</th>\n",
       "      <td>3819312</td>\n",
       "      <td>흠...포스터보고 초딩영화줄....오버연기조차 가볍지 않구나</td>\n",
       "      <td>1</td>\n",
       "    </tr>\n",
       "    <tr>\n",
       "      <th>2</th>\n",
       "      <td>10265843</td>\n",
       "      <td>너무재밓었다그래서보는것을추천한다</td>\n",
       "      <td>0</td>\n",
       "    </tr>\n",
       "    <tr>\n",
       "      <th>3</th>\n",
       "      <td>9045019</td>\n",
       "      <td>교도소 이야기구먼 ..솔직히 재미는 없다..평점 조정</td>\n",
       "      <td>0</td>\n",
       "    </tr>\n",
       "    <tr>\n",
       "      <th>4</th>\n",
       "      <td>6483659</td>\n",
       "      <td>사이몬페그의 익살스런 연기가 돋보였던 영화!스파이더맨에서 늙어보이기만 했던 커스틴 ...</td>\n",
       "      <td>1</td>\n",
       "    </tr>\n",
       "  </tbody>\n",
       "</table>\n",
       "</div>"
      ],
      "text/plain": [
       "         id                                           document  label\n",
       "0   9976970                                아 더빙.. 진짜 짜증나네요 목소리      0\n",
       "1   3819312                  흠...포스터보고 초딩영화줄....오버연기조차 가볍지 않구나      1\n",
       "2  10265843                                  너무재밓었다그래서보는것을추천한다      0\n",
       "3   9045019                      교도소 이야기구먼 ..솔직히 재미는 없다..평점 조정      0\n",
       "4   6483659  사이몬페그의 익살스런 연기가 돋보였던 영화!스파이더맨에서 늙어보이기만 했던 커스틴 ...      1"
      ]
     },
     "execution_count": 2,
     "metadata": {},
     "output_type": "execute_result"
    }
   ],
   "source": [
    "# 데이터 준비와 확인\n",
    "import pandas as pd\n",
    "\n",
    "train_data = pd.read_table(\"~/aiffel/sentiment_classification/data/ratings_train.txt\")\n",
    "test_data = pd.read_table(\"~/aiffel/sentiment_classification/data/ratings_test.txt\")\n",
    "\n",
    "train_data.head()"
   ]
  },
  {
   "cell_type": "markdown",
   "id": "cc1dc79b",
   "metadata": {},
   "source": [
    "# 2) 데이터로더 구성\n",
    "- 데이터의 중복 제거\n",
    "- NaN 결측치 제거\n",
    "- 한국어 토크나이저로 토큰화\n",
    "- 불용어(Stopwords) 제거\n",
    "- 사전 word_to_index 구성\n",
    "- 텍스트 스트링을 사전 인덱스 스트링으로 변환\n",
    "- X_train, y_train, X_test, y_test, word_to_index 리턴 "
   ]
  },
  {
   "cell_type": "code",
   "execution_count": 3,
   "id": "af120afb",
   "metadata": {},
   "outputs": [],
   "source": [
    "from konlpy.tag import Mecab\n",
    "import numpy as np\n",
    "from collections import Counter\n",
    "\n",
    "tokenizer = Mecab()\n",
    "stopwords = ['의','가','이','은','들','는','좀','잘','걍','과','도','를','으로','자','에','와','한','하다']\n",
    "\n",
    "def load_data(train_data, test_data, num_words):\n",
    "    \n",
    "    # 중복 데이터 제거\n",
    "    train_data.drop_duplicates(subset = ['document'], inplace = True)\n",
    "    test_data.drop_duplicates(subset = ['document'], inplace = True)\n",
    "    \n",
    "    # NaN 결측치 제거\n",
    "    train_data.dropna(axis = 0, how = 'any', inplace = True)\n",
    "    test_data.dropna(axis = 0, how = 'any', inplace = True)\n",
    "    \n",
    "    # 한국어 토크나이저로 토큰화 수행\n",
    "    X_train = []\n",
    "    for sentence in train_data['document']:\n",
    "        temp_X = tokenizer.morphs(sentence)\n",
    "        temp_X = [word for word in temp_X if not word in stopwords] # 불용어 제거\n",
    "        X_train.append(temp_X)\n",
    "    \n",
    "    X_test = []\n",
    "    for sentence in test_data['document']:\n",
    "        temp_X = tokenizer.morphs(sentence)\n",
    "        temp_X = [word for word in temp_X if not word in stopwords]\n",
    "        X_test.append(temp_X)\n",
    "    \n",
    "    # 사전 word_to_index 구성\n",
    "    words = np.concatenate(X_train).tolist()\n",
    "    counter = Counter(words)\n",
    "    counter = counter.most_common(10000-4)\n",
    "    vocab = [\"<PAD>\", \"<BOS>\", \"<UNK>\", \"<UNUSED>\"] + [key for key, _ in counter]\n",
    "    word_to_index = {word:index for index, word in enumerate(vocab)}\n",
    "    \n",
    "    def wordlist_to_indexlist(wordlist):\n",
    "        return [word_to_index[word] if word in word_to_index else word_to_index['<UNK>'] for word in wordlist]\n",
    "        \n",
    "    X_train = list(map(wordlist_to_indexlist, X_train))\n",
    "    X_test = list(map(wordlist_to_indexlist, X_test))\n",
    "    y_train = np.array(list(train_data['label']))\n",
    "    y_test = np.array(list(test_data['label']))\n",
    "    \n",
    "    return X_train, y_train, X_test, y_test, word_to_index\n",
    "\n",
    "X_train, y_train, X_test, y_test, word_to_index = load_data(train_data, test_data, num_words = 10000)\n",
    "    "
   ]
  },
  {
   "cell_type": "code",
   "execution_count": 4,
   "id": "ca8abd3e",
   "metadata": {},
   "outputs": [],
   "source": [
    "index_to_word = {index:word for word, index in word_to_index.items()}"
   ]
  },
  {
   "cell_type": "code",
   "execution_count": 5,
   "id": "bd6c6ad4",
   "metadata": {},
   "outputs": [],
   "source": [
    "# Sentence Encoder\n",
    "def get_encoded_sentence(sentence, word_to_index):\n",
    "    return [word_to_index['<BOS>']] + [word_to_index[word] if word in word_to_index else word_to_index['<UNK>'] for word in sentence.split()]\n",
    "\n",
    "def get_encoded_sentences(sentences, word_to_index):\n",
    "    return [get_encoded_sentence(sentence, word_to_index) for sentence in sentences]\n",
    "\n",
    "# Sentence Decoder\n",
    "def get_decoded_sentence(encoded_sentence, index_to_word):\n",
    "    return ' '.join([index_to_word[index] if index in index_to_word else '<UNK>' for index in encoded_sentence])\n",
    "\n",
    "def get_decoded_sentences(encoded_sentences, index_to_word):\n",
    "    return [get_decoded_sentence(encoded_sentence, index_to_word) for encoded_sentence in encoded_sentences]"
   ]
  },
  {
   "cell_type": "code",
   "execution_count": 6,
   "id": "2fb05c0f",
   "metadata": {},
   "outputs": [
    {
     "data": {
      "text/plain": [
       "[32, 74, 919, 4, 4, 39, 228, 20, 33, 748]"
      ]
     },
     "execution_count": 6,
     "metadata": {},
     "output_type": "execute_result"
    }
   ],
   "source": [
    "X_train[0]"
   ]
  },
  {
   "cell_type": "code",
   "execution_count": 7,
   "id": "2f3024d9",
   "metadata": {},
   "outputs": [
    {
     "data": {
      "text/plain": [
       "'아 더 빙 . . 진짜 짜증 나 네요 목소리'"
      ]
     },
     "execution_count": 7,
     "metadata": {},
     "output_type": "execute_result"
    }
   ],
   "source": [
    "get_decoded_sentence(X_train[0], index_to_word)"
   ]
  },
  {
   "cell_type": "markdown",
   "id": "8ba34a03",
   "metadata": {},
   "source": [
    "# 3) 모델 구성을 위한 데이터 분석 및 가공\n",
    "- 데이터셋 내 문장 길이 분포\n",
    "- 적절한 최대 문장 길이 지정\n",
    "- keras.preprocessing.sequence.pad_sequences을 활용한 패딩 추가 "
   ]
  },
  {
   "cell_type": "code",
   "execution_count": 8,
   "id": "be2271bc",
   "metadata": {},
   "outputs": [
    {
     "name": "stdout",
     "output_type": "stream",
     "text": [
      "avg length: 15.96940191154864\n",
      "max length: 116\n",
      "std length: 12.843571191092\n"
     ]
    }
   ],
   "source": [
    "import numpy as np\n",
    "\n",
    "total_data_text = list(X_train) + list(X_test)\n",
    "num_tokens = [len(tokens) for tokens in total_data_text]\n",
    "num_tokens = np.array(num_tokens)\n",
    "\n",
    "print(f\"avg length: {np.mean(num_tokens)}\")\n",
    "print(f\"max length: {np.max(num_tokens)}\")\n",
    "print(f\"std length: {np.std(num_tokens)}\")"
   ]
  },
  {
   "cell_type": "code",
   "execution_count": 9,
   "id": "3aafd528",
   "metadata": {},
   "outputs": [
    {
     "data": {
      "text/plain": [
       "37"
      ]
     },
     "execution_count": 9,
     "metadata": {},
     "output_type": "execute_result"
    }
   ],
   "source": [
    "# IQR 활용해서 Q3 + 1.5IQR 값을 Max Length 값으로 활용\n",
    "Q1 = np.quantile(num_tokens, 0.25)\n",
    "Q3 = np.quantile(num_tokens, 0.75)\n",
    "IQR = Q3 - Q1\n",
    "max_length = int(Q3 + 1.5*IQR)\n",
    "max_length"
   ]
  },
  {
   "cell_type": "code",
   "execution_count": 10,
   "id": "85ebf42f",
   "metadata": {},
   "outputs": [
    {
     "data": {
      "text/plain": [
       "0.914993933623086"
      ]
     },
     "execution_count": 10,
     "metadata": {},
     "output_type": "execute_result"
    }
   ],
   "source": [
    "np.sum(num_tokens < max_length) / len(num_tokens)"
   ]
  },
  {
   "cell_type": "markdown",
   "id": "ed3c48a6",
   "metadata": {},
   "source": [
    "- 전체의 91.5%가 max_length 설정값 이내에 포함됨"
   ]
  },
  {
   "cell_type": "code",
   "execution_count": 11,
   "id": "b75be1de",
   "metadata": {},
   "outputs": [
    {
     "data": {
      "text/plain": [
       "((146182, 37), (49157, 37))"
      ]
     },
     "execution_count": 11,
     "metadata": {},
     "output_type": "execute_result"
    }
   ],
   "source": [
    "import tensorflow as tf\n",
    "X_train = tf.keras.preprocessing.sequence.pad_sequences(X_train, value = word_to_index[\"<PAD>\"], padding = 'post', maxlen = max_length)\n",
    "X_test = tf.keras.preprocessing.sequence.pad_sequences(X_test, value = word_to_index[\"<PAD>\"], padding = 'post', maxlen = max_length)\n",
    "\n",
    "X_train.shape, X_test.shape"
   ]
  },
  {
   "cell_type": "markdown",
   "id": "f1d97243",
   "metadata": {},
   "source": [
    "# 4) 모델 구성 및 Validation set 구성\n",
    "- 모델은 3가지 이상 다양하게 구성하여 실험 진행 "
   ]
  },
  {
   "cell_type": "code",
   "execution_count": 12,
   "id": "b0c36989",
   "metadata": {},
   "outputs": [
    {
     "data": {
      "text/plain": [
       "((126182, 37), (126182,), (20000, 37), (20000,))"
      ]
     },
     "execution_count": 12,
     "metadata": {},
     "output_type": "execute_result"
    }
   ],
   "source": [
    "# validation set 구성\n",
    "X_val = X_train[:20000]\n",
    "y_val = y_train[:20000]\n",
    "\n",
    "partial_X_train = X_train[20000:]\n",
    "partial_y_train = y_train[20000:]\n",
    "\n",
    "partial_X_train.shape, partial_y_train.shape, X_val.shape, y_val.shape"
   ]
  },
  {
   "cell_type": "markdown",
   "id": "4b743595",
   "metadata": {},
   "source": [
    "## 4-1) RNN"
   ]
  },
  {
   "cell_type": "code",
   "execution_count": 13,
   "id": "49051a9c",
   "metadata": {},
   "outputs": [
    {
     "data": {
      "text/plain": [
       "10000"
      ]
     },
     "execution_count": 13,
     "metadata": {},
     "output_type": "execute_result"
    }
   ],
   "source": [
    "len(word_to_index)"
   ]
  },
  {
   "cell_type": "code",
   "execution_count": 14,
   "id": "deff636c",
   "metadata": {},
   "outputs": [
    {
     "name": "stdout",
     "output_type": "stream",
     "text": [
      "Model: \"sequential\"\n",
      "_________________________________________________________________\n",
      "Layer (type)                 Output Shape              Param #   \n",
      "=================================================================\n",
      "embedding (Embedding)        (None, None, 32)          320000    \n",
      "_________________________________________________________________\n",
      "lstm (LSTM)                  (None, 128)               82432     \n",
      "_________________________________________________________________\n",
      "dense (Dense)                (None, 32)                4128      \n",
      "_________________________________________________________________\n",
      "dense_1 (Dense)              (None, 1)                 33        \n",
      "=================================================================\n",
      "Total params: 406,593\n",
      "Trainable params: 406,593\n",
      "Non-trainable params: 0\n",
      "_________________________________________________________________\n"
     ]
    }
   ],
   "source": [
    "vocab_size = 10000\n",
    "word_vector_dim = 32\n",
    "\n",
    "model_rnn = tf.keras.Sequential()\n",
    "model_rnn.add(tf.keras.layers.Embedding(vocab_size, word_vector_dim, input_shape = (None, )))\n",
    "model_rnn.add(tf.keras.layers.LSTM(128))\n",
    "model_rnn.add(tf.keras.layers.Dense(32, activation = \"relu\"))\n",
    "model_rnn.add(tf.keras.layers.Dense(1, activation = \"sigmoid\"))\n",
    "\n",
    "model_rnn.summary()"
   ]
  },
  {
   "cell_type": "code",
   "execution_count": 15,
   "id": "90de11c1",
   "metadata": {},
   "outputs": [],
   "source": [
    "from keras.callbacks import ModelCheckpoint\n",
    "checkpoint = ModelCheckpoint(\"best_model_rnn.keras\", monitor = \"val_accuracy\", verbose = 1, save_best_only = True)"
   ]
  },
  {
   "cell_type": "code",
   "execution_count": 16,
   "id": "62af44df",
   "metadata": {},
   "outputs": [
    {
     "name": "stdout",
     "output_type": "stream",
     "text": [
      "\n",
      "Epoch 00001: val_accuracy improved from -inf to 0.84145, saving model to best_model_rnn.keras\n",
      "\n",
      "Epoch 00002: val_accuracy improved from 0.84145 to 0.84685, saving model to best_model_rnn.keras\n",
      "\n",
      "Epoch 00003: val_accuracy did not improve from 0.84685\n",
      "\n",
      "Epoch 00004: val_accuracy improved from 0.84685 to 0.85110, saving model to best_model_rnn.keras\n",
      "\n",
      "Epoch 00005: val_accuracy improved from 0.85110 to 0.85375, saving model to best_model_rnn.keras\n",
      "\n",
      "Epoch 00006: val_accuracy did not improve from 0.85375\n",
      "\n",
      "Epoch 00007: val_accuracy did not improve from 0.85375\n",
      "\n",
      "Epoch 00008: val_accuracy did not improve from 0.85375\n",
      "\n",
      "Epoch 00009: val_accuracy did not improve from 0.85375\n",
      "\n",
      "Epoch 00010: val_accuracy did not improve from 0.85375\n",
      "\n",
      "Epoch 00011: val_accuracy did not improve from 0.85375\n",
      "\n",
      "Epoch 00012: val_accuracy did not improve from 0.85375\n",
      "\n",
      "Epoch 00013: val_accuracy did not improve from 0.85375\n",
      "\n",
      "Epoch 00014: val_accuracy did not improve from 0.85375\n",
      "\n",
      "Epoch 00015: val_accuracy did not improve from 0.85375\n",
      "\n",
      "Epoch 00016: val_accuracy did not improve from 0.85375\n",
      "\n",
      "Epoch 00017: val_accuracy did not improve from 0.85375\n",
      "\n",
      "Epoch 00018: val_accuracy did not improve from 0.85375\n",
      "\n",
      "Epoch 00019: val_accuracy did not improve from 0.85375\n",
      "\n",
      "Epoch 00020: val_accuracy did not improve from 0.85375\n",
      "\n",
      "Epoch 00021: val_accuracy did not improve from 0.85375\n",
      "\n",
      "Epoch 00022: val_accuracy did not improve from 0.85375\n",
      "\n",
      "Epoch 00023: val_accuracy did not improve from 0.85375\n",
      "\n",
      "Epoch 00024: val_accuracy did not improve from 0.85375\n",
      "\n",
      "Epoch 00025: val_accuracy did not improve from 0.85375\n",
      "\n",
      "Epoch 00026: val_accuracy did not improve from 0.85375\n",
      "\n",
      "Epoch 00027: val_accuracy did not improve from 0.85375\n",
      "\n",
      "Epoch 00028: val_accuracy did not improve from 0.85375\n",
      "\n",
      "Epoch 00029: val_accuracy did not improve from 0.85375\n",
      "\n",
      "Epoch 00030: val_accuracy did not improve from 0.85375\n",
      "\n",
      "Epoch 00031: val_accuracy did not improve from 0.85375\n",
      "\n",
      "Epoch 00032: val_accuracy did not improve from 0.85375\n",
      "\n",
      "Epoch 00033: val_accuracy did not improve from 0.85375\n",
      "\n",
      "Epoch 00034: val_accuracy did not improve from 0.85375\n",
      "\n",
      "Epoch 00035: val_accuracy did not improve from 0.85375\n",
      "\n",
      "Epoch 00036: val_accuracy did not improve from 0.85375\n",
      "\n",
      "Epoch 00037: val_accuracy did not improve from 0.85375\n",
      "\n",
      "Epoch 00038: val_accuracy did not improve from 0.85375\n",
      "\n",
      "Epoch 00039: val_accuracy did not improve from 0.85375\n",
      "\n",
      "Epoch 00040: val_accuracy did not improve from 0.85375\n",
      "\n",
      "Epoch 00041: val_accuracy did not improve from 0.85375\n",
      "\n",
      "Epoch 00042: val_accuracy did not improve from 0.85375\n",
      "\n",
      "Epoch 00043: val_accuracy did not improve from 0.85375\n",
      "\n",
      "Epoch 00044: val_accuracy did not improve from 0.85375\n",
      "\n",
      "Epoch 00045: val_accuracy did not improve from 0.85375\n",
      "\n",
      "Epoch 00046: val_accuracy did not improve from 0.85375\n",
      "\n",
      "Epoch 00047: val_accuracy did not improve from 0.85375\n",
      "\n",
      "Epoch 00048: val_accuracy did not improve from 0.85375\n",
      "\n",
      "Epoch 00049: val_accuracy did not improve from 0.85375\n",
      "\n",
      "Epoch 00050: val_accuracy did not improve from 0.85375\n",
      "\n",
      "Epoch 00051: val_accuracy did not improve from 0.85375\n",
      "\n",
      "Epoch 00052: val_accuracy did not improve from 0.85375\n",
      "\n",
      "Epoch 00053: val_accuracy did not improve from 0.85375\n",
      "\n",
      "Epoch 00054: val_accuracy did not improve from 0.85375\n",
      "\n",
      "Epoch 00055: val_accuracy did not improve from 0.85375\n",
      "\n",
      "Epoch 00056: val_accuracy did not improve from 0.85375\n",
      "\n",
      "Epoch 00057: val_accuracy did not improve from 0.85375\n",
      "\n",
      "Epoch 00058: val_accuracy did not improve from 0.85375\n",
      "\n",
      "Epoch 00059: val_accuracy did not improve from 0.85375\n",
      "\n",
      "Epoch 00060: val_accuracy did not improve from 0.85375\n",
      "\n",
      "Epoch 00061: val_accuracy did not improve from 0.85375\n",
      "\n",
      "Epoch 00062: val_accuracy did not improve from 0.85375\n",
      "\n",
      "Epoch 00063: val_accuracy did not improve from 0.85375\n",
      "\n",
      "Epoch 00064: val_accuracy did not improve from 0.85375\n",
      "\n",
      "Epoch 00065: val_accuracy did not improve from 0.85375\n",
      "\n",
      "Epoch 00066: val_accuracy did not improve from 0.85375\n",
      "\n",
      "Epoch 00067: val_accuracy did not improve from 0.85375\n",
      "\n",
      "Epoch 00068: val_accuracy did not improve from 0.85375\n",
      "\n",
      "Epoch 00069: val_accuracy did not improve from 0.85375\n",
      "\n",
      "Epoch 00070: val_accuracy did not improve from 0.85375\n",
      "\n",
      "Epoch 00071: val_accuracy did not improve from 0.85375\n",
      "\n",
      "Epoch 00072: val_accuracy did not improve from 0.85375\n",
      "\n",
      "Epoch 00073: val_accuracy did not improve from 0.85375\n",
      "\n",
      "Epoch 00074: val_accuracy did not improve from 0.85375\n",
      "\n",
      "Epoch 00075: val_accuracy did not improve from 0.85375\n",
      "\n",
      "Epoch 00076: val_accuracy did not improve from 0.85375\n",
      "\n",
      "Epoch 00077: val_accuracy did not improve from 0.85375\n",
      "\n",
      "Epoch 00078: val_accuracy did not improve from 0.85375\n",
      "\n",
      "Epoch 00079: val_accuracy did not improve from 0.85375\n",
      "\n",
      "Epoch 00080: val_accuracy did not improve from 0.85375\n",
      "\n",
      "Epoch 00081: val_accuracy did not improve from 0.85375\n",
      "\n",
      "Epoch 00082: val_accuracy did not improve from 0.85375\n",
      "\n",
      "Epoch 00083: val_accuracy did not improve from 0.85375\n",
      "\n",
      "Epoch 00084: val_accuracy did not improve from 0.85375\n",
      "\n",
      "Epoch 00085: val_accuracy did not improve from 0.85375\n",
      "\n",
      "Epoch 00086: val_accuracy did not improve from 0.85375\n",
      "\n",
      "Epoch 00087: val_accuracy did not improve from 0.85375\n",
      "\n",
      "Epoch 00088: val_accuracy did not improve from 0.85375\n",
      "\n",
      "Epoch 00089: val_accuracy did not improve from 0.85375\n",
      "\n",
      "Epoch 00090: val_accuracy did not improve from 0.85375\n",
      "\n",
      "Epoch 00091: val_accuracy did not improve from 0.85375\n",
      "\n",
      "Epoch 00092: val_accuracy did not improve from 0.85375\n",
      "\n",
      "Epoch 00093: val_accuracy did not improve from 0.85375\n",
      "\n",
      "Epoch 00094: val_accuracy did not improve from 0.85375\n",
      "\n",
      "Epoch 00095: val_accuracy did not improve from 0.85375\n",
      "\n",
      "Epoch 00096: val_accuracy did not improve from 0.85375\n",
      "\n",
      "Epoch 00097: val_accuracy did not improve from 0.85375\n",
      "\n",
      "Epoch 00098: val_accuracy did not improve from 0.85375\n",
      "\n",
      "Epoch 00099: val_accuracy did not improve from 0.85375\n",
      "\n",
      "Epoch 00100: val_accuracy did not improve from 0.85375\n"
     ]
    }
   ],
   "source": [
    "model_rnn.compile(optimizer = \"adam\", loss = \"binary_crossentropy\", metrics = [\"accuracy\"])\n",
    "epochs = 100\n",
    "history_rnn = model_rnn.fit(partial_X_train, partial_y_train, epochs = epochs, batch_size = 512, validation_data = (X_val, y_val), callbacks = [checkpoint], verbose= 0)"
   ]
  },
  {
   "cell_type": "code",
   "execution_count": 18,
   "id": "9678c89c",
   "metadata": {},
   "outputs": [
    {
     "name": "stdout",
     "output_type": "stream",
     "text": [
      "1537/1537 - 4s - loss: 0.3555 - accuracy: 0.8492\n"
     ]
    },
    {
     "data": {
      "text/plain": [
       "[0.35550984740257263, 0.8492178320884705]"
      ]
     },
     "execution_count": 18,
     "metadata": {},
     "output_type": "execute_result"
    }
   ],
   "source": [
    "from tensorflow.keras.models import load_model\n",
    "\n",
    "model_rnn = load_model(\"best_model_rnn.keras\")\n",
    "results_rnn = model_rnn.evaluate(X_test, y_test, verbose = 2)\n",
    "results_rnn"
   ]
  },
  {
   "cell_type": "markdown",
   "id": "6099e972",
   "metadata": {},
   "source": [
    "## 4-2) Conv-1D"
   ]
  },
  {
   "cell_type": "code",
   "execution_count": 19,
   "id": "c103c963",
   "metadata": {},
   "outputs": [
    {
     "name": "stdout",
     "output_type": "stream",
     "text": [
      "Model: \"sequential_1\"\n",
      "_________________________________________________________________\n",
      "Layer (type)                 Output Shape              Param #   \n",
      "=================================================================\n",
      "embedding_1 (Embedding)      (None, None, 32)          320000    \n",
      "_________________________________________________________________\n",
      "conv1d (Conv1D)              (None, None, 128)         28800     \n",
      "_________________________________________________________________\n",
      "max_pooling1d (MaxPooling1D) (None, None, 128)         0         \n",
      "_________________________________________________________________\n",
      "conv1d_1 (Conv1D)            (None, None, 128)         114816    \n",
      "_________________________________________________________________\n",
      "max_pooling1d_1 (MaxPooling1 (None, None, 128)         0         \n",
      "_________________________________________________________________\n",
      "dense_2 (Dense)              (None, None, 32)          4128      \n",
      "_________________________________________________________________\n",
      "dense_3 (Dense)              (None, None, 1)           33        \n",
      "=================================================================\n",
      "Total params: 467,777\n",
      "Trainable params: 467,777\n",
      "Non-trainable params: 0\n",
      "_________________________________________________________________\n"
     ]
    }
   ],
   "source": [
    "model_cnn = tf.keras.Sequential()\n",
    "model_cnn.add(tf.keras.layers.Embedding(vocab_size, word_vector_dim, input_shape = (None, )))\n",
    "model_cnn.add(tf.keras.layers.Conv1D(128, 7, activation = \"relu\"))\n",
    "model_cnn.add(tf.keras.layers.MaxPooling1D())\n",
    "model_cnn.add(tf.keras.layers.Conv1D(128, 7, activation = \"relu\"))\n",
    "model_cnn.add(tf.keras.layers.MaxPooling1D())\n",
    "model_cnn.add(tf.keras.layers.Dense(32, activation = \"relu\"))\n",
    "model_cnn.add(tf.keras.layers.Dense(1, activation = \"sigmoid\"))\n",
    "\n",
    "model_cnn.summary()"
   ]
  },
  {
   "cell_type": "code",
   "execution_count": 21,
   "id": "97eb45b1",
   "metadata": {},
   "outputs": [
    {
     "name": "stdout",
     "output_type": "stream",
     "text": [
      "\n",
      "Epoch 00001: val_accuracy improved from -inf to 0.73131, saving model to best_model_cnn.keras\n",
      "\n",
      "Epoch 00002: val_accuracy improved from 0.73131 to 0.73211, saving model to best_model_cnn.keras\n",
      "\n",
      "Epoch 00003: val_accuracy improved from 0.73211 to 0.73736, saving model to best_model_cnn.keras\n",
      "\n",
      "Epoch 00004: val_accuracy did not improve from 0.73736\n",
      "\n",
      "Epoch 00005: val_accuracy did not improve from 0.73736\n",
      "\n",
      "Epoch 00006: val_accuracy did not improve from 0.73736\n",
      "\n",
      "Epoch 00007: val_accuracy did not improve from 0.73736\n",
      "\n",
      "Epoch 00008: val_accuracy did not improve from 0.73736\n",
      "\n",
      "Epoch 00009: val_accuracy did not improve from 0.73736\n",
      "\n",
      "Epoch 00010: val_accuracy did not improve from 0.73736\n",
      "\n",
      "Epoch 00011: val_accuracy did not improve from 0.73736\n",
      "\n",
      "Epoch 00012: val_accuracy did not improve from 0.73736\n",
      "\n",
      "Epoch 00013: val_accuracy did not improve from 0.73736\n",
      "\n",
      "Epoch 00014: val_accuracy did not improve from 0.73736\n",
      "\n",
      "Epoch 00015: val_accuracy did not improve from 0.73736\n",
      "\n",
      "Epoch 00016: val_accuracy did not improve from 0.73736\n",
      "\n",
      "Epoch 00017: val_accuracy did not improve from 0.73736\n",
      "\n",
      "Epoch 00018: val_accuracy did not improve from 0.73736\n",
      "\n",
      "Epoch 00019: val_accuracy did not improve from 0.73736\n",
      "\n",
      "Epoch 00020: val_accuracy did not improve from 0.73736\n",
      "\n",
      "Epoch 00021: val_accuracy did not improve from 0.73736\n",
      "\n",
      "Epoch 00022: val_accuracy did not improve from 0.73736\n",
      "\n",
      "Epoch 00023: val_accuracy did not improve from 0.73736\n",
      "\n",
      "Epoch 00024: val_accuracy did not improve from 0.73736\n",
      "\n",
      "Epoch 00025: val_accuracy did not improve from 0.73736\n",
      "\n",
      "Epoch 00026: val_accuracy did not improve from 0.73736\n",
      "\n",
      "Epoch 00027: val_accuracy did not improve from 0.73736\n",
      "\n",
      "Epoch 00028: val_accuracy did not improve from 0.73736\n",
      "\n",
      "Epoch 00029: val_accuracy did not improve from 0.73736\n",
      "\n",
      "Epoch 00030: val_accuracy did not improve from 0.73736\n",
      "\n",
      "Epoch 00031: val_accuracy did not improve from 0.73736\n",
      "\n",
      "Epoch 00032: val_accuracy did not improve from 0.73736\n",
      "\n",
      "Epoch 00033: val_accuracy did not improve from 0.73736\n",
      "\n",
      "Epoch 00034: val_accuracy did not improve from 0.73736\n",
      "\n",
      "Epoch 00035: val_accuracy did not improve from 0.73736\n",
      "\n",
      "Epoch 00036: val_accuracy did not improve from 0.73736\n",
      "\n",
      "Epoch 00037: val_accuracy did not improve from 0.73736\n",
      "\n",
      "Epoch 00038: val_accuracy did not improve from 0.73736\n",
      "\n",
      "Epoch 00039: val_accuracy did not improve from 0.73736\n",
      "\n",
      "Epoch 00040: val_accuracy did not improve from 0.73736\n",
      "\n",
      "Epoch 00041: val_accuracy did not improve from 0.73736\n",
      "\n",
      "Epoch 00042: val_accuracy did not improve from 0.73736\n",
      "\n",
      "Epoch 00043: val_accuracy did not improve from 0.73736\n",
      "\n",
      "Epoch 00044: val_accuracy did not improve from 0.73736\n",
      "\n",
      "Epoch 00045: val_accuracy did not improve from 0.73736\n",
      "\n",
      "Epoch 00046: val_accuracy did not improve from 0.73736\n",
      "\n",
      "Epoch 00047: val_accuracy did not improve from 0.73736\n",
      "\n",
      "Epoch 00048: val_accuracy did not improve from 0.73736\n",
      "\n",
      "Epoch 00049: val_accuracy did not improve from 0.73736\n",
      "\n",
      "Epoch 00050: val_accuracy did not improve from 0.73736\n",
      "\n",
      "Epoch 00051: val_accuracy did not improve from 0.73736\n",
      "\n",
      "Epoch 00052: val_accuracy did not improve from 0.73736\n",
      "\n",
      "Epoch 00053: val_accuracy did not improve from 0.73736\n",
      "\n",
      "Epoch 00054: val_accuracy did not improve from 0.73736\n",
      "\n",
      "Epoch 00055: val_accuracy did not improve from 0.73736\n",
      "\n",
      "Epoch 00056: val_accuracy did not improve from 0.73736\n",
      "\n",
      "Epoch 00057: val_accuracy did not improve from 0.73736\n",
      "\n",
      "Epoch 00058: val_accuracy did not improve from 0.73736\n",
      "\n",
      "Epoch 00059: val_accuracy did not improve from 0.73736\n",
      "\n",
      "Epoch 00060: val_accuracy did not improve from 0.73736\n",
      "\n",
      "Epoch 00061: val_accuracy did not improve from 0.73736\n",
      "\n",
      "Epoch 00062: val_accuracy did not improve from 0.73736\n",
      "\n",
      "Epoch 00063: val_accuracy did not improve from 0.73736\n",
      "\n",
      "Epoch 00064: val_accuracy did not improve from 0.73736\n",
      "\n",
      "Epoch 00065: val_accuracy did not improve from 0.73736\n",
      "\n",
      "Epoch 00066: val_accuracy did not improve from 0.73736\n",
      "\n",
      "Epoch 00067: val_accuracy did not improve from 0.73736\n",
      "\n",
      "Epoch 00068: val_accuracy did not improve from 0.73736\n",
      "\n",
      "Epoch 00069: val_accuracy did not improve from 0.73736\n",
      "\n",
      "Epoch 00070: val_accuracy did not improve from 0.73736\n",
      "\n",
      "Epoch 00071: val_accuracy did not improve from 0.73736\n",
      "\n",
      "Epoch 00072: val_accuracy did not improve from 0.73736\n",
      "\n",
      "Epoch 00073: val_accuracy did not improve from 0.73736\n",
      "\n",
      "Epoch 00074: val_accuracy did not improve from 0.73736\n",
      "\n",
      "Epoch 00075: val_accuracy did not improve from 0.73736\n",
      "\n",
      "Epoch 00076: val_accuracy did not improve from 0.73736\n",
      "\n",
      "Epoch 00077: val_accuracy did not improve from 0.73736\n",
      "\n",
      "Epoch 00078: val_accuracy did not improve from 0.73736\n",
      "\n",
      "Epoch 00079: val_accuracy did not improve from 0.73736\n",
      "\n",
      "Epoch 00080: val_accuracy did not improve from 0.73736\n",
      "\n",
      "Epoch 00081: val_accuracy did not improve from 0.73736\n",
      "\n",
      "Epoch 00082: val_accuracy did not improve from 0.73736\n",
      "\n",
      "Epoch 00083: val_accuracy did not improve from 0.73736\n",
      "\n",
      "Epoch 00084: val_accuracy did not improve from 0.73736\n",
      "\n",
      "Epoch 00085: val_accuracy did not improve from 0.73736\n",
      "\n",
      "Epoch 00086: val_accuracy did not improve from 0.73736\n",
      "\n",
      "Epoch 00087: val_accuracy did not improve from 0.73736\n",
      "\n",
      "Epoch 00088: val_accuracy did not improve from 0.73736\n",
      "\n",
      "Epoch 00089: val_accuracy did not improve from 0.73736\n",
      "\n",
      "Epoch 00090: val_accuracy did not improve from 0.73736\n",
      "\n",
      "Epoch 00091: val_accuracy did not improve from 0.73736\n",
      "\n",
      "Epoch 00092: val_accuracy did not improve from 0.73736\n",
      "\n",
      "Epoch 00093: val_accuracy did not improve from 0.73736\n",
      "\n",
      "Epoch 00094: val_accuracy did not improve from 0.73736\n",
      "\n",
      "Epoch 00095: val_accuracy did not improve from 0.73736\n",
      "\n",
      "Epoch 00096: val_accuracy did not improve from 0.73736\n",
      "\n",
      "Epoch 00097: val_accuracy did not improve from 0.73736\n",
      "\n",
      "Epoch 00098: val_accuracy did not improve from 0.73736\n",
      "\n",
      "Epoch 00099: val_accuracy did not improve from 0.73736\n",
      "\n",
      "Epoch 00100: val_accuracy did not improve from 0.73736\n"
     ]
    }
   ],
   "source": [
    "model_cnn.compile(optimizer = \"adam\", loss = \"binary_crossentropy\", metrics = [\"accuracy\"])\n",
    "checkpoint = ModelCheckpoint(\"best_model_cnn.keras\", monitor = \"val_accuracy\", verbose = 1, save_best_only = True)\n",
    "history_cnn = model_cnn.fit(partial_X_train, partial_y_train, epochs = epochs, batch_size = 512, validation_data = (X_val, y_val), callbacks = [checkpoint], verbose = 0)"
   ]
  },
  {
   "cell_type": "code",
   "execution_count": 22,
   "id": "6d226bb9",
   "metadata": {},
   "outputs": [
    {
     "name": "stdout",
     "output_type": "stream",
     "text": [
      "1537/1537 [==============================] - 5s 3ms/step - loss: 0.4822 - accuracy: 0.7362\n"
     ]
    }
   ],
   "source": [
    "model_cnn = load_model(\"best_model_cnn.keras\")\n",
    "results_cnn = model_cnn.evaluate(X_test, y_test)"
   ]
  },
  {
   "cell_type": "markdown",
   "id": "64c107f5",
   "metadata": {},
   "source": [
    "## 4-3) Global MaxPooling"
   ]
  },
  {
   "cell_type": "code",
   "execution_count": 23,
   "id": "16bda698",
   "metadata": {},
   "outputs": [
    {
     "name": "stdout",
     "output_type": "stream",
     "text": [
      "Model: \"sequential_2\"\n",
      "_________________________________________________________________\n",
      "Layer (type)                 Output Shape              Param #   \n",
      "=================================================================\n",
      "embedding_2 (Embedding)      (None, None, 32)          320000    \n",
      "_________________________________________________________________\n",
      "global_max_pooling1d (Global (None, 32)                0         \n",
      "_________________________________________________________________\n",
      "dense_4 (Dense)              (None, 32)                1056      \n",
      "_________________________________________________________________\n",
      "dense_5 (Dense)              (None, 1)                 33        \n",
      "=================================================================\n",
      "Total params: 321,089\n",
      "Trainable params: 321,089\n",
      "Non-trainable params: 0\n",
      "_________________________________________________________________\n"
     ]
    }
   ],
   "source": [
    "model_mp = tf.keras.Sequential([\n",
    "    tf.keras.layers.Embedding(vocab_size, word_vector_dim, input_shape = (None, )),\n",
    "    tf.keras.layers.GlobalMaxPooling1D(),\n",
    "    tf.keras.layers.Dense(32, activation = \"relu\"),\n",
    "    tf.keras.layers.Dense(1, activation = \"sigmoid\")\n",
    "])\n",
    "\n",
    "model_mp.summary()"
   ]
  },
  {
   "cell_type": "code",
   "execution_count": 24,
   "id": "df48d631",
   "metadata": {},
   "outputs": [
    {
     "name": "stdout",
     "output_type": "stream",
     "text": [
      "\n",
      "Epoch 00001: val_accuracy improved from -inf to 0.84030, saving model to best_model_gmp.keras\n",
      "\n",
      "Epoch 00002: val_accuracy improved from 0.84030 to 0.85015, saving model to best_model_gmp.keras\n",
      "\n",
      "Epoch 00003: val_accuracy improved from 0.85015 to 0.85200, saving model to best_model_gmp.keras\n",
      "\n",
      "Epoch 00004: val_accuracy did not improve from 0.85200\n",
      "\n",
      "Epoch 00005: val_accuracy did not improve from 0.85200\n",
      "\n",
      "Epoch 00006: val_accuracy did not improve from 0.85200\n",
      "\n",
      "Epoch 00007: val_accuracy did not improve from 0.85200\n",
      "\n",
      "Epoch 00008: val_accuracy did not improve from 0.85200\n",
      "\n",
      "Epoch 00009: val_accuracy did not improve from 0.85200\n",
      "\n",
      "Epoch 00010: val_accuracy did not improve from 0.85200\n",
      "\n",
      "Epoch 00011: val_accuracy did not improve from 0.85200\n",
      "\n",
      "Epoch 00012: val_accuracy did not improve from 0.85200\n",
      "\n",
      "Epoch 00013: val_accuracy did not improve from 0.85200\n",
      "\n",
      "Epoch 00014: val_accuracy did not improve from 0.85200\n",
      "\n",
      "Epoch 00015: val_accuracy did not improve from 0.85200\n",
      "\n",
      "Epoch 00016: val_accuracy did not improve from 0.85200\n",
      "\n",
      "Epoch 00017: val_accuracy did not improve from 0.85200\n",
      "\n",
      "Epoch 00018: val_accuracy did not improve from 0.85200\n",
      "\n",
      "Epoch 00019: val_accuracy did not improve from 0.85200\n",
      "\n",
      "Epoch 00020: val_accuracy did not improve from 0.85200\n",
      "\n",
      "Epoch 00021: val_accuracy did not improve from 0.85200\n",
      "\n",
      "Epoch 00022: val_accuracy did not improve from 0.85200\n",
      "\n",
      "Epoch 00023: val_accuracy did not improve from 0.85200\n",
      "\n",
      "Epoch 00024: val_accuracy did not improve from 0.85200\n",
      "\n",
      "Epoch 00025: val_accuracy did not improve from 0.85200\n",
      "\n",
      "Epoch 00026: val_accuracy did not improve from 0.85200\n",
      "\n",
      "Epoch 00027: val_accuracy did not improve from 0.85200\n",
      "\n",
      "Epoch 00028: val_accuracy did not improve from 0.85200\n",
      "\n",
      "Epoch 00029: val_accuracy did not improve from 0.85200\n",
      "\n",
      "Epoch 00030: val_accuracy did not improve from 0.85200\n",
      "\n",
      "Epoch 00031: val_accuracy did not improve from 0.85200\n",
      "\n",
      "Epoch 00032: val_accuracy did not improve from 0.85200\n",
      "\n",
      "Epoch 00033: val_accuracy did not improve from 0.85200\n",
      "\n",
      "Epoch 00034: val_accuracy did not improve from 0.85200\n",
      "\n",
      "Epoch 00035: val_accuracy did not improve from 0.85200\n",
      "\n",
      "Epoch 00036: val_accuracy did not improve from 0.85200\n",
      "\n",
      "Epoch 00037: val_accuracy did not improve from 0.85200\n",
      "\n",
      "Epoch 00038: val_accuracy did not improve from 0.85200\n",
      "\n",
      "Epoch 00039: val_accuracy did not improve from 0.85200\n",
      "\n",
      "Epoch 00040: val_accuracy did not improve from 0.85200\n",
      "\n",
      "Epoch 00041: val_accuracy did not improve from 0.85200\n",
      "\n",
      "Epoch 00042: val_accuracy did not improve from 0.85200\n",
      "\n",
      "Epoch 00043: val_accuracy did not improve from 0.85200\n",
      "\n",
      "Epoch 00044: val_accuracy did not improve from 0.85200\n",
      "\n",
      "Epoch 00045: val_accuracy did not improve from 0.85200\n",
      "\n",
      "Epoch 00046: val_accuracy did not improve from 0.85200\n",
      "\n",
      "Epoch 00047: val_accuracy did not improve from 0.85200\n",
      "\n",
      "Epoch 00048: val_accuracy did not improve from 0.85200\n",
      "\n",
      "Epoch 00049: val_accuracy did not improve from 0.85200\n",
      "\n",
      "Epoch 00050: val_accuracy did not improve from 0.85200\n",
      "\n",
      "Epoch 00051: val_accuracy did not improve from 0.85200\n",
      "\n",
      "Epoch 00052: val_accuracy did not improve from 0.85200\n",
      "\n",
      "Epoch 00053: val_accuracy did not improve from 0.85200\n",
      "\n",
      "Epoch 00054: val_accuracy did not improve from 0.85200\n",
      "\n",
      "Epoch 00055: val_accuracy did not improve from 0.85200\n",
      "\n",
      "Epoch 00056: val_accuracy did not improve from 0.85200\n",
      "\n",
      "Epoch 00057: val_accuracy did not improve from 0.85200\n",
      "\n",
      "Epoch 00058: val_accuracy did not improve from 0.85200\n",
      "\n",
      "Epoch 00059: val_accuracy did not improve from 0.85200\n",
      "\n",
      "Epoch 00060: val_accuracy did not improve from 0.85200\n",
      "\n",
      "Epoch 00061: val_accuracy did not improve from 0.85200\n",
      "\n",
      "Epoch 00062: val_accuracy did not improve from 0.85200\n",
      "\n",
      "Epoch 00063: val_accuracy did not improve from 0.85200\n",
      "\n",
      "Epoch 00064: val_accuracy did not improve from 0.85200\n",
      "\n",
      "Epoch 00065: val_accuracy did not improve from 0.85200\n",
      "\n",
      "Epoch 00066: val_accuracy did not improve from 0.85200\n",
      "\n",
      "Epoch 00067: val_accuracy did not improve from 0.85200\n",
      "\n",
      "Epoch 00068: val_accuracy did not improve from 0.85200\n",
      "\n",
      "Epoch 00069: val_accuracy did not improve from 0.85200\n",
      "\n",
      "Epoch 00070: val_accuracy did not improve from 0.85200\n",
      "\n",
      "Epoch 00071: val_accuracy did not improve from 0.85200\n",
      "\n",
      "Epoch 00072: val_accuracy did not improve from 0.85200\n",
      "\n",
      "Epoch 00073: val_accuracy did not improve from 0.85200\n",
      "\n",
      "Epoch 00074: val_accuracy did not improve from 0.85200\n",
      "\n",
      "Epoch 00075: val_accuracy did not improve from 0.85200\n",
      "\n",
      "Epoch 00076: val_accuracy did not improve from 0.85200\n",
      "\n",
      "Epoch 00077: val_accuracy did not improve from 0.85200\n",
      "\n",
      "Epoch 00078: val_accuracy did not improve from 0.85200\n",
      "\n",
      "Epoch 00079: val_accuracy did not improve from 0.85200\n",
      "\n",
      "Epoch 00080: val_accuracy did not improve from 0.85200\n",
      "\n",
      "Epoch 00081: val_accuracy did not improve from 0.85200\n",
      "\n",
      "Epoch 00082: val_accuracy did not improve from 0.85200\n",
      "\n",
      "Epoch 00083: val_accuracy did not improve from 0.85200\n",
      "\n",
      "Epoch 00084: val_accuracy did not improve from 0.85200\n",
      "\n",
      "Epoch 00085: val_accuracy did not improve from 0.85200\n",
      "\n",
      "Epoch 00086: val_accuracy did not improve from 0.85200\n",
      "\n",
      "Epoch 00087: val_accuracy did not improve from 0.85200\n",
      "\n",
      "Epoch 00088: val_accuracy did not improve from 0.85200\n",
      "\n",
      "Epoch 00089: val_accuracy did not improve from 0.85200\n",
      "\n",
      "Epoch 00090: val_accuracy did not improve from 0.85200\n",
      "\n",
      "Epoch 00091: val_accuracy did not improve from 0.85200\n",
      "\n",
      "Epoch 00092: val_accuracy did not improve from 0.85200\n",
      "\n",
      "Epoch 00093: val_accuracy did not improve from 0.85200\n",
      "\n",
      "Epoch 00094: val_accuracy did not improve from 0.85200\n",
      "\n",
      "Epoch 00095: val_accuracy did not improve from 0.85200\n",
      "\n",
      "Epoch 00096: val_accuracy did not improve from 0.85200\n",
      "\n",
      "Epoch 00097: val_accuracy did not improve from 0.85200\n",
      "\n",
      "Epoch 00098: val_accuracy did not improve from 0.85200\n",
      "\n",
      "Epoch 00099: val_accuracy did not improve from 0.85200\n",
      "\n",
      "Epoch 00100: val_accuracy did not improve from 0.85200\n"
     ]
    }
   ],
   "source": [
    "model_mp.compile(optimizer = \"adam\", loss = \"binary_crossentropy\", metrics = [\"accuracy\"])\n",
    "checkpoint = ModelCheckpoint(\"best_model_gmp.keras\", monitor = \"val_accuracy\", verbose = 1, save_best_only = True)\n",
    "history_mp = model_mp.fit(partial_X_train, partial_y_train, epochs = epochs, batch_size = 512, validation_data = (X_val, y_val),callbacks = [checkpoint], verbose = 0)"
   ]
  },
  {
   "cell_type": "code",
   "execution_count": 25,
   "id": "65a0cc3d",
   "metadata": {},
   "outputs": [
    {
     "name": "stdout",
     "output_type": "stream",
     "text": [
      "1537/1537 [==============================] - 3s 2ms/step - loss: 0.3552 - accuracy: 0.8452\n"
     ]
    }
   ],
   "source": [
    "model_mp = load_model(\"best_model_gmp.keras\")\n",
    "results_mp = model_mp.evaluate(X_test, y_test)"
   ]
  },
  {
   "cell_type": "markdown",
   "id": "d6ef9d4d",
   "metadata": {},
   "source": [
    "# 6) Loss, Accuracy 그래프 시각화 "
   ]
  },
  {
   "cell_type": "code",
   "execution_count": 26,
   "id": "e7b90d8e",
   "metadata": {},
   "outputs": [],
   "source": [
    "import matplotlib.pyplot as plt\n",
    "\n",
    "def draw_history(history, epochs, model_name):\n",
    "    acc = history.history['accuracy']\n",
    "    val_acc = history.history['val_accuracy']\n",
    "    loss = history.history['loss']\n",
    "    val_loss = history.history['val_loss']\n",
    "    \n",
    "    epochs = range(1, epochs + 1)\n",
    "    \n",
    "    plt.figure(figsize = (15, 7))\n",
    "    \n",
    "    plt.subplot(121)\n",
    "    plt.plot(epochs, acc, '--b',  label = 'Training')\n",
    "    plt.plot(epochs, val_acc, 'b', label = \"Valdation\")\n",
    "    plt.title(\"Training and Validation Accuracy\")\n",
    "    plt.xlabel(\"Epochs\")\n",
    "    plt.ylabel(\"Accuracy\")\n",
    "    plt.legend()\n",
    "    \n",
    "    plt.subplot(122)\n",
    "    plt.plot(epochs, loss, '--b',  label = 'Training')\n",
    "    plt.plot(epochs, val_loss, 'b', label = \"Valdation\")\n",
    "    plt.title(\"Training and Validation loss\")\n",
    "    plt.xlabel(\"Epochs\")\n",
    "    plt.ylabel(\"Loss\")\n",
    "    plt.legend()\n",
    "    \n",
    "    plt.suptitle(f\"Training result of model: {model_name}\", fontsize = 20)\n",
    "    \n",
    "    plt.show()\n",
    "    "
   ]
  },
  {
   "cell_type": "code",
   "execution_count": 27,
   "id": "a2499972",
   "metadata": {},
   "outputs": [
    {
     "data": {
      "image/png": "[encoded data removed]",
      "text/plain": [
       "<Figure size 1080x504 with 2 Axes>"
      ]
     },
     "metadata": {
      "needs_background": "light"
     },
     "output_type": "display_data"
    }
   ],
   "source": [
    "draw_history(history_rnn, epochs, 'RNN')"
   ]
  },
  {
   "cell_type": "code",
   "execution_count": 28,
   "id": "bcb2dfb9",
   "metadata": {},
   "outputs": [
    {
     "data": {
      "image/png": "[encoded data removed]",
      "text/plain": [
       "<Figure size 1080x504 with 2 Axes>"
      ]
     },
     "metadata": {
      "needs_background": "light"
     },
     "output_type": "display_data"
    }
   ],
   "source": [
    "draw_history(history_cnn, epochs, \"CNN\")"
   ]
  },
  {
   "cell_type": "code",
   "execution_count": 29,
   "id": "2fdee42f",
   "metadata": {},
   "outputs": [
    {
     "data": {
      "image/png": "[encoded data removed]",
      "text/plain": [
       "<Figure size 1080x504 with 2 Axes>"
      ]
     },
     "metadata": {
      "needs_background": "light"
     },
     "output_type": "display_data"
    }
   ],
   "source": [
    "draw_history(history_mp, epochs, \"Global MP\")"
   ]
  },
  {
   "cell_type": "code",
   "execution_count": 30,
   "id": "20307347",
   "metadata": {},
   "outputs": [
    {
     "data": {
      "text/plain": [
       "[0.4822082221508026, 0.736197292804718]"
      ]
     },
     "execution_count": 30,
     "metadata": {},
     "output_type": "execute_result"
    }
   ],
   "source": [
    "results_cnn"
   ]
  },
  {
   "cell_type": "code",
   "execution_count": 31,
   "id": "8400a240",
   "metadata": {},
   "outputs": [
    {
     "data": {
      "image/png": "[encoded data removed]",
      "text/plain": [
       "<Figure size 432x288 with 1 Axes>"
      ]
     },
     "metadata": {
      "needs_background": "light"
     },
     "output_type": "display_data"
    }
   ],
   "source": [
    "test_acc = {\n",
    "    \"rnn\": results_rnn[1],\n",
    "    \"cnn\": results_cnn[1],\n",
    "    \"maxPooling\": results_mp[1]\n",
    "}\n",
    "\n",
    "plt.bar(test_acc.keys(), test_acc.values())\n",
    "plt.xlabel(\"Model\")\n",
    "plt.ylabel(\"Accuracy\")\n",
    "plt.title(\"Test Accuracy Comparison by Models\")\n",
    "plt.show()"
   ]
  },
  {
   "cell_type": "markdown",
   "id": "b0c02d24",
   "metadata": {},
   "source": [
    "- test 결과만 봤을 때 rnn이 가장 높고, cnn이 다른 두 모델에 비해 현저히 떨어짐!"
   ]
  },
  {
   "cell_type": "markdown",
   "id": "e0419a0f",
   "metadata": {},
   "source": [
    "# 7) 학습된 Embedding 레이어 분석 "
   ]
  },
  {
   "cell_type": "code",
   "execution_count": 32,
   "id": "fba8ace2",
   "metadata": {},
   "outputs": [
    {
     "name": "stdout",
     "output_type": "stream",
     "text": [
      "gensim                        4.1.2\r\n"
     ]
    }
   ],
   "source": [
    "!mkdir -p ./data\n",
    "!pip list | grep gensim"
   ]
  },
  {
   "cell_type": "code",
   "execution_count": 33,
   "id": "89768b7b",
   "metadata": {},
   "outputs": [
    {
     "data": {
      "text/plain": [
       "(10000, 32)"
      ]
     },
     "execution_count": 33,
     "metadata": {},
     "output_type": "execute_result"
    }
   ],
   "source": [
    "# rnn 모델 embedding layer 확인\n",
    "embedding_layer = model_rnn.layers[0]\n",
    "weights = embedding_layer.get_weights()[0]\n",
    "weights.shape"
   ]
  },
  {
   "cell_type": "code",
   "execution_count": 34,
   "id": "67d64e64",
   "metadata": {},
   "outputs": [],
   "source": [
    "word2vec_file_path = \"./data/word2vec.txt\"\n",
    "f = open(word2vec_file_path, \"w\")\n",
    "f.write('{} {}\\n'.format(vocab_size-4, word_vector_dim))\n",
    "\n",
    "vectors = model_rnn.get_weights()[0]\n",
    "for i in range(4, vocab_size):\n",
    "    f.write('{} {}\\n'.format(index_to_word[i], ' '.join(map(str, list(vectors[i, :])))))\n",
    "f.close()"
   ]
  },
  {
   "cell_type": "code",
   "execution_count": 35,
   "id": "d499c216",
   "metadata": {},
   "outputs": [
    {
     "data": {
      "text/plain": [
       "[('잘난', 0.6628895998001099),\n",
       " ('참고', 0.6538318991661072),\n",
       " ('싶', 0.6342090964317322),\n",
       " ('조지', 0.592911422252655),\n",
       " ('우드', 0.5888985991477966),\n",
       " ('닝', 0.5794137120246887),\n",
       " ('어요', 0.5794048309326172),\n",
       " ('휴머니즘', 0.5793843865394592),\n",
       " ('자주', 0.5760314464569092),\n",
       " ('아요', 0.5740282535552979)]"
      ]
     },
     "execution_count": 35,
     "metadata": {},
     "output_type": "execute_result"
    }
   ],
   "source": [
    "from gensim.models.keyedvectors import Word2VecKeyedVectors\n",
    "\n",
    "word_vectors = Word2VecKeyedVectors.load_word2vec_format(word2vec_file_path, binary = False)\n",
    "word_vectors.similar_by_word(\"영화\") "
   ]
  },
  {
   "cell_type": "code",
   "execution_count": 36,
   "id": "2dc08a35",
   "metadata": {},
   "outputs": [
    {
     "data": {
      "text/plain": [
       "[('타고난', 0.8726667761802673),\n",
       " ('느껴집니다', 0.8698346614837646),\n",
       " ('휴식', 0.868825376033783),\n",
       " ('요런', 0.8620811700820923),\n",
       " ('문자', 0.8581012487411499),\n",
       " ('아날로그', 0.8565062880516052),\n",
       " ('평온', 0.8562905192375183),\n",
       " ('진진', 0.851410984992981),\n",
       " ('!^^', 0.8485668897628784),\n",
       " ('정주', 0.8484460115432739)]"
      ]
     },
     "execution_count": 36,
     "metadata": {},
     "output_type": "execute_result"
    }
   ],
   "source": [
    "word_vectors.similar_by_word(\"좋\")"
   ]
  },
  {
   "cell_type": "markdown",
   "id": "287794e5",
   "metadata": {},
   "source": [
    "- \"괜찮\", \"쩔\" 처럼 긍정적인 뉘앙스가 있는 단어도 있지만, 대부분 긍정적인 것과는 거리가 있어보임"
   ]
  },
  {
   "cell_type": "code",
   "execution_count": 37,
   "id": "c7199ccb",
   "metadata": {},
   "outputs": [
    {
     "data": {
      "text/plain": [
       "[('하품', 0.9584003686904907),\n",
       " ('최시원', 0.958308219909668),\n",
       " ('실망', 0.9571210741996765),\n",
       " ('어이없', 0.9551657438278198),\n",
       " ('인내심', 0.9528496265411377),\n",
       " ('짜증', 0.9527394771575928),\n",
       " ('디워', 0.9511846899986267),\n",
       " ('광구', 0.9487884640693665),\n",
       " ('지루', 0.9468461871147156),\n",
       " ('막장', 0.9465711712837219)]"
      ]
     },
     "execution_count": 37,
     "metadata": {},
     "output_type": "execute_result"
    }
   ],
   "source": [
    "word_vectors.similar_by_word(\"별로\")"
   ]
  },
  {
   "cell_type": "markdown",
   "id": "0348cf81",
   "metadata": {},
   "source": [
    "- \"별로\"와 유사한 단어에서 부정적인 뉘앙스를 가진 단어가 많음"
   ]
  },
  {
   "cell_type": "markdown",
   "id": "59e0a22c",
   "metadata": {},
   "source": [
    "# 8) 한국어 Word2Vec 임베딩 활용하여 성능 개선\n",
    "\n",
    "- 한국어 Word2Vec은 /data 폴더 안에 있는 word2vec_ko.model을 활용하세요.\n",
    "- 한국어 Word2Vec을 활용할 때는 load_word2vec_format() 형태가 아닌 load() 형태로 모델을 불러와주세요. 또한 모델을 활용할 때에는 아래 예시와 같이 .wv를 붙여서 활용합니다.\n",
    "    - [참고링크1](https://radimrehurek.com/gensim/auto_examples/tutorials/run_word2vec.html#storing-and-loading-models), [참고링크2](https://radimrehurek.com/gensim/models/keyedvectors.html)"
   ]
  },
  {
   "cell_type": "code",
   "execution_count": 38,
   "id": "21e1b631",
   "metadata": {},
   "outputs": [
    {
     "name": "stdout",
     "output_type": "stream",
     "text": [
      "\u001b[0m\u001b[01;34m.\u001b[0m/\r\n",
      "\u001b[34;42m..\u001b[0m/\r\n",
      "\u001b[01;32mGoogleNews-vectors-negative300.bin.gz\u001b[0m*\r\n",
      "\u001b[01;32mratings_test.txt\u001b[0m*\r\n",
      "\u001b[01;32mratings_train.txt\u001b[0m*\r\n",
      "word2vec_ko.model\r\n",
      "word2vec_ko.model.trainables.syn1neg.npy\r\n",
      "word2vec_ko.model.wv.vectors.npy\r\n"
     ]
    }
   ],
   "source": [
    "ls -a ~/data"
   ]
  },
  {
   "cell_type": "code",
   "execution_count": 39,
   "id": "b3ad080c",
   "metadata": {},
   "outputs": [],
   "source": [
    "import os\n",
    "from gensim.models.keyedvectors import Word2VecKeyedVectors\n",
    "\n",
    "word2vec_file_path = os.getenv(\"HOME\") + \"/data/word2vec_ko.model\"\n",
    "word_vectors = Word2VecKeyedVectors.load(word2vec_file_path)\n",
    "vector = word_vectors.wv[\"끝\"]"
   ]
  },
  {
   "cell_type": "code",
   "execution_count": 40,
   "id": "29eac472",
   "metadata": {},
   "outputs": [
    {
     "data": {
      "text/plain": [
       "(100,)"
      ]
     },
     "execution_count": 40,
     "metadata": {},
     "output_type": "execute_result"
    }
   ],
   "source": [
    "vector.shape"
   ]
  },
  {
   "cell_type": "code",
   "execution_count": 41,
   "id": "e234231e",
   "metadata": {},
   "outputs": [],
   "source": [
    "vocab_size = 10000\n",
    "word_vector_dim = 100\n",
    "embedding_matrix = np.random.rand(vocab_size, word_vector_dim)\n",
    "\n",
    "for i in range(4, vocab_size):\n",
    "    if index_to_word[i] in word_vectors.wv:\n",
    "        embedding_matrix[i] = word_vectors.wv[index_to_word[i]]"
   ]
  },
  {
   "cell_type": "code",
   "execution_count": 42,
   "id": "2e95eaed",
   "metadata": {},
   "outputs": [
    {
     "name": "stdout",
     "output_type": "stream",
     "text": [
      "Model: \"sequential_3\"\n",
      "_________________________________________________________________\n",
      "Layer (type)                 Output Shape              Param #   \n",
      "=================================================================\n",
      "embedding_3 (Embedding)      (None, 37, 100)           1000000   \n",
      "_________________________________________________________________\n",
      "lstm_1 (LSTM)                (None, 128)               117248    \n",
      "_________________________________________________________________\n",
      "dense_6 (Dense)              (None, 32)                4128      \n",
      "_________________________________________________________________\n",
      "dense_7 (Dense)              (None, 1)                 33        \n",
      "=================================================================\n",
      "Total params: 1,121,409\n",
      "Trainable params: 1,121,409\n",
      "Non-trainable params: 0\n",
      "_________________________________________________________________\n"
     ]
    }
   ],
   "source": [
    "from tensorflow.keras.initializers import Constant\n",
    "\n",
    "model = tf.keras.Sequential()\n",
    "model.add(tf.keras.layers.Embedding(vocab_size, \n",
    "                                    word_vector_dim, \n",
    "                                    embeddings_initializer = Constant(embedding_matrix),\n",
    "                                    input_length = max_length,\n",
    "                                    trainable = True))\n",
    "model.add(tf.keras.layers.LSTM(128))\n",
    "model.add(tf.keras.layers.Dense(32, activation = \"relu\"))\n",
    "model.add(tf.keras.layers.Dense(1, activation = \"sigmoid\"))\n",
    "\n",
    "model.summary()"
   ]
  },
  {
   "cell_type": "code",
   "execution_count": 43,
   "id": "f017e959",
   "metadata": {},
   "outputs": [
    {
     "name": "stdout",
     "output_type": "stream",
     "text": [
      "Epoch 1/100\n",
      "247/247 [==============================] - 4s 11ms/step - loss: 0.5328 - accuracy: 0.7093 - val_loss: 0.4005 - val_accuracy: 0.8191\n",
      "Epoch 2/100\n",
      "247/247 [==============================] - 2s 10ms/step - loss: 0.3668 - accuracy: 0.8378 - val_loss: 0.3476 - val_accuracy: 0.8465\n",
      "Epoch 3/100\n",
      "247/247 [==============================] - 2s 10ms/step - loss: 0.3165 - accuracy: 0.8645 - val_loss: 0.3419 - val_accuracy: 0.8506\n",
      "Epoch 4/100\n",
      "247/247 [==============================] - 2s 10ms/step - loss: 0.2850 - accuracy: 0.8792 - val_loss: 0.3260 - val_accuracy: 0.8600\n",
      "Epoch 5/100\n",
      "247/247 [==============================] - 2s 10ms/step - loss: 0.2596 - accuracy: 0.8913 - val_loss: 0.3201 - val_accuracy: 0.8638\n",
      "Epoch 6/100\n",
      "247/247 [==============================] - 2s 10ms/step - loss: 0.2367 - accuracy: 0.9028 - val_loss: 0.3310 - val_accuracy: 0.8643\n",
      "Epoch 7/100\n",
      "247/247 [==============================] - 2s 10ms/step - loss: 0.2158 - accuracy: 0.9121 - val_loss: 0.3329 - val_accuracy: 0.8623\n",
      "Epoch 8/100\n",
      "247/247 [==============================] - 2s 10ms/step - loss: 0.1964 - accuracy: 0.9219 - val_loss: 0.3578 - val_accuracy: 0.8628\n",
      "Epoch 9/100\n",
      "247/247 [==============================] - 2s 10ms/step - loss: 0.1807 - accuracy: 0.9282 - val_loss: 0.3738 - val_accuracy: 0.8586\n",
      "Epoch 10/100\n",
      "247/247 [==============================] - 2s 10ms/step - loss: 0.1631 - accuracy: 0.9364 - val_loss: 0.3956 - val_accuracy: 0.8547\n",
      "Epoch 11/100\n",
      "247/247 [==============================] - 2s 10ms/step - loss: 0.1446 - accuracy: 0.9452 - val_loss: 0.4323 - val_accuracy: 0.8581\n",
      "Epoch 12/100\n",
      "247/247 [==============================] - 2s 10ms/step - loss: 0.1313 - accuracy: 0.9507 - val_loss: 0.4585 - val_accuracy: 0.8562\n",
      "Epoch 13/100\n",
      "247/247 [==============================] - 2s 10ms/step - loss: 0.1209 - accuracy: 0.9561 - val_loss: 0.4799 - val_accuracy: 0.8522\n",
      "Epoch 14/100\n",
      "247/247 [==============================] - 2s 10ms/step - loss: 0.1090 - accuracy: 0.9604 - val_loss: 0.5006 - val_accuracy: 0.8539\n",
      "Epoch 15/100\n",
      "247/247 [==============================] - 2s 10ms/step - loss: 0.1010 - accuracy: 0.9640 - val_loss: 0.5211 - val_accuracy: 0.8524\n",
      "Epoch 16/100\n",
      "247/247 [==============================] - 2s 10ms/step - loss: 0.0927 - accuracy: 0.9674 - val_loss: 0.5743 - val_accuracy: 0.8516\n",
      "Epoch 17/100\n",
      "247/247 [==============================] - 2s 10ms/step - loss: 0.0844 - accuracy: 0.9704 - val_loss: 0.5689 - val_accuracy: 0.8507\n",
      "Epoch 18/100\n",
      "247/247 [==============================] - 2s 10ms/step - loss: 0.0781 - accuracy: 0.9727 - val_loss: 0.5853 - val_accuracy: 0.8492\n",
      "Epoch 19/100\n",
      "247/247 [==============================] - 2s 10ms/step - loss: 0.0736 - accuracy: 0.9747 - val_loss: 0.6414 - val_accuracy: 0.8532\n",
      "Epoch 20/100\n",
      "247/247 [==============================] - 2s 10ms/step - loss: 0.0679 - accuracy: 0.9770 - val_loss: 0.6051 - val_accuracy: 0.8528\n",
      "Epoch 21/100\n",
      "247/247 [==============================] - 2s 10ms/step - loss: 0.0635 - accuracy: 0.9782 - val_loss: 0.6595 - val_accuracy: 0.8512\n",
      "Epoch 22/100\n",
      "247/247 [==============================] - 2s 10ms/step - loss: 0.0610 - accuracy: 0.9789 - val_loss: 0.6281 - val_accuracy: 0.8526\n",
      "Epoch 23/100\n",
      "247/247 [==============================] - 2s 10ms/step - loss: 0.0563 - accuracy: 0.9810 - val_loss: 0.7277 - val_accuracy: 0.8522\n",
      "Epoch 24/100\n",
      "247/247 [==============================] - 2s 10ms/step - loss: 0.0550 - accuracy: 0.9811 - val_loss: 0.7199 - val_accuracy: 0.8506\n",
      "Epoch 25/100\n",
      "247/247 [==============================] - 2s 10ms/step - loss: 0.0494 - accuracy: 0.9830 - val_loss: 0.8040 - val_accuracy: 0.8504\n",
      "Epoch 26/100\n",
      "247/247 [==============================] - 2s 10ms/step - loss: 0.0476 - accuracy: 0.9840 - val_loss: 0.7486 - val_accuracy: 0.8500\n",
      "Epoch 27/100\n",
      "247/247 [==============================] - 2s 10ms/step - loss: 0.0449 - accuracy: 0.9847 - val_loss: 0.7605 - val_accuracy: 0.8532\n",
      "Epoch 28/100\n",
      "247/247 [==============================] - 2s 10ms/step - loss: 0.0435 - accuracy: 0.9853 - val_loss: 0.8313 - val_accuracy: 0.8497\n",
      "Epoch 29/100\n",
      "247/247 [==============================] - 2s 10ms/step - loss: 0.0410 - accuracy: 0.9858 - val_loss: 0.8081 - val_accuracy: 0.8523\n",
      "Epoch 30/100\n",
      "247/247 [==============================] - 2s 10ms/step - loss: 0.0408 - accuracy: 0.9859 - val_loss: 0.8287 - val_accuracy: 0.8490\n",
      "Epoch 31/100\n",
      "247/247 [==============================] - 2s 10ms/step - loss: 0.0393 - accuracy: 0.9862 - val_loss: 0.8473 - val_accuracy: 0.8523\n",
      "Epoch 32/100\n",
      "247/247 [==============================] - 2s 10ms/step - loss: 0.0364 - accuracy: 0.9873 - val_loss: 0.7958 - val_accuracy: 0.8525\n",
      "Epoch 33/100\n",
      "247/247 [==============================] - 2s 10ms/step - loss: 0.0360 - accuracy: 0.9875 - val_loss: 0.8577 - val_accuracy: 0.8505\n",
      "Epoch 34/100\n",
      "247/247 [==============================] - 2s 10ms/step - loss: 0.0319 - accuracy: 0.9888 - val_loss: 0.8260 - val_accuracy: 0.8518\n",
      "Epoch 35/100\n",
      "247/247 [==============================] - 2s 10ms/step - loss: 0.0297 - accuracy: 0.9892 - val_loss: 0.8440 - val_accuracy: 0.8523\n",
      "Epoch 36/100\n",
      "247/247 [==============================] - 2s 10ms/step - loss: 0.0333 - accuracy: 0.9880 - val_loss: 0.9034 - val_accuracy: 0.8516\n",
      "Epoch 37/100\n",
      "247/247 [==============================] - 2s 10ms/step - loss: 0.0301 - accuracy: 0.9890 - val_loss: 0.8812 - val_accuracy: 0.8530\n",
      "Epoch 38/100\n",
      "247/247 [==============================] - 2s 10ms/step - loss: 0.0307 - accuracy: 0.9890 - val_loss: 0.8869 - val_accuracy: 0.8492\n",
      "Epoch 39/100\n",
      "247/247 [==============================] - 2s 10ms/step - loss: 0.0274 - accuracy: 0.9902 - val_loss: 0.9352 - val_accuracy: 0.8466\n",
      "Epoch 40/100\n",
      "247/247 [==============================] - 2s 10ms/step - loss: 0.0252 - accuracy: 0.9907 - val_loss: 0.9290 - val_accuracy: 0.8483\n",
      "Epoch 41/100\n",
      "247/247 [==============================] - 2s 10ms/step - loss: 0.0258 - accuracy: 0.9908 - val_loss: 0.8677 - val_accuracy: 0.8515\n",
      "Epoch 42/100\n",
      "247/247 [==============================] - 2s 10ms/step - loss: 0.0251 - accuracy: 0.9909 - val_loss: 0.9271 - val_accuracy: 0.8479\n",
      "Epoch 43/100\n",
      "247/247 [==============================] - 2s 10ms/step - loss: 0.0240 - accuracy: 0.9909 - val_loss: 0.8826 - val_accuracy: 0.8518\n",
      "Epoch 44/100\n",
      "247/247 [==============================] - 2s 10ms/step - loss: 0.0244 - accuracy: 0.9907 - val_loss: 0.9408 - val_accuracy: 0.8514\n",
      "Epoch 45/100\n",
      "247/247 [==============================] - 2s 10ms/step - loss: 0.0215 - accuracy: 0.9921 - val_loss: 0.9475 - val_accuracy: 0.8508\n",
      "Epoch 46/100\n",
      "247/247 [==============================] - 2s 10ms/step - loss: 0.0205 - accuracy: 0.9921 - val_loss: 1.0610 - val_accuracy: 0.8506\n",
      "Epoch 47/100\n",
      "247/247 [==============================] - 2s 10ms/step - loss: 0.0218 - accuracy: 0.9917 - val_loss: 1.0116 - val_accuracy: 0.8482\n",
      "Epoch 48/100\n",
      "247/247 [==============================] - 2s 10ms/step - loss: 0.0214 - accuracy: 0.9919 - val_loss: 0.9578 - val_accuracy: 0.8485\n",
      "Epoch 49/100\n",
      "247/247 [==============================] - 2s 10ms/step - loss: 0.0221 - accuracy: 0.9917 - val_loss: 0.9187 - val_accuracy: 0.8482\n",
      "Epoch 50/100\n",
      "247/247 [==============================] - 2s 10ms/step - loss: 0.0186 - accuracy: 0.9928 - val_loss: 1.0023 - val_accuracy: 0.8508\n",
      "Epoch 51/100\n",
      "247/247 [==============================] - 2s 10ms/step - loss: 0.0188 - accuracy: 0.9927 - val_loss: 0.9958 - val_accuracy: 0.8486\n",
      "Epoch 52/100\n",
      "247/247 [==============================] - 2s 10ms/step - loss: 0.0208 - accuracy: 0.9919 - val_loss: 0.9722 - val_accuracy: 0.8479\n",
      "Epoch 53/100\n",
      "247/247 [==============================] - 2s 10ms/step - loss: 0.0167 - accuracy: 0.9936 - val_loss: 1.0628 - val_accuracy: 0.8494\n",
      "Epoch 54/100\n",
      "247/247 [==============================] - 2s 10ms/step - loss: 0.0184 - accuracy: 0.9927 - val_loss: 1.0843 - val_accuracy: 0.8468\n",
      "Epoch 55/100\n",
      "247/247 [==============================] - 2s 10ms/step - loss: 0.0186 - accuracy: 0.9926 - val_loss: 0.9312 - val_accuracy: 0.8469\n",
      "Epoch 56/100\n",
      "247/247 [==============================] - 2s 10ms/step - loss: 0.0201 - accuracy: 0.9922 - val_loss: 1.0527 - val_accuracy: 0.8457\n",
      "Epoch 57/100\n",
      "247/247 [==============================] - 2s 10ms/step - loss: 0.0155 - accuracy: 0.9938 - val_loss: 1.0953 - val_accuracy: 0.8500\n",
      "Epoch 58/100\n",
      "247/247 [==============================] - 2s 10ms/step - loss: 0.0152 - accuracy: 0.9940 - val_loss: 0.9984 - val_accuracy: 0.8493\n",
      "Epoch 59/100\n",
      "247/247 [==============================] - 2s 10ms/step - loss: 0.0158 - accuracy: 0.9938 - val_loss: 1.0816 - val_accuracy: 0.8505\n",
      "Epoch 60/100\n",
      "247/247 [==============================] - 2s 10ms/step - loss: 0.0139 - accuracy: 0.9942 - val_loss: 1.0917 - val_accuracy: 0.8514\n",
      "Epoch 61/100\n",
      "247/247 [==============================] - 2s 10ms/step - loss: 0.0146 - accuracy: 0.9943 - val_loss: 1.1289 - val_accuracy: 0.8503\n",
      "Epoch 62/100\n",
      "247/247 [==============================] - 2s 10ms/step - loss: 0.0160 - accuracy: 0.9932 - val_loss: 1.0186 - val_accuracy: 0.8498\n",
      "Epoch 63/100\n",
      "247/247 [==============================] - 2s 10ms/step - loss: 0.0134 - accuracy: 0.9945 - val_loss: 1.1535 - val_accuracy: 0.8511\n",
      "Epoch 64/100\n",
      "247/247 [==============================] - 2s 10ms/step - loss: 0.0141 - accuracy: 0.9943 - val_loss: 1.0806 - val_accuracy: 0.8488\n",
      "Epoch 65/100\n",
      "247/247 [==============================] - 2s 10ms/step - loss: 0.0151 - accuracy: 0.9938 - val_loss: 1.0777 - val_accuracy: 0.8481\n",
      "Epoch 66/100\n",
      "247/247 [==============================] - 2s 10ms/step - loss: 0.0144 - accuracy: 0.9943 - val_loss: 1.0757 - val_accuracy: 0.8486\n",
      "Epoch 67/100\n",
      "247/247 [==============================] - 2s 10ms/step - loss: 0.0142 - accuracy: 0.9943 - val_loss: 1.0771 - val_accuracy: 0.8465\n",
      "Epoch 68/100\n",
      "247/247 [==============================] - 2s 10ms/step - loss: 0.0126 - accuracy: 0.9947 - val_loss: 1.0905 - val_accuracy: 0.8487\n",
      "Epoch 69/100\n",
      "247/247 [==============================] - 2s 10ms/step - loss: 0.0127 - accuracy: 0.9946 - val_loss: 1.1448 - val_accuracy: 0.8536\n",
      "Epoch 70/100\n",
      "247/247 [==============================] - 2s 10ms/step - loss: 0.0150 - accuracy: 0.9937 - val_loss: 1.0844 - val_accuracy: 0.8493\n",
      "Epoch 71/100\n",
      "247/247 [==============================] - 2s 10ms/step - loss: 0.0132 - accuracy: 0.9948 - val_loss: 1.1180 - val_accuracy: 0.8500\n",
      "Epoch 72/100\n",
      "247/247 [==============================] - 2s 10ms/step - loss: 0.0132 - accuracy: 0.9946 - val_loss: 1.0920 - val_accuracy: 0.8487\n",
      "Epoch 73/100\n",
      "247/247 [==============================] - 2s 10ms/step - loss: 0.0111 - accuracy: 0.9955 - val_loss: 1.1724 - val_accuracy: 0.8495\n",
      "Epoch 74/100\n",
      "247/247 [==============================] - 2s 10ms/step - loss: 0.0126 - accuracy: 0.9949 - val_loss: 1.1053 - val_accuracy: 0.8511\n",
      "Epoch 75/100\n",
      "247/247 [==============================] - 2s 10ms/step - loss: 0.0136 - accuracy: 0.9946 - val_loss: 1.0859 - val_accuracy: 0.8496\n",
      "Epoch 76/100\n",
      "247/247 [==============================] - 2s 10ms/step - loss: 0.0111 - accuracy: 0.9952 - val_loss: 1.1429 - val_accuracy: 0.8511\n",
      "Epoch 77/100\n",
      "247/247 [==============================] - 2s 10ms/step - loss: 0.0117 - accuracy: 0.9952 - val_loss: 1.2208 - val_accuracy: 0.8526\n",
      "Epoch 78/100\n",
      "247/247 [==============================] - 2s 10ms/step - loss: 0.0132 - accuracy: 0.9947 - val_loss: 1.0457 - val_accuracy: 0.8503\n",
      "Epoch 79/100\n",
      "247/247 [==============================] - 2s 10ms/step - loss: 0.0141 - accuracy: 0.9945 - val_loss: 1.0402 - val_accuracy: 0.8526\n",
      "Epoch 80/100\n",
      "247/247 [==============================] - 2s 10ms/step - loss: 0.0121 - accuracy: 0.9949 - val_loss: 1.0156 - val_accuracy: 0.8490\n",
      "Epoch 81/100\n",
      "247/247 [==============================] - 2s 10ms/step - loss: 0.0119 - accuracy: 0.9951 - val_loss: 1.0832 - val_accuracy: 0.8488\n",
      "Epoch 82/100\n",
      "247/247 [==============================] - 2s 10ms/step - loss: 0.0108 - accuracy: 0.9954 - val_loss: 1.1663 - val_accuracy: 0.8537\n",
      "Epoch 83/100\n",
      "247/247 [==============================] - 2s 10ms/step - loss: 0.0104 - accuracy: 0.9957 - val_loss: 1.1802 - val_accuracy: 0.8535\n",
      "Epoch 84/100\n",
      "247/247 [==============================] - 2s 10ms/step - loss: 0.0108 - accuracy: 0.9955 - val_loss: 1.1425 - val_accuracy: 0.8497\n",
      "Epoch 85/100\n",
      "247/247 [==============================] - 2s 10ms/step - loss: 0.0101 - accuracy: 0.9957 - val_loss: 1.2027 - val_accuracy: 0.8523\n",
      "Epoch 86/100\n",
      "247/247 [==============================] - 2s 10ms/step - loss: 0.0132 - accuracy: 0.9949 - val_loss: 1.0349 - val_accuracy: 0.8509\n",
      "Epoch 87/100\n",
      "247/247 [==============================] - 2s 10ms/step - loss: 0.0103 - accuracy: 0.9958 - val_loss: 1.0977 - val_accuracy: 0.8510\n",
      "Epoch 88/100\n",
      "247/247 [==============================] - 2s 10ms/step - loss: 0.0092 - accuracy: 0.9960 - val_loss: 1.1891 - val_accuracy: 0.8504\n",
      "Epoch 89/100\n",
      "247/247 [==============================] - 2s 10ms/step - loss: 0.0090 - accuracy: 0.9960 - val_loss: 1.2292 - val_accuracy: 0.8518\n",
      "Epoch 90/100\n",
      "247/247 [==============================] - 2s 10ms/step - loss: 0.0122 - accuracy: 0.9953 - val_loss: 1.0678 - val_accuracy: 0.8472\n",
      "Epoch 91/100\n",
      "247/247 [==============================] - 2s 10ms/step - loss: 0.0104 - accuracy: 0.9956 - val_loss: 1.1310 - val_accuracy: 0.8479\n",
      "Epoch 92/100\n",
      "247/247 [==============================] - 2s 10ms/step - loss: 0.0116 - accuracy: 0.9952 - val_loss: 1.1049 - val_accuracy: 0.8497\n",
      "Epoch 93/100\n",
      "247/247 [==============================] - 2s 10ms/step - loss: 0.0099 - accuracy: 0.9958 - val_loss: 1.0809 - val_accuracy: 0.8477\n",
      "Epoch 94/100\n",
      "247/247 [==============================] - 2s 10ms/step - loss: 0.0103 - accuracy: 0.9957 - val_loss: 1.1162 - val_accuracy: 0.8504\n",
      "Epoch 95/100\n",
      "247/247 [==============================] - 2s 10ms/step - loss: 0.0113 - accuracy: 0.9955 - val_loss: 1.0671 - val_accuracy: 0.8522\n",
      "Epoch 96/100\n",
      "247/247 [==============================] - 2s 10ms/step - loss: 0.0120 - accuracy: 0.9949 - val_loss: 1.1463 - val_accuracy: 0.8526\n",
      "Epoch 97/100\n",
      "247/247 [==============================] - 2s 10ms/step - loss: 0.0112 - accuracy: 0.9954 - val_loss: 1.0599 - val_accuracy: 0.8472\n",
      "Epoch 98/100\n",
      "247/247 [==============================] - 2s 10ms/step - loss: 0.0110 - accuracy: 0.9955 - val_loss: 1.1977 - val_accuracy: 0.8518\n",
      "Epoch 99/100\n",
      "247/247 [==============================] - 2s 10ms/step - loss: 0.0101 - accuracy: 0.9957 - val_loss: 1.0204 - val_accuracy: 0.8486\n",
      "Epoch 100/100\n",
      "247/247 [==============================] - 2s 10ms/step - loss: 0.0114 - accuracy: 0.9951 - val_loss: 1.1204 - val_accuracy: 0.8496\n"
     ]
    }
   ],
   "source": [
    "model.compile(optimizer = \"adam\", loss = \"binary_crossentropy\", metrics = [\"accuracy\"])\n",
    "history = model.fit(partial_X_train, partial_y_train, epochs = epochs, batch_size = 512, validation_data = (X_val, y_val), verbose = 1)"
   ]
  },
  {
   "cell_type": "code",
   "execution_count": 44,
   "id": "e04679e6",
   "metadata": {},
   "outputs": [
    {
     "data": {
      "image/png": "[encoded data removed]",
      "text/plain": [
       "<Figure size 1080x504 with 2 Axes>"
      ]
     },
     "metadata": {
      "needs_background": "light"
     },
     "output_type": "display_data"
    }
   ],
   "source": [
    "draw_history(history, epochs, \"final model\")"
   ]
  },
  {
   "cell_type": "code",
   "execution_count": 45,
   "id": "301a9886",
   "metadata": {},
   "outputs": [
    {
     "name": "stdout",
     "output_type": "stream",
     "text": [
      "1537/1537 [==============================] - 4s 3ms/step - loss: 1.1556 - accuracy: 0.8458\n"
     ]
    }
   ],
   "source": [
    "result = model.evaluate(X_test, y_test)"
   ]
  },
  {
   "cell_type": "markdown",
   "id": "f10c1d5b",
   "metadata": {},
   "source": [
    "# 9. 결론"
   ]
  },
  {
   "cell_type": "markdown",
   "id": "48a62089",
   "metadata": {},
   "source": [
    "**추가 시도 필요한 부분**\n",
    "- Keras Tuner 통해서 모델의 다양한 조합을 시도해볼 것\n",
    "- Train, Test, Validation dataset의 클래스 별 비중을 확인하지 못함\n",
    "- EarlyStopping callback 추가\n",
    "- Final 모델에 modelcheckpoint 넣는거 깜빡함..."
   ]
  }
 ],
 "metadata": {
  "kernelspec": {
   "display_name": "Python 3 (ipykernel)",
   "language": "python",
   "name": "python3"
  },
  "language_info": {
   "codemirror_mode": {
    "name": "ipython",
    "version": 3
   },
   "file_extension": ".py",
   "mimetype": "text/x-python",
   "name": "python",
   "nbconvert_exporter": "python",
   "pygments_lexer": "ipython3",
   "version": "3.9.7"
  }
 },
 "nbformat": 4,
 "nbformat_minor": 5
}
