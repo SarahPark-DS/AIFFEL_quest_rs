{
 "cells": [
  {
   "cell_type": "markdown",
   "id": "b3edbd47",
   "metadata": {},
   "source": [
    "# 뉴스 카테고리 다중분류 프로젝트\n",
    "#### 주제\n",
    "- Vocabulary Size 변경해서 시도해보기\n",
    "    1. 모든 단어 사용\n",
    "    2. 빈도수 상위 5000개의 단어만 사용\n",
    "    3. 직접 단어 개수 설정해서 사용 \n",
    "- 모델 3가지 이상 사용: SVC, LinearRegression, RandomForest, Voting\n",
    "    - RNN, 1-D CNN 등 딥러닝 모델 중 하나 선택해서 머신러닝과 결과 비교하기"
   ]
  },
  {
   "cell_type": "code",
   "execution_count": 1,
   "id": "8877f5a2",
   "metadata": {},
   "outputs": [],
   "source": [
    "from tensorflow.keras.datasets import reuters"
   ]
  },
  {
   "cell_type": "code",
   "execution_count": 3,
   "id": "7e588c90",
   "metadata": {},
   "outputs": [],
   "source": [
    "import tensorflow as tf\n",
    "import matplotlib.pyplot as plt\n",
    "import seaborn as sns\n",
    "import numpy as np\n",
    "import pandas as pd\n",
    "import time"
   ]
  },
  {
   "cell_type": "code",
   "execution_count": 12,
   "id": "cb038f8c",
   "metadata": {},
   "outputs": [],
   "source": [
    "from sklearn.feature_extraction.text import CountVectorizer\n",
    "from sklearn.feature_extraction.text import TfidfTransformer"
   ]
  },
  {
   "cell_type": "code",
   "execution_count": 107,
   "id": "8e504897",
   "metadata": {},
   "outputs": [],
   "source": [
    "from sklearn.metrics import classification_report\n",
    "from sklearn.metrics import f1_score\n",
    "from sklearn.metrics import confusion_matrix"
   ]
  },
  {
   "cell_type": "markdown",
   "id": "19799290",
   "metadata": {},
   "source": [
    "# 1.모든 단어 사용하기"
   ]
  },
  {
   "cell_type": "markdown",
   "id": "dc193bf2",
   "metadata": {},
   "source": [
    "## 1-1. 데이터 로드 및 벡터화"
   ]
  },
  {
   "cell_type": "code",
   "execution_count": 4,
   "id": "6a85046d",
   "metadata": {},
   "outputs": [],
   "source": [
    "(x_train, y_train), (x_test, y_test) = reuters.load_data(num_words=None, test_split=0.2)"
   ]
  },
  {
   "cell_type": "code",
   "execution_count": 10,
   "id": "2d4b6e08",
   "metadata": {},
   "outputs": [],
   "source": [
    "def check_data(x_train, y_train, x_test, y_test):\n",
    "    # 훈련 및 테스트 샘플 수 확인\n",
    "    print('훈련 샘플의 수: {}'.format(len(x_train)))\n",
    "    print('테스트 샘플의 수: {}'.format(len(x_test)))\n",
    "    \n",
    "    # 클래스 수 확인\n",
    "    num_classes = max(y_train) + 1\n",
    "    print('클래스의 수 : {}'.format(num_classes))\n",
    "    \n",
    "    # 훈련 데이터 최대 길이 및 평균 길이 확인\n",
    "    print('훈련용 뉴스의 최대 길이 :{}'.format(max(len(l) for l in x_train)))\n",
    "    print('훈련용 뉴스의 평균 길이 :{}'.format(sum(map(len, x_train))/len(x_train)))\n",
    "    \n",
    "    plt.subplot(211)\n",
    "    plt.hist([len(s) for s in x_train], bins=50)\n",
    "    plt.xlabel('length of samples')\n",
    "    plt.ylabel('number of samples')\n",
    "    plt.title(\"Length Distribution\")\n",
    "    \n",
    "    # 각 클래스 빈도수 확인\n",
    "    plt.subplot(212)\n",
    "    sns.countplot(x=y_train)\n",
    "    plt.title(\"Frequency of classes\")\n",
    "    plt.show()"
   ]
  },
  {
   "cell_type": "code",
   "execution_count": 11,
   "id": "1009aeed",
   "metadata": {
    "collapsed": true
   },
   "outputs": [
    {
     "name": "stdout",
     "output_type": "stream",
     "text": [
      "훈련 샘플의 수: 8982\n",
      "테스트 샘플의 수: 2246\n",
      "클래스의 수 : 46\n",
      "훈련용 뉴스의 최대 길이 :2376\n",
      "훈련용 뉴스의 평균 길이 :145.5398574927633\n"
     ]
    },
    {
     "data": {
      "image/png": "[encoded data removed]",
      "text/plain": [
       "<Figure size 432x288 with 2 Axes>"
      ]
     },
     "metadata": {
      "needs_background": "light"
     },
     "output_type": "display_data"
    }
   ],
   "source": [
    "check_data(x_train, y_train, x_test, y_test)"
   ]
  },
  {
   "cell_type": "code",
   "execution_count": 45,
   "id": "e92503fc",
   "metadata": {},
   "outputs": [],
   "source": [
    "def vectorize(x_train, x_test):\n",
    "    # vocab 만들기\n",
    "    word_index = reuters.get_word_index(path = \"reuters_word_index.json\")\n",
    "    index_to_word = {index + 3 : word for word, index in word_index.items()}\n",
    "    for index, token in enumerate((\"<pad>\", \"<sos>\", \"<unk>\")):\n",
    "        index_to_word[index] = token\n",
    "    \n",
    "    # index -> 원문 text 복원하기\n",
    "    x_train_decoded = []\n",
    "    for i in range(len(x_train)):\n",
    "        t = ' '.join([index_to_word[index] for index in x_train[i]])\n",
    "        x_train_decoded.append(t)\n",
    "    \n",
    "    x_test_decoded = []\n",
    "    for i in range(len(x_test)):\n",
    "        t = ' '.join([index_to_word[index] for index in x_test[i]])\n",
    "        x_test_decoded.append(t)\n",
    "    \n",
    "    dtmvector = CountVectorizer()\n",
    "    x_train_dtm = dtmvector.fit_transform(x_train_decoded)\n",
    "    x_test_dtm = dtmvector.transform(x_test_decoded)\n",
    "    \n",
    "    tfidf_transformer = TfidfTransformer()\n",
    "    x_train_tfidf = tfidf_transformer.fit_transform(x_train_dtm)\n",
    "    x_test_tfidf = tfidf_transformer.transform(x_test_dtm)\n",
    "    \n",
    "    return x_train_tfidf, x_test_tfidf, x_train_decoded, x_test_decoded, word_index, index_to_word"
   ]
  },
  {
   "cell_type": "code",
   "execution_count": 46,
   "id": "4bbfa9b3",
   "metadata": {},
   "outputs": [],
   "source": [
    "x_train_tfidf, x_test_tfidf, x_train_decoded, x_test_decoded, word_index, index_to_word = vectorize(x_train, x_test)"
   ]
  },
  {
   "cell_type": "code",
   "execution_count": 20,
   "id": "4c9c2cec",
   "metadata": {},
   "outputs": [
    {
     "data": {
      "text/plain": [
       "(8982, 26506)"
      ]
     },
     "execution_count": 20,
     "metadata": {},
     "output_type": "execute_result"
    }
   ],
   "source": [
    "x_train_tfidf.shape"
   ]
  },
  {
   "cell_type": "code",
   "execution_count": 21,
   "id": "fd746263",
   "metadata": {},
   "outputs": [
    {
     "data": {
      "text/plain": [
       "(2246, 26506)"
      ]
     },
     "execution_count": 21,
     "metadata": {},
     "output_type": "execute_result"
    }
   ],
   "source": [
    "x_test_tfidf.shape"
   ]
  },
  {
   "cell_type": "markdown",
   "id": "146d01cc",
   "metadata": {},
   "source": [
    "## 1-2. 머신러닝 모델 학습하기"
   ]
  },
  {
   "cell_type": "code",
   "execution_count": 22,
   "id": "85e2d772",
   "metadata": {},
   "outputs": [],
   "source": [
    "from sklearn.linear_model import LogisticRegression\n",
    "from sklearn.ensemble import RandomForestClassifier\n",
    "from sklearn.svm import LinearSVC\n",
    "from sklearn.ensemble import VotingClassifier"
   ]
  },
  {
   "cell_type": "code",
   "execution_count": 23,
   "id": "c5ba7c8c",
   "metadata": {},
   "outputs": [],
   "source": [
    "from sklearn.metrics import accuracy_score\n",
    "from sklearn.metrics import classification_report\n",
    "from sklearn.metrics import confusion_matrix"
   ]
  },
  {
   "cell_type": "markdown",
   "id": "2a47a861",
   "metadata": {},
   "source": [
    "### LogisticRegression"
   ]
  },
  {
   "cell_type": "code",
   "execution_count": 26,
   "id": "2581e484",
   "metadata": {},
   "outputs": [
    {
     "name": "stdout",
     "output_type": "stream",
     "text": [
      "training time for logistic regression: 879.21 초\n"
     ]
    }
   ],
   "source": [
    "start_time = time.time()\n",
    "lr = LogisticRegression(C=10000, penalty = \"l2\", max_iter = 3000)\n",
    "lr.fit(x_train_tfidf, y_train)\n",
    "end_time = time.time()\n",
    "learning_time_lr = end_time - start_time \n",
    "\n",
    "print(f\"training time for logistic regression:{learning_time_lr: .2f} 초\")"
   ]
  },
  {
   "cell_type": "code",
   "execution_count": 108,
   "id": "d887995c",
   "metadata": {},
   "outputs": [
    {
     "name": "stdout",
     "output_type": "stream",
     "text": [
      "정확도:  0.8165627782724845\n",
      "f1-score: 0.8114428402876209\n",
      "              precision    recall  f1-score   support\n",
      "\n",
      "           0       0.89      0.67      0.76        12\n",
      "           1       0.75      0.79      0.77       105\n",
      "           2       0.78      0.70      0.74        20\n",
      "           3       0.92      0.93      0.93       813\n",
      "           4       0.81      0.88      0.84       474\n",
      "           5       1.00      0.20      0.33         5\n",
      "           6       0.93      0.93      0.93        14\n",
      "           7       1.00      0.33      0.50         3\n",
      "           8       0.69      0.71      0.70        38\n",
      "           9       0.85      0.88      0.86        25\n",
      "          10       0.93      0.90      0.92        30\n",
      "          11       0.67      0.72      0.69        83\n",
      "          12       0.57      0.31      0.40        13\n",
      "          13       0.64      0.62      0.63        37\n",
      "          14       0.67      1.00      0.80         2\n",
      "          15       0.80      0.44      0.57         9\n",
      "          16       0.71      0.77      0.74        99\n",
      "          17       0.82      0.75      0.78        12\n",
      "          18       0.81      0.65      0.72        20\n",
      "          19       0.70      0.73      0.71       133\n",
      "          20       0.64      0.53      0.58        70\n",
      "          21       0.69      0.81      0.75        27\n",
      "          22       1.00      0.14      0.25         7\n",
      "          23       0.64      0.75      0.69        12\n",
      "          24       0.62      0.53      0.57        19\n",
      "          25       0.89      0.77      0.83        31\n",
      "          26       1.00      0.88      0.93         8\n",
      "          27       1.00      0.25      0.40         4\n",
      "          28       0.50      0.30      0.37        10\n",
      "          29       0.57      1.00      0.73         4\n",
      "          30       1.00      0.67      0.80        12\n",
      "          31       0.78      0.54      0.64        13\n",
      "          32       1.00      0.80      0.89        10\n",
      "          33       0.80      0.80      0.80         5\n",
      "          34       0.80      0.57      0.67         7\n",
      "          35       1.00      0.33      0.50         6\n",
      "          36       0.44      0.36      0.40        11\n",
      "          37       0.50      0.50      0.50         2\n",
      "          38       0.50      0.33      0.40         3\n",
      "          39       0.50      0.40      0.44         5\n",
      "          40       1.00      0.30      0.46        10\n",
      "          41       0.75      0.38      0.50         8\n",
      "          42       1.00      0.67      0.80         3\n",
      "          43       0.86      1.00      0.92         6\n",
      "          44       0.67      0.80      0.73         5\n",
      "          45       1.00      1.00      1.00         1\n",
      "\n",
      "    accuracy                           0.82      2246\n",
      "   macro avg       0.78      0.64      0.67      2246\n",
      "weighted avg       0.82      0.82      0.81      2246\n",
      "\n"
     ]
    }
   ],
   "source": [
    "predicted = lr.predict(x_test_tfidf)\n",
    "acc_lr = accuracy_score(y_test, predicted)\n",
    "f1_lr = f1_score(y_test, predicted, average = 'weighted')\n",
    "print(\"정확도: \", acc_lr)\n",
    "print(\"f1-score:\", f1_lr)\n",
    "print(classification_report(y_test, predicted, zero_division = 0))"
   ]
  },
  {
   "cell_type": "markdown",
   "id": "e4526ee8",
   "metadata": {},
   "source": [
    "### RandomForest"
   ]
  },
  {
   "cell_type": "code",
   "execution_count": 28,
   "id": "787da934",
   "metadata": {},
   "outputs": [
    {
     "name": "stdout",
     "output_type": "stream",
     "text": [
      "training time for RandomForest: 2.14 초\n"
     ]
    }
   ],
   "source": [
    "start_time = time.time()\n",
    "rf = RandomForestClassifier(n_estimators = 5, random_state = 0)\n",
    "rf.fit(x_train_tfidf, y_train)\n",
    "end_time = time.time()\n",
    "learning_time_rf = end_time - start_time \n",
    "\n",
    "print(f\"training time for RandomForest:{learning_time_rf: .2f} 초\")"
   ]
  },
  {
   "cell_type": "code",
   "execution_count": 109,
   "id": "6365efa0",
   "metadata": {},
   "outputs": [
    {
     "name": "stdout",
     "output_type": "stream",
     "text": [
      "정확도: 0.6544968833481746\n",
      "f1-score: 0.6225909375608356\n",
      "              precision    recall  f1-score   support\n",
      "\n",
      "           0       0.25      0.58      0.35        12\n",
      "           1       0.35      0.60      0.44       105\n",
      "           2       0.32      0.40      0.36        20\n",
      "           3       0.82      0.89      0.85       813\n",
      "           4       0.62      0.84      0.71       474\n",
      "           5       0.00      0.00      0.00         5\n",
      "           6       0.67      0.43      0.52        14\n",
      "           7       0.50      0.33      0.40         3\n",
      "           8       0.51      0.47      0.49        38\n",
      "           9       1.00      0.28      0.44        25\n",
      "          10       0.46      0.20      0.28        30\n",
      "          11       0.56      0.64      0.60        83\n",
      "          12       0.40      0.15      0.22        13\n",
      "          13       0.33      0.16      0.22        37\n",
      "          14       0.00      0.00      0.00         2\n",
      "          15       0.00      0.00      0.00         9\n",
      "          16       0.59      0.46      0.52        99\n",
      "          17       0.00      0.00      0.00        12\n",
      "          18       0.44      0.20      0.28        20\n",
      "          19       0.61      0.50      0.55       133\n",
      "          20       0.51      0.33      0.40        70\n",
      "          21       0.55      0.22      0.32        27\n",
      "          22       0.00      0.00      0.00         7\n",
      "          23       0.33      0.08      0.13        12\n",
      "          24       0.33      0.05      0.09        19\n",
      "          25       1.00      0.23      0.37        31\n",
      "          26       0.00      0.00      0.00         8\n",
      "          27       0.00      0.00      0.00         4\n",
      "          28       0.00      0.00      0.00        10\n",
      "          29       0.00      0.00      0.00         4\n",
      "          30       0.00      0.00      0.00        12\n",
      "          31       0.00      0.00      0.00        13\n",
      "          32       1.00      0.10      0.18        10\n",
      "          33       1.00      0.40      0.57         5\n",
      "          34       0.00      0.00      0.00         7\n",
      "          35       1.00      0.17      0.29         6\n",
      "          36       0.43      0.27      0.33        11\n",
      "          37       0.00      0.00      0.00         2\n",
      "          38       0.00      0.00      0.00         3\n",
      "          39       0.00      0.00      0.00         5\n",
      "          40       1.00      0.30      0.46        10\n",
      "          41       0.00      0.00      0.00         8\n",
      "          42       0.00      0.00      0.00         3\n",
      "          43       0.75      0.50      0.60         6\n",
      "          44       1.00      0.80      0.89         5\n",
      "          45       1.00      1.00      1.00         1\n",
      "\n",
      "    accuracy                           0.65      2246\n",
      "   macro avg       0.40      0.25      0.28      2246\n",
      "weighted avg       0.63      0.65      0.62      2246\n",
      "\n"
     ]
    }
   ],
   "source": [
    "predicted = rf.predict(x_test_tfidf)\n",
    "acc_rf = accuracy_score(y_test, predicted)\n",
    "f1_rf = f1_score(y_test, predicted, average = 'weighted')\n",
    "print(\"정확도:\", acc_rf) \n",
    "print(\"f1-score:\", f1_rf)\n",
    "print(classification_report(y_test, predicted, zero_division = 0))"
   ]
  },
  {
   "cell_type": "markdown",
   "id": "dee9d67a",
   "metadata": {},
   "source": [
    "### linearSVC -> Soft-voting 적용 불가 (predict_proba 미제공)"
   ]
  },
  {
   "cell_type": "code",
   "execution_count": 31,
   "id": "96784260",
   "metadata": {},
   "outputs": [
    {
     "name": "stdout",
     "output_type": "stream",
     "text": [
      "training time for SVC: 104.05 초\n"
     ]
    },
    {
     "name": "stderr",
     "output_type": "stream",
     "text": [
      "/opt/conda/lib/python3.9/site-packages/sklearn/svm/_base.py:1199: ConvergenceWarning: Liblinear failed to converge, increase the number of iterations.\n",
      "  warnings.warn(\n"
     ]
    }
   ],
   "source": [
    "start_time = time.time()\n",
    "lsvc = LinearSVC(C=1000, penalty='l1', max_iter=3000, dual=False)\n",
    "lsvc.fit(x_train_tfidf, y_train)\n",
    "end_time = time.time()\n",
    "learning_time_svc = end_time - start_time\n",
    "\n",
    "print(f\"training time for SVC:{learning_time_svc: .2f} 초\")"
   ]
  },
  {
   "cell_type": "code",
   "execution_count": 99,
   "id": "3c25a4c7",
   "metadata": {
    "collapsed": true
   },
   "outputs": [
    {
     "ename": "NotFittedError",
     "evalue": "This LinearSVC instance is not fitted yet. Call 'fit' with appropriate arguments before using this estimator.",
     "output_type": "error",
     "traceback": [
      "\u001b[0;31m---------------------------------------------------------------------------\u001b[0m",
      "\u001b[0;31mNotFittedError\u001b[0m                            Traceback (most recent call last)",
      "\u001b[0;32m/tmp/ipykernel_66/2039636.py\u001b[0m in \u001b[0;36m<module>\u001b[0;34m\u001b[0m\n\u001b[0;32m----> 1\u001b[0;31m \u001b[0mpredicted\u001b[0m \u001b[0;34m=\u001b[0m \u001b[0mlsvc\u001b[0m\u001b[0;34m.\u001b[0m\u001b[0mpredict\u001b[0m\u001b[0;34m(\u001b[0m\u001b[0mx_test_tfidf\u001b[0m\u001b[0;34m)\u001b[0m\u001b[0;34m\u001b[0m\u001b[0;34m\u001b[0m\u001b[0m\n\u001b[0m\u001b[1;32m      2\u001b[0m \u001b[0macc_svc\u001b[0m \u001b[0;34m=\u001b[0m \u001b[0maccuracy_score\u001b[0m\u001b[0;34m(\u001b[0m\u001b[0my_test\u001b[0m\u001b[0;34m,\u001b[0m \u001b[0mpredicted\u001b[0m\u001b[0;34m)\u001b[0m\u001b[0;34m\u001b[0m\u001b[0;34m\u001b[0m\u001b[0m\n\u001b[1;32m      3\u001b[0m \u001b[0mprint\u001b[0m\u001b[0;34m(\u001b[0m\u001b[0;34m\"정확도: \"\u001b[0m\u001b[0;34m,\u001b[0m \u001b[0macc_svc\u001b[0m\u001b[0;34m)\u001b[0m\u001b[0;34m\u001b[0m\u001b[0;34m\u001b[0m\u001b[0m\n\u001b[1;32m      4\u001b[0m \u001b[0mprint\u001b[0m\u001b[0;34m(\u001b[0m\u001b[0mclassification_report\u001b[0m\u001b[0;34m(\u001b[0m\u001b[0my_test\u001b[0m\u001b[0;34m,\u001b[0m \u001b[0mpredicted\u001b[0m\u001b[0;34m,\u001b[0m \u001b[0mzero_division\u001b[0m \u001b[0;34m=\u001b[0m \u001b[0;36m0\u001b[0m\u001b[0;34m)\u001b[0m\u001b[0;34m)\u001b[0m\u001b[0;34m\u001b[0m\u001b[0;34m\u001b[0m\u001b[0m\n",
      "\u001b[0;32m/opt/conda/lib/python3.9/site-packages/sklearn/linear_model/_base.py\u001b[0m in \u001b[0;36mpredict\u001b[0;34m(self, X)\u001b[0m\n\u001b[1;32m    423\u001b[0m             \u001b[0mPredicted\u001b[0m \u001b[0;32mclass\u001b[0m \u001b[0mlabel\u001b[0m \u001b[0mper\u001b[0m \u001b[0msample\u001b[0m\u001b[0;34m.\u001b[0m\u001b[0;34m\u001b[0m\u001b[0;34m\u001b[0m\u001b[0m\n\u001b[1;32m    424\u001b[0m         \"\"\"\n\u001b[0;32m--> 425\u001b[0;31m         \u001b[0mscores\u001b[0m \u001b[0;34m=\u001b[0m \u001b[0mself\u001b[0m\u001b[0;34m.\u001b[0m\u001b[0mdecision_function\u001b[0m\u001b[0;34m(\u001b[0m\u001b[0mX\u001b[0m\u001b[0;34m)\u001b[0m\u001b[0;34m\u001b[0m\u001b[0;34m\u001b[0m\u001b[0m\n\u001b[0m\u001b[1;32m    426\u001b[0m         \u001b[0;32mif\u001b[0m \u001b[0mlen\u001b[0m\u001b[0;34m(\u001b[0m\u001b[0mscores\u001b[0m\u001b[0;34m.\u001b[0m\u001b[0mshape\u001b[0m\u001b[0;34m)\u001b[0m \u001b[0;34m==\u001b[0m \u001b[0;36m1\u001b[0m\u001b[0;34m:\u001b[0m\u001b[0;34m\u001b[0m\u001b[0;34m\u001b[0m\u001b[0m\n\u001b[1;32m    427\u001b[0m             \u001b[0mindices\u001b[0m \u001b[0;34m=\u001b[0m \u001b[0;34m(\u001b[0m\u001b[0mscores\u001b[0m \u001b[0;34m>\u001b[0m \u001b[0;36m0\u001b[0m\u001b[0;34m)\u001b[0m\u001b[0;34m.\u001b[0m\u001b[0mastype\u001b[0m\u001b[0;34m(\u001b[0m\u001b[0mint\u001b[0m\u001b[0;34m)\u001b[0m\u001b[0;34m\u001b[0m\u001b[0;34m\u001b[0m\u001b[0m\n",
      "\u001b[0;32m/opt/conda/lib/python3.9/site-packages/sklearn/linear_model/_base.py\u001b[0m in \u001b[0;36mdecision_function\u001b[0;34m(self, X)\u001b[0m\n\u001b[1;32m    403\u001b[0m             \u001b[0;32mclass\u001b[0m \u001b[0mwould\u001b[0m \u001b[0mbe\u001b[0m \u001b[0mpredicted\u001b[0m\u001b[0;34m.\u001b[0m\u001b[0;34m\u001b[0m\u001b[0;34m\u001b[0m\u001b[0m\n\u001b[1;32m    404\u001b[0m         \"\"\"\n\u001b[0;32m--> 405\u001b[0;31m         \u001b[0mcheck_is_fitted\u001b[0m\u001b[0;34m(\u001b[0m\u001b[0mself\u001b[0m\u001b[0;34m)\u001b[0m\u001b[0;34m\u001b[0m\u001b[0;34m\u001b[0m\u001b[0m\n\u001b[0m\u001b[1;32m    406\u001b[0m \u001b[0;34m\u001b[0m\u001b[0m\n\u001b[1;32m    407\u001b[0m         \u001b[0mX\u001b[0m \u001b[0;34m=\u001b[0m \u001b[0mself\u001b[0m\u001b[0;34m.\u001b[0m\u001b[0m_validate_data\u001b[0m\u001b[0;34m(\u001b[0m\u001b[0mX\u001b[0m\u001b[0;34m,\u001b[0m \u001b[0maccept_sparse\u001b[0m\u001b[0;34m=\u001b[0m\u001b[0;34m\"csr\"\u001b[0m\u001b[0;34m,\u001b[0m \u001b[0mreset\u001b[0m\u001b[0;34m=\u001b[0m\u001b[0;32mFalse\u001b[0m\u001b[0;34m)\u001b[0m\u001b[0;34m\u001b[0m\u001b[0;34m\u001b[0m\u001b[0m\n",
      "\u001b[0;32m/opt/conda/lib/python3.9/site-packages/sklearn/utils/validation.py\u001b[0m in \u001b[0;36mcheck_is_fitted\u001b[0;34m(estimator, attributes, msg, all_or_any)\u001b[0m\n\u001b[1;32m   1206\u001b[0m \u001b[0;34m\u001b[0m\u001b[0m\n\u001b[1;32m   1207\u001b[0m     \u001b[0;32mif\u001b[0m \u001b[0;32mnot\u001b[0m \u001b[0mfitted\u001b[0m\u001b[0;34m:\u001b[0m\u001b[0;34m\u001b[0m\u001b[0;34m\u001b[0m\u001b[0m\n\u001b[0;32m-> 1208\u001b[0;31m         \u001b[0;32mraise\u001b[0m \u001b[0mNotFittedError\u001b[0m\u001b[0;34m(\u001b[0m\u001b[0mmsg\u001b[0m \u001b[0;34m%\u001b[0m \u001b[0;34m{\u001b[0m\u001b[0;34m\"name\"\u001b[0m\u001b[0;34m:\u001b[0m \u001b[0mtype\u001b[0m\u001b[0;34m(\u001b[0m\u001b[0mestimator\u001b[0m\u001b[0;34m)\u001b[0m\u001b[0;34m.\u001b[0m\u001b[0m__name__\u001b[0m\u001b[0;34m}\u001b[0m\u001b[0;34m)\u001b[0m\u001b[0;34m\u001b[0m\u001b[0;34m\u001b[0m\u001b[0m\n\u001b[0m\u001b[1;32m   1209\u001b[0m \u001b[0;34m\u001b[0m\u001b[0m\n\u001b[1;32m   1210\u001b[0m \u001b[0;34m\u001b[0m\u001b[0m\n",
      "\u001b[0;31mNotFittedError\u001b[0m: This LinearSVC instance is not fitted yet. Call 'fit' with appropriate arguments before using this estimator."
     ]
    }
   ],
   "source": [
    "predicted = lsvc.predict(x_test_tfidf)\n",
    "acc_svc = accuracy_score(y_test, predicted)\n",
    "print(\"정확도: \", acc_svc)"
   ]
  },
  {
   "cell_type": "markdown",
   "id": "fa0b5e29",
   "metadata": {},
   "source": [
    "### CalibratedClassifierCV 적용 "
   ]
  },
  {
   "cell_type": "code",
   "execution_count": 41,
   "id": "c22c52e2",
   "metadata": {},
   "outputs": [
    {
     "name": "stderr",
     "output_type": "stream",
     "text": [
      "/opt/conda/lib/python3.9/site-packages/sklearn/svm/_base.py:1199: ConvergenceWarning: Liblinear failed to converge, increase the number of iterations.\n",
      "  warnings.warn(\n",
      "/opt/conda/lib/python3.9/site-packages/sklearn/svm/_base.py:1199: ConvergenceWarning: Liblinear failed to converge, increase the number of iterations.\n",
      "  warnings.warn(\n",
      "/opt/conda/lib/python3.9/site-packages/sklearn/svm/_base.py:1199: ConvergenceWarning: Liblinear failed to converge, increase the number of iterations.\n",
      "  warnings.warn(\n",
      "/opt/conda/lib/python3.9/site-packages/sklearn/svm/_base.py:1199: ConvergenceWarning: Liblinear failed to converge, increase the number of iterations.\n",
      "  warnings.warn(\n"
     ]
    },
    {
     "name": "stdout",
     "output_type": "stream",
     "text": [
      "training time for CalibratedSVC: 397.05 초\n"
     ]
    },
    {
     "name": "stderr",
     "output_type": "stream",
     "text": [
      "/opt/conda/lib/python3.9/site-packages/sklearn/svm/_base.py:1199: ConvergenceWarning: Liblinear failed to converge, increase the number of iterations.\n",
      "  warnings.warn(\n"
     ]
    }
   ],
   "source": [
    "from sklearn.calibration import CalibratedClassifierCV\n",
    "\n",
    "start_time = time.time()\n",
    "lsvc = LinearSVC(C=1000, penalty='l1', max_iter=3000, dual=False)\n",
    "calibrated_model = CalibratedClassifierCV(lsvc, cv = 5)\n",
    "calibrated_model.fit(x_train_tfidf, y_train)\n",
    "end_time = time.time()\n",
    "learning_time_ccsvc = end_time - start_time\n",
    "\n",
    "print(f\"training time for CalibratedSVC:{learning_time_ccsvc: .2f} 초\")"
   ]
  },
  {
   "cell_type": "code",
   "execution_count": 112,
   "id": "17ebe217",
   "metadata": {},
   "outputs": [
    {
     "name": "stdout",
     "output_type": "stream",
     "text": [
      "정확도:  0.7991985752448798\n",
      "f1-score:  0.7897576909777327\n",
      "              precision    recall  f1-score   support\n",
      "\n",
      "           0       0.89      0.67      0.76        12\n",
      "           1       0.75      0.75      0.75       105\n",
      "           2       0.68      0.75      0.71        20\n",
      "           3       0.89      0.94      0.91       813\n",
      "           4       0.78      0.88      0.83       474\n",
      "           5       0.00      0.00      0.00         5\n",
      "           6       0.92      0.86      0.89        14\n",
      "           7       1.00      0.33      0.50         3\n",
      "           8       0.65      0.68      0.67        38\n",
      "           9       0.91      0.80      0.85        25\n",
      "          10       0.96      0.83      0.89        30\n",
      "          11       0.66      0.73      0.70        83\n",
      "          12       0.50      0.31      0.38        13\n",
      "          13       0.64      0.57      0.60        37\n",
      "          14       1.00      1.00      1.00         2\n",
      "          15       0.67      0.22      0.33         9\n",
      "          16       0.70      0.73      0.71        99\n",
      "          17       0.80      0.33      0.47        12\n",
      "          18       0.93      0.65      0.76        20\n",
      "          19       0.64      0.72      0.68       133\n",
      "          20       0.60      0.41      0.49        70\n",
      "          21       0.66      0.78      0.71        27\n",
      "          22       1.00      0.14      0.25         7\n",
      "          23       0.70      0.58      0.64        12\n",
      "          24       0.69      0.47      0.56        19\n",
      "          25       0.92      0.71      0.80        31\n",
      "          26       0.88      0.88      0.88         8\n",
      "          27       1.00      0.50      0.67         4\n",
      "          28       0.38      0.30      0.33        10\n",
      "          29       0.50      0.75      0.60         4\n",
      "          30       1.00      0.42      0.59        12\n",
      "          31       0.88      0.54      0.67        13\n",
      "          32       1.00      0.90      0.95        10\n",
      "          33       0.80      0.80      0.80         5\n",
      "          34       1.00      0.29      0.44         7\n",
      "          35       1.00      0.17      0.29         6\n",
      "          36       0.75      0.27      0.40        11\n",
      "          37       0.50      0.50      0.50         2\n",
      "          38       1.00      0.33      0.50         3\n",
      "          39       1.00      0.40      0.57         5\n",
      "          40       1.00      0.20      0.33        10\n",
      "          41       0.80      0.50      0.62         8\n",
      "          42       1.00      0.33      0.50         3\n",
      "          43       0.86      1.00      0.92         6\n",
      "          44       1.00      0.80      0.89         5\n",
      "          45       1.00      1.00      1.00         1\n",
      "\n",
      "    accuracy                           0.80      2246\n",
      "   macro avg       0.80      0.58      0.64      2246\n",
      "weighted avg       0.80      0.80      0.79      2246\n",
      "\n"
     ]
    }
   ],
   "source": [
    "predicted = calibrated_model.predict(x_test_tfidf)\n",
    "acc_ccsvc = accuracy_score(y_test, predicted)\n",
    "f1_ccsv = f1_score(y_test, predicted, average = 'weighted')\n",
    "print(\"정확도: \", acc_ccsvc)\n",
    "print(\"f1-score: \", f1_ccsv)\n",
    "print(classification_report(y_test, predicted, zero_division = 0))"
   ]
  },
  {
   "cell_type": "markdown",
   "id": "f185d790",
   "metadata": {},
   "source": [
    "### Voting"
   ]
  },
  {
   "cell_type": "code",
   "execution_count": 43,
   "id": "32e8c4ec",
   "metadata": {},
   "outputs": [
    {
     "name": "stderr",
     "output_type": "stream",
     "text": [
      "/opt/conda/lib/python3.9/site-packages/sklearn/svm/_base.py:1199: ConvergenceWarning: Liblinear failed to converge, increase the number of iterations.\n",
      "  warnings.warn(\n",
      "/opt/conda/lib/python3.9/site-packages/sklearn/svm/_base.py:1199: ConvergenceWarning: Liblinear failed to converge, increase the number of iterations.\n",
      "  warnings.warn(\n",
      "/opt/conda/lib/python3.9/site-packages/sklearn/svm/_base.py:1199: ConvergenceWarning: Liblinear failed to converge, increase the number of iterations.\n",
      "  warnings.warn(\n",
      "/opt/conda/lib/python3.9/site-packages/sklearn/svm/_base.py:1199: ConvergenceWarning: Liblinear failed to converge, increase the number of iterations.\n",
      "  warnings.warn(\n"
     ]
    },
    {
     "name": "stdout",
     "output_type": "stream",
     "text": [
      "training time for SVC: 1232.88 초\n"
     ]
    },
    {
     "name": "stderr",
     "output_type": "stream",
     "text": [
      "/opt/conda/lib/python3.9/site-packages/sklearn/svm/_base.py:1199: ConvergenceWarning: Liblinear failed to converge, increase the number of iterations.\n",
      "  warnings.warn(\n"
     ]
    }
   ],
   "source": [
    "start_time = time.time()\n",
    "voting_classifier = VotingClassifier(\n",
    "    estimators = [\n",
    "    ('lr', lr), ('rf', rf), ('ccsvc', calibrated_model)],\n",
    "    voting = 'soft'\n",
    ")\n",
    "voting_classifier.fit(x_train_tfidf, y_train)\n",
    "end_time = time.time()\n",
    "learning_time_voting = end_time - start_time\n",
    "\n",
    "print(f\"training time for SVC:{learning_time_voting: .2f} 초\")"
   ]
  },
  {
   "cell_type": "code",
   "execution_count": 114,
   "id": "d6fe3a5e",
   "metadata": {},
   "outputs": [
    {
     "name": "stdout",
     "output_type": "stream",
     "text": [
      "정확도:  0.8143365983971504\n",
      "f1-score:  0.8074185434484336\n",
      "              precision    recall  f1-score   support\n",
      "\n",
      "           0       0.89      0.67      0.76        12\n",
      "           1       0.74      0.80      0.77       105\n",
      "           2       0.74      0.70      0.72        20\n",
      "           3       0.91      0.93      0.92       813\n",
      "           4       0.79      0.88      0.84       474\n",
      "           5       0.00      0.00      0.00         5\n",
      "           6       0.93      0.93      0.93        14\n",
      "           7       1.00      0.33      0.50         3\n",
      "           8       0.70      0.74      0.72        38\n",
      "           9       0.85      0.88      0.86        25\n",
      "          10       0.93      0.87      0.90        30\n",
      "          11       0.65      0.75      0.70        83\n",
      "          12       0.57      0.31      0.40        13\n",
      "          13       0.66      0.62      0.64        37\n",
      "          14       0.50      0.50      0.50         2\n",
      "          15       0.80      0.44      0.57         9\n",
      "          16       0.70      0.77      0.73        99\n",
      "          17       0.88      0.58      0.70        12\n",
      "          18       0.93      0.65      0.76        20\n",
      "          19       0.70      0.71      0.71       133\n",
      "          20       0.63      0.51      0.57        70\n",
      "          21       0.72      0.78      0.75        27\n",
      "          22       1.00      0.14      0.25         7\n",
      "          23       0.67      0.67      0.67        12\n",
      "          24       0.71      0.53      0.61        19\n",
      "          25       0.92      0.71      0.80        31\n",
      "          26       1.00      0.88      0.93         8\n",
      "          27       1.00      0.25      0.40         4\n",
      "          28       0.60      0.30      0.40        10\n",
      "          29       0.50      0.75      0.60         4\n",
      "          30       1.00      0.67      0.80        12\n",
      "          31       0.89      0.62      0.73        13\n",
      "          32       1.00      0.80      0.89        10\n",
      "          33       0.80      0.80      0.80         5\n",
      "          34       0.67      0.29      0.40         7\n",
      "          35       1.00      0.33      0.50         6\n",
      "          36       0.50      0.27      0.35        11\n",
      "          37       1.00      0.50      0.67         2\n",
      "          38       0.50      0.33      0.40         3\n",
      "          39       1.00      0.20      0.33         5\n",
      "          40       1.00      0.30      0.46        10\n",
      "          41       0.80      0.50      0.62         8\n",
      "          42       1.00      0.67      0.80         3\n",
      "          43       0.86      1.00      0.92         6\n",
      "          44       0.67      0.80      0.73         5\n",
      "          45       1.00      1.00      1.00         1\n",
      "\n",
      "    accuracy                           0.81      2246\n",
      "   macro avg       0.79      0.60      0.65      2246\n",
      "weighted avg       0.81      0.81      0.81      2246\n",
      "\n"
     ]
    }
   ],
   "source": [
    "predicted = voting_classifier.predict(x_test_tfidf)\n",
    "acc_voting = accuracy_score(y_test, predicted)\n",
    "f1_voting = f1_score(y_test, predicted, average = 'weighted')\n",
    "print(\"정확도: \", acc_voting)\n",
    "print(\"f1-score: \", f1_voting)\n",
    "print(classification_report(y_test, predicted, zero_division = 0))"
   ]
  },
  {
   "cell_type": "markdown",
   "id": "a9d721e7",
   "metadata": {},
   "source": [
    "### DeepLearning - LSTM\n",
    "1. x_train, x_test 그대로 사용\n",
    "    - 로이터 데이터는 load할 때, num_words가 넘는 단어는 자동으로 <unk> 토큰 처리함\n",
    "2. sequence_length 비교 후 max_length 지정\n",
    "3. padding 토큰 추가 "
   ]
  },
  {
   "cell_type": "code",
   "execution_count": 47,
   "id": "2548c17f",
   "metadata": {},
   "outputs": [
    {
     "data": {
      "text/plain": [
       "([1,\n",
       "  27595,\n",
       "  28842,\n",
       "  8,\n",
       "  43,\n",
       "  10,\n",
       "  447,\n",
       "  5,\n",
       "  25,\n",
       "  207,\n",
       "  270,\n",
       "  5,\n",
       "  3095,\n",
       "  111,\n",
       "  16,\n",
       "  369,\n",
       "  186,\n",
       "  90,\n",
       "  67,\n",
       "  7,\n",
       "  89,\n",
       "  5,\n",
       "  19,\n",
       "  102,\n",
       "  6,\n",
       "  19,\n",
       "  124,\n",
       "  15,\n",
       "  90,\n",
       "  67,\n",
       "  84,\n",
       "  22,\n",
       "  482,\n",
       "  26,\n",
       "  7,\n",
       "  48,\n",
       "  4,\n",
       "  49,\n",
       "  8,\n",
       "  864,\n",
       "  39,\n",
       "  209,\n",
       "  154,\n",
       "  6,\n",
       "  151,\n",
       "  6,\n",
       "  83,\n",
       "  11,\n",
       "  15,\n",
       "  22,\n",
       "  155,\n",
       "  11,\n",
       "  15,\n",
       "  7,\n",
       "  48,\n",
       "  9,\n",
       "  4579,\n",
       "  1005,\n",
       "  504,\n",
       "  6,\n",
       "  258,\n",
       "  6,\n",
       "  272,\n",
       "  11,\n",
       "  15,\n",
       "  22,\n",
       "  134,\n",
       "  44,\n",
       "  11,\n",
       "  15,\n",
       "  16,\n",
       "  8,\n",
       "  197,\n",
       "  1245,\n",
       "  90,\n",
       "  67,\n",
       "  52,\n",
       "  29,\n",
       "  209,\n",
       "  30,\n",
       "  32,\n",
       "  132,\n",
       "  6,\n",
       "  109,\n",
       "  15,\n",
       "  17,\n",
       "  12],\n",
       " [1,\n",
       "  4,\n",
       "  1378,\n",
       "  2025,\n",
       "  9,\n",
       "  697,\n",
       "  4622,\n",
       "  111,\n",
       "  8,\n",
       "  25,\n",
       "  109,\n",
       "  29,\n",
       "  3650,\n",
       "  11,\n",
       "  150,\n",
       "  244,\n",
       "  364,\n",
       "  33,\n",
       "  30,\n",
       "  30,\n",
       "  1398,\n",
       "  333,\n",
       "  6,\n",
       "  18292,\n",
       "  159,\n",
       "  9,\n",
       "  1084,\n",
       "  363,\n",
       "  13,\n",
       "  19231,\n",
       "  71,\n",
       "  9,\n",
       "  16273,\n",
       "  71,\n",
       "  117,\n",
       "  4,\n",
       "  225,\n",
       "  78,\n",
       "  206,\n",
       "  10,\n",
       "  9,\n",
       "  1214,\n",
       "  8,\n",
       "  4,\n",
       "  270,\n",
       "  5,\n",
       "  16273,\n",
       "  7,\n",
       "  748,\n",
       "  48,\n",
       "  9,\n",
       "  19231,\n",
       "  7,\n",
       "  207,\n",
       "  1451,\n",
       "  966,\n",
       "  1864,\n",
       "  793,\n",
       "  97,\n",
       "  133,\n",
       "  336,\n",
       "  7,\n",
       "  4,\n",
       "  493,\n",
       "  98,\n",
       "  273,\n",
       "  104,\n",
       "  284,\n",
       "  25,\n",
       "  39,\n",
       "  338,\n",
       "  22,\n",
       "  905,\n",
       "  220,\n",
       "  3465,\n",
       "  644,\n",
       "  59,\n",
       "  20,\n",
       "  6,\n",
       "  119,\n",
       "  61,\n",
       "  11,\n",
       "  15,\n",
       "  58,\n",
       "  579,\n",
       "  26,\n",
       "  10,\n",
       "  67,\n",
       "  7,\n",
       "  4,\n",
       "  738,\n",
       "  98,\n",
       "  43,\n",
       "  88,\n",
       "  333,\n",
       "  722,\n",
       "  12,\n",
       "  20,\n",
       "  6,\n",
       "  19,\n",
       "  746,\n",
       "  35,\n",
       "  15,\n",
       "  10,\n",
       "  9,\n",
       "  1214,\n",
       "  855,\n",
       "  129,\n",
       "  783,\n",
       "  21,\n",
       "  4,\n",
       "  2280,\n",
       "  244,\n",
       "  364,\n",
       "  51,\n",
       "  16,\n",
       "  299,\n",
       "  452,\n",
       "  16,\n",
       "  515,\n",
       "  4,\n",
       "  99,\n",
       "  29,\n",
       "  5,\n",
       "  4,\n",
       "  364,\n",
       "  281,\n",
       "  48,\n",
       "  10,\n",
       "  9,\n",
       "  1214,\n",
       "  23,\n",
       "  644,\n",
       "  47,\n",
       "  20,\n",
       "  324,\n",
       "  27,\n",
       "  56,\n",
       "  23406,\n",
       "  28185,\n",
       "  5,\n",
       "  192,\n",
       "  510,\n",
       "  17,\n",
       "  12])"
      ]
     },
     "execution_count": 47,
     "metadata": {},
     "output_type": "execute_result"
    }
   ],
   "source": [
    "x_train[0], x_test[0]"
   ]
  },
  {
   "cell_type": "code",
   "execution_count": 51,
   "id": "0b7a3729",
   "metadata": {},
   "outputs": [
    {
     "data": {
      "image/png": "[encoded data removed]",
      "text/plain": [
       "<Figure size 864x432 with 1 Axes>"
      ]
     },
     "metadata": {
      "needs_background": "light"
     },
     "output_type": "display_data"
    }
   ],
   "source": [
    "from collections import Counter\n",
    "\n",
    "data = list(x_train) + list(x_test)\n",
    "num_tokens = [len(index_list) for index_list in data]\n",
    "\n",
    "tokens_counts = Counter(num_tokens)\n",
    "lengths = sorted(tokens_counts.keys())\n",
    "frequencies = [tokens_counts[length] for length in lengths]\n",
    "\n",
    "plt.figure(figsize = (12, 6))\n",
    "plt.bar(lengths, frequencies, color = 'blue')\n",
    "plt.title(\"Sentence Length Frequency\")\n",
    "plt.xlabel(\"Sentence Length\")\n",
    "plt.ylabel(\"Frequency\")\n",
    "plt.show()"
   ]
  },
  {
   "cell_type": "code",
   "execution_count": 52,
   "id": "86a1f277",
   "metadata": {},
   "outputs": [
    {
     "name": "stdout",
     "output_type": "stream",
     "text": [
      "min length : 2\n",
      "max length : 2376\n",
      "avg length : 145.96419665122906\n",
      "median length : 95.0\n"
     ]
    }
   ],
   "source": [
    "print(\"min length :\", np.min(num_tokens))\n",
    "print(\"max length :\", np.max(num_tokens))\n",
    "print(\"avg length :\", np.average(num_tokens))\n",
    "print(\"median length :\", np.median(num_tokens))"
   ]
  },
  {
   "cell_type": "code",
   "execution_count": 62,
   "id": "ff04d137",
   "metadata": {},
   "outputs": [
    {
     "data": {
      "text/plain": [
       "[2, 13, 15, 16, 17, 18, 19, 20, 21, 22]"
      ]
     },
     "execution_count": 62,
     "metadata": {},
     "output_type": "execute_result"
    }
   ],
   "source": [
    "# 하위 length 길이 확인\n",
    "lengths[:10]"
   ]
  },
  {
   "cell_type": "code",
   "execution_count": 53,
   "id": "283ab829",
   "metadata": {},
   "outputs": [
    {
     "data": {
      "text/plain": [
       "437.7211495431185"
      ]
     },
     "execution_count": 53,
     "metadata": {},
     "output_type": "execute_result"
    }
   ],
   "source": [
    "# 평균 + 2*표준편차\n",
    "np.average(num_tokens) + 2*np.std(num_tokens)"
   ]
  },
  {
   "cell_type": "code",
   "execution_count": 61,
   "id": "f47efdac",
   "metadata": {},
   "outputs": [
    {
     "name": "stdout",
     "output_type": "stream",
     "text": [
      "minlen: 10\n",
      "maxlen: 440\n",
      "valid %: 94.43% \n"
     ]
    }
   ],
   "source": [
    "minlen = 10\n",
    "maxlen = 440\n",
    "\n",
    "valid_cnt = len([length for length in num_tokens if minlen <= length <= maxlen])\n",
    "print(f'''minlen: {minlen}\n",
    "maxlen: {maxlen}\n",
    "valid %:{valid_cnt/len(num_tokens)*100: .2f}% ''')"
   ]
  },
  {
   "cell_type": "code",
   "execution_count": 76,
   "id": "eb8c7c40",
   "metadata": {},
   "outputs": [
    {
     "name": "stdout",
     "output_type": "stream",
     "text": [
      "원본 x_train 개수:  8982\n",
      "토큰개수 2 이하 시퀀스 삭제 후 x_train 개수:  8982\n"
     ]
    }
   ],
   "source": [
    "# x_train에서 토큰 개수 2이하인 데이터 삭제, max_length = 440 지정하여 패딩처리\n",
    "print(\"원본 x_train 개수: \", len(x_train))\n",
    "x_train = [index_list for index_list in x_train if len(index_list) > 3]\n",
    "print(\"토큰개수 2 이하 시퀀스 삭제 후 x_train 개수: \", len(x_train))"
   ]
  },
  {
   "cell_type": "markdown",
   "id": "43f7e9e6",
   "metadata": {},
   "source": [
    "- x_train에는 2이하의 토큰이 없었던 것 같다!\n",
    "- 2 이하의 시퀀스는 test 데이터셋에만 포함된 듯"
   ]
  },
  {
   "cell_type": "markdown",
   "id": "acfd100f",
   "metadata": {},
   "source": [
    "**최소 길이 데이터셋 확인**"
   ]
  },
  {
   "cell_type": "code",
   "execution_count": 80,
   "id": "8379e0f4",
   "metadata": {},
   "outputs": [
    {
     "data": {
      "text/plain": [
       "1"
      ]
     },
     "execution_count": 80,
     "metadata": {},
     "output_type": "execute_result"
    }
   ],
   "source": [
    "x_test_tmp = [index_list for index_list in x_test if len(index_list) <= 2]\n",
    "len(x_test_tmp)"
   ]
  },
  {
   "cell_type": "code",
   "execution_count": 81,
   "id": "f5e1d8a4",
   "metadata": {},
   "outputs": [
    {
     "data": {
      "text/plain": [
       "1"
      ]
     },
     "execution_count": 81,
     "metadata": {},
     "output_type": "execute_result"
    }
   ],
   "source": [
    "frequencies[0]"
   ]
  },
  {
   "cell_type": "markdown",
   "id": "57f00cf6",
   "metadata": {},
   "source": [
    "**패딩 추가**"
   ]
  },
  {
   "cell_type": "code",
   "execution_count": 82,
   "id": "d334e536",
   "metadata": {},
   "outputs": [],
   "source": [
    "# index_to_word 사용해서 word_to_index 만들기\n",
    "word_to_index = {word:index for index, word in index_to_word.items()}"
   ]
  },
  {
   "cell_type": "code",
   "execution_count": 83,
   "id": "311cd9c8",
   "metadata": {},
   "outputs": [],
   "source": [
    "x_train = tf.keras.preprocessing.sequence.pad_sequences(x_train, value = word_to_index[\"<pad>\"], padding = 'pre', maxlen = maxlen)\n",
    "x_test = tf.keras.preprocessing.sequence.pad_sequences(x_test, value = word_to_index[\"<pad>\"], padding = 'pre', maxlen = maxlen)"
   ]
  },
  {
   "cell_type": "markdown",
   "id": "397d3337",
   "metadata": {},
   "source": [
    "**train, val 데이터셋 나누기**"
   ]
  },
  {
   "cell_type": "code",
   "execution_count": 86,
   "id": "ba5cded5",
   "metadata": {},
   "outputs": [
    {
     "data": {
      "text/plain": [
       "((7185, 440), (7185,), (1797, 440), (1797,))"
      ]
     },
     "execution_count": 86,
     "metadata": {},
     "output_type": "execute_result"
    }
   ],
   "source": [
    "from sklearn.model_selection import train_test_split\n",
    "\n",
    "x_train_partial, x_val, y_train_partial, y_val = train_test_split(x_train, y_train, test_size = 0.2, random_state = 2024)\n",
    "x_train_partial.shape, y_train_partial.shape, x_val.shape, y_val.shape"
   ]
  },
  {
   "cell_type": "markdown",
   "id": "cf5299cf",
   "metadata": {},
   "source": [
    "### 모델 정의하기"
   ]
  },
  {
   "cell_type": "code",
   "execution_count": 88,
   "id": "a99ce839",
   "metadata": {},
   "outputs": [
    {
     "data": {
      "text/plain": [
       "46"
      ]
     },
     "execution_count": 88,
     "metadata": {},
     "output_type": "execute_result"
    }
   ],
   "source": [
    "# 레이블 개수\n",
    "np.max(y_train)+1"
   ]
  },
  {
   "cell_type": "code",
   "execution_count": 89,
   "id": "4afaa036",
   "metadata": {},
   "outputs": [
    {
     "name": "stdout",
     "output_type": "stream",
     "text": [
      "Model: \"sequential\"\n",
      "_________________________________________________________________\n",
      "Layer (type)                 Output Shape              Param #   \n",
      "=================================================================\n",
      "embedding (Embedding)        (None, None, 128)         3965696   \n",
      "_________________________________________________________________\n",
      "lstm (LSTM)                  (None, 128)               131584    \n",
      "_________________________________________________________________\n",
      "dense (Dense)                (None, 64)                8256      \n",
      "_________________________________________________________________\n",
      "dense_1 (Dense)              (None, 46)                2990      \n",
      "=================================================================\n",
      "Total params: 4,108,526\n",
      "Trainable params: 4,108,526\n",
      "Non-trainable params: 0\n",
      "_________________________________________________________________\n"
     ]
    }
   ],
   "source": [
    "vocab_size = len(word_to_index)\n",
    "word_vector_dim = 128\n",
    "\n",
    "model_rnn = tf.keras.Sequential([\n",
    "    tf.keras.layers.Embedding(vocab_size, word_vector_dim, input_shape = (None, )),\n",
    "    tf.keras.layers.LSTM(128),\n",
    "    tf.keras.layers.Dense(64, activation = \"relu\"),\n",
    "    tf.keras.layers.Dense(46, activation = \"softmax\")\n",
    "])\n",
    "\n",
    "model_rnn.summary()"
   ]
  },
  {
   "cell_type": "code",
   "execution_count": 90,
   "id": "1f7d5407",
   "metadata": {},
   "outputs": [],
   "source": [
    "from keras.callbacks import ModelCheckpoint\n",
    "checkpoint = ModelCheckpoint(\"best_model_rnn.keras\", monitor = \"val_accuracy\", verbose = 1, save_best_only = True)"
   ]
  },
  {
   "cell_type": "code",
   "execution_count": 93,
   "id": "24bed788",
   "metadata": {},
   "outputs": [
    {
     "name": "stdout",
     "output_type": "stream",
     "text": [
      "Epoch 1/100\n",
      "15/15 [==============================] - 39s 203ms/step - loss: 3.5819 - accuracy: 0.3240 - val_loss: 2.9010 - val_accuracy: 0.3589\n",
      "\n",
      "Epoch 00001: val_accuracy improved from -inf to 0.35893, saving model to best_model_rnn.keras\n",
      "Epoch 2/100\n",
      "15/15 [==============================] - 2s 110ms/step - loss: 2.7207 - accuracy: 0.3094 - val_loss: 2.5709 - val_accuracy: 0.3589\n",
      "\n",
      "Epoch 00002: val_accuracy did not improve from 0.35893\n",
      "Epoch 3/100\n",
      "15/15 [==============================] - 2s 102ms/step - loss: 2.4025 - accuracy: 0.3587 - val_loss: 2.2421 - val_accuracy: 0.4079\n",
      "\n",
      "Epoch 00003: val_accuracy improved from 0.35893 to 0.40790, saving model to best_model_rnn.keras\n",
      "Epoch 4/100\n",
      "15/15 [==============================] - 2s 105ms/step - loss: 2.0827 - accuracy: 0.4029 - val_loss: 2.0258 - val_accuracy: 0.4213\n",
      "\n",
      "Epoch 00004: val_accuracy improved from 0.40790 to 0.42126, saving model to best_model_rnn.keras\n",
      "Epoch 5/100\n",
      "15/15 [==============================] - 2s 108ms/step - loss: 1.8897 - accuracy: 0.4841 - val_loss: 1.9113 - val_accuracy: 0.4858\n",
      "\n",
      "Epoch 00005: val_accuracy improved from 0.42126 to 0.48581, saving model to best_model_rnn.keras\n",
      "Epoch 6/100\n",
      "15/15 [==============================] - 2s 109ms/step - loss: 1.8098 - accuracy: 0.5084 - val_loss: 1.8660 - val_accuracy: 0.4969\n",
      "\n",
      "Epoch 00006: val_accuracy improved from 0.48581 to 0.49694, saving model to best_model_rnn.keras\n",
      "Epoch 7/100\n",
      "15/15 [==============================] - 2s 113ms/step - loss: 1.6622 - accuracy: 0.5353 - val_loss: 1.8638 - val_accuracy: 0.5192\n",
      "\n",
      "Epoch 00007: val_accuracy improved from 0.49694 to 0.51920, saving model to best_model_rnn.keras\n",
      "Epoch 8/100\n",
      "15/15 [==============================] - 2s 108ms/step - loss: 1.5295 - accuracy: 0.5784 - val_loss: 1.8171 - val_accuracy: 0.5264\n",
      "\n",
      "Epoch 00008: val_accuracy improved from 0.51920 to 0.52643, saving model to best_model_rnn.keras\n",
      "Epoch 9/100\n",
      "15/15 [==============================] - 2s 103ms/step - loss: 1.4715 - accuracy: 0.5886 - val_loss: 1.8353 - val_accuracy: 0.5120\n",
      "\n",
      "Epoch 00009: val_accuracy did not improve from 0.52643\n",
      "Epoch 10/100\n",
      "15/15 [==============================] - 2s 105ms/step - loss: 1.3659 - accuracy: 0.6213 - val_loss: 2.4443 - val_accuracy: 0.4335\n",
      "\n",
      "Epoch 00010: val_accuracy did not improve from 0.52643\n",
      "Epoch 11/100\n",
      "15/15 [==============================] - 2s 110ms/step - loss: 1.5457 - accuracy: 0.5765 - val_loss: 1.8109 - val_accuracy: 0.5415\n",
      "\n",
      "Epoch 00011: val_accuracy improved from 0.52643 to 0.54146, saving model to best_model_rnn.keras\n",
      "Epoch 12/100\n",
      "15/15 [==============================] - 2s 111ms/step - loss: 1.3187 - accuracy: 0.6377 - val_loss: 1.8167 - val_accuracy: 0.5504\n",
      "\n",
      "Epoch 00012: val_accuracy improved from 0.54146 to 0.55036, saving model to best_model_rnn.keras\n",
      "Epoch 13/100\n",
      "15/15 [==============================] - 2s 105ms/step - loss: 2.1986 - accuracy: 0.4217 - val_loss: 2.5456 - val_accuracy: 0.2176\n",
      "\n",
      "Epoch 00013: val_accuracy did not improve from 0.55036\n",
      "Epoch 14/100\n",
      "15/15 [==============================] - 2s 108ms/step - loss: 2.1739 - accuracy: 0.3592 - val_loss: 2.2105 - val_accuracy: 0.3912\n",
      "\n",
      "Epoch 00014: val_accuracy did not improve from 0.55036\n",
      "Epoch 15/100\n",
      "15/15 [==============================] - 2s 104ms/step - loss: 1.9737 - accuracy: 0.3880 - val_loss: 2.1307 - val_accuracy: 0.3984\n",
      "\n",
      "Epoch 00015: val_accuracy did not improve from 0.55036\n",
      "Epoch 16/100\n",
      "15/15 [==============================] - 2s 111ms/step - loss: 2.0636 - accuracy: 0.3752 - val_loss: 2.0601 - val_accuracy: 0.4619\n",
      "\n",
      "Epoch 00016: val_accuracy did not improve from 0.55036\n",
      "Epoch 17/100\n",
      "15/15 [==============================] - 2s 107ms/step - loss: 1.8134 - accuracy: 0.5086 - val_loss: 1.8730 - val_accuracy: 0.4936\n",
      "\n",
      "Epoch 00017: val_accuracy did not improve from 0.55036\n",
      "Epoch 18/100\n",
      "15/15 [==============================] - 2s 110ms/step - loss: 1.5358 - accuracy: 0.5669 - val_loss: 1.9233 - val_accuracy: 0.5025\n",
      "\n",
      "Epoch 00018: val_accuracy did not improve from 0.55036\n",
      "Epoch 19/100\n",
      "15/15 [==============================] - 2s 109ms/step - loss: 1.4568 - accuracy: 0.5935 - val_loss: 1.9195 - val_accuracy: 0.5070\n",
      "\n",
      "Epoch 00019: val_accuracy did not improve from 0.55036\n",
      "Epoch 20/100\n",
      "15/15 [==============================] - 2s 107ms/step - loss: 1.4105 - accuracy: 0.5976 - val_loss: 1.8984 - val_accuracy: 0.4986\n",
      "\n",
      "Epoch 00020: val_accuracy did not improve from 0.55036\n",
      "Epoch 21/100\n",
      "15/15 [==============================] - 2s 108ms/step - loss: 1.3494 - accuracy: 0.6170 - val_loss: 1.8523 - val_accuracy: 0.5253\n",
      "\n",
      "Epoch 00021: val_accuracy did not improve from 0.55036\n",
      "Epoch 22/100\n",
      "15/15 [==============================] - 2s 108ms/step - loss: 1.2345 - accuracy: 0.6498 - val_loss: 2.3325 - val_accuracy: 0.5314\n",
      "\n",
      "Epoch 00022: val_accuracy did not improve from 0.55036\n",
      "Epoch 23/100\n",
      "15/15 [==============================] - 2s 105ms/step - loss: 1.5627 - accuracy: 0.5833 - val_loss: 1.7895 - val_accuracy: 0.5426\n",
      "\n",
      "Epoch 00023: val_accuracy did not improve from 0.55036\n",
      "Epoch 24/100\n",
      "15/15 [==============================] - 2s 114ms/step - loss: 1.2686 - accuracy: 0.6398 - val_loss: 1.8476 - val_accuracy: 0.5470\n",
      "\n",
      "Epoch 00024: val_accuracy did not improve from 0.55036\n",
      "Epoch 25/100\n",
      "15/15 [==============================] - 2s 107ms/step - loss: 1.1710 - accuracy: 0.6696 - val_loss: 1.8914 - val_accuracy: 0.5437\n",
      "\n",
      "Epoch 00025: val_accuracy did not improve from 0.55036\n",
      "Epoch 26/100\n",
      "15/15 [==============================] - 2s 113ms/step - loss: 1.1218 - accuracy: 0.6966 - val_loss: 1.9346 - val_accuracy: 0.5437\n",
      "\n",
      "Epoch 00026: val_accuracy did not improve from 0.55036\n",
      "Epoch 27/100\n",
      "15/15 [==============================] - 2s 110ms/step - loss: 1.0722 - accuracy: 0.7035 - val_loss: 1.9093 - val_accuracy: 0.5587\n",
      "\n",
      "Epoch 00027: val_accuracy improved from 0.55036 to 0.55871, saving model to best_model_rnn.keras\n",
      "Epoch 28/100\n",
      "15/15 [==============================] - 2s 106ms/step - loss: 1.0294 - accuracy: 0.7276 - val_loss: 1.9745 - val_accuracy: 0.5576\n",
      "\n",
      "Epoch 00028: val_accuracy did not improve from 0.55871\n",
      "Epoch 29/100\n",
      "15/15 [==============================] - 2s 109ms/step - loss: 0.9896 - accuracy: 0.7365 - val_loss: 2.0116 - val_accuracy: 0.5487\n",
      "\n",
      "Epoch 00029: val_accuracy did not improve from 0.55871\n",
      "Epoch 30/100\n",
      "15/15 [==============================] - 2s 109ms/step - loss: 0.9474 - accuracy: 0.7457 - val_loss: 2.0395 - val_accuracy: 0.5637\n",
      "\n",
      "Epoch 00030: val_accuracy improved from 0.55871 to 0.56372, saving model to best_model_rnn.keras\n",
      "Epoch 31/100\n",
      "15/15 [==============================] - 2s 105ms/step - loss: 0.9047 - accuracy: 0.7545 - val_loss: 2.1110 - val_accuracy: 0.5526\n",
      "\n",
      "Epoch 00031: val_accuracy did not improve from 0.56372\n",
      "Epoch 32/100\n",
      "15/15 [==============================] - 2s 111ms/step - loss: 0.8661 - accuracy: 0.7651 - val_loss: 2.1267 - val_accuracy: 0.5643\n",
      "\n",
      "Epoch 00032: val_accuracy improved from 0.56372 to 0.56427, saving model to best_model_rnn.keras\n",
      "Epoch 33/100\n",
      "15/15 [==============================] - 2s 108ms/step - loss: 0.8278 - accuracy: 0.7720 - val_loss: 2.2268 - val_accuracy: 0.5609\n",
      "\n",
      "Epoch 00033: val_accuracy did not improve from 0.56427\n",
      "Epoch 34/100\n",
      "15/15 [==============================] - 2s 110ms/step - loss: 0.7867 - accuracy: 0.7807 - val_loss: 2.2866 - val_accuracy: 0.5665\n",
      "\n",
      "Epoch 00034: val_accuracy improved from 0.56427 to 0.56650, saving model to best_model_rnn.keras\n",
      "Epoch 35/100\n",
      "15/15 [==============================] - 2s 111ms/step - loss: 0.7582 - accuracy: 0.7871 - val_loss: 2.3720 - val_accuracy: 0.5615\n",
      "\n",
      "Epoch 00035: val_accuracy did not improve from 0.56650\n",
      "Epoch 36/100\n",
      "15/15 [==============================] - 2s 105ms/step - loss: 0.7501 - accuracy: 0.7901 - val_loss: 2.4063 - val_accuracy: 0.5643\n",
      "\n",
      "Epoch 00036: val_accuracy did not improve from 0.56650\n",
      "Epoch 37/100\n",
      "15/15 [==============================] - 2s 107ms/step - loss: 0.7446 - accuracy: 0.7911 - val_loss: 2.5273 - val_accuracy: 0.5587\n",
      "\n",
      "Epoch 00037: val_accuracy did not improve from 0.56650\n",
      "Epoch 38/100\n",
      "15/15 [==============================] - 2s 104ms/step - loss: 0.7527 - accuracy: 0.7953 - val_loss: 2.4877 - val_accuracy: 0.5576\n",
      "\n",
      "Epoch 00038: val_accuracy did not improve from 0.56650\n",
      "Epoch 39/100\n",
      "15/15 [==============================] - 2s 111ms/step - loss: 0.7481 - accuracy: 0.7916 - val_loss: 2.5812 - val_accuracy: 0.5576\n",
      "\n",
      "Epoch 00039: val_accuracy did not improve from 0.56650\n",
      "Epoch 40/100\n",
      "15/15 [==============================] - 2s 111ms/step - loss: 0.6931 - accuracy: 0.8104 - val_loss: 2.5113 - val_accuracy: 0.5593\n",
      "\n",
      "Epoch 00040: val_accuracy did not improve from 0.56650\n",
      "Epoch 41/100\n",
      "15/15 [==============================] - 2s 107ms/step - loss: 0.6518 - accuracy: 0.8309 - val_loss: 2.5844 - val_accuracy: 0.5698\n",
      "\n",
      "Epoch 00041: val_accuracy improved from 0.56650 to 0.56984, saving model to best_model_rnn.keras\n",
      "Epoch 42/100\n",
      "15/15 [==============================] - 2s 109ms/step - loss: 0.6208 - accuracy: 0.8402 - val_loss: 2.6361 - val_accuracy: 0.5598\n",
      "\n",
      "Epoch 00042: val_accuracy did not improve from 0.56984\n",
      "Epoch 43/100\n",
      "15/15 [==============================] - 2s 108ms/step - loss: 0.5946 - accuracy: 0.8482 - val_loss: 2.7124 - val_accuracy: 0.5637\n",
      "\n",
      "Epoch 00043: val_accuracy did not improve from 0.56984\n",
      "Epoch 44/100\n",
      "15/15 [==============================] - 2s 110ms/step - loss: 0.5695 - accuracy: 0.8514 - val_loss: 2.7939 - val_accuracy: 0.5698\n",
      "\n",
      "Epoch 00044: val_accuracy did not improve from 0.56984\n",
      "Epoch 45/100\n",
      "15/15 [==============================] - 2s 112ms/step - loss: 0.5922 - accuracy: 0.8390 - val_loss: 2.8127 - val_accuracy: 0.5637\n",
      "\n",
      "Epoch 00045: val_accuracy did not improve from 0.56984\n",
      "Epoch 46/100\n",
      "15/15 [==============================] - 2s 109ms/step - loss: 0.5435 - accuracy: 0.8562 - val_loss: 2.9049 - val_accuracy: 0.5587\n",
      "\n",
      "Epoch 00046: val_accuracy did not improve from 0.56984\n",
      "Epoch 47/100\n",
      "15/15 [==============================] - 2s 108ms/step - loss: 0.5105 - accuracy: 0.8728 - val_loss: 2.9524 - val_accuracy: 0.5626\n",
      "\n",
      "Epoch 00047: val_accuracy did not improve from 0.56984\n",
      "Epoch 48/100\n",
      "15/15 [==============================] - 2s 107ms/step - loss: 0.4824 - accuracy: 0.8823 - val_loss: 3.0263 - val_accuracy: 0.5710\n",
      "\n",
      "Epoch 00048: val_accuracy improved from 0.56984 to 0.57095, saving model to best_model_rnn.keras\n",
      "Epoch 49/100\n",
      "15/15 [==============================] - 2s 108ms/step - loss: 0.4822 - accuracy: 0.8834 - val_loss: 3.1032 - val_accuracy: 0.5654\n",
      "\n",
      "Epoch 00049: val_accuracy did not improve from 0.57095\n",
      "Epoch 50/100\n",
      "15/15 [==============================] - 2s 108ms/step - loss: 0.4514 - accuracy: 0.8917 - val_loss: 3.1806 - val_accuracy: 0.5654\n",
      "\n",
      "Epoch 00050: val_accuracy did not improve from 0.57095\n",
      "Epoch 51/100\n",
      "15/15 [==============================] - 2s 108ms/step - loss: 0.4308 - accuracy: 0.8912 - val_loss: 3.1374 - val_accuracy: 0.5687\n",
      "\n",
      "Epoch 00051: val_accuracy did not improve from 0.57095\n",
      "Epoch 52/100\n",
      "15/15 [==============================] - 2s 110ms/step - loss: 0.4154 - accuracy: 0.8963 - val_loss: 3.2238 - val_accuracy: 0.5676\n",
      "\n",
      "Epoch 00052: val_accuracy did not improve from 0.57095\n",
      "Epoch 53/100\n",
      "15/15 [==============================] - 2s 107ms/step - loss: 0.3977 - accuracy: 0.9010 - val_loss: 3.2841 - val_accuracy: 0.5682\n",
      "\n",
      "Epoch 00053: val_accuracy did not improve from 0.57095\n",
      "Epoch 54/100\n",
      "15/15 [==============================] - 2s 112ms/step - loss: 0.3860 - accuracy: 0.9054 - val_loss: 3.2714 - val_accuracy: 0.5721\n",
      "\n",
      "Epoch 00054: val_accuracy improved from 0.57095 to 0.57206, saving model to best_model_rnn.keras\n",
      "Epoch 55/100\n",
      "15/15 [==============================] - 2s 109ms/step - loss: 0.3808 - accuracy: 0.9062 - val_loss: 3.5220 - val_accuracy: 0.5504\n",
      "\n",
      "Epoch 00055: val_accuracy did not improve from 0.57206\n",
      "Epoch 56/100\n",
      "15/15 [==============================] - 2s 110ms/step - loss: 0.3852 - accuracy: 0.9051 - val_loss: 3.3264 - val_accuracy: 0.5682\n",
      "\n",
      "Epoch 00056: val_accuracy did not improve from 0.57206\n",
      "Epoch 57/100\n",
      "15/15 [==============================] - 2s 107ms/step - loss: 0.4090 - accuracy: 0.8932 - val_loss: 3.4992 - val_accuracy: 0.5604\n",
      "\n",
      "Epoch 00057: val_accuracy did not improve from 0.57206\n",
      "Epoch 58/100\n",
      "15/15 [==============================] - 2s 109ms/step - loss: 0.3943 - accuracy: 0.8937 - val_loss: 3.5433 - val_accuracy: 0.5593\n",
      "\n",
      "Epoch 00058: val_accuracy did not improve from 0.57206\n",
      "Epoch 59/100\n",
      "15/15 [==============================] - 2s 108ms/step - loss: 0.4043 - accuracy: 0.8913 - val_loss: 3.3622 - val_accuracy: 0.5637\n",
      "\n",
      "Epoch 00059: val_accuracy did not improve from 0.57206\n",
      "Epoch 60/100\n",
      "15/15 [==============================] - 2s 111ms/step - loss: 0.3641 - accuracy: 0.9080 - val_loss: 3.5542 - val_accuracy: 0.5531\n",
      "\n",
      "Epoch 00060: val_accuracy did not improve from 0.57206\n",
      "Epoch 61/100\n",
      "15/15 [==============================] - 2s 116ms/step - loss: 0.3612 - accuracy: 0.9058 - val_loss: 3.3441 - val_accuracy: 0.5715\n",
      "\n",
      "Epoch 00061: val_accuracy did not improve from 0.57206\n",
      "Epoch 62/100\n",
      "15/15 [==============================] - 2s 107ms/step - loss: 0.3282 - accuracy: 0.9164 - val_loss: 3.2963 - val_accuracy: 0.5804\n",
      "\n",
      "Epoch 00062: val_accuracy improved from 0.57206 to 0.58041, saving model to best_model_rnn.keras\n",
      "Epoch 63/100\n",
      "15/15 [==============================] - 2s 112ms/step - loss: 0.3389 - accuracy: 0.9122 - val_loss: 3.4838 - val_accuracy: 0.5609\n",
      "\n",
      "Epoch 00063: val_accuracy did not improve from 0.58041\n",
      "Epoch 64/100\n",
      "15/15 [==============================] - 2s 107ms/step - loss: 0.3267 - accuracy: 0.9201 - val_loss: 3.5325 - val_accuracy: 0.5637\n",
      "\n",
      "Epoch 00064: val_accuracy did not improve from 0.58041\n",
      "Epoch 65/100\n",
      "15/15 [==============================] - 2s 109ms/step - loss: 0.3023 - accuracy: 0.9243 - val_loss: 3.4192 - val_accuracy: 0.5704\n",
      "\n",
      "Epoch 00065: val_accuracy did not improve from 0.58041\n",
      "Epoch 66/100\n",
      "15/15 [==============================] - 2s 113ms/step - loss: 0.2804 - accuracy: 0.9332 - val_loss: 3.4568 - val_accuracy: 0.5704\n",
      "\n",
      "Epoch 00066: val_accuracy did not improve from 0.58041\n",
      "Epoch 67/100\n",
      "15/15 [==============================] - 2s 107ms/step - loss: 0.2654 - accuracy: 0.9367 - val_loss: 3.5436 - val_accuracy: 0.5687\n",
      "\n",
      "Epoch 00067: val_accuracy did not improve from 0.58041\n",
      "Epoch 68/100\n",
      "15/15 [==============================] - 2s 111ms/step - loss: 0.2509 - accuracy: 0.9403 - val_loss: 3.6221 - val_accuracy: 0.5693\n",
      "\n",
      "Epoch 00068: val_accuracy did not improve from 0.58041\n",
      "Epoch 69/100\n",
      "15/15 [==============================] - 2s 113ms/step - loss: 0.2617 - accuracy: 0.9364 - val_loss: 3.7646 - val_accuracy: 0.5609\n",
      "\n",
      "Epoch 00069: val_accuracy did not improve from 0.58041\n",
      "Epoch 70/100\n",
      "15/15 [==============================] - 2s 116ms/step - loss: 0.2545 - accuracy: 0.9367 - val_loss: 3.8122 - val_accuracy: 0.5565\n",
      "\n",
      "Epoch 00070: val_accuracy did not improve from 0.58041\n",
      "Epoch 71/100\n",
      "15/15 [==============================] - 2s 112ms/step - loss: 0.2358 - accuracy: 0.9453 - val_loss: 3.6881 - val_accuracy: 0.5676\n",
      "\n",
      "Epoch 00071: val_accuracy did not improve from 0.58041\n",
      "Epoch 72/100\n",
      "15/15 [==============================] - 2s 107ms/step - loss: 0.2438 - accuracy: 0.9404 - val_loss: 3.8332 - val_accuracy: 0.5665\n",
      "\n",
      "Epoch 00072: val_accuracy did not improve from 0.58041\n",
      "Epoch 73/100\n",
      "15/15 [==============================] - 2s 112ms/step - loss: 0.2267 - accuracy: 0.9478 - val_loss: 3.8989 - val_accuracy: 0.5565\n",
      "\n",
      "Epoch 00073: val_accuracy did not improve from 0.58041\n",
      "Epoch 74/100\n",
      "15/15 [==============================] - 2s 107ms/step - loss: 0.2098 - accuracy: 0.9498 - val_loss: 3.8178 - val_accuracy: 0.5715\n",
      "\n",
      "Epoch 00074: val_accuracy did not improve from 0.58041\n",
      "Epoch 75/100\n",
      "15/15 [==============================] - 2s 119ms/step - loss: 0.2119 - accuracy: 0.9474 - val_loss: 3.8165 - val_accuracy: 0.5704\n",
      "\n",
      "Epoch 00075: val_accuracy did not improve from 0.58041\n",
      "Epoch 76/100\n",
      "15/15 [==============================] - 2s 104ms/step - loss: 0.2052 - accuracy: 0.9510 - val_loss: 3.9848 - val_accuracy: 0.5593\n",
      "\n",
      "Epoch 00076: val_accuracy did not improve from 0.58041\n",
      "Epoch 77/100\n",
      "15/15 [==============================] - 2s 110ms/step - loss: 0.2062 - accuracy: 0.9492 - val_loss: 4.0739 - val_accuracy: 0.5726\n",
      "\n",
      "Epoch 00077: val_accuracy did not improve from 0.58041\n",
      "Epoch 78/100\n",
      "15/15 [==============================] - 2s 110ms/step - loss: 0.2250 - accuracy: 0.9432 - val_loss: 3.8896 - val_accuracy: 0.5582\n",
      "\n",
      "Epoch 00078: val_accuracy did not improve from 0.58041\n",
      "Epoch 79/100\n",
      "15/15 [==============================] - 2s 110ms/step - loss: 0.2193 - accuracy: 0.9484 - val_loss: 3.9812 - val_accuracy: 0.5710\n",
      "\n",
      "Epoch 00079: val_accuracy did not improve from 0.58041\n",
      "Epoch 80/100\n",
      "15/15 [==============================] - 2s 111ms/step - loss: 0.1907 - accuracy: 0.9546 - val_loss: 4.0094 - val_accuracy: 0.5626\n",
      "\n",
      "Epoch 00080: val_accuracy did not improve from 0.58041\n",
      "Epoch 81/100\n",
      "15/15 [==============================] - 2s 107ms/step - loss: 0.1814 - accuracy: 0.9557 - val_loss: 4.1017 - val_accuracy: 0.5531\n",
      "\n",
      "Epoch 00081: val_accuracy did not improve from 0.58041\n",
      "Epoch 82/100\n",
      "15/15 [==============================] - 2s 108ms/step - loss: 0.1817 - accuracy: 0.9545 - val_loss: 4.0878 - val_accuracy: 0.5654\n",
      "\n",
      "Epoch 00082: val_accuracy did not improve from 0.58041\n",
      "Epoch 83/100\n",
      "15/15 [==============================] - 2s 107ms/step - loss: 0.1681 - accuracy: 0.9580 - val_loss: 4.0594 - val_accuracy: 0.5693\n",
      "\n",
      "Epoch 00083: val_accuracy did not improve from 0.58041\n",
      "Epoch 84/100\n",
      "15/15 [==============================] - 2s 111ms/step - loss: 0.1573 - accuracy: 0.9598 - val_loss: 4.1379 - val_accuracy: 0.5626\n",
      "\n",
      "Epoch 00084: val_accuracy did not improve from 0.58041\n",
      "Epoch 85/100\n",
      "15/15 [==============================] - 2s 111ms/step - loss: 0.1538 - accuracy: 0.9606 - val_loss: 4.1553 - val_accuracy: 0.5721\n",
      "\n",
      "Epoch 00085: val_accuracy did not improve from 0.58041\n",
      "Epoch 86/100\n",
      "15/15 [==============================] - 2s 109ms/step - loss: 0.1518 - accuracy: 0.9605 - val_loss: 4.2305 - val_accuracy: 0.5576\n",
      "\n",
      "Epoch 00086: val_accuracy did not improve from 0.58041\n",
      "Epoch 87/100\n",
      "15/15 [==============================] - 2s 114ms/step - loss: 0.1473 - accuracy: 0.9633 - val_loss: 4.1369 - val_accuracy: 0.5710\n",
      "\n",
      "Epoch 00087: val_accuracy did not improve from 0.58041\n",
      "Epoch 88/100\n",
      "15/15 [==============================] - 2s 105ms/step - loss: 0.1472 - accuracy: 0.9628 - val_loss: 4.2765 - val_accuracy: 0.5543\n",
      "\n",
      "Epoch 00088: val_accuracy did not improve from 0.58041\n",
      "Epoch 89/100\n",
      "15/15 [==============================] - 2s 107ms/step - loss: 0.1917 - accuracy: 0.9517 - val_loss: 4.1321 - val_accuracy: 0.5565\n",
      "\n",
      "Epoch 00089: val_accuracy did not improve from 0.58041\n",
      "Epoch 90/100\n",
      "15/15 [==============================] - 2s 108ms/step - loss: 0.1858 - accuracy: 0.9545 - val_loss: 4.2920 - val_accuracy: 0.5570\n",
      "\n",
      "Epoch 00090: val_accuracy did not improve from 0.58041\n",
      "Epoch 91/100\n",
      "15/15 [==============================] - 2s 108ms/step - loss: 0.1670 - accuracy: 0.9564 - val_loss: 4.2461 - val_accuracy: 0.5582\n",
      "\n",
      "Epoch 00091: val_accuracy did not improve from 0.58041\n",
      "Epoch 92/100\n",
      "15/15 [==============================] - 2s 108ms/step - loss: 0.1474 - accuracy: 0.9610 - val_loss: 4.0958 - val_accuracy: 0.5698\n",
      "\n",
      "Epoch 00092: val_accuracy did not improve from 0.58041\n",
      "Epoch 93/100\n",
      "15/15 [==============================] - 2s 109ms/step - loss: 0.1466 - accuracy: 0.9605 - val_loss: 4.2553 - val_accuracy: 0.5620\n",
      "\n",
      "Epoch 00093: val_accuracy did not improve from 0.58041\n",
      "Epoch 94/100\n",
      "15/15 [==============================] - 2s 108ms/step - loss: 0.1429 - accuracy: 0.9602 - val_loss: 4.3414 - val_accuracy: 0.5598\n",
      "\n",
      "Epoch 00094: val_accuracy did not improve from 0.58041\n",
      "Epoch 95/100\n",
      "15/15 [==============================] - 2s 106ms/step - loss: 0.1457 - accuracy: 0.9610 - val_loss: 4.2819 - val_accuracy: 0.5659\n",
      "\n",
      "Epoch 00095: val_accuracy did not improve from 0.58041\n",
      "Epoch 96/100\n",
      "15/15 [==============================] - 2s 112ms/step - loss: 0.1619 - accuracy: 0.9576 - val_loss: 4.1460 - val_accuracy: 0.5721\n",
      "\n",
      "Epoch 00096: val_accuracy did not improve from 0.58041\n",
      "Epoch 97/100\n",
      "15/15 [==============================] - 2s 112ms/step - loss: 0.1448 - accuracy: 0.9623 - val_loss: 4.2646 - val_accuracy: 0.5609\n",
      "\n",
      "Epoch 00097: val_accuracy did not improve from 0.58041\n",
      "Epoch 98/100\n",
      "15/15 [==============================] - 2s 108ms/step - loss: 0.1297 - accuracy: 0.9635 - val_loss: 4.2386 - val_accuracy: 0.5659\n",
      "\n",
      "Epoch 00098: val_accuracy did not improve from 0.58041\n",
      "Epoch 99/100\n",
      "15/15 [==============================] - 2s 114ms/step - loss: 0.1224 - accuracy: 0.9658 - val_loss: 4.2896 - val_accuracy: 0.5693\n",
      "\n",
      "Epoch 00099: val_accuracy did not improve from 0.58041\n",
      "Epoch 100/100\n",
      "15/15 [==============================] - 2s 109ms/step - loss: 0.1222 - accuracy: 0.9652 - val_loss: 4.1720 - val_accuracy: 0.5765\n",
      "\n",
      "Epoch 00100: val_accuracy did not improve from 0.58041\n"
     ]
    }
   ],
   "source": [
    "model_rnn.compile(optimizer = \"adam\", loss = \"sparse_categorical_crossentropy\", metrics = [\"accuracy\"])\n",
    "history_rnn = model_rnn.fit(x_train_partial, \n",
    "                            y_train_partial, \n",
    "                            epochs = 100, \n",
    "                            batch_size = 512,\n",
    "                            validation_data = (x_val, y_val),\n",
    "                            callbacks = [checkpoint])"
   ]
  },
  {
   "cell_type": "code",
   "execution_count": 104,
   "id": "5aa973d9",
   "metadata": {},
   "outputs": [
    {
     "name": "stdout",
     "output_type": "stream",
     "text": [
      "71/71 - 1s - loss: 3.3976 - accuracy: 0.5788\n"
     ]
    }
   ],
   "source": [
    "from tensorflow.keras.models import load_model\n",
    "\n",
    "model_rnn = load_model(\"best_model_rnn.keras\")\n",
    "results_rnn = model_rnn.evaluate(x_test, y_test, verbose = 2)"
   ]
  },
  {
   "cell_type": "code",
   "execution_count": 105,
   "id": "0353d946",
   "metadata": {},
   "outputs": [
    {
     "name": "stdout",
     "output_type": "stream",
     "text": [
      "              precision    recall  f1-score   support\n",
      "\n",
      "           0       0.29      0.17      0.21        12\n",
      "           1       0.41      0.30      0.35       105\n",
      "           2       0.18      0.15      0.16        20\n",
      "           3       0.92      0.88      0.90       813\n",
      "           4       0.68      0.82      0.74       474\n",
      "           5       0.07      0.20      0.11         5\n",
      "           6       0.75      0.21      0.33        14\n",
      "           7       0.50      0.33      0.40         3\n",
      "           8       0.14      0.24      0.18        38\n",
      "           9       0.33      0.12      0.18        25\n",
      "          10       0.12      0.07      0.09        30\n",
      "          11       0.20      0.24      0.22        83\n",
      "          12       0.11      0.15      0.13        13\n",
      "          13       0.07      0.08      0.07        37\n",
      "          14       0.00      0.00      0.00         2\n",
      "          15       0.00      0.00      0.00         9\n",
      "          16       0.25      0.21      0.23        99\n",
      "          17       0.04      0.08      0.06        12\n",
      "          18       0.07      0.05      0.06        20\n",
      "          19       0.56      0.41      0.47       133\n",
      "          20       0.17      0.23      0.19        70\n",
      "          21       0.12      0.15      0.13        27\n",
      "          22       0.00      0.00      0.00         7\n",
      "          23       0.00      0.00      0.00        12\n",
      "          24       0.09      0.16      0.12        19\n",
      "          25       0.27      0.32      0.29        31\n",
      "          26       0.00      0.00      0.00         8\n",
      "          27       0.00      0.00      0.00         4\n",
      "          28       0.00      0.00      0.00        10\n",
      "          29       0.00      0.00      0.00         4\n",
      "          30       0.00      0.00      0.00        12\n",
      "          31       0.00      0.00      0.00        13\n",
      "          32       0.00      0.00      0.00        10\n",
      "          33       0.00      0.00      0.00         5\n",
      "          34       0.17      0.14      0.15         7\n",
      "          35       0.00      0.00      0.00         6\n",
      "          36       0.08      0.09      0.08        11\n",
      "          37       0.00      0.00      0.00         2\n",
      "          38       0.00      0.00      0.00         3\n",
      "          39       0.00      0.00      0.00         5\n",
      "          40       0.14      0.10      0.12        10\n",
      "          41       0.00      0.00      0.00         8\n",
      "          42       0.00      0.00      0.00         3\n",
      "          43       0.00      0.00      0.00         6\n",
      "          44       1.00      0.20      0.33         5\n",
      "          45       0.33      1.00      0.50         1\n",
      "\n",
      "    accuracy                           0.58      2246\n",
      "   macro avg       0.18      0.15      0.15      2246\n",
      "weighted avg       0.58      0.58      0.57      2246\n",
      "\n"
     ]
    }
   ],
   "source": [
    "predicted = model_rnn.predict(x_test)\n",
    "predicted_classes = np.argmax(predicted, axis = 1)\n",
    "print(classification_report(y_test, predicted_classes, zero_division = 0))"
   ]
  }
 ],
 "metadata": {
  "kernelspec": {
   "display_name": "Python 3 (ipykernel)",
   "language": "python",
   "name": "python3"
  },
  "language_info": {
   "codemirror_mode": {
    "name": "ipython",
    "version": 3
   },
   "file_extension": ".py",
   "mimetype": "text/x-python",
   "name": "python",
   "nbconvert_exporter": "python",
   "pygments_lexer": "ipython3",
   "version": "3.9.7"
  }
 },
 "nbformat": 4,
 "nbformat_minor": 5
}
