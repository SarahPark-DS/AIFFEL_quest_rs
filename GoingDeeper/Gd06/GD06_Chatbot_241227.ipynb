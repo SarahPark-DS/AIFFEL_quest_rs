{
 "cells": [
  {
   "cell_type": "markdown",
   "id": "239410f0",
   "metadata": {},
   "source": [
    "# Project: 멋진 챗봇 만들기\n",
    "\n",
    "**루브릭**\n",
    "<img width=\"630\" alt=\"image\" src=\"https://github.com/user-attachments/assets/0f8bf706-f619-429c-a9b4-21b4fb261aa6\" />"
   ]
  },
  {
   "cell_type": "markdown",
   "id": "3bb94b0a",
   "metadata": {},
   "source": [
    "# 0. 필요 라이브러리 로드"
   ]
  },
  {
   "cell_type": "code",
   "execution_count": 2,
   "id": "afc42464",
   "metadata": {},
   "outputs": [],
   "source": [
    "import numpy as np\n",
    "import pandas as pd\n",
    "import tensorflow as tf\n",
    "import random\n",
    "import re\n",
    "import nltk\n",
    "import gensim\n",
    "import matplotlib.pyplot as plt\n",
    "import seaborn as sns\n",
    "from tqdm import tqdm"
   ]
  },
  {
   "cell_type": "markdown",
   "id": "4dc419f0",
   "metadata": {},
   "source": [
    "# 1. 데이터 다운로드 "
   ]
  },
  {
   "cell_type": "code",
   "execution_count": 3,
   "id": "73037299",
   "metadata": {},
   "outputs": [
    {
     "data": {
      "text/html": [
       "<div>\n",
       "<style scoped>\n",
       "    .dataframe tbody tr th:only-of-type {\n",
       "        vertical-align: middle;\n",
       "    }\n",
       "\n",
       "    .dataframe tbody tr th {\n",
       "        vertical-align: top;\n",
       "    }\n",
       "\n",
       "    .dataframe thead th {\n",
       "        text-align: right;\n",
       "    }\n",
       "</style>\n",
       "<table border=\"1\" class=\"dataframe\">\n",
       "  <thead>\n",
       "    <tr style=\"text-align: right;\">\n",
       "      <th></th>\n",
       "      <th>Q</th>\n",
       "      <th>A</th>\n",
       "      <th>label</th>\n",
       "    </tr>\n",
       "  </thead>\n",
       "  <tbody>\n",
       "    <tr>\n",
       "      <th>0</th>\n",
       "      <td>12시 땡!</td>\n",
       "      <td>하루가 또 가네요.</td>\n",
       "      <td>0</td>\n",
       "    </tr>\n",
       "    <tr>\n",
       "      <th>1</th>\n",
       "      <td>1지망 학교 떨어졌어</td>\n",
       "      <td>위로해 드립니다.</td>\n",
       "      <td>0</td>\n",
       "    </tr>\n",
       "    <tr>\n",
       "      <th>2</th>\n",
       "      <td>3박4일 놀러가고 싶다</td>\n",
       "      <td>여행은 언제나 좋죠.</td>\n",
       "      <td>0</td>\n",
       "    </tr>\n",
       "    <tr>\n",
       "      <th>3</th>\n",
       "      <td>3박4일 정도 놀러가고 싶다</td>\n",
       "      <td>여행은 언제나 좋죠.</td>\n",
       "      <td>0</td>\n",
       "    </tr>\n",
       "    <tr>\n",
       "      <th>4</th>\n",
       "      <td>PPL 심하네</td>\n",
       "      <td>눈살이 찌푸려지죠.</td>\n",
       "      <td>0</td>\n",
       "    </tr>\n",
       "  </tbody>\n",
       "</table>\n",
       "</div>"
      ],
      "text/plain": [
       "                 Q            A  label\n",
       "0           12시 땡!   하루가 또 가네요.      0\n",
       "1      1지망 학교 떨어졌어    위로해 드립니다.      0\n",
       "2     3박4일 놀러가고 싶다  여행은 언제나 좋죠.      0\n",
       "3  3박4일 정도 놀러가고 싶다  여행은 언제나 좋죠.      0\n",
       "4          PPL 심하네   눈살이 찌푸려지죠.      0"
      ]
     },
     "execution_count": 3,
     "metadata": {},
     "output_type": "execute_result"
    }
   ],
   "source": [
    "data_url = \"https://raw.githubusercontent.com/songys/Chatbot_data/refs/heads/master/ChatbotData.csv\"\n",
    "data = pd.read_csv(data_url)\n",
    "data.head()"
   ]
  },
  {
   "cell_type": "code",
   "execution_count": 4,
   "id": "de939fec",
   "metadata": {},
   "outputs": [
    {
     "name": "stdout",
     "output_type": "stream",
     "text": [
      "<class 'pandas.core.frame.DataFrame'>\n",
      "RangeIndex: 11823 entries, 0 to 11822\n",
      "Data columns (total 3 columns):\n",
      " #   Column  Non-Null Count  Dtype \n",
      "---  ------  --------------  ----- \n",
      " 0   Q       11823 non-null  object\n",
      " 1   A       11823 non-null  object\n",
      " 2   label   11823 non-null  int64 \n",
      "dtypes: int64(1), object(2)\n",
      "memory usage: 277.2+ KB\n"
     ]
    }
   ],
   "source": [
    "data.info()"
   ]
  },
  {
   "cell_type": "code",
   "execution_count": 5,
   "id": "e3a38254",
   "metadata": {},
   "outputs": [
    {
     "data": {
      "text/plain": [
       "(11823, 11823)"
      ]
     },
     "execution_count": 5,
     "metadata": {},
     "output_type": "execute_result"
    }
   ],
   "source": [
    "questions = pd.DataFrame(data['Q'])\n",
    "answers = pd.DataFrame(data['A'])\n",
    "\n",
    "len(questions), len(answers)"
   ]
  },
  {
   "cell_type": "markdown",
   "id": "9509b411",
   "metadata": {},
   "source": [
    "# 2. 데이터 정제 및 토큰화"
   ]
  },
  {
   "cell_type": "code",
   "execution_count": 6,
   "id": "612d36e2",
   "metadata": {},
   "outputs": [],
   "source": [
    "def preprocess_sentence(sentence):\n",
    "    sentence = sentence.lower()\n",
    "    sentence = re.sub(\"[^a-zA-Z0-9가-힣?.!,]+\", \" \", sentence)\n",
    "    return sentence"
   ]
  },
  {
   "cell_type": "code",
   "execution_count": 7,
   "id": "941985b8",
   "metadata": {},
   "outputs": [],
   "source": [
    "# KoNLPY mecab 사용\n",
    "from konlpy.tag import Mecab"
   ]
  },
  {
   "cell_type": "code",
   "execution_count": 8,
   "id": "086a84da",
   "metadata": {},
   "outputs": [
    {
     "name": "stdout",
     "output_type": "stream",
     "text": [
      "-----------------------------------\n",
      "Questions Dataset\n",
      "Min:  1\n",
      "Max:  32\n",
      "Avg:  7.020045673686882\n",
      "\n",
      "Answers Dataset\n",
      "Min:  1\n",
      "Max:  40\n",
      "Avg:  8.376554174067495\n",
      "-----------------------------------\n"
     ]
    },
    {
     "data": {
      "image/png": "[encoded data removed]",
      "text/plain": [
       "<Figure size 576x720 with 2 Axes>"
      ]
     },
     "metadata": {
      "needs_background": "light"
     },
     "output_type": "display_data"
    }
   ],
   "source": [
    "# 토큰 길이 분포 확인하기\n",
    "mecab = Mecab()\n",
    "src_tokenized = [mecab.morphs(preprocess_sentence(sent)) for sent in questions['Q']]\n",
    "tgt_tokenized = [mecab.morphs(preprocess_sentence(sent)) for sent in answers['A']]\n",
    "\n",
    "src_token_len = [len(tokens) for tokens in src_tokenized]\n",
    "tgt_token_len = [len(tokens) for tokens in tgt_tokenized]\n",
    "\n",
    "print(\"-----------------------------------\")\n",
    "print(\"Questions Dataset\")\n",
    "print(\"Min: \", np.min(src_token_len))\n",
    "print(\"Max: \", np.max(src_token_len))\n",
    "print(\"Avg: \", np.average(src_token_len))\n",
    "\n",
    "print(\"\\nAnswers Dataset\")\n",
    "print(\"Min: \", np.min(tgt_token_len))\n",
    "print(\"Max: \", np.max(tgt_token_len))\n",
    "print(\"Avg: \", np.average(tgt_token_len))\n",
    "print(\"-----------------------------------\")\n",
    "\n",
    "plt.figure(figsize = (8, 10))\n",
    "plt.subplot(211)\n",
    "plt.hist(src_token_len)\n",
    "plt.xlabel(\"token lengths\")\n",
    "plt.ylabel(\"frequency\")\n",
    "plt.title(\"Token Lengths of Questions Dataset\")   \n",
    "\n",
    "plt.subplot(212)\n",
    "plt.hist(tgt_token_len)\n",
    "plt.xlabel(\"token lengths\")\n",
    "plt.ylabel(\"frequency\")\n",
    "plt.title(\"Token Lengths of Answers Dataset\")   \n",
    "\n",
    "plt.show()\n",
    "    "
   ]
  },
  {
   "cell_type": "code",
   "execution_count": 9,
   "id": "2a90abb2",
   "metadata": {},
   "outputs": [
    {
     "name": "stdout",
     "output_type": "stream",
     "text": [
      "['건방져']\n",
      "['겁난다']\n",
      "['굿모닝']\n",
      "['단수']\n",
      "['더워']\n",
      "['무서워요']\n",
      "['미워']\n",
      "['미워한다']\n",
      "['반가워']\n",
      "['반가워']\n",
      "['배고파']\n",
      "['배고파']\n",
      "['배불러']\n",
      "['배불러']\n",
      "['비트코인']\n",
      "['속상해']\n",
      "['스트레스']\n",
      "['아파']\n",
      "['안녕']\n",
      "['야']\n",
      "['어머']\n",
      "['어머나']\n",
      "['에이씨']\n",
      "['오지마']\n",
      "['외로워']\n",
      "['외로워']\n",
      "['으악']\n",
      "['음']\n",
      "['응']\n",
      "['이놈']\n",
      "['잘래']\n",
      "['저기']\n",
      "['조심조심']\n",
      "['졸려']\n",
      "['추워']\n",
      "['코자']\n",
      "['콜록콜록']\n",
      "['허기져']\n",
      "['헉']\n",
      "['괴로워']\n",
      "['그리움']\n",
      "['기다림']\n",
      "['꿈']\n",
      "['나그네']\n",
      "['넋두리']\n",
      "['눈물']\n",
      "['답답증']\n",
      "['덤덤']\n",
      "['뜬금없이']\n",
      "['마무리']\n",
      "['멘붕']\n",
      "['무상']\n",
      "['무제']\n",
      "['미련']\n",
      "['미쳐']\n",
      "['바람']\n",
      "['받아들여야지']\n",
      "['변명']\n",
      "['분노']\n",
      "['불면증']\n",
      "['사진첩']\n",
      "['살아간다']\n",
      "['상념']\n",
      "['상처']\n",
      "['새벽']\n",
      "['술주정']\n",
      "['시련']\n",
      "['심심']\n",
      "['싱숭생숭']\n",
      "['쓰레기']\n",
      "['씁쓸']\n",
      "['아파']\n",
      "['야']\n",
      "['양다리']\n",
      "['어째서']\n",
      "['에휴']\n",
      "['연휴']\n",
      "['왜']\n",
      "['외로움']\n",
      "['외로워']\n",
      "['외로워']\n",
      "['외로워서']\n",
      "['으흠']\n",
      "['이별']\n",
      "['이혼']\n",
      "['인내']\n",
      "['인연']\n",
      "['자괴감']\n",
      "['잠수']\n",
      "['젠장']\n",
      "['주저리주저리']\n",
      "['증오']\n",
      "['지친다']\n",
      "['짝사랑']\n",
      "['착각']\n",
      "['첫눈']\n",
      "['최악']\n",
      "['침묵']\n",
      "['통증']\n",
      "['파혼']\n",
      "['핑계']\n",
      "['한숨']\n",
      "['헤어짐']\n",
      "['헤어짐']\n",
      "['혼자']\n",
      "['후']\n",
      "['후우']\n",
      "['후회']\n",
      "['휴']\n",
      "['흔적']\n",
      "['흠']\n",
      "['고백']\n"
     ]
    }
   ],
   "source": [
    "for length, tokens in zip(src_token_len, src_tokenized):\n",
    "    if length == 1:\n",
    "        print(tokens)"
   ]
  },
  {
   "cell_type": "code",
   "execution_count": 10,
   "id": "eb070905",
   "metadata": {},
   "outputs": [
    {
     "name": "stdout",
     "output_type": "stream",
     "text": [
      "['킁킁']\n",
      "['킁킁']\n",
      "['킁킁']\n",
      "['꼬르륵']\n",
      "['꼬르륵']\n",
      "['네']\n",
      "['킁킁']\n",
      "['음']\n",
      "['네']\n",
      "['음']\n",
      "['토닥토닥']\n",
      "['사랑']\n",
      "['네']\n",
      "['네']\n",
      "['아이구']\n",
      "['휴우']\n",
      "['어머나']\n"
     ]
    }
   ],
   "source": [
    "for length, tokens in zip(tgt_token_len, tgt_tokenized):\n",
    "    if length == 1:\n",
    "        print(tokens)"
   ]
  },
  {
   "cell_type": "markdown",
   "id": "6fbc2e56",
   "metadata": {},
   "source": [
    "- 토큰 개수가 1개인 Question, Answer 출력했을 때, 노이즈가 많이 섞여있는 듯 함...\n",
    "- 일단은 다 포함하는 것으로... \n",
    "- max_len 값도 우선 40까지 모두 포함하기로 함"
   ]
  },
  {
   "cell_type": "code",
   "execution_count": 11,
   "id": "47a3c27a",
   "metadata": {},
   "outputs": [],
   "source": [
    "# 데이터 토큰화, 중복데이터 제거 \n",
    "\n",
    "def build_corpus(src_data, tgt_data):\n",
    "    \n",
    "    # 텍스트 전처리\n",
    "    src_data['Q'] = src_data['Q'].apply(preprocess_sentence)\n",
    "    tgt_data['A'] = tgt_data['A'].apply(preprocess_sentence)\n",
    "    \n",
    "    # 중복 Index 확인\n",
    "    dup_index = []\n",
    "    src_dup_idx = [idx for idx in src_data[src_data['Q'].duplicated()].index]\n",
    "    print(\"len of src_dup_idx: \", len(src_dup_idx))\n",
    "    tgt_dup_idx = [idx for idx in tgt_data[tgt_data['A'].duplicated()].index]\n",
    "    print(\"len of tgt_dup_idx: \", len(tgt_dup_idx))\n",
    "    src_dup_idx.extend(tgt_dup_idx)\n",
    "    dup_idx = list(set(src_dup_idx))\n",
    "    print(\"len of dup_idx: \", len(dup_idx))\n",
    "    print(\"--------------------------------------\")\n",
    "    \n",
    "    # 중복 데이터 제거\n",
    "    filtered_src_data = src_data.drop(index = dup_idx)\n",
    "    filtered_tgt_data = tgt_data.drop(index = dup_idx)\n",
    "    print(\"Original src_data length: \", len(src_data))\n",
    "    print(\"Filtered src_data length: \", len(filtered_src_data))\n",
    "    print(\"Original tgt_data length: \", len(tgt_data))\n",
    "    print(\"Filtered tgt_data length: \", len(filtered_tgt_data))\n",
    "    \n",
    "    # 토큰화\n",
    "    src_tokenized = [mecab.morphs(sent) for sent in filtered_src_data['Q']]\n",
    "    tgt_tokenized = [mecab.morphs(sent) for sent in filtered_tgt_data['A']]\n",
    "    \n",
    "    return src_tokenized, tgt_tokenized"
   ]
  },
  {
   "cell_type": "code",
   "execution_count": 12,
   "id": "70ba77d0",
   "metadata": {},
   "outputs": [
    {
     "name": "stdout",
     "output_type": "stream",
     "text": [
      "len of src_dup_idx:  161\n",
      "len of tgt_dup_idx:  4044\n",
      "len of dup_idx:  4111\n",
      "--------------------------------------\n",
      "Original src_data length:  11823\n",
      "Filtered src_data length:  7712\n",
      "Original tgt_data length:  11823\n",
      "Filtered tgt_data length:  7712\n"
     ]
    }
   ],
   "source": [
    "que_corpus, ans_corpus = build_corpus(questions, answers)"
   ]
  },
  {
   "cell_type": "markdown",
   "id": "8055d4e6",
   "metadata": {},
   "source": [
    "# 3. Augmentation "
   ]
  },
  {
   "cell_type": "code",
   "execution_count": 1,
   "id": "23209135",
   "metadata": {},
   "outputs": [
    {
     "name": "stdout",
     "output_type": "stream",
     "text": [
      "Collecting gensim==3.8.3\n",
      "  Downloading gensim-3.8.3.tar.gz (23.4 MB)\n",
      "     |████████████████████████████████| 23.4 MB 4.2 MB/s            \n",
      "\u001b[?25h  Preparing metadata (setup.py) ... \u001b[?25ldone\n",
      "\u001b[?25hRequirement already satisfied: numpy>=1.11.3 in /opt/conda/lib/python3.9/site-packages (from gensim==3.8.3) (1.21.4)\n",
      "Requirement already satisfied: scipy>=0.18.1 in /opt/conda/lib/python3.9/site-packages (from gensim==3.8.3) (1.7.1)\n",
      "Requirement already satisfied: six>=1.5.0 in /opt/conda/lib/python3.9/site-packages (from gensim==3.8.3) (1.16.0)\n",
      "Requirement already satisfied: smart_open>=1.8.1 in /opt/conda/lib/python3.9/site-packages (from gensim==3.8.3) (5.2.1)\n",
      "Building wheels for collected packages: gensim\n",
      "  Building wheel for gensim (setup.py) ... \u001b[?25ldone\n",
      "\u001b[?25h  Created wheel for gensim: filename=gensim-3.8.3-cp39-cp39-linux_x86_64.whl size=24328218 sha256=9694ba4443647649782bfaa5cbff3cb041af1a300ac2e13ba2385c9f2442cb92\n",
      "  Stored in directory: /aiffel/.cache/pip/wheels/ca/5d/af/618594ec2f28608c1d6ee7d2b7e95a3e9b06551e3b80a491d6\n",
      "Successfully built gensim\n",
      "Installing collected packages: gensim\n",
      "  Attempting uninstall: gensim\n",
      "    Found existing installation: gensim 4.1.2\n",
      "    Uninstalling gensim-4.1.2:\n",
      "      Successfully uninstalled gensim-4.1.2\n",
      "Successfully installed gensim-3.8.3\n",
      "\u001b[33mWARNING: Running pip as the 'root' user can result in broken permissions and conflicting behaviour with the system package manager. It is recommended to use a virtual environment instead: https://pip.pypa.io/warnings/venv\u001b[0m\n"
     ]
    }
   ],
   "source": [
    "# gensim 버전 문제 발생 4.x -> 3.x 버전으로 다운그레이드\n",
    "!pip install gensim==3.8.3"
   ]
  },
  {
   "cell_type": "code",
   "execution_count": 13,
   "id": "2bd7f5a2",
   "metadata": {},
   "outputs": [
    {
     "data": {
      "text/plain": [
       "[('고양이', 0.7290452718734741),\n",
       " ('거위', 0.7185635566711426),\n",
       " ('토끼', 0.7056223154067993),\n",
       " ('멧돼지', 0.6950401067733765),\n",
       " ('엄마', 0.6934334635734558),\n",
       " ('난쟁이', 0.6806551218032837),\n",
       " ('한마리', 0.6770296096801758),\n",
       " ('아가씨', 0.6750352382659912),\n",
       " ('아빠', 0.6729634404182434),\n",
       " ('목걸이', 0.6512460708618164)]"
      ]
     },
     "execution_count": 13,
     "metadata": {},
     "output_type": "execute_result"
    }
   ],
   "source": [
    "import gensim\n",
    "\n",
    "model_path = \"ko.bin\"\n",
    "ko_model = gensim.models.Word2Vec.load(model_path)\n",
    "ko_model.wv.most_similar(\"강아지\")"
   ]
  },
  {
   "cell_type": "code",
   "execution_count": 14,
   "id": "3e60accc",
   "metadata": {},
   "outputs": [],
   "source": [
    "def lexical_sub(aug_tokens, ko_model):\n",
    "    \n",
    "    # 숫자가 선택되는 경우 에러 발생하여 한글만 선택하도록 설정\n",
    "    candidate_tokens = [tok for tok in aug_tokens if re.match(r\"^[가-힣]+$\", tok)]\n",
    "    if not candidate_tokens:\n",
    "        return aug_tokens\n",
    "    \n",
    "    selected_tok = random.choice(candidate_tokens)\n",
    "    \n",
    "    result = []\n",
    "    for tok in aug_tokens:\n",
    "        if tok is selected_tok:\n",
    "            try:\n",
    "                \n",
    "                result.append(ko_model.wv.most_similar(tok)[0][0])\n",
    "            except KeyError:\n",
    "                result.append(tok)\n",
    "        else:\n",
    "            result.append(tok)\n",
    "    \n",
    "    return result"
   ]
  },
  {
   "cell_type": "code",
   "execution_count": 15,
   "id": "459c536d",
   "metadata": {
    "scrolled": false
   },
   "outputs": [],
   "source": [
    "def corpus_augmentation(que_corpus, ans_corpus, ko_model):\n",
    "    que_corpus_result = []\n",
    "    ans_corpus_result = []\n",
    "    \n",
    "    # ans_corpus augmenation\n",
    "    ans_corpus_aug = [lexical_sub(tokens, ko_model) for tokens in ans_corpus]\n",
    "    \n",
    "    # que_corpus augmentation\n",
    "    que_corpus_aug = [lexical_sub(tokens, ko_model) for tokens in que_corpus]\n",
    "    \n",
    "    # consolidate augmentation results\n",
    "    que_corpus_result = que_corpus + que_corpus + que_corpus_aug\n",
    "    ans_corpus_result = ans_corpus + ans_corpus_aug + ans_corpus\n",
    "    \n",
    "    return que_corpus_result, ans_corpus_result    "
   ]
  },
  {
   "cell_type": "code",
   "execution_count": 16,
   "id": "05a75dda",
   "metadata": {},
   "outputs": [
    {
     "name": "stdout",
     "output_type": "stream",
     "text": [
      "23136 23136\n"
     ]
    }
   ],
   "source": [
    "que_corpus, ans_corpus = corpus_augmentation(que_corpus, ans_corpus, ko_model)\n",
    "print(len(que_corpus), len(ans_corpus))"
   ]
  },
  {
   "cell_type": "markdown",
   "id": "f124dc48",
   "metadata": {},
   "source": [
    "# 4. 데이터 벡터화 "
   ]
  },
  {
   "cell_type": "code",
   "execution_count": 17,
   "id": "a6ba504a",
   "metadata": {},
   "outputs": [
    {
     "data": {
      "text/plain": [
       "[['<start>', '하루', '가', '또', '가', '네요', '.', '<end>'],\n",
       " ['<start>', '위로', '해', '드립니다', '.', '<end>'],\n",
       " ['<start>', '여행', '은', '언제나', '좋', '죠', '.', '<end>'],\n",
       " ['<start>', '눈살', '이', '찌푸려', '지', '죠', '.', '<end>'],\n",
       " ['<start>', '다시', '새로', '사', '는', '게', '마음', '편해요', '.', '<end>']]"
      ]
     },
     "execution_count": 17,
     "metadata": {},
     "output_type": "execute_result"
    }
   ],
   "source": [
    "def add_start_end_tokens(tokens):\n",
    "    return ['<start>'] + tokens + [\"<end>\"]\n",
    "\n",
    "ans_corpus = [add_start_end_tokens(tokens) for tokens in ans_corpus]\n",
    "ans_corpus[:5]"
   ]
  },
  {
   "cell_type": "code",
   "execution_count": 18,
   "id": "32654731",
   "metadata": {},
   "outputs": [
    {
     "name": "stdout",
     "output_type": "stream",
     "text": [
      "[2204, 218, 3605, 108]\n",
      "[3, 282, 9, 142, 9, 42, 2, 4]\n"
     ]
    }
   ],
   "source": [
    "from keras.preprocessing.text import Tokenizer\n",
    "\n",
    "vocab_size = 20000\n",
    "\n",
    "# tokenizer 생성\n",
    "tokenizer = Tokenizer(num_words = vocab_size, oov_token = \"<unk>\")\n",
    "tokenizer.fit_on_texts(que_corpus + ans_corpus)\n",
    "\n",
    "# 정수 인코딩\n",
    "que_corpus_encoded = tokenizer.texts_to_sequences(que_corpus)\n",
    "ans_corpus_encoded = tokenizer.texts_to_sequences(ans_corpus)\n",
    "\n",
    "print(que_corpus_encoded[0])\n",
    "print(ans_corpus_encoded[0])"
   ]
  },
  {
   "cell_type": "code",
   "execution_count": 19,
   "id": "514903d4",
   "metadata": {},
   "outputs": [],
   "source": [
    "tokenizer.word_index['<pad>'] = 0\n",
    "tokenizer.index_word[0] = '<pad>'"
   ]
  },
  {
   "cell_type": "code",
   "execution_count": 20,
   "id": "95479c1f",
   "metadata": {},
   "outputs": [],
   "source": [
    "# 패딩 처리하기\n",
    "from keras.preprocessing.sequence import pad_sequences\n",
    "max_len = 40\n",
    "enc_train = pad_sequences(que_corpus_encoded, maxlen = max_len, padding = \"post\", value = 0)\n",
    "dec_train = pad_sequences(ans_corpus_encoded, maxlen = max_len, padding = \"post\", value = 0)"
   ]
  },
  {
   "cell_type": "code",
   "execution_count": 21,
   "id": "8f7f2230",
   "metadata": {},
   "outputs": [],
   "source": [
    "# 배치 나누기\n",
    "BATCH_SIZE = 64\n",
    "train_dataset = tf.data.Dataset.from_tensor_slices((enc_train, dec_train)).batch(batch_size = BATCH_SIZE)"
   ]
  },
  {
   "cell_type": "markdown",
   "id": "79dd8751",
   "metadata": {},
   "source": [
    "# 5. 훈련하기 "
   ]
  },
  {
   "cell_type": "code",
   "execution_count": 62,
   "id": "59dba0af",
   "metadata": {},
   "outputs": [],
   "source": [
    "def positional_encoding(pos, d_model):\n",
    "    def cal_angle(position, i):\n",
    "        return position / np.power(10000, (2*(i//2)) / np.float32(d_model))\n",
    "\n",
    "    def get_posi_angle_vec(position):\n",
    "        return [cal_angle(position, i) for i in range(d_model)]\n",
    "\n",
    "    sinusoid_table = np.array([get_posi_angle_vec(pos_i) for pos_i in range(pos)])\n",
    "\n",
    "    sinusoid_table[:, 0::2] = np.sin(sinusoid_table[:, 0::2])\n",
    "    sinusoid_table[:, 1::2] = np.cos(sinusoid_table[:, 1::2])\n",
    "\n",
    "    return sinusoid_table"
   ]
  },
  {
   "cell_type": "code",
   "execution_count": 63,
   "id": "99d25ccb",
   "metadata": {},
   "outputs": [],
   "source": [
    "def generate_padding_mask(seq):\n",
    "    seq = tf.cast(tf.math.equal(seq, 0), tf.float32)\n",
    "    return seq[:, tf.newaxis, tf.newaxis, :]\n",
    "\n",
    "def generate_lookahead_mask(size):\n",
    "    mask = 1 - tf.linalg.band_part(tf.ones((size, size)), -1, 0)\n",
    "    return mask\n",
    "\n",
    "def generate_masks(src, tgt):\n",
    "    enc_mask = generate_padding_mask(src)\n",
    "    dec_enc_mask = generate_padding_mask(src)\n",
    "\n",
    "    dec_lookahead_mask = generate_lookahead_mask(tgt.shape[1])\n",
    "    dec_tgt_padding_mask = generate_padding_mask(tgt)\n",
    "    dec_mask = tf.maximum(dec_tgt_padding_mask, dec_lookahead_mask)\n",
    "\n",
    "    return enc_mask, dec_enc_mask, dec_mask"
   ]
  },
  {
   "cell_type": "code",
   "execution_count": 64,
   "id": "156fedfa",
   "metadata": {},
   "outputs": [],
   "source": [
    "class MultiHeadAttention(tf.keras.layers.Layer):\n",
    "    def __init__(self, d_model, num_heads):\n",
    "        super(MultiHeadAttention, self).__init__()\n",
    "        self.num_heads = num_heads\n",
    "        self.d_model = d_model\n",
    "        \n",
    "        self.depth = d_model // self.num_heads\n",
    "        \n",
    "        self.W_q = tf.keras.layers.Dense(d_model)\n",
    "        self.W_k = tf.keras.layers.Dense(d_model)\n",
    "        self.W_v = tf.keras.layers.Dense(d_model)\n",
    "        \n",
    "        self.linear = tf.keras.layers.Dense(d_model)\n",
    "\n",
    "    def scaled_dot_product_attention(self, Q, K, V, mask):\n",
    "        d_k = tf.cast(K.shape[-1], tf.float32)\n",
    "        QK = tf.matmul(Q, K, transpose_b=True)\n",
    "\n",
    "        scaled_qk = QK / tf.math.sqrt(d_k)\n",
    "\n",
    "        if mask is not None: scaled_qk += (mask * -1e9)  \n",
    "\n",
    "        attentions = tf.nn.softmax(scaled_qk, axis=-1)\n",
    "        out = tf.matmul(attentions, V)\n",
    "\n",
    "        return out, attentions\n",
    "        \n",
    "\n",
    "    def split_heads(self, x):\n",
    "        bsz = x.shape[0]\n",
    "        split_x = tf.reshape(x, (bsz, -1, self.num_heads, self.depth))\n",
    "        split_x = tf.transpose(split_x, perm=[0, 2, 1, 3])\n",
    "\n",
    "        return split_x\n",
    "\n",
    "    def combine_heads(self, x):\n",
    "        bsz = x.shape[0]\n",
    "        combined_x = tf.transpose(x, perm=[0, 2, 1, 3])\n",
    "        combined_x = tf.reshape(combined_x, (bsz, -1, self.d_model))\n",
    "\n",
    "        return combined_x\n",
    "\n",
    "    \n",
    "    def call(self, Q, K, V, mask):\n",
    "        WQ = self.W_q(Q)\n",
    "        WK = self.W_k(K)\n",
    "        WV = self.W_v(V)\n",
    "        \n",
    "        WQ_splits = self.split_heads(WQ)\n",
    "        WK_splits = self.split_heads(WK)\n",
    "        WV_splits = self.split_heads(WV)\n",
    "        \n",
    "        out, attention_weights = self.scaled_dot_product_attention(\n",
    "            WQ_splits, WK_splits, WV_splits, mask)\n",
    "                        \n",
    "        out = self.combine_heads(out)\n",
    "        out = self.linear(out)\n",
    "            \n",
    "        return out, attention_weights"
   ]
  },
  {
   "cell_type": "code",
   "execution_count": 65,
   "id": "84bb9421",
   "metadata": {},
   "outputs": [],
   "source": [
    "class PoswiseFeedForwardNet(tf.keras.layers.Layer):\n",
    "    def __init__(self, d_model, d_ff):\n",
    "        super(PoswiseFeedForwardNet, self).__init__()\n",
    "        self.d_model = d_model\n",
    "        self.d_ff = d_ff\n",
    "\n",
    "        self.fc1 = tf.keras.layers.Dense(d_ff, activation='relu')\n",
    "        self.fc2 = tf.keras.layers.Dense(d_model)\n",
    "\n",
    "    def call(self, x):\n",
    "        out = self.fc1(x)\n",
    "        out = self.fc2(out)\n",
    "            \n",
    "        return out"
   ]
  },
  {
   "cell_type": "code",
   "execution_count": 66,
   "id": "37e82771",
   "metadata": {},
   "outputs": [],
   "source": [
    "class EncoderLayer(tf.keras.layers.Layer):\n",
    "    def __init__(self, d_model, n_heads, d_ff, dropout):\n",
    "        super(EncoderLayer, self).__init__()\n",
    "\n",
    "        self.enc_self_attn = MultiHeadAttention(d_model, n_heads)\n",
    "        self.ffn = PoswiseFeedForwardNet(d_model, d_ff)\n",
    "\n",
    "        self.norm_1 = tf.keras.layers.LayerNormalization(epsilon=1e-6)\n",
    "        self.norm_2 = tf.keras.layers.LayerNormalization(epsilon=1e-6)\n",
    "\n",
    "        self.do = tf.keras.layers.Dropout(dropout)\n",
    "        \n",
    "    def call(self, x, mask):\n",
    "        '''\n",
    "        Multi-Head Attention\n",
    "        '''\n",
    "        residual = x\n",
    "        out = self.norm_1(x)\n",
    "        out, enc_attn = self.enc_self_attn(out, out, out, mask)\n",
    "        out = self.do(out)\n",
    "        out += residual\n",
    "        \n",
    "        '''\n",
    "        Position-Wise Feed Forward Network\n",
    "        '''\n",
    "        residual = out\n",
    "        out = self.norm_2(out)\n",
    "        out = self.ffn(out)\n",
    "        out = self.do(out)\n",
    "        out += residual\n",
    "        \n",
    "        return out, enc_attn"
   ]
  },
  {
   "cell_type": "code",
   "execution_count": 67,
   "id": "28d0f749",
   "metadata": {},
   "outputs": [],
   "source": [
    "class DecoderLayer(tf.keras.layers.Layer):\n",
    "    def __init__(self, d_model, num_heads, d_ff, dropout):\n",
    "        super(DecoderLayer, self).__init__()\n",
    "\n",
    "        self.dec_self_attn = MultiHeadAttention(d_model, num_heads)\n",
    "        self.enc_dec_attn = MultiHeadAttention(d_model, num_heads)\n",
    "\n",
    "        self.ffn = PoswiseFeedForwardNet(d_model, d_ff)\n",
    "\n",
    "        self.norm_1 = tf.keras.layers.LayerNormalization(epsilon=1e-6)\n",
    "        self.norm_2 = tf.keras.layers.LayerNormalization(epsilon=1e-6)\n",
    "        self.norm_3 = tf.keras.layers.LayerNormalization(epsilon=1e-6)\n",
    "\n",
    "        self.do = tf.keras.layers.Dropout(dropout)\n",
    "    \n",
    "    def call(self, x, enc_out, dec_enc_mask, padding_mask):\n",
    "        '''\n",
    "        Masked Multi-Head Attention\n",
    "        '''\n",
    "        residual = x\n",
    "        out = self.norm_1(x)\n",
    "        out, dec_attn = self.dec_self_attn(out, out, out, padding_mask)\n",
    "        out = self.do(out)\n",
    "        out += residual\n",
    "\n",
    "        '''\n",
    "        Multi-Head Attention\n",
    "        '''\n",
    "        residual = out\n",
    "        out = self.norm_2(out)\n",
    "        # Q, K, V 순서에 주의하세요!\n",
    "        out, dec_enc_attn = self.enc_dec_attn(Q=out, K=enc_out, V=enc_out, mask=dec_enc_mask)\n",
    "        out = self.do(out)\n",
    "        out += residual\n",
    "        \n",
    "        '''\n",
    "        Position-Wise Feed Forward Network\n",
    "        '''\n",
    "        residual = out\n",
    "        out = self.norm_3(out)\n",
    "        out = self.ffn(out)\n",
    "        out = self.do(out)\n",
    "        out += residual\n",
    "\n",
    "        return out, dec_attn, dec_enc_attn\n"
   ]
  },
  {
   "cell_type": "code",
   "execution_count": 68,
   "id": "41c8114a",
   "metadata": {},
   "outputs": [],
   "source": [
    "class Encoder(tf.keras.Model):\n",
    "    def __init__(self,\n",
    "                    n_layers,\n",
    "                    d_model,\n",
    "                    n_heads,\n",
    "                    d_ff,\n",
    "                    dropout):\n",
    "        super(Encoder, self).__init__()\n",
    "        self.n_layers = n_layers\n",
    "        self.enc_layers = [EncoderLayer(d_model, n_heads, d_ff, dropout) \n",
    "                        for _ in range(n_layers)]\n",
    "    \n",
    "        self.do = tf.keras.layers.Dropout(dropout)\n",
    "        \n",
    "    def call(self, x, mask):\n",
    "        out = x\n",
    "    \n",
    "        enc_attns = list()\n",
    "        for i in range(self.n_layers):\n",
    "            out, enc_attn = self.enc_layers[i](out, mask)\n",
    "            enc_attns.append(enc_attn)\n",
    "        \n",
    "        return out, enc_attns"
   ]
  },
  {
   "cell_type": "code",
   "execution_count": 69,
   "id": "b5a50c2b",
   "metadata": {},
   "outputs": [],
   "source": [
    "class Decoder(tf.keras.Model):\n",
    "    def __init__(self,\n",
    "                    n_layers,\n",
    "                    d_model,\n",
    "                    n_heads,\n",
    "                    d_ff,\n",
    "                    dropout):\n",
    "        super(Decoder, self).__init__()\n",
    "        self.n_layers = n_layers\n",
    "        self.dec_layers = [DecoderLayer(d_model, n_heads, d_ff, dropout) \n",
    "                            for _ in range(n_layers)]\n",
    "                            \n",
    "    def call(self, x, enc_out, dec_enc_mask, padding_mask):\n",
    "        out = x\n",
    "    \n",
    "        dec_attns = list()\n",
    "        dec_enc_attns = list()\n",
    "        for i in range(self.n_layers):\n",
    "            out, dec_attn, dec_enc_attn = \\\n",
    "            self.dec_layers[i](out, enc_out, dec_enc_mask, padding_mask)\n",
    "\n",
    "            dec_attns.append(dec_attn)\n",
    "            dec_enc_attns.append(dec_enc_attn)\n",
    "\n",
    "        return out, dec_attns, dec_enc_attns"
   ]
  },
  {
   "cell_type": "code",
   "execution_count": 70,
   "id": "34c029d7",
   "metadata": {},
   "outputs": [],
   "source": [
    "class Transformer(tf.keras.Model):\n",
    "    def __init__(self,\n",
    "                    n_layers,\n",
    "                    d_model,\n",
    "                    n_heads,\n",
    "                    d_ff,\n",
    "                    src_vocab_size,\n",
    "                    tgt_vocab_size,\n",
    "                    pos_len,\n",
    "                    dropout=0.2,\n",
    "                    shared_fc=True,\n",
    "                    shared_emb=False):\n",
    "        super(Transformer, self).__init__()\n",
    "        \n",
    "        self.d_model = tf.cast(d_model, tf.float32)\n",
    "\n",
    "        if shared_emb:\n",
    "            self.enc_emb = self.dec_emb = \\\n",
    "            tf.keras.layers.Embedding(src_vocab_size, d_model)\n",
    "        else:\n",
    "            self.enc_emb = tf.keras.layers.Embedding(src_vocab_size, d_model)\n",
    "            self.dec_emb = tf.keras.layers.Embedding(tgt_vocab_size, d_model)\n",
    "\n",
    "        self.pos_encoding = positional_encoding(pos_len, d_model)\n",
    "        self.do = tf.keras.layers.Dropout(dropout)\n",
    "\n",
    "        self.encoder = Encoder(n_layers, d_model, n_heads, d_ff, dropout)\n",
    "        self.decoder = Decoder(n_layers, d_model, n_heads, d_ff, dropout)\n",
    "\n",
    "        self.fc = tf.keras.layers.Dense(tgt_vocab_size)\n",
    "\n",
    "        self.shared_fc = shared_fc\n",
    "\n",
    "        if shared_fc:\n",
    "            self.fc.set_weights(tf.transpose(self.dec_emb.weights))\n",
    "\n",
    "    def embedding(self, emb, x):\n",
    "        seq_len = x.shape[1]\n",
    "\n",
    "        out = emb(x)\n",
    "\n",
    "        if self.shared_fc: out *= tf.math.sqrt(self.d_model)\n",
    "\n",
    "        out += self.pos_encoding[np.newaxis, ...][:, :seq_len, :]\n",
    "        out = self.do(out)\n",
    "\n",
    "        return out\n",
    "\n",
    "        \n",
    "    def call(self, enc_in, dec_in, enc_mask, dec_enc_mask, dec_mask):\n",
    "        enc_in = self.embedding(self.enc_emb, enc_in)\n",
    "        dec_in = self.embedding(self.dec_emb, dec_in)\n",
    "\n",
    "        enc_out, enc_attns = self.encoder(enc_in, enc_mask)\n",
    "        \n",
    "        dec_out, dec_attns, dec_enc_attns = \\\n",
    "        self.decoder(dec_in, enc_out, dec_enc_mask, dec_mask)\n",
    "        \n",
    "        logits = self.fc(dec_out)\n",
    "        \n",
    "        return logits, enc_attns, dec_attns, dec_enc_attns"
   ]
  },
  {
   "cell_type": "code",
   "execution_count": 71,
   "id": "403b4b1d",
   "metadata": {},
   "outputs": [],
   "source": [
    "# 하이퍼 파라미터\n",
    "n_layers = 6\n",
    "d_model = 256\n",
    "n_heads = 8\n",
    "d_ff = 1024\n",
    "pos_len = max_len\n",
    "dropout = 0.1"
   ]
  },
  {
   "cell_type": "code",
   "execution_count": 72,
   "id": "3187999f",
   "metadata": {},
   "outputs": [],
   "source": [
    "# 주어진 하이퍼파라미터로 Transformer 인스턴스 생성\n",
    "transformer = Transformer(\n",
    "    n_layers=n_layers,\n",
    "    d_model=d_model,\n",
    "    n_heads=n_heads,\n",
    "    d_ff=d_ff,\n",
    "    src_vocab_size=vocab_size,\n",
    "    tgt_vocab_size=vocab_size,\n",
    "    pos_len=max_len,\n",
    "    dropout=0.1,\n",
    "    shared_fc=True,\n",
    "    shared_emb=True)"
   ]
  },
  {
   "cell_type": "code",
   "execution_count": 73,
   "id": "7ccc74ec",
   "metadata": {},
   "outputs": [],
   "source": [
    "class LearningRateScheduler(tf.keras.optimizers.schedules.LearningRateSchedule):\n",
    "    def __init__(self, d_model, warmup_steps=4000):\n",
    "        super(LearningRateScheduler, self).__init__()\n",
    "        \n",
    "        self.d_model = d_model\n",
    "        self.warmup_steps = warmup_steps\n",
    "    \n",
    "    def __call__(self, step):\n",
    "        arg1 = step ** -0.5\n",
    "        arg2 = step * (self.warmup_steps ** -1.5)\n",
    "        \n",
    "        return (self.d_model ** -0.5) * tf.math.minimum(arg1, arg2)"
   ]
  },
  {
   "cell_type": "code",
   "execution_count": 74,
   "id": "b7a6a777",
   "metadata": {},
   "outputs": [],
   "source": [
    "\n",
    "learning_rate = LearningRateScheduler(d_model = 512)\n",
    "\n",
    "optimizer = tf.keras.optimizers.Adam(learning_rate,\n",
    "                                        beta_1=0.9,\n",
    "                                        beta_2=0.98, \n",
    "                                        epsilon=1e-9)"
   ]
  },
  {
   "cell_type": "code",
   "execution_count": 75,
   "id": "dc808c2c",
   "metadata": {},
   "outputs": [],
   "source": [
    "loss_object = tf.keras.losses.SparseCategoricalCrossentropy(\n",
    "    from_logits=True, reduction='none')\n",
    "\n",
    "def loss_function(real, pred):\n",
    "    mask = tf.math.logical_not(tf.math.equal(real, 0))\n",
    "    loss_ = loss_object(real, pred)\n",
    "\n",
    "    mask = tf.cast(mask, dtype=loss_.dtype)\n",
    "    loss_ *= mask\n",
    "\n",
    "    return tf.reduce_sum(loss_)/tf.reduce_sum(mask)"
   ]
  },
  {
   "cell_type": "code",
   "execution_count": 76,
   "id": "5be9fa8d",
   "metadata": {},
   "outputs": [],
   "source": [
    "# Train Step 정의\n",
    "#@tf.function()\n",
    "def train_step(src, tgt, model, optimizer):\n",
    "    # TODO: 구현    \n",
    "    tgt_in = tgt[:, :-1]\n",
    "    gold = tgt[:, 1:]\n",
    "\n",
    "    enc_mask, dec_enc_mask, dec_mask = generate_masks(src, tgt_in)\n",
    "\n",
    "    with tf.GradientTape() as tape:\n",
    "        predictions, enc_attns, dec_attns, dec_enc_attns = \\\n",
    "        model(src, tgt_in, enc_mask, dec_enc_mask, dec_mask)\n",
    "        loss = loss_function(gold, predictions)\n",
    "    \n",
    "    gradients = tape.gradient(loss, model.trainable_variables)\n",
    "    optimizer.apply_gradients(zip(gradients, model.trainable_variables))\n",
    "\n",
    "    return loss, enc_attns, dec_attns, dec_enc_attns"
   ]
  },
  {
   "cell_type": "code",
   "execution_count": 77,
   "id": "02b26cd6",
   "metadata": {},
   "outputs": [],
   "source": [
    "def generate_response(sentence, model, tokenizer):\n",
    "    sentence = preprocess_sentence(sentence)\n",
    "    pieces = mecab.morphs(sentence)\n",
    "    tokens = tokenizer.texts_to_sequences(pieces)\n",
    "    \n",
    "    _input = pad_sequences(tokens, maxlen = enc_train.shape[-1], padding = 'post', value = 0)\n",
    "    \n",
    "    ids = []\n",
    "    output = tf.expand_dims([tokenizer.word_index['<start>']], 0)\n",
    "    for i in range(dec_train.shape[-1]):\n",
    "        enc_padding_mask, combined_mask, dec_padding_mask = \\\n",
    "            generate_masks(_input, output)\n",
    "        \n",
    "        predictions, _, _, _ = model(_input, \n",
    "                                     output,\n",
    "                                     enc_padding_mask,\n",
    "                                     combined_mask,\n",
    "                                     dec_padding_mask)\n",
    "        \n",
    "        predicted_id = \\\n",
    "        tf.argmax(tf.math.softmax(predictions, axis = -1)[0, -1]).numpy().item()\n",
    "        \n",
    "        if tokenizer.word_index['<end>'] == predicted_id:\n",
    "            result = [tokenizer.index_word[idx] for idx in ids]\n",
    "            result = \" \".join(result)\n",
    "            return result\n",
    "        \n",
    "        ids.append(predicted_id)\n",
    "        output = tf.concat([output, tf.expand_dims([predicted_id], 0)], axis = -1)\n",
    "        \n",
    "    result = \" \".join([tokenizer.index_word[idx] for idx in ids])\n",
    "    return result\n",
    "        "
   ]
  },
  {
   "cell_type": "code",
   "execution_count": 78,
   "id": "bdcfb646",
   "metadata": {},
   "outputs": [],
   "source": [
    "sample_text = [\n",
    "    '지루하다, 놀러가고 싶어.',\n",
    "    '오늘 일찍 일어났더니 피곤하다.',\n",
    "    '간만에 여자친구랑 데이트 하기로 했어.',\n",
    "    '집에 있는다는 소리야.'\n",
    "]"
   ]
  },
  {
   "cell_type": "code",
   "execution_count": 79,
   "id": "4b26c58a",
   "metadata": {},
   "outputs": [
    {
     "name": "stderr",
     "output_type": "stream",
     "text": [
      "EPOCH 1: 100%|██████████| 362/362 [02:00<00:00,  3.01it/s, Batch=362, Loss=4.78, Avg Loss=6.24]\n"
     ]
    },
    {
     "name": "stdout",
     "output_type": "stream",
     "text": [
      "Generated Responses\n",
      "> input : 1. 지루하다, 놀러가고 싶어.\n",
      "> output: 1. 은 은 게 게 게 게 게 게 게 게 게 게 게 게 게 게 게 게 게 게 게 게 게 게 게 게 게 게 게 .\n",
      "> input : 2. 오늘 일찍 일어났더니 피곤하다.\n",
      "> output: 2. 좋 좋 좋 좋 게 좋 좋 좋 좋 좋 좋 좋 좋 좋 좋 좋 좋 좋 좋 .\n",
      "> input : 3. 간만에 여자친구랑 데이트 하기로 했어.\n",
      "> output: 3. 사랑 는 는 게 는 는 는 는 는 는 게 는 는 는 는 게 게 게 게 게 는 는 는 는 보 세요 .\n",
      "> input : 4. 집에 있는다는 소리야.\n",
      "> output: 4. 좋 좋 좋 좋 .\n",
      "\n",
      "Hyperparameters\n",
      "n_layers:  6\n",
      "d_model:  256\n",
      "n_heads:  8\n",
      "d_ff:  1024\n",
      "dropout:  0.1\n",
      "\n",
      "Training Parameters\n",
      "Warmup Steps:  4000\n",
      "Batch Size:  64\n",
      "Epoch At:  1\n",
      "-------------------------------------------\n",
      "Epoch 1 completed. Average Loss: 6.2412\n"
     ]
    },
    {
     "name": "stderr",
     "output_type": "stream",
     "text": [
      "EPOCH 2: 100%|██████████| 362/362 [02:00<00:00,  3.01it/s, Batch=362, Loss=3.66, Avg Loss=4.09]\n"
     ]
    },
    {
     "name": "stdout",
     "output_type": "stream",
     "text": [
      "Generated Responses\n",
      "> input : 1. 지루하다, 놀러가고 싶어.\n",
      "> output: 1. 연락 이 연락 이 연락 이\n",
      "> input : 2. 오늘 일찍 일어났더니 피곤하다.\n",
      "> output: 2. 좋 은 좋 은 좋 아 하 세요 .\n",
      "> input : 3. 간만에 여자친구랑 데이트 하기로 했어.\n",
      "> output: 3. 사랑 이 도 응원 할 수 도 있 어요 .\n",
      "> input : 4. 집에 있는다는 소리야.\n",
      "> output: 4. 좋 은 좋 은 좋 은 좋 은 좋 은 좋 은 좋 은 좋 은 좋 은 좋 은 좋 .\n",
      "\n",
      "Hyperparameters\n",
      "n_layers:  6\n",
      "d_model:  256\n",
      "n_heads:  8\n",
      "d_ff:  1024\n",
      "dropout:  0.1\n",
      "\n",
      "Training Parameters\n",
      "Warmup Steps:  4000\n",
      "Batch Size:  64\n",
      "Epoch At:  2\n",
      "-------------------------------------------\n",
      "Epoch 2 completed. Average Loss: 4.0890\n"
     ]
    },
    {
     "name": "stderr",
     "output_type": "stream",
     "text": [
      "EPOCH 3: 100%|██████████| 362/362 [01:58<00:00,  3.05it/s, Batch=362, Loss=2.81, Avg Loss=3.16]\n"
     ]
    },
    {
     "name": "stdout",
     "output_type": "stream",
     "text": [
      "Generated Responses\n",
      "> input : 1. 지루하다, 놀러가고 싶어.\n",
      "> output: 1. 그 사람 은 그 사람 이 요 .\n",
      "> input : 2. 오늘 일찍 일어났더니 피곤하다.\n",
      "> output: 2. 오늘 았 길 바랄게요 .\n",
      "> input : 3. 간만에 여자친구랑 데이트 하기로 했어.\n",
      "> output: 3. 꼬시 가 가 대로 응원 해 보 세요 .\n",
      "> input : 4. 집에 있는다는 소리야.\n",
      "> output: 4. 좋 은 사람 이 최고 길 바랄게요 .\n",
      "\n",
      "Hyperparameters\n",
      "n_layers:  6\n",
      "d_model:  256\n",
      "n_heads:  8\n",
      "d_ff:  1024\n",
      "dropout:  0.1\n",
      "\n",
      "Training Parameters\n",
      "Warmup Steps:  4000\n",
      "Batch Size:  64\n",
      "Epoch At:  3\n",
      "-------------------------------------------\n",
      "Epoch 3 completed. Average Loss: 3.1603\n"
     ]
    },
    {
     "name": "stderr",
     "output_type": "stream",
     "text": [
      "EPOCH 4: 100%|██████████| 362/362 [01:58<00:00,  3.05it/s, Batch=362, Loss=2.14, Avg Loss=2.39]\n"
     ]
    },
    {
     "name": "stdout",
     "output_type": "stream",
     "text": [
      "Generated Responses\n",
      "> input : 1. 지루하다, 놀러가고 싶어.\n",
      "> output: 1. 그 사람 으로 연락 하 는 게 좋 아 보 세요 .\n",
      "> input : 2. 오늘 일찍 일어났더니 피곤하다.\n",
      "> output: 2. 오늘 랑 안녕 !\n",
      "> input : 3. 간만에 여자친구랑 데이트 하기로 했어.\n",
      "> output: 3. 사랑 도 사랑 도 사랑 도 몰랐 도 좋 아요 .\n",
      "> input : 4. 집에 있는다는 소리야.\n",
      "> output: 4. 무작정 할 수 없 .\n",
      "\n",
      "Hyperparameters\n",
      "n_layers:  6\n",
      "d_model:  256\n",
      "n_heads:  8\n",
      "d_ff:  1024\n",
      "dropout:  0.1\n",
      "\n",
      "Training Parameters\n",
      "Warmup Steps:  4000\n",
      "Batch Size:  64\n",
      "Epoch At:  4\n",
      "-------------------------------------------\n",
      "Epoch 4 completed. Average Loss: 2.3851\n"
     ]
    },
    {
     "name": "stderr",
     "output_type": "stream",
     "text": [
      "EPOCH 5: 100%|██████████| 362/362 [02:16<00:00,  2.65it/s, Batch=362, Loss=1.31, Avg Loss=1.74]\n"
     ]
    },
    {
     "name": "stdout",
     "output_type": "stream",
     "text": [
      "Generated Responses\n",
      "> input : 1. 지루하다, 놀러가고 싶어.\n",
      "> output: 1. 내 연락 이 내 말 이 내 내 요 .\n",
      "> input : 2. 오늘 일찍 일어났더니 피곤하다.\n",
      "> output: 2. 안녕 을 전해 보 세요 .\n",
      "> input : 3. 간만에 여자친구랑 데이트 하기로 했어.\n",
      "> output: 3. 별거 도 주 주 주 세요 .\n",
      "> input : 4. 집에 있는다는 소리야.\n",
      "> output: 4. 참 이 면 좋 으면 좋 으면 좋 으면 좋 으면 좋 으면 좋 은 것 같 은 것 같 습니다 .\n",
      "\n",
      "Hyperparameters\n",
      "n_layers:  6\n",
      "d_model:  256\n",
      "n_heads:  8\n",
      "d_ff:  1024\n",
      "dropout:  0.1\n",
      "\n",
      "Training Parameters\n",
      "Warmup Steps:  4000\n",
      "Batch Size:  64\n",
      "Epoch At:  5\n",
      "-------------------------------------------\n",
      "Epoch 5 completed. Average Loss: 1.7354\n"
     ]
    },
    {
     "name": "stderr",
     "output_type": "stream",
     "text": [
      "EPOCH 6: 100%|██████████| 362/362 [01:58<00:00,  3.06it/s, Batch=362, Loss=0.867, Avg Loss=1.27]\n"
     ]
    },
    {
     "name": "stdout",
     "output_type": "stream",
     "text": [
      "Generated Responses\n",
      "> input : 1. 지루하다, 놀러가고 싶어.\n",
      "> output: 1. 내 연락 연락 내 게 연락 내 는 게 연락 요 .\n",
      "> input : 2. 오늘 일찍 일어났더니 피곤하다.\n",
      "> output: 2. 많이 좋 아요 .\n",
      "> input : 3. 간만에 여자친구랑 데이트 하기로 했어.\n",
      "> output: 3. 저 도 가져가 는 게 몰랐 자체 도 몰랐 어요 .\n",
      "> input : 4. 집에 있는다는 소리야.\n",
      "> output: 4. 짧 으면 좋 으면 좋 길 바랍니다 .\n",
      "\n",
      "Hyperparameters\n",
      "n_layers:  6\n",
      "d_model:  256\n",
      "n_heads:  8\n",
      "d_ff:  1024\n",
      "dropout:  0.1\n",
      "\n",
      "Training Parameters\n",
      "Warmup Steps:  4000\n",
      "Batch Size:  64\n",
      "Epoch At:  6\n",
      "-------------------------------------------\n",
      "Epoch 6 completed. Average Loss: 1.2700\n"
     ]
    },
    {
     "name": "stderr",
     "output_type": "stream",
     "text": [
      "EPOCH 7: 100%|██████████| 362/362 [01:57<00:00,  3.08it/s, Batch=362, Loss=0.615, Avg Loss=0.976]\n"
     ]
    },
    {
     "name": "stdout",
     "output_type": "stream",
     "text": [
      "Generated Responses\n",
      "> input : 1. 지루하다, 놀러가고 싶어.\n",
      "> output: 1. 좀 내 서 연락 해 보 세요 .\n",
      "> input : 2. 오늘 일찍 일어났더니 피곤하다.\n",
      "> output: 2. 잘 하 세요 .\n",
      "> input : 3. 간만에 여자친구랑 데이트 하기로 했어.\n",
      "> output: 3. 소중 도 도 도 좋 도 도 도 도 도 도 도 도 도 도 도 도 도 도 도 도 도 도 도 도 자체 도 도 도 도 도 도 도 도 도 도 도 도 도 도\n",
      "> input : 4. 집에 있는다는 소리야.\n",
      "> output: 4. 좋 은 정도 연락 해 보 길 바랍니다 .\n",
      "\n",
      "Hyperparameters\n",
      "n_layers:  6\n",
      "d_model:  256\n",
      "n_heads:  8\n",
      "d_ff:  1024\n",
      "dropout:  0.1\n",
      "\n",
      "Training Parameters\n",
      "Warmup Steps:  4000\n",
      "Batch Size:  64\n",
      "Epoch At:  7\n",
      "-------------------------------------------\n",
      "Epoch 7 completed. Average Loss: 0.9761\n"
     ]
    },
    {
     "name": "stderr",
     "output_type": "stream",
     "text": [
      "EPOCH 8: 100%|██████████| 362/362 [01:57<00:00,  3.08it/s, Batch=362, Loss=0.57, Avg Loss=0.816] \n"
     ]
    },
    {
     "name": "stdout",
     "output_type": "stream",
     "text": [
      "Generated Responses\n",
      "> input : 1. 지루하다, 놀러가고 싶어.\n",
      "> output: 1. 그 사람 이 좀 생각 해 보 세요 .\n",
      "> input : 2. 오늘 일찍 일어났더니 피곤하다.\n",
      "> output: 2. 잘 알아보 세요 .\n",
      "> input : 3. 간만에 여자친구랑 데이트 하기로 했어.\n",
      "> output: 3. 사랑 도 고생 했 어요 .\n",
      "> input : 4. 집에 있는다는 소리야.\n",
      "> output: 4. 부담 해도 되 면 좋 은 결정 이 있 으면 좋 겠 네요 .\n",
      "\n",
      "Hyperparameters\n",
      "n_layers:  6\n",
      "d_model:  256\n",
      "n_heads:  8\n",
      "d_ff:  1024\n",
      "dropout:  0.1\n",
      "\n",
      "Training Parameters\n",
      "Warmup Steps:  4000\n",
      "Batch Size:  64\n",
      "Epoch At:  8\n",
      "-------------------------------------------\n",
      "Epoch 8 completed. Average Loss: 0.8156\n"
     ]
    },
    {
     "name": "stderr",
     "output_type": "stream",
     "text": [
      "EPOCH 9: 100%|██████████| 362/362 [01:57<00:00,  3.08it/s, Batch=362, Loss=0.48, Avg Loss=0.71]  \n"
     ]
    },
    {
     "name": "stdout",
     "output_type": "stream",
     "text": [
      "Generated Responses\n",
      "> input : 1. 지루하다, 놀러가고 싶어.\n",
      "> output: 1. 그 사람 이 좀 더 연락 해 보 세요 .\n",
      "> input : 2. 오늘 일찍 일어났더니 피곤하다.\n",
      "> output: 2. 안녕 하 세요 .\n",
      "> input : 3. 간만에 여자친구랑 데이트 하기로 했어.\n",
      "> output: 3. 저 도 떨리 죠 .\n",
      "> input : 4. 집에 있는다는 소리야.\n",
      "> output: 4. 좋 으면 좋 으면 좋 , 나가 는 게 좋 을 것 같 아요 .\n",
      "\n",
      "Hyperparameters\n",
      "n_layers:  6\n",
      "d_model:  256\n",
      "n_heads:  8\n",
      "d_ff:  1024\n",
      "dropout:  0.1\n",
      "\n",
      "Training Parameters\n",
      "Warmup Steps:  4000\n",
      "Batch Size:  64\n",
      "Epoch At:  9\n",
      "-------------------------------------------\n",
      "Epoch 9 completed. Average Loss: 0.7100\n"
     ]
    },
    {
     "name": "stderr",
     "output_type": "stream",
     "text": [
      "EPOCH 10: 100%|██████████| 362/362 [01:57<00:00,  3.09it/s, Batch=362, Loss=0.415, Avg Loss=0.657]\n"
     ]
    },
    {
     "name": "stdout",
     "output_type": "stream",
     "text": [
      "Generated Responses\n",
      "> input : 1. 지루하다, 놀러가고 싶어.\n",
      "> output: 1. 좀 내 서 연락 해 보 세요 .\n",
      "> input : 2. 오늘 일찍 일어났더니 피곤하다.\n",
      "> output: 2. 잘 지내 길 늦 었 길 바랄게요 .\n",
      "> input : 3. 간만에 여자친구랑 데이트 하기로 했어.\n",
      "> output: 3. 사랑 했 다가 도 주 세요 .\n",
      "> input : 4. 집에 있는다는 소리야.\n",
      "> output: 4. 편하 고 오 고 집 나쁘 , 얼마나 나쁘 고 자 고 자 요 .\n",
      "\n",
      "Hyperparameters\n",
      "n_layers:  6\n",
      "d_model:  256\n",
      "n_heads:  8\n",
      "d_ff:  1024\n",
      "dropout:  0.1\n",
      "\n",
      "Training Parameters\n",
      "Warmup Steps:  4000\n",
      "Batch Size:  64\n",
      "Epoch At:  10\n",
      "-------------------------------------------\n",
      "Epoch 10 completed. Average Loss: 0.6572\n"
     ]
    },
    {
     "name": "stderr",
     "output_type": "stream",
     "text": [
      "EPOCH 11: 100%|██████████| 362/362 [01:58<00:00,  3.05it/s, Batch=362, Loss=0.478, Avg Loss=0.612]\n"
     ]
    },
    {
     "name": "stdout",
     "output_type": "stream",
     "text": [
      "Generated Responses\n",
      "> input : 1. 지루하다, 놀러가고 싶어.\n",
      "> output: 1. 그 사람 이 사 면 사 면 사 면 사 면 사 면 사 면 사 고 사 면 사 면 사 고 사 고 사 면 사 면 사 고 사 면 사 면 사 면 사 고 사\n",
      "> input : 2. 오늘 일찍 일어났더니 피곤하다.\n",
      "> output: 2. 잘 하 길 기도 .\n",
      "> input : 3. 간만에 여자친구랑 데이트 하기로 했어.\n",
      "> output: 3. 저 도 떨리 죠 .\n",
      "> input : 4. 집에 있는다는 소리야.\n",
      "> output: 4. 좋 길 고 좋 길 바랍니다 .\n",
      "\n",
      "Hyperparameters\n",
      "n_layers:  6\n",
      "d_model:  256\n",
      "n_heads:  8\n",
      "d_ff:  1024\n",
      "dropout:  0.1\n",
      "\n",
      "Training Parameters\n",
      "Warmup Steps:  4000\n",
      "Batch Size:  64\n",
      "Epoch At:  11\n",
      "-------------------------------------------\n",
      "Epoch 11 completed. Average Loss: 0.6115\n"
     ]
    },
    {
     "name": "stderr",
     "output_type": "stream",
     "text": [
      "EPOCH 12: 100%|██████████| 362/362 [01:59<00:00,  3.04it/s, Batch=362, Loss=0.384, Avg Loss=0.556]\n"
     ]
    },
    {
     "name": "stdout",
     "output_type": "stream",
     "text": [
      "Generated Responses\n",
      "> input : 1. 지루하다, 놀러가고 싶어.\n",
      "> output: 1. 짝사랑 앞 으로 짝사랑 내 나가 세요 .\n",
      "> input : 2. 오늘 일찍 일어났더니 피곤하다.\n",
      "> output: 2. 잘 버티 고 둘 이 네요 .\n",
      "> input : 3. 간만에 여자친구랑 데이트 하기로 했어.\n",
      "> output: 3. 저 도 고생 되 는 게 되 길 바랄게요 .\n",
      "> input : 4. 집에 있는다는 소리야.\n",
      "> output: 4. 좋 은 선택 이 길 바랍니다 .\n",
      "\n",
      "Hyperparameters\n",
      "n_layers:  6\n",
      "d_model:  256\n",
      "n_heads:  8\n",
      "d_ff:  1024\n",
      "dropout:  0.1\n",
      "\n",
      "Training Parameters\n",
      "Warmup Steps:  4000\n",
      "Batch Size:  64\n",
      "Epoch At:  12\n",
      "-------------------------------------------\n",
      "Epoch 12 completed. Average Loss: 0.5555\n"
     ]
    },
    {
     "name": "stderr",
     "output_type": "stream",
     "text": [
      "EPOCH 13: 100%|██████████| 362/362 [01:58<00:00,  3.06it/s, Batch=362, Loss=0.227, Avg Loss=0.449]\n"
     ]
    },
    {
     "name": "stdout",
     "output_type": "stream",
     "text": [
      "Generated Responses\n",
      "> input : 1. 지루하다, 놀러가고 싶어.\n",
      "> output: 1. 같이 내 요 .\n",
      "> input : 2. 오늘 일찍 일어났더니 피곤하다.\n",
      "> output: 2. 오늘 강추위 래요 .\n",
      "> input : 3. 간만에 여자친구랑 데이트 하기로 했어.\n",
      "> output: 3. 저 도 사 는 설레 도 좋 아요 .\n",
      "> input : 4. 집에 있는다는 소리야.\n",
      "> output: 4. 부담 되 지 마요 .\n",
      "\n",
      "Hyperparameters\n",
      "n_layers:  6\n",
      "d_model:  256\n",
      "n_heads:  8\n",
      "d_ff:  1024\n",
      "dropout:  0.1\n",
      "\n",
      "Training Parameters\n",
      "Warmup Steps:  4000\n",
      "Batch Size:  64\n",
      "Epoch At:  13\n",
      "-------------------------------------------\n",
      "Epoch 13 completed. Average Loss: 0.4494\n"
     ]
    },
    {
     "name": "stderr",
     "output_type": "stream",
     "text": [
      "EPOCH 14: 100%|██████████| 362/362 [01:57<00:00,  3.09it/s, Batch=362, Loss=0.168, Avg Loss=0.368]\n"
     ]
    },
    {
     "name": "stdout",
     "output_type": "stream",
     "text": [
      "Generated Responses\n",
      "> input : 1. 지루하다, 놀러가고 싶어.\n",
      "> output: 1. 많이 만나 면 마음 이 내 나 봐요 .\n",
      "> input : 2. 오늘 일찍 일어났더니 피곤하다.\n",
      "> output: 2. 좋 은 소식 이 었 길 바랍니다 .\n",
      "> input : 3. 간만에 여자친구랑 데이트 하기로 했어.\n",
      "> output: 3. 떨리 도 노력 입니다 .\n",
      "> input : 4. 집에 있는다는 소리야.\n",
      "> output: 4. 생각 해도 준비 할 때 길 바랍니다 .\n",
      "\n",
      "Hyperparameters\n",
      "n_layers:  6\n",
      "d_model:  256\n",
      "n_heads:  8\n",
      "d_ff:  1024\n",
      "dropout:  0.1\n",
      "\n",
      "Training Parameters\n",
      "Warmup Steps:  4000\n",
      "Batch Size:  64\n",
      "Epoch At:  14\n",
      "-------------------------------------------\n",
      "Epoch 14 completed. Average Loss: 0.3675\n"
     ]
    },
    {
     "name": "stderr",
     "output_type": "stream",
     "text": [
      "EPOCH 15: 100%|██████████| 362/362 [01:57<00:00,  3.09it/s, Batch=362, Loss=0.256, Avg Loss=0.32] \n"
     ]
    },
    {
     "name": "stdout",
     "output_type": "stream",
     "text": [
      "Generated Responses\n",
      "> input : 1. 지루하다, 놀러가고 싶어.\n",
      "> output: 1. 생각 이 좀 더 필요 할 거 예요 .\n",
      "> input : 2. 오늘 일찍 일어났더니 피곤하다.\n",
      "> output: 2. 안녕 !\n",
      "> input : 3. 간만에 여자친구랑 데이트 하기로 했어.\n",
      "> output: 3. 저 도 쉬 어도 노력 해요 .\n",
      "> input : 4. 집에 있는다는 소리야.\n",
      "> output: 4. 좋 은 선물 이 고 좋 을 때 좋 아요 .\n",
      "\n",
      "Hyperparameters\n",
      "n_layers:  6\n",
      "d_model:  256\n",
      "n_heads:  8\n",
      "d_ff:  1024\n",
      "dropout:  0.1\n",
      "\n",
      "Training Parameters\n",
      "Warmup Steps:  4000\n",
      "Batch Size:  64\n",
      "Epoch At:  15\n",
      "-------------------------------------------\n",
      "Epoch 15 completed. Average Loss: 0.3201\n"
     ]
    }
   ],
   "source": [
    "EPOCHS = 15\n",
    "\n",
    "for epoch in range(EPOCHS):\n",
    "    total_loss = 0\n",
    "    \n",
    "    dataset_count = tf.data.experimental.cardinality(train_dataset).numpy()\n",
    "    tqdm_bar = tqdm(enumerate(train_dataset), total=dataset_count, desc = f\"EPOCH {epoch+1}\")\n",
    "\n",
    "    for batch, (src, tgt) in tqdm_bar:\n",
    "        loss, enc_attns, dec_attns, dec_enc_attns = train_step(src, tgt, transformer, optimizer)\n",
    "        total_loss += loss.numpy()\n",
    "\n",
    "        tqdm_bar.set_postfix({\n",
    "            \"Batch\": batch + 1,\n",
    "            \"Loss\": loss.numpy(),\n",
    "            \"Avg Loss\": total_loss / (batch + 1)\n",
    "        })\n",
    "    \n",
    "    tqdm_bar.close()\n",
    "    \n",
    "    print(\"Generated Responses\")   \n",
    "    for idx, text in enumerate(sample_text):\n",
    "        \n",
    "        result = \\\n",
    "        generate_response(text, transformer, tokenizer)\n",
    "        \n",
    "        print(f\"> input : {idx+1}. {text}\")\n",
    "        print(f\"> output: {idx+1}. {result}\")\n",
    "        \n",
    "    print(\"\\nHyperparameters\")\n",
    "    print(\"n_layers: \", n_layers)\n",
    "    print(\"d_model: \", d_model)\n",
    "    print(\"n_heads: \", n_heads)\n",
    "    print(\"d_ff: \", d_ff)\n",
    "    print(\"dropout: \", dropout)\n",
    "        \n",
    "    print(\"\\nTraining Parameters\")\n",
    "    print(\"Warmup Steps: \", learning_rate.warmup_steps)\n",
    "    print(\"Batch Size: \", BATCH_SIZE)\n",
    "    print(\"Epoch At: \", epoch+1)\n",
    "    print(\"-------------------------------------------\")\n",
    "    \n",
    "    \n",
    "    print(f\"Epoch {epoch + 1} completed. Average Loss: {total_loss / dataset_count:.4f}\")"
   ]
  },
  {
   "cell_type": "markdown",
   "id": "4fa02e53",
   "metadata": {},
   "source": [
    "## 5-1. 레이어 개수 변환하여 실험하기\n",
    "\n"
   ]
  },
  {
   "cell_type": "code",
   "execution_count": 81,
   "id": "468e6425",
   "metadata": {},
   "outputs": [
    {
     "name": "stderr",
     "output_type": "stream",
     "text": [
      "EPOCH 1: 100%|██████████| 362/362 [00:48<00:00,  7.54it/s, Batch=362, Loss=nan, Avg Loss=nan]\n"
     ]
    },
    {
     "name": "stdout",
     "output_type": "stream",
     "text": [
      "Generated Responses\n",
      "> input : 1. 지루하다, 놀러가고 싶어.\n",
      "> output: 1. <pad> <pad> <pad> <pad> <pad> <pad> <pad> <pad> <pad> <pad> <pad> <pad> <pad> <pad> <pad> <pad> <pad> <pad> <pad> <pad> <pad> <pad> <pad> <pad> <pad> <pad> <pad> <pad> <pad> <pad> <pad> <pad> <pad> <pad> <pad> <pad> <pad> <pad> <pad> <pad>\n",
      "> input : 2. 오늘 일찍 일어났더니 피곤하다.\n",
      "> output: 2. <pad> <pad> <pad> <pad> <pad> <pad> <pad> <pad> <pad> <pad> <pad> <pad> <pad> <pad> <pad> <pad> <pad> <pad> <pad> <pad> <pad> <pad> <pad> <pad> <pad> <pad> <pad> <pad> <pad> <pad> <pad> <pad> <pad> <pad> <pad> <pad> <pad> <pad> <pad> <pad>\n",
      "> input : 3. 간만에 여자친구랑 데이트 하기로 했어.\n",
      "> output: 3. <pad> <pad> <pad> <pad> <pad> <pad> <pad> <pad> <pad> <pad> <pad> <pad> <pad> <pad> <pad> <pad> <pad> <pad> <pad> <pad> <pad> <pad> <pad> <pad> <pad> <pad> <pad> <pad> <pad> <pad> <pad> <pad> <pad> <pad> <pad> <pad> <pad> <pad> <pad> <pad>\n",
      "> input : 4. 집에 있는다는 소리야.\n",
      "> output: 4. <pad> <pad> <pad> <pad> <pad> <pad> <pad> <pad> <pad> <pad> <pad> <pad> <pad> <pad> <pad> <pad> <pad> <pad> <pad> <pad> <pad> <pad> <pad> <pad> <pad> <pad> <pad> <pad> <pad> <pad> <pad> <pad> <pad> <pad> <pad> <pad> <pad> <pad> <pad> <pad>\n",
      "\n",
      "Hyperparameters\n",
      "n_layers:  2\n",
      "d_model:  256\n",
      "n_heads:  8\n",
      "d_ff:  1024\n",
      "dropout:  0.1\n",
      "\n",
      "Training Parameters\n",
      "Warmup Steps:  4000\n",
      "Batch Size:  64\n",
      "Epoch At:  1\n",
      "-------------------------------------------\n",
      "Epoch 1 completed. Average Loss: nan\n"
     ]
    },
    {
     "name": "stderr",
     "output_type": "stream",
     "text": [
      "EPOCH 1: 100%|██████████| 362/362 [01:23<00:00,  4.36it/s, Batch=362, Loss=nan, Avg Loss=nan]\n"
     ]
    },
    {
     "name": "stdout",
     "output_type": "stream",
     "text": [
      "Generated Responses\n",
      "> input : 1. 지루하다, 놀러가고 싶어.\n",
      "> output: 1. <pad> <pad> <pad> <pad> <pad> <pad> <pad> <pad> <pad> <pad> <pad> <pad> <pad> <pad> <pad> <pad> <pad> <pad> <pad> <pad> <pad> <pad> <pad> <pad> <pad> <pad> <pad> <pad> <pad> <pad> <pad> <pad> <pad> <pad> <pad> <pad> <pad> <pad> <pad> <pad>\n",
      "> input : 2. 오늘 일찍 일어났더니 피곤하다.\n",
      "> output: 2. <pad> <pad> <pad> <pad> <pad> <pad> <pad> <pad> <pad> <pad> <pad> <pad> <pad> <pad> <pad> <pad> <pad> <pad> <pad> <pad> <pad> <pad> <pad> <pad> <pad> <pad> <pad> <pad> <pad> <pad> <pad> <pad> <pad> <pad> <pad> <pad> <pad> <pad> <pad> <pad>\n",
      "> input : 3. 간만에 여자친구랑 데이트 하기로 했어.\n",
      "> output: 3. <pad> <pad> <pad> <pad> <pad> <pad> <pad> <pad> <pad> <pad> <pad> <pad> <pad> <pad> <pad> <pad> <pad> <pad> <pad> <pad> <pad> <pad> <pad> <pad> <pad> <pad> <pad> <pad> <pad> <pad> <pad> <pad> <pad> <pad> <pad> <pad> <pad> <pad> <pad> <pad>\n",
      "> input : 4. 집에 있는다는 소리야.\n",
      "> output: 4. <pad> <pad> <pad> <pad> <pad> <pad> <pad> <pad> <pad> <pad> <pad> <pad> <pad> <pad> <pad> <pad> <pad> <pad> <pad> <pad> <pad> <pad> <pad> <pad> <pad> <pad> <pad> <pad> <pad> <pad> <pad> <pad> <pad> <pad> <pad> <pad> <pad> <pad> <pad> <pad>\n",
      "\n",
      "Hyperparameters\n",
      "n_layers:  4\n",
      "d_model:  256\n",
      "n_heads:  8\n",
      "d_ff:  1024\n",
      "dropout:  0.1\n",
      "\n",
      "Training Parameters\n",
      "Warmup Steps:  4000\n",
      "Batch Size:  64\n",
      "Epoch At:  1\n",
      "-------------------------------------------\n",
      "Epoch 1 completed. Average Loss: nan\n"
     ]
    },
    {
     "name": "stderr",
     "output_type": "stream",
     "text": [
      "EPOCH 1:   4%|▎         | 13/362 [00:04<01:59,  2.93it/s, Batch=13, Loss=nan, Avg Loss=nan]\n"
     ]
    },
    {
     "ename": "KeyboardInterrupt",
     "evalue": "",
     "output_type": "error",
     "traceback": [
      "\u001b[0;31m---------------------------------------------------------------------------\u001b[0m",
      "\u001b[0;31mKeyboardInterrupt\u001b[0m                         Traceback (most recent call last)",
      "\u001b[0;32m/tmp/ipykernel_132/2289853927.py\u001b[0m in \u001b[0;36m<module>\u001b[0;34m\u001b[0m\n\u001b[1;32m     55\u001b[0m \u001b[0;34m\u001b[0m\u001b[0m\n\u001b[1;32m     56\u001b[0m         \u001b[0;32mfor\u001b[0m \u001b[0mbatch\u001b[0m\u001b[0;34m,\u001b[0m \u001b[0;34m(\u001b[0m\u001b[0msrc\u001b[0m\u001b[0;34m,\u001b[0m \u001b[0mtgt\u001b[0m\u001b[0;34m)\u001b[0m \u001b[0;32min\u001b[0m \u001b[0mtqdm_bar\u001b[0m\u001b[0;34m:\u001b[0m\u001b[0;34m\u001b[0m\u001b[0;34m\u001b[0m\u001b[0m\n\u001b[0;32m---> 57\u001b[0;31m             \u001b[0mloss\u001b[0m\u001b[0;34m,\u001b[0m \u001b[0menc_attns\u001b[0m\u001b[0;34m,\u001b[0m \u001b[0mdec_attns\u001b[0m\u001b[0;34m,\u001b[0m \u001b[0mdec_enc_attns\u001b[0m \u001b[0;34m=\u001b[0m \u001b[0mtrain_step\u001b[0m\u001b[0;34m(\u001b[0m\u001b[0msrc\u001b[0m\u001b[0;34m,\u001b[0m \u001b[0mtgt\u001b[0m\u001b[0;34m,\u001b[0m \u001b[0mtransformer\u001b[0m\u001b[0;34m,\u001b[0m \u001b[0moptimizer\u001b[0m\u001b[0;34m)\u001b[0m\u001b[0;34m\u001b[0m\u001b[0;34m\u001b[0m\u001b[0m\n\u001b[0m\u001b[1;32m     58\u001b[0m             \u001b[0mtotal_loss\u001b[0m \u001b[0;34m+=\u001b[0m \u001b[0mloss\u001b[0m\u001b[0;34m.\u001b[0m\u001b[0mnumpy\u001b[0m\u001b[0;34m(\u001b[0m\u001b[0;34m)\u001b[0m\u001b[0;34m\u001b[0m\u001b[0;34m\u001b[0m\u001b[0m\n\u001b[1;32m     59\u001b[0m \u001b[0;34m\u001b[0m\u001b[0m\n",
      "\u001b[0;32m/tmp/ipykernel_132/2939494388.py\u001b[0m in \u001b[0;36mtrain_step\u001b[0;34m(src, tgt, model, optimizer)\u001b[0m\n\u001b[1;32m     10\u001b[0m     \u001b[0;32mwith\u001b[0m \u001b[0mtf\u001b[0m\u001b[0;34m.\u001b[0m\u001b[0mGradientTape\u001b[0m\u001b[0;34m(\u001b[0m\u001b[0;34m)\u001b[0m \u001b[0;32mas\u001b[0m \u001b[0mtape\u001b[0m\u001b[0;34m:\u001b[0m\u001b[0;34m\u001b[0m\u001b[0;34m\u001b[0m\u001b[0m\n\u001b[1;32m     11\u001b[0m         \u001b[0mpredictions\u001b[0m\u001b[0;34m,\u001b[0m \u001b[0menc_attns\u001b[0m\u001b[0;34m,\u001b[0m \u001b[0mdec_attns\u001b[0m\u001b[0;34m,\u001b[0m \u001b[0mdec_enc_attns\u001b[0m \u001b[0;34m=\u001b[0m\u001b[0;31m \u001b[0m\u001b[0;31m\\\u001b[0m\u001b[0;34m\u001b[0m\u001b[0;34m\u001b[0m\u001b[0m\n\u001b[0;32m---> 12\u001b[0;31m         \u001b[0mmodel\u001b[0m\u001b[0;34m(\u001b[0m\u001b[0msrc\u001b[0m\u001b[0;34m,\u001b[0m \u001b[0mtgt_in\u001b[0m\u001b[0;34m,\u001b[0m \u001b[0menc_mask\u001b[0m\u001b[0;34m,\u001b[0m \u001b[0mdec_enc_mask\u001b[0m\u001b[0;34m,\u001b[0m \u001b[0mdec_mask\u001b[0m\u001b[0;34m)\u001b[0m\u001b[0;34m\u001b[0m\u001b[0;34m\u001b[0m\u001b[0m\n\u001b[0m\u001b[1;32m     13\u001b[0m         \u001b[0mloss\u001b[0m \u001b[0;34m=\u001b[0m \u001b[0mloss_function\u001b[0m\u001b[0;34m(\u001b[0m\u001b[0mgold\u001b[0m\u001b[0;34m,\u001b[0m \u001b[0mpredictions\u001b[0m\u001b[0;34m)\u001b[0m\u001b[0;34m\u001b[0m\u001b[0;34m\u001b[0m\u001b[0m\n\u001b[1;32m     14\u001b[0m \u001b[0;34m\u001b[0m\u001b[0m\n",
      "\u001b[0;32m/opt/conda/lib/python3.9/site-packages/keras/engine/base_layer.py\u001b[0m in \u001b[0;36m__call__\u001b[0;34m(self, *args, **kwargs)\u001b[0m\n\u001b[1;32m   1035\u001b[0m         with autocast_variable.enable_auto_cast_variables(\n\u001b[1;32m   1036\u001b[0m             self._compute_dtype_object):\n\u001b[0;32m-> 1037\u001b[0;31m           \u001b[0moutputs\u001b[0m \u001b[0;34m=\u001b[0m \u001b[0mcall_fn\u001b[0m\u001b[0;34m(\u001b[0m\u001b[0minputs\u001b[0m\u001b[0;34m,\u001b[0m \u001b[0;34m*\u001b[0m\u001b[0margs\u001b[0m\u001b[0;34m,\u001b[0m \u001b[0;34m**\u001b[0m\u001b[0mkwargs\u001b[0m\u001b[0;34m)\u001b[0m\u001b[0;34m\u001b[0m\u001b[0;34m\u001b[0m\u001b[0m\n\u001b[0m\u001b[1;32m   1038\u001b[0m \u001b[0;34m\u001b[0m\u001b[0m\n\u001b[1;32m   1039\u001b[0m         \u001b[0;32mif\u001b[0m \u001b[0mself\u001b[0m\u001b[0;34m.\u001b[0m\u001b[0m_activity_regularizer\u001b[0m\u001b[0;34m:\u001b[0m\u001b[0;34m\u001b[0m\u001b[0;34m\u001b[0m\u001b[0m\n",
      "\u001b[0;32m/tmp/ipykernel_132/316502540.py\u001b[0m in \u001b[0;36mcall\u001b[0;34m(self, enc_in, dec_in, enc_mask, dec_enc_mask, dec_mask)\u001b[0m\n\u001b[1;32m     55\u001b[0m \u001b[0;34m\u001b[0m\u001b[0m\n\u001b[1;32m     56\u001b[0m         \u001b[0mdec_out\u001b[0m\u001b[0;34m,\u001b[0m \u001b[0mdec_attns\u001b[0m\u001b[0;34m,\u001b[0m \u001b[0mdec_enc_attns\u001b[0m \u001b[0;34m=\u001b[0m\u001b[0;31m \u001b[0m\u001b[0;31m\\\u001b[0m\u001b[0;34m\u001b[0m\u001b[0;34m\u001b[0m\u001b[0m\n\u001b[0;32m---> 57\u001b[0;31m         \u001b[0mself\u001b[0m\u001b[0;34m.\u001b[0m\u001b[0mdecoder\u001b[0m\u001b[0;34m(\u001b[0m\u001b[0mdec_in\u001b[0m\u001b[0;34m,\u001b[0m \u001b[0menc_out\u001b[0m\u001b[0;34m,\u001b[0m \u001b[0mdec_enc_mask\u001b[0m\u001b[0;34m,\u001b[0m \u001b[0mdec_mask\u001b[0m\u001b[0;34m)\u001b[0m\u001b[0;34m\u001b[0m\u001b[0;34m\u001b[0m\u001b[0m\n\u001b[0m\u001b[1;32m     58\u001b[0m \u001b[0;34m\u001b[0m\u001b[0m\n\u001b[1;32m     59\u001b[0m         \u001b[0mlogits\u001b[0m \u001b[0;34m=\u001b[0m \u001b[0mself\u001b[0m\u001b[0;34m.\u001b[0m\u001b[0mfc\u001b[0m\u001b[0;34m(\u001b[0m\u001b[0mdec_out\u001b[0m\u001b[0;34m)\u001b[0m\u001b[0;34m\u001b[0m\u001b[0;34m\u001b[0m\u001b[0m\n",
      "\u001b[0;32m/opt/conda/lib/python3.9/site-packages/keras/engine/base_layer.py\u001b[0m in \u001b[0;36m__call__\u001b[0;34m(self, *args, **kwargs)\u001b[0m\n\u001b[1;32m   1035\u001b[0m         with autocast_variable.enable_auto_cast_variables(\n\u001b[1;32m   1036\u001b[0m             self._compute_dtype_object):\n\u001b[0;32m-> 1037\u001b[0;31m           \u001b[0moutputs\u001b[0m \u001b[0;34m=\u001b[0m \u001b[0mcall_fn\u001b[0m\u001b[0;34m(\u001b[0m\u001b[0minputs\u001b[0m\u001b[0;34m,\u001b[0m \u001b[0;34m*\u001b[0m\u001b[0margs\u001b[0m\u001b[0;34m,\u001b[0m \u001b[0;34m**\u001b[0m\u001b[0mkwargs\u001b[0m\u001b[0;34m)\u001b[0m\u001b[0;34m\u001b[0m\u001b[0;34m\u001b[0m\u001b[0m\n\u001b[0m\u001b[1;32m   1038\u001b[0m \u001b[0;34m\u001b[0m\u001b[0m\n\u001b[1;32m   1039\u001b[0m         \u001b[0;32mif\u001b[0m \u001b[0mself\u001b[0m\u001b[0;34m.\u001b[0m\u001b[0m_activity_regularizer\u001b[0m\u001b[0;34m:\u001b[0m\u001b[0;34m\u001b[0m\u001b[0;34m\u001b[0m\u001b[0m\n",
      "\u001b[0;32m/tmp/ipykernel_132/1294809943.py\u001b[0m in \u001b[0;36mcall\u001b[0;34m(self, x, enc_out, dec_enc_mask, padding_mask)\u001b[0m\n\u001b[1;32m     18\u001b[0m         \u001b[0;32mfor\u001b[0m \u001b[0mi\u001b[0m \u001b[0;32min\u001b[0m \u001b[0mrange\u001b[0m\u001b[0;34m(\u001b[0m\u001b[0mself\u001b[0m\u001b[0;34m.\u001b[0m\u001b[0mn_layers\u001b[0m\u001b[0;34m)\u001b[0m\u001b[0;34m:\u001b[0m\u001b[0;34m\u001b[0m\u001b[0;34m\u001b[0m\u001b[0m\n\u001b[1;32m     19\u001b[0m             \u001b[0mout\u001b[0m\u001b[0;34m,\u001b[0m \u001b[0mdec_attn\u001b[0m\u001b[0;34m,\u001b[0m \u001b[0mdec_enc_attn\u001b[0m \u001b[0;34m=\u001b[0m\u001b[0;31m \u001b[0m\u001b[0;31m\\\u001b[0m\u001b[0;34m\u001b[0m\u001b[0;34m\u001b[0m\u001b[0m\n\u001b[0;32m---> 20\u001b[0;31m             \u001b[0mself\u001b[0m\u001b[0;34m.\u001b[0m\u001b[0mdec_layers\u001b[0m\u001b[0;34m[\u001b[0m\u001b[0mi\u001b[0m\u001b[0;34m]\u001b[0m\u001b[0;34m(\u001b[0m\u001b[0mout\u001b[0m\u001b[0;34m,\u001b[0m \u001b[0menc_out\u001b[0m\u001b[0;34m,\u001b[0m \u001b[0mdec_enc_mask\u001b[0m\u001b[0;34m,\u001b[0m \u001b[0mpadding_mask\u001b[0m\u001b[0;34m)\u001b[0m\u001b[0;34m\u001b[0m\u001b[0;34m\u001b[0m\u001b[0m\n\u001b[0m\u001b[1;32m     21\u001b[0m \u001b[0;34m\u001b[0m\u001b[0m\n\u001b[1;32m     22\u001b[0m             \u001b[0mdec_attns\u001b[0m\u001b[0;34m.\u001b[0m\u001b[0mappend\u001b[0m\u001b[0;34m(\u001b[0m\u001b[0mdec_attn\u001b[0m\u001b[0;34m)\u001b[0m\u001b[0;34m\u001b[0m\u001b[0;34m\u001b[0m\u001b[0m\n",
      "\u001b[0;32m/opt/conda/lib/python3.9/site-packages/keras/engine/base_layer.py\u001b[0m in \u001b[0;36m__call__\u001b[0;34m(self, *args, **kwargs)\u001b[0m\n\u001b[1;32m   1035\u001b[0m         with autocast_variable.enable_auto_cast_variables(\n\u001b[1;32m   1036\u001b[0m             self._compute_dtype_object):\n\u001b[0;32m-> 1037\u001b[0;31m           \u001b[0moutputs\u001b[0m \u001b[0;34m=\u001b[0m \u001b[0mcall_fn\u001b[0m\u001b[0;34m(\u001b[0m\u001b[0minputs\u001b[0m\u001b[0;34m,\u001b[0m \u001b[0;34m*\u001b[0m\u001b[0margs\u001b[0m\u001b[0;34m,\u001b[0m \u001b[0;34m**\u001b[0m\u001b[0mkwargs\u001b[0m\u001b[0;34m)\u001b[0m\u001b[0;34m\u001b[0m\u001b[0;34m\u001b[0m\u001b[0m\n\u001b[0m\u001b[1;32m   1038\u001b[0m \u001b[0;34m\u001b[0m\u001b[0m\n\u001b[1;32m   1039\u001b[0m         \u001b[0;32mif\u001b[0m \u001b[0mself\u001b[0m\u001b[0;34m.\u001b[0m\u001b[0m_activity_regularizer\u001b[0m\u001b[0;34m:\u001b[0m\u001b[0;34m\u001b[0m\u001b[0;34m\u001b[0m\u001b[0m\n",
      "\u001b[0;32m/tmp/ipykernel_132/1469976893.py\u001b[0m in \u001b[0;36mcall\u001b[0;34m(self, x, enc_out, dec_enc_mask, padding_mask)\u001b[0m\n\u001b[1;32m     30\u001b[0m         \u001b[0mout\u001b[0m \u001b[0;34m=\u001b[0m \u001b[0mself\u001b[0m\u001b[0;34m.\u001b[0m\u001b[0mnorm_2\u001b[0m\u001b[0;34m(\u001b[0m\u001b[0mout\u001b[0m\u001b[0;34m)\u001b[0m\u001b[0;34m\u001b[0m\u001b[0;34m\u001b[0m\u001b[0m\n\u001b[1;32m     31\u001b[0m         \u001b[0;31m# Q, K, V 순서에 주의하세요!\u001b[0m\u001b[0;34m\u001b[0m\u001b[0;34m\u001b[0m\u001b[0m\n\u001b[0;32m---> 32\u001b[0;31m         \u001b[0mout\u001b[0m\u001b[0;34m,\u001b[0m \u001b[0mdec_enc_attn\u001b[0m \u001b[0;34m=\u001b[0m \u001b[0mself\u001b[0m\u001b[0;34m.\u001b[0m\u001b[0menc_dec_attn\u001b[0m\u001b[0;34m(\u001b[0m\u001b[0mQ\u001b[0m\u001b[0;34m=\u001b[0m\u001b[0mout\u001b[0m\u001b[0;34m,\u001b[0m \u001b[0mK\u001b[0m\u001b[0;34m=\u001b[0m\u001b[0menc_out\u001b[0m\u001b[0;34m,\u001b[0m \u001b[0mV\u001b[0m\u001b[0;34m=\u001b[0m\u001b[0menc_out\u001b[0m\u001b[0;34m,\u001b[0m \u001b[0mmask\u001b[0m\u001b[0;34m=\u001b[0m\u001b[0mdec_enc_mask\u001b[0m\u001b[0;34m)\u001b[0m\u001b[0;34m\u001b[0m\u001b[0;34m\u001b[0m\u001b[0m\n\u001b[0m\u001b[1;32m     33\u001b[0m         \u001b[0mout\u001b[0m \u001b[0;34m=\u001b[0m \u001b[0mself\u001b[0m\u001b[0;34m.\u001b[0m\u001b[0mdo\u001b[0m\u001b[0;34m(\u001b[0m\u001b[0mout\u001b[0m\u001b[0;34m)\u001b[0m\u001b[0;34m\u001b[0m\u001b[0;34m\u001b[0m\u001b[0m\n\u001b[1;32m     34\u001b[0m         \u001b[0mout\u001b[0m \u001b[0;34m+=\u001b[0m \u001b[0mresidual\u001b[0m\u001b[0;34m\u001b[0m\u001b[0;34m\u001b[0m\u001b[0m\n",
      "\u001b[0;32m/opt/conda/lib/python3.9/site-packages/keras/engine/base_layer.py\u001b[0m in \u001b[0;36m__call__\u001b[0;34m(self, *args, **kwargs)\u001b[0m\n\u001b[1;32m   1035\u001b[0m         with autocast_variable.enable_auto_cast_variables(\n\u001b[1;32m   1036\u001b[0m             self._compute_dtype_object):\n\u001b[0;32m-> 1037\u001b[0;31m           \u001b[0moutputs\u001b[0m \u001b[0;34m=\u001b[0m \u001b[0mcall_fn\u001b[0m\u001b[0;34m(\u001b[0m\u001b[0minputs\u001b[0m\u001b[0;34m,\u001b[0m \u001b[0;34m*\u001b[0m\u001b[0margs\u001b[0m\u001b[0;34m,\u001b[0m \u001b[0;34m**\u001b[0m\u001b[0mkwargs\u001b[0m\u001b[0;34m)\u001b[0m\u001b[0;34m\u001b[0m\u001b[0;34m\u001b[0m\u001b[0m\n\u001b[0m\u001b[1;32m   1038\u001b[0m \u001b[0;34m\u001b[0m\u001b[0m\n\u001b[1;32m   1039\u001b[0m         \u001b[0;32mif\u001b[0m \u001b[0mself\u001b[0m\u001b[0;34m.\u001b[0m\u001b[0m_activity_regularizer\u001b[0m\u001b[0;34m:\u001b[0m\u001b[0;34m\u001b[0m\u001b[0;34m\u001b[0m\u001b[0m\n",
      "\u001b[0;32m/tmp/ipykernel_132/2383144956.py\u001b[0m in \u001b[0;36mcall\u001b[0;34m(self, Q, K, V, mask)\u001b[0m\n\u001b[1;32m     51\u001b[0m         \u001b[0mWV_splits\u001b[0m \u001b[0;34m=\u001b[0m \u001b[0mself\u001b[0m\u001b[0;34m.\u001b[0m\u001b[0msplit_heads\u001b[0m\u001b[0;34m(\u001b[0m\u001b[0mWV\u001b[0m\u001b[0;34m)\u001b[0m\u001b[0;34m\u001b[0m\u001b[0;34m\u001b[0m\u001b[0m\n\u001b[1;32m     52\u001b[0m \u001b[0;34m\u001b[0m\u001b[0m\n\u001b[0;32m---> 53\u001b[0;31m         out, attention_weights = self.scaled_dot_product_attention(\n\u001b[0m\u001b[1;32m     54\u001b[0m             WQ_splits, WK_splits, WV_splits, mask)\n\u001b[1;32m     55\u001b[0m \u001b[0;34m\u001b[0m\u001b[0m\n",
      "\u001b[0;32m/tmp/ipykernel_132/2383144956.py\u001b[0m in \u001b[0;36mscaled_dot_product_attention\u001b[0;34m(self, Q, K, V, mask)\u001b[0m\n\u001b[1;32m     14\u001b[0m \u001b[0;34m\u001b[0m\u001b[0m\n\u001b[1;32m     15\u001b[0m     \u001b[0;32mdef\u001b[0m \u001b[0mscaled_dot_product_attention\u001b[0m\u001b[0;34m(\u001b[0m\u001b[0mself\u001b[0m\u001b[0;34m,\u001b[0m \u001b[0mQ\u001b[0m\u001b[0;34m,\u001b[0m \u001b[0mK\u001b[0m\u001b[0;34m,\u001b[0m \u001b[0mV\u001b[0m\u001b[0;34m,\u001b[0m \u001b[0mmask\u001b[0m\u001b[0;34m)\u001b[0m\u001b[0;34m:\u001b[0m\u001b[0;34m\u001b[0m\u001b[0;34m\u001b[0m\u001b[0m\n\u001b[0;32m---> 16\u001b[0;31m         \u001b[0md_k\u001b[0m \u001b[0;34m=\u001b[0m \u001b[0mtf\u001b[0m\u001b[0;34m.\u001b[0m\u001b[0mcast\u001b[0m\u001b[0;34m(\u001b[0m\u001b[0mK\u001b[0m\u001b[0;34m.\u001b[0m\u001b[0mshape\u001b[0m\u001b[0;34m[\u001b[0m\u001b[0;34m-\u001b[0m\u001b[0;36m1\u001b[0m\u001b[0;34m]\u001b[0m\u001b[0;34m,\u001b[0m \u001b[0mtf\u001b[0m\u001b[0;34m.\u001b[0m\u001b[0mfloat32\u001b[0m\u001b[0;34m)\u001b[0m\u001b[0;34m\u001b[0m\u001b[0;34m\u001b[0m\u001b[0m\n\u001b[0m\u001b[1;32m     17\u001b[0m         \u001b[0mQK\u001b[0m \u001b[0;34m=\u001b[0m \u001b[0mtf\u001b[0m\u001b[0;34m.\u001b[0m\u001b[0mmatmul\u001b[0m\u001b[0;34m(\u001b[0m\u001b[0mQ\u001b[0m\u001b[0;34m,\u001b[0m \u001b[0mK\u001b[0m\u001b[0;34m,\u001b[0m \u001b[0mtranspose_b\u001b[0m\u001b[0;34m=\u001b[0m\u001b[0;32mTrue\u001b[0m\u001b[0;34m)\u001b[0m\u001b[0;34m\u001b[0m\u001b[0;34m\u001b[0m\u001b[0m\n\u001b[1;32m     18\u001b[0m \u001b[0;34m\u001b[0m\u001b[0m\n",
      "\u001b[0;32m/opt/conda/lib/python3.9/site-packages/tensorflow/python/util/dispatch.py\u001b[0m in \u001b[0;36mwrapper\u001b[0;34m(*args, **kwargs)\u001b[0m\n\u001b[1;32m    204\u001b[0m     \u001b[0;34m\"\"\"Call target, and fall back on dispatchers if there is a TypeError.\"\"\"\u001b[0m\u001b[0;34m\u001b[0m\u001b[0;34m\u001b[0m\u001b[0m\n\u001b[1;32m    205\u001b[0m     \u001b[0;32mtry\u001b[0m\u001b[0;34m:\u001b[0m\u001b[0;34m\u001b[0m\u001b[0;34m\u001b[0m\u001b[0m\n\u001b[0;32m--> 206\u001b[0;31m       \u001b[0;32mreturn\u001b[0m \u001b[0mtarget\u001b[0m\u001b[0;34m(\u001b[0m\u001b[0;34m*\u001b[0m\u001b[0margs\u001b[0m\u001b[0;34m,\u001b[0m \u001b[0;34m**\u001b[0m\u001b[0mkwargs\u001b[0m\u001b[0;34m)\u001b[0m\u001b[0;34m\u001b[0m\u001b[0;34m\u001b[0m\u001b[0m\n\u001b[0m\u001b[1;32m    207\u001b[0m     \u001b[0;32mexcept\u001b[0m \u001b[0;34m(\u001b[0m\u001b[0mTypeError\u001b[0m\u001b[0;34m,\u001b[0m \u001b[0mValueError\u001b[0m\u001b[0;34m)\u001b[0m\u001b[0;34m:\u001b[0m\u001b[0;34m\u001b[0m\u001b[0;34m\u001b[0m\u001b[0m\n\u001b[1;32m    208\u001b[0m       \u001b[0;31m# Note: convert_to_eager_tensor currently raises a ValueError, not a\u001b[0m\u001b[0;34m\u001b[0m\u001b[0;34m\u001b[0m\u001b[0m\n",
      "\u001b[0;32m/opt/conda/lib/python3.9/site-packages/tensorflow/python/ops/math_ops.py\u001b[0m in \u001b[0;36mcast\u001b[0;34m(x, dtype, name)\u001b[0m\n\u001b[1;32m    989\u001b[0m       \u001b[0;32mif\u001b[0m \u001b[0mx\u001b[0m\u001b[0;34m.\u001b[0m\u001b[0mdtype\u001b[0m\u001b[0;34m.\u001b[0m\u001b[0mbase_dtype\u001b[0m \u001b[0;34m!=\u001b[0m \u001b[0mbase_type\u001b[0m\u001b[0;34m:\u001b[0m\u001b[0;34m\u001b[0m\u001b[0;34m\u001b[0m\u001b[0m\n\u001b[1;32m    990\u001b[0m         \u001b[0mx\u001b[0m \u001b[0;34m=\u001b[0m \u001b[0mgen_math_ops\u001b[0m\u001b[0;34m.\u001b[0m\u001b[0mcast\u001b[0m\u001b[0;34m(\u001b[0m\u001b[0mx\u001b[0m\u001b[0;34m,\u001b[0m \u001b[0mbase_type\u001b[0m\u001b[0;34m,\u001b[0m \u001b[0mname\u001b[0m\u001b[0;34m=\u001b[0m\u001b[0mname\u001b[0m\u001b[0;34m)\u001b[0m\u001b[0;34m\u001b[0m\u001b[0;34m\u001b[0m\u001b[0m\n\u001b[0;32m--> 991\u001b[0;31m     \u001b[0;32mif\u001b[0m \u001b[0mx\u001b[0m\u001b[0;34m.\u001b[0m\u001b[0mdtype\u001b[0m\u001b[0;34m.\u001b[0m\u001b[0mis_complex\u001b[0m \u001b[0;32mand\u001b[0m \u001b[0mbase_type\u001b[0m\u001b[0;34m.\u001b[0m\u001b[0mis_floating\u001b[0m\u001b[0;34m:\u001b[0m\u001b[0;34m\u001b[0m\u001b[0;34m\u001b[0m\u001b[0m\n\u001b[0m\u001b[1;32m    992\u001b[0m       \u001b[0mlogging\u001b[0m\u001b[0;34m.\u001b[0m\u001b[0mwarn\u001b[0m\u001b[0;34m(\u001b[0m\u001b[0;34m\"Casting complex to real discards imaginary part.\"\u001b[0m\u001b[0;34m)\u001b[0m\u001b[0;34m\u001b[0m\u001b[0;34m\u001b[0m\u001b[0m\n\u001b[1;32m    993\u001b[0m     \u001b[0;32mreturn\u001b[0m \u001b[0mx\u001b[0m\u001b[0;34m\u001b[0m\u001b[0;34m\u001b[0m\u001b[0m\n",
      "\u001b[0;31mKeyboardInterrupt\u001b[0m: "
     ]
    }
   ],
   "source": [
    "import gc \n",
    "\n",
    "n_layers_list = [2, 4, 6, 8]\n",
    "\n",
    "for layer_num in n_layers_list:\n",
    "    # 하이퍼 파라미터\n",
    "    n_layers = layer_num\n",
    "    d_model = 256\n",
    "    n_heads = 8\n",
    "    d_ff = 1024\n",
    "    pos_len = max_len\n",
    "    dropout = 0.1\n",
    "    \n",
    "    # 모델 초기화\n",
    "    if 'transformer' in locals():\n",
    "        del transformer\n",
    "        gc.collect()\n",
    "\n",
    "    # Transformer 인스턴스 생성\n",
    "    transformer = Transformer(\n",
    "        n_layers=n_layers,\n",
    "        d_model=d_model,\n",
    "        n_heads=n_heads,\n",
    "        d_ff=d_ff,\n",
    "        src_vocab_size=vocab_size,\n",
    "        tgt_vocab_size=vocab_size,\n",
    "        pos_len=max_len,\n",
    "        dropout=0.1,\n",
    "        shared_fc=True,\n",
    "        shared_emb=True\n",
    "    )\n",
    "    \n",
    "    # learning rate & optimizer & loss 초기화\n",
    "    learning_rate = LearningRateScheduler(d_model=d_model)\n",
    "    optimizer = tf.keras.optimizers.Adam(\n",
    "        learning_rate, beta_1=0.9, beta_2=0.98, epsilon=1e-9\n",
    "    )\n",
    "    loss_object = tf.keras.losses.SparseCategoricalCrossentropy(\n",
    "        from_logits=True, reduction='none'\n",
    "    )\n",
    "\n",
    "    # Train Step 강제 초기화\n",
    "    dummy_src = tf.zeros((1, max_len), dtype=tf.int32)\n",
    "    dummy_tgt = tf.zeros((1, max_len), dtype=tf.int32)\n",
    "    train_step(dummy_src, dummy_tgt, transformer, optimizer)\n",
    "    \n",
    "    \n",
    "    # 모델 학습\n",
    "    EPOCHS = 1\n",
    "    for epoch in range(EPOCHS):\n",
    "        total_loss = 0\n",
    "\n",
    "        dataset_count = tf.data.experimental.cardinality(train_dataset).numpy()\n",
    "        tqdm_bar = tqdm(enumerate(train_dataset), total=dataset_count, desc=f\"EPOCH {epoch+1}\")\n",
    "\n",
    "        for batch, (src, tgt) in tqdm_bar:\n",
    "            loss, enc_attns, dec_attns, dec_enc_attns = train_step(src, tgt, transformer, optimizer)\n",
    "            total_loss += loss.numpy()\n",
    "\n",
    "            tqdm_bar.set_postfix({\n",
    "                \"Batch\": batch + 1,\n",
    "                \"Loss\": loss.numpy(),\n",
    "                \"Avg Loss\": total_loss / (batch + 1)\n",
    "            })\n",
    "\n",
    "        tqdm_bar.close()\n",
    "\n",
    "        print(\"Generated Responses\")   \n",
    "        for idx, text in enumerate(sample_text):\n",
    "\n",
    "            result = \\\n",
    "            generate_response(text, transformer, tokenizer)\n",
    "\n",
    "            print(f\"> input : {idx+1}. {text}\")\n",
    "            print(f\"> output: {idx+1}. {result}\")\n",
    "\n",
    "        print(\"\\nHyperparameters\")\n",
    "        print(\"n_layers: \", n_layers)\n",
    "        print(\"d_model: \", d_model)\n",
    "        print(\"n_heads: \", n_heads)\n",
    "        print(\"d_ff: \", d_ff)\n",
    "        print(\"dropout: \", dropout)\n",
    "\n",
    "        print(\"\\nTraining Parameters\")\n",
    "        print(\"Warmup Steps: \", learning_rate.warmup_steps)\n",
    "        print(\"Batch Size: \", BATCH_SIZE)\n",
    "        print(\"Epoch At: \", epoch+1)\n",
    "        print(\"-------------------------------------------\")\n",
    "\n",
    "\n",
    "        print(f\"Epoch {epoch + 1} completed. Average Loss: {total_loss / dataset_count:.4f}\")"
   ]
  },
  {
   "cell_type": "markdown",
   "id": "ef168571",
   "metadata": {},
   "source": [
    "# 6. 성능 측정하기 \n",
    "- BLEU Score"
   ]
  },
  {
   "cell_type": "code",
   "execution_count": null,
   "id": "bda29fa3",
   "metadata": {},
   "outputs": [],
   "source": [
    "from nltk.translate.bleu_score import sentence_bleu\n",
    "from nltk.translate.bleu_score import SmoothingFunction"
   ]
  },
  {
   "cell_type": "code",
   "execution_count": null,
   "id": "f0e66c14",
   "metadata": {},
   "outputs": [],
   "source": [
    "def calculate_bleu(reference, candidate, weights = [0.25, 0.25, 0.25, 0.25]):\n",
    "    return sentence_bleu([reference], candidate, weights = weights, smoothing_function = SmoothingFunction().method1)"
   ]
  },
  {
   "cell_type": "markdown",
   "id": "283000aa",
   "metadata": {},
   "source": [
    "# 7. 회고 "
   ]
  },
  {
   "cell_type": "markdown",
   "id": "3fd1f7fa",
   "metadata": {},
   "source": [
    "- Loss는 안정적으로 잘 떨어지는 모습이 보임\n",
    "- 에폭 초반부에는 무의미하게 반복되는 단어 or 조사가 많이 보임\n",
    "- 14 epoch 정도는 돌려야 어느정도 온전한(?) 문장을 만들어내는 듯 함\n",
    "- n_layers = 2 에서는 1 epoch이긴 하나 \\<pad>만 잔뜩 찍어내는 걸로 봐서는 마스킹 처리가 제대로 되지 않은 것 같다..? 어째서지..\n",
    "\n",
    "\n",
    "\\[필요 추가 실험]\n",
    "- layer 개수, dim_size 등 다양하게 돌려보기...\n",
    "- 왜 레이어 개수 관찰 실험에서는 Loss값이 Nan으로 찍힐까...?\n",
    "    - 마스킹 처리가 제대로 되지 않은 것과 연관이 있는건가?\n",
    "- BLEU 스코어 측정해보기 "
   ]
  }
 ],
 "metadata": {
  "kernelspec": {
   "display_name": "Python 3 (ipykernel)",
   "language": "python",
   "name": "python3"
  },
  "language_info": {
   "codemirror_mode": {
    "name": "ipython",
    "version": 3
   },
   "file_extension": ".py",
   "mimetype": "text/x-python",
   "name": "python",
   "nbconvert_exporter": "python",
   "pygments_lexer": "ipython3",
   "version": "3.9.7"
  }
 },
 "nbformat": 4,
 "nbformat_minor": 5
}
