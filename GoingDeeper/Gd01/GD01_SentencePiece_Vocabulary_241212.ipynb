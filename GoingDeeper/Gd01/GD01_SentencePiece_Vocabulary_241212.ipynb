{
 "cells": [
  {
   "cell_type": "code",
   "execution_count": 1,
   "id": "03df2d36",
   "metadata": {},
   "outputs": [
    {
     "name": "stdout",
     "output_type": "stream",
     "text": [
      "2.6.0\n",
      "1.21.4\n",
      "3.4.3\n",
      "0.5.2\n"
     ]
    }
   ],
   "source": [
    "import tensorflow as tf\n",
    "import numpy as np\n",
    "import matplotlib as plt\n",
    "import konlpy\n",
    "\n",
    "print(tf.__version__)\n",
    "print(np.__version__)\n",
    "print(plt.__version__)\n",
    "print(konlpy.__version__)"
   ]
  },
  {
   "cell_type": "code",
   "execution_count": 2,
   "id": "c2fe6e5d",
   "metadata": {},
   "outputs": [],
   "source": [
    "# 필요 라이브러리 모음\n",
    "import pandas as pd\n",
    "import matplotlib.pyplot as plt\n",
    "import seaborn as sns\n",
    "import re\n"
   ]
  },
  {
   "cell_type": "markdown",
   "id": "321692a2",
   "metadata": {},
   "source": [
    "# 1. 데이터 불러오기 "
   ]
  },
  {
   "cell_type": "code",
   "execution_count": 3,
   "id": "368e6fc0",
   "metadata": {},
   "outputs": [
    {
     "data": {
      "text/html": [
       "<div>\n",
       "<style scoped>\n",
       "    .dataframe tbody tr th:only-of-type {\n",
       "        vertical-align: middle;\n",
       "    }\n",
       "\n",
       "    .dataframe tbody tr th {\n",
       "        vertical-align: top;\n",
       "    }\n",
       "\n",
       "    .dataframe thead th {\n",
       "        text-align: right;\n",
       "    }\n",
       "</style>\n",
       "<table border=\"1\" class=\"dataframe\">\n",
       "  <thead>\n",
       "    <tr style=\"text-align: right;\">\n",
       "      <th></th>\n",
       "      <th>id</th>\n",
       "      <th>document</th>\n",
       "      <th>label</th>\n",
       "    </tr>\n",
       "  </thead>\n",
       "  <tbody>\n",
       "    <tr>\n",
       "      <th>0</th>\n",
       "      <td>9976970</td>\n",
       "      <td>아 더빙.. 진짜 짜증나네요 목소리</td>\n",
       "      <td>0</td>\n",
       "    </tr>\n",
       "    <tr>\n",
       "      <th>1</th>\n",
       "      <td>3819312</td>\n",
       "      <td>흠...포스터보고 초딩영화줄....오버연기조차 가볍지 않구나</td>\n",
       "      <td>1</td>\n",
       "    </tr>\n",
       "    <tr>\n",
       "      <th>2</th>\n",
       "      <td>10265843</td>\n",
       "      <td>너무재밓었다그래서보는것을추천한다</td>\n",
       "      <td>0</td>\n",
       "    </tr>\n",
       "    <tr>\n",
       "      <th>3</th>\n",
       "      <td>9045019</td>\n",
       "      <td>교도소 이야기구먼 ..솔직히 재미는 없다..평점 조정</td>\n",
       "      <td>0</td>\n",
       "    </tr>\n",
       "    <tr>\n",
       "      <th>4</th>\n",
       "      <td>6483659</td>\n",
       "      <td>사이몬페그의 익살스런 연기가 돋보였던 영화!스파이더맨에서 늙어보이기만 했던 커스틴 ...</td>\n",
       "      <td>1</td>\n",
       "    </tr>\n",
       "  </tbody>\n",
       "</table>\n",
       "</div>"
      ],
      "text/plain": [
       "         id                                           document  label\n",
       "0   9976970                                아 더빙.. 진짜 짜증나네요 목소리      0\n",
       "1   3819312                  흠...포스터보고 초딩영화줄....오버연기조차 가볍지 않구나      1\n",
       "2  10265843                                  너무재밓었다그래서보는것을추천한다      0\n",
       "3   9045019                      교도소 이야기구먼 ..솔직히 재미는 없다..평점 조정      0\n",
       "4   6483659  사이몬페그의 익살스런 연기가 돋보였던 영화!스파이더맨에서 늙어보이기만 했던 커스틴 ...      1"
      ]
     },
     "execution_count": 3,
     "metadata": {},
     "output_type": "execute_result"
    }
   ],
   "source": [
    "train_url = \"https://raw.githubusercontent.com/e9t/nsmc/master/ratings_train.txt\"\n",
    "test_url = \"https://raw.githubusercontent.com/e9t/nsmc/master/ratings_test.txt\"\n",
    "train_data = pd.read_csv(train_url, sep = '\\t')\n",
    "test_data = pd.read_csv(test_url, sep = '\\t')\n",
    "train_data.head()"
   ]
  },
  {
   "cell_type": "code",
   "execution_count": 4,
   "id": "24263dea",
   "metadata": {},
   "outputs": [
    {
     "data": {
      "text/html": [
       "<div>\n",
       "<style scoped>\n",
       "    .dataframe tbody tr th:only-of-type {\n",
       "        vertical-align: middle;\n",
       "    }\n",
       "\n",
       "    .dataframe tbody tr th {\n",
       "        vertical-align: top;\n",
       "    }\n",
       "\n",
       "    .dataframe thead th {\n",
       "        text-align: right;\n",
       "    }\n",
       "</style>\n",
       "<table border=\"1\" class=\"dataframe\">\n",
       "  <thead>\n",
       "    <tr style=\"text-align: right;\">\n",
       "      <th></th>\n",
       "      <th>id</th>\n",
       "      <th>document</th>\n",
       "      <th>label</th>\n",
       "    </tr>\n",
       "  </thead>\n",
       "  <tbody>\n",
       "    <tr>\n",
       "      <th>0</th>\n",
       "      <td>6270596</td>\n",
       "      <td>굳 ㅋ</td>\n",
       "      <td>1</td>\n",
       "    </tr>\n",
       "    <tr>\n",
       "      <th>1</th>\n",
       "      <td>9274899</td>\n",
       "      <td>GDNTOPCLASSINTHECLUB</td>\n",
       "      <td>0</td>\n",
       "    </tr>\n",
       "    <tr>\n",
       "      <th>2</th>\n",
       "      <td>8544678</td>\n",
       "      <td>뭐야 이 평점들은.... 나쁘진 않지만 10점 짜리는 더더욱 아니잖아</td>\n",
       "      <td>0</td>\n",
       "    </tr>\n",
       "    <tr>\n",
       "      <th>3</th>\n",
       "      <td>6825595</td>\n",
       "      <td>지루하지는 않은데 완전 막장임... 돈주고 보기에는....</td>\n",
       "      <td>0</td>\n",
       "    </tr>\n",
       "    <tr>\n",
       "      <th>4</th>\n",
       "      <td>6723715</td>\n",
       "      <td>3D만 아니었어도 별 다섯 개 줬을텐데.. 왜 3D로 나와서 제 심기를 불편하게 하죠??</td>\n",
       "      <td>0</td>\n",
       "    </tr>\n",
       "  </tbody>\n",
       "</table>\n",
       "</div>"
      ],
      "text/plain": [
       "        id                                           document  label\n",
       "0  6270596                                                굳 ㅋ      1\n",
       "1  9274899                               GDNTOPCLASSINTHECLUB      0\n",
       "2  8544678             뭐야 이 평점들은.... 나쁘진 않지만 10점 짜리는 더더욱 아니잖아      0\n",
       "3  6825595                   지루하지는 않은데 완전 막장임... 돈주고 보기에는....      0\n",
       "4  6723715  3D만 아니었어도 별 다섯 개 줬을텐데.. 왜 3D로 나와서 제 심기를 불편하게 하죠??      0"
      ]
     },
     "execution_count": 4,
     "metadata": {},
     "output_type": "execute_result"
    }
   ],
   "source": [
    "test_data.head()"
   ]
  },
  {
   "cell_type": "code",
   "execution_count": 5,
   "id": "6a4028f0",
   "metadata": {},
   "outputs": [
    {
     "name": "stdout",
     "output_type": "stream",
     "text": [
      "<class 'pandas.core.frame.DataFrame'>\n",
      "RangeIndex: 150000 entries, 0 to 149999\n",
      "Data columns (total 3 columns):\n",
      " #   Column    Non-Null Count   Dtype \n",
      "---  ------    --------------   ----- \n",
      " 0   id        150000 non-null  int64 \n",
      " 1   document  149995 non-null  object\n",
      " 2   label     150000 non-null  int64 \n",
      "dtypes: int64(2), object(1)\n",
      "memory usage: 3.4+ MB\n"
     ]
    }
   ],
   "source": [
    "train_data.info()"
   ]
  },
  {
   "cell_type": "code",
   "execution_count": 6,
   "id": "f55bf412",
   "metadata": {},
   "outputs": [
    {
     "name": "stdout",
     "output_type": "stream",
     "text": [
      "<class 'pandas.core.frame.DataFrame'>\n",
      "RangeIndex: 50000 entries, 0 to 49999\n",
      "Data columns (total 3 columns):\n",
      " #   Column    Non-Null Count  Dtype \n",
      "---  ------    --------------  ----- \n",
      " 0   id        50000 non-null  int64 \n",
      " 1   document  49997 non-null  object\n",
      " 2   label     50000 non-null  int64 \n",
      "dtypes: int64(2), object(1)\n",
      "memory usage: 1.1+ MB\n"
     ]
    }
   ],
   "source": [
    "test_data.info()"
   ]
  },
  {
   "cell_type": "markdown",
   "id": "db0b9be9",
   "metadata": {},
   "source": [
    "# 2. 데이터 전처리\n",
    "- 결측 데이터 제거\n",
    "- 중복 데이터 제거"
   ]
  },
  {
   "cell_type": "markdown",
   "id": "57eca2ba",
   "metadata": {},
   "source": [
    "## 2-1. Data Cleansing"
   ]
  },
  {
   "cell_type": "code",
   "execution_count": 7,
   "id": "55dff19b",
   "metadata": {},
   "outputs": [],
   "source": [
    "def cleanse_sent(sent):\n",
    "    sent = re.sub(r\"[^ㄱ-ㅎㅏ-ㅣ가-힣a-zA-Z0-9?.!,]+\", \" \", sent) # 특수문자 제거\n",
    "    sent = re.sub('([ㄱ-ㅎㅏ-ㅣ]+)', ' ', sent) #remove 한글 자음, 모음\n",
    "    sent = re.sub(r'\\s+', ' ', sent) # remove extra space\n",
    "    # 연속 느낌표, 물음표 제거\n",
    "    sent = sent.strip()\n",
    "    \n",
    "    return sent"
   ]
  },
  {
   "cell_type": "code",
   "execution_count": 8,
   "id": "2ae32d08",
   "metadata": {},
   "outputs": [],
   "source": [
    "def cleanse_data(data):\n",
    "    print(\"total # of rows before cleansing: \", len(data))\n",
    "    # 결측치 확인 및 제거\n",
    "    print(f\"# of NaN values\\n: {data.isnull().sum()}\")\n",
    "    data = data.dropna()\n",
    "    \n",
    "    # 'document'열 중복 데이터 확인 및 제거\n",
    "    print(f\"# of duplicated values: {data.duplicated(subset = ['document']).sum()}\")\n",
    "    data = data.drop_duplicates(subset = ['document']) \n",
    "    \n",
    "    # 한글 데이터 전처리\n",
    "    data['document'] = [cleanse_sent(sent) for sent in data['document']]\n",
    "    print('total # of rows after cleansing: ', len(data))\n",
    "    print()\n",
    "    \n",
    "    return data    "
   ]
  },
  {
   "cell_type": "code",
   "execution_count": 9,
   "id": "c31484b9",
   "metadata": {},
   "outputs": [
    {
     "name": "stdout",
     "output_type": "stream",
     "text": [
      "total # of rows before cleansing:  150000\n",
      "# of NaN values\n",
      ": id          0\n",
      "document    5\n",
      "label       0\n",
      "dtype: int64\n",
      "# of duplicated values: 3813\n",
      "total # of rows after cleansing:  146182\n",
      "\n",
      "total # of rows before cleansing:  50000\n",
      "# of NaN values\n",
      ": id          0\n",
      "document    3\n",
      "label       0\n",
      "dtype: int64\n",
      "# of duplicated values: 840\n",
      "total # of rows after cleansing:  49157\n",
      "\n"
     ]
    }
   ],
   "source": [
    "train_data = cleanse_data(train_data)\n",
    "test_data = cleanse_data(test_data) "
   ]
  },
  {
   "cell_type": "code",
   "execution_count": 10,
   "id": "cf1f0e04",
   "metadata": {},
   "outputs": [
    {
     "data": {
      "image/png": "[encoded data removed]",
      "text/plain": [
       "<Figure size 864x432 with 1 Axes>"
      ]
     },
     "metadata": {
      "needs_background": "light"
     },
     "output_type": "display_data"
    }
   ],
   "source": [
    "# 문장 길이 분포 확인하기\n",
    "from collections import Counter\n",
    "\n",
    "data = pd.concat([train_data, test_data], axis = 0)\n",
    "data_len = [len(sent) for sent in data['document']]\n",
    "\n",
    "length_counts = Counter(data_len)\n",
    "lengths = sorted(length_counts.keys())\n",
    "frequencies = [length_counts[length] for length in lengths]\n",
    "\n",
    "plt.figure(figsize = (12, 6))\n",
    "plt.bar(lengths, frequencies, color = 'blue')\n",
    "plt.title(\"Sentence Length Frequency\")\n",
    "plt.xlabel(\"Sentence Length\")\n",
    "plt.ylabel(\"Frequency\")\n",
    "plt.show()"
   ]
  },
  {
   "cell_type": "code",
   "execution_count": 11,
   "id": "5010f4bb",
   "metadata": {},
   "outputs": [
    {
     "name": "stdout",
     "output_type": "stream",
     "text": [
      "min length:  0\n",
      "max length:  140\n",
      "avg length:  35.15376857667952\n"
     ]
    }
   ],
   "source": [
    "print(\"min length: \", np.min(data_len))\n",
    "print(\"max length: \", np.max(data_len))\n",
    "print(\"avg length: \", np.average(data_len))"
   ]
  },
  {
   "cell_type": "code",
   "execution_count": 12,
   "id": "ae4051fd",
   "metadata": {},
   "outputs": [
    {
     "data": {
      "text/plain": [
       "93.8969886490325"
      ]
     },
     "execution_count": 12,
     "metadata": {},
     "output_type": "execute_result"
    }
   ],
   "source": [
    "# 평균 + 2*표준편차\n",
    "np.average(data_len) + 2*np.std(data_len)"
   ]
  },
  {
   "cell_type": "code",
   "execution_count": 13,
   "id": "a8adcc10",
   "metadata": {},
   "outputs": [
    {
     "name": "stdout",
     "output_type": "stream",
     "text": [
      "minlen: 5\n",
      "maxlen: 100\n",
      "valid %: 92.16% \n"
     ]
    }
   ],
   "source": [
    "minlen = 5\n",
    "maxlen = 100\n",
    "\n",
    "valid_cnt = len([length for length in data_len if minlen <= length <= maxlen])\n",
    "print(f'''minlen: {minlen}\n",
    "maxlen: {maxlen}\n",
    "valid %:{valid_cnt/len(data_len)*100: .2f}% ''')"
   ]
  },
  {
   "cell_type": "code",
   "execution_count": 14,
   "id": "0c447e5b",
   "metadata": {},
   "outputs": [],
   "source": [
    "def filter_length(data, minlen, maxlen):\n",
    "    data['length'] = data['document'].apply(lambda x: len(x))\n",
    "    data = data[(data['length'] >= minlen) & (data['length'] <= maxlen)]\n",
    "    data = data.drop(['length'], axis = 1)\n",
    "    return data"
   ]
  },
  {
   "cell_type": "code",
   "execution_count": 15,
   "id": "46dfeb83",
   "metadata": {},
   "outputs": [],
   "source": [
    "train_filtered = filter_length(train_data, minlen, maxlen)\n",
    "test_filtered = filter_length(test_data, minlen, maxlen)"
   ]
  },
  {
   "cell_type": "code",
   "execution_count": 42,
   "id": "6de2223b",
   "metadata": {},
   "outputs": [
    {
     "data": {
      "text/plain": [
       "100"
      ]
     },
     "execution_count": 42,
     "metadata": {},
     "output_type": "execute_result"
    }
   ],
   "source": [
    "np.max([len(sent) for sent in train_filtered['document']])"
   ]
  },
  {
   "cell_type": "markdown",
   "id": "c6ecb1c8",
   "metadata": {},
   "source": [
    "## 2-2 SentencePiece Tokenizer\n",
    "- train_data 기반으로 SentencePiece Tokenizer 학습시키기\n",
    "- SentencePiece 성능 확인\n",
    "- train_data, test_data 적용"
   ]
  },
  {
   "cell_type": "code",
   "execution_count": 16,
   "id": "745fbcd1",
   "metadata": {},
   "outputs": [],
   "source": [
    "def tokenizer(corpus):\n",
    "    tokenizer = tf.keras.preprocessing.text.Tokenizer(filters = '')\n",
    "    tokenizer.fit_on_texts(corpus)\n",
    "    \n",
    "    tensor = tokenizer.texts_to_sequences(corpus)\n",
    "    tensor = tf.keras.preprocessing.sequence.pad_sequences(tensor, padding = 'post')\n",
    "    \n",
    "    return tensor, tokenizer"
   ]
  },
  {
   "cell_type": "code",
   "execution_count": 17,
   "id": "3a606daa",
   "metadata": {
    "scrolled": true
   },
   "outputs": [
    {
     "name": "stderr",
     "output_type": "stream",
     "text": [
      "sentencepiece_trainer.cc(177) LOG(INFO) Running command: --input=/aiffel/aiffel/sp_tokenizer/data/korean-english-park.train.ko.temp --model_prefix=korean_spm --vocab_size=8000\n",
      "sentencepiece_trainer.cc(77) LOG(INFO) Starts training with : \n",
      "trainer_spec {\n",
      "  input: /aiffel/aiffel/sp_tokenizer/data/korean-english-park.train.ko.temp\n",
      "  input_format: \n",
      "  model_prefix: korean_spm\n",
      "  model_type: UNIGRAM\n",
      "  vocab_size: 8000\n",
      "  self_test_sample_size: 0\n",
      "  character_coverage: 0.9995\n",
      "  input_sentence_size: 0\n",
      "  shuffle_input_sentence: 1\n",
      "  seed_sentencepiece_size: 1000000\n",
      "  shrinking_factor: 0.75\n",
      "  max_sentence_length: 4192\n",
      "  num_threads: 16\n",
      "  num_sub_iterations: 2\n",
      "  max_sentencepiece_length: 16\n",
      "  split_by_unicode_script: 1\n",
      "  split_by_number: 1\n",
      "  split_by_whitespace: 1\n",
      "  split_digits: 0\n",
      "  treat_whitespace_as_suffix: 0\n",
      "  allow_whitespace_only_pieces: 0\n",
      "  required_chars: \n",
      "  byte_fallback: 0\n",
      "  vocabulary_output_piece_score: 1\n",
      "  train_extremely_large_corpus: 0\n",
      "  hard_vocab_limit: 1\n",
      "  use_all_vocab: 0\n",
      "  unk_id: 0\n",
      "  bos_id: 1\n",
      "  eos_id: 2\n",
      "  pad_id: -1\n",
      "  unk_piece: <unk>\n",
      "  bos_piece: <s>\n",
      "  eos_piece: </s>\n",
      "  pad_piece: <pad>\n",
      "  unk_surface:  ⁇ \n",
      "}\n",
      "normalizer_spec {\n",
      "  name: nmt_nfkc\n",
      "  add_dummy_prefix: 1\n",
      "  remove_extra_whitespaces: 1\n",
      "  escape_whitespaces: 1\n",
      "  normalization_rule_tsv: \n",
      "}\n",
      "denormalizer_spec {}\n",
      "trainer_interface.cc(329) LOG(INFO) SentenceIterator is not specified. Using MultiFileSentenceIterator.\n",
      "trainer_interface.cc(178) LOG(INFO) Loading corpus: /aiffel/aiffel/sp_tokenizer/data/korean-english-park.train.ko.temp\n",
      "trainer_interface.cc(385) LOG(INFO) Loaded all 134795 sentences\n",
      "trainer_interface.cc(400) LOG(INFO) Adding meta_piece: <unk>\n",
      "trainer_interface.cc(400) LOG(INFO) Adding meta_piece: <s>\n",
      "trainer_interface.cc(400) LOG(INFO) Adding meta_piece: </s>\n",
      "trainer_interface.cc(405) LOG(INFO) Normalizing sentences...\n",
      "trainer_interface.cc(466) LOG(INFO) all chars count=4217521\n",
      "trainer_interface.cc(477) LOG(INFO) Done: 99.95% characters are covered.\n",
      "trainer_interface.cc(487) LOG(INFO) Alphabet size=1566\n",
      "trainer_interface.cc(488) LOG(INFO) Final character coverage=0.9995\n",
      "trainer_interface.cc(520) LOG(INFO) Done! preprocessed 134795 sentences.\n",
      "unigram_model_trainer.cc(139) LOG(INFO) Making suffix array...\n",
      "unigram_model_trainer.cc(143) LOG(INFO) Extracting frequent sub strings...\n",
      "unigram_model_trainer.cc(194) LOG(INFO) Initialized 245239 seed sentencepieces\n",
      "trainer_interface.cc(526) LOG(INFO) Tokenizing input sentences with whitespace: 134795\n",
      "trainer_interface.cc(537) LOG(INFO) Done! 279006\n",
      "unigram_model_trainer.cc(489) LOG(INFO) Using 279006 sentences for EM training\n",
      "unigram_model_trainer.cc(505) LOG(INFO) EM sub_iter=0 size=126040 obj=14.8495 num_tokens=632749 num_tokens/piece=5.02022\n",
      "unigram_model_trainer.cc(505) LOG(INFO) EM sub_iter=1 size=116681 obj=13.8331 num_tokens=637109 num_tokens/piece=5.46026\n",
      "unigram_model_trainer.cc(505) LOG(INFO) EM sub_iter=0 size=87466 obj=13.947 num_tokens=665814 num_tokens/piece=7.61226\n",
      "unigram_model_trainer.cc(505) LOG(INFO) EM sub_iter=1 size=87315 obj=13.8885 num_tokens=666125 num_tokens/piece=7.62899\n",
      "unigram_model_trainer.cc(505) LOG(INFO) EM sub_iter=0 size=65479 obj=14.1359 num_tokens=701621 num_tokens/piece=10.7152\n",
      "unigram_model_trainer.cc(505) LOG(INFO) EM sub_iter=1 size=65474 obj=14.0736 num_tokens=701725 num_tokens/piece=10.7176\n",
      "unigram_model_trainer.cc(505) LOG(INFO) EM sub_iter=0 size=49105 obj=14.3488 num_tokens=736254 num_tokens/piece=14.9935\n",
      "unigram_model_trainer.cc(505) LOG(INFO) EM sub_iter=1 size=49105 obj=14.2851 num_tokens=736276 num_tokens/piece=14.9939\n",
      "unigram_model_trainer.cc(505) LOG(INFO) EM sub_iter=0 size=36828 obj=14.5916 num_tokens=772699 num_tokens/piece=20.9813\n",
      "unigram_model_trainer.cc(505) LOG(INFO) EM sub_iter=1 size=36828 obj=14.5265 num_tokens=772689 num_tokens/piece=20.981\n",
      "unigram_model_trainer.cc(505) LOG(INFO) EM sub_iter=0 size=27621 obj=14.8647 num_tokens=810192 num_tokens/piece=29.3325\n",
      "unigram_model_trainer.cc(505) LOG(INFO) EM sub_iter=1 size=27621 obj=14.7968 num_tokens=810206 num_tokens/piece=29.333\n",
      "unigram_model_trainer.cc(505) LOG(INFO) EM sub_iter=0 size=20715 obj=15.1666 num_tokens=848596 num_tokens/piece=40.9653\n",
      "unigram_model_trainer.cc(505) LOG(INFO) EM sub_iter=1 size=20715 obj=15.0929 num_tokens=848713 num_tokens/piece=40.9709\n",
      "unigram_model_trainer.cc(505) LOG(INFO) EM sub_iter=0 size=15536 obj=15.4982 num_tokens=888660 num_tokens/piece=57.2001\n",
      "unigram_model_trainer.cc(505) LOG(INFO) EM sub_iter=1 size=15536 obj=15.4152 num_tokens=888685 num_tokens/piece=57.2017\n",
      "unigram_model_trainer.cc(505) LOG(INFO) EM sub_iter=0 size=11652 obj=15.8541 num_tokens=931406 num_tokens/piece=79.9353\n",
      "unigram_model_trainer.cc(505) LOG(INFO) EM sub_iter=1 size=11652 obj=15.7498 num_tokens=931420 num_tokens/piece=79.9365\n",
      "unigram_model_trainer.cc(505) LOG(INFO) EM sub_iter=0 size=8800 obj=16.2295 num_tokens=976309 num_tokens/piece=110.944\n",
      "unigram_model_trainer.cc(505) LOG(INFO) EM sub_iter=1 size=8800 obj=16.1214 num_tokens=976442 num_tokens/piece=110.959\n",
      "trainer_interface.cc(615) LOG(INFO) Saving model: korean_spm.model\n",
      "trainer_interface.cc(626) LOG(INFO) Saving vocabs: korean_spm.vocab\n"
     ]
    },
    {
     "name": "stdout",
     "output_type": "stream",
     "text": [
      "-rw-r--r-- 1 root root 376895 Dec 12 06:50 korean_spm.model\r\n",
      "-rw-r--r-- 1 root root 146265 Dec 12 06:50 korean_spm.vocab\r\n"
     ]
    }
   ],
   "source": [
    "import sentencepiece as spm\n",
    "import os\n",
    "\n",
    "temp_file = os.getenv('HOME')+'/aiffel/sp_tokenizer/data/korean-english-park.train.ko.temp'\n",
    "\n",
    "vocab_size = 8000\n",
    "\n",
    "with open(temp_file, 'w') as f:\n",
    "    for row in train_filtered['document']:\n",
    "        f.write(str(row) + '\\n')\n",
    "        \n",
    "spm.SentencePieceTrainer.Train(\n",
    "    '--input={} --model_prefix=korean_spm --vocab_size={}'.format(temp_file, vocab_size)    \n",
    ")\n",
    "\n",
    "!ls -l korean_spm*"
   ]
  },
  {
   "cell_type": "code",
   "execution_count": 18,
   "id": "646d365f",
   "metadata": {},
   "outputs": [
    {
     "name": "stdout",
     "output_type": "stream",
     "text": [
      "[1437, 10, 393, 15, 1407, 10, 140, 17, 4]\n",
      "['▁아버지', '가', '방', '에', '들어', '가', '신', '다', '.']\n",
      "아버지가방에들어가신다.\n"
     ]
    }
   ],
   "source": [
    "# SentencePiece 모델 사용 방법\n",
    "s = spm.SentencePieceProcessor()\n",
    "s.Load('korean_spm.model')\n",
    "\n",
    "# SentencePiece를 활용한 sentence -> encoding\n",
    "tokensIDs = s.EncodeAsIds('아버지가방에들어가신다.')\n",
    "print(tokensIDs)\n",
    "\n",
    "# SentencePiece를 활용한 sentence -> encoded pieces\n",
    "print(s.SampleEncodeAsPieces('아버지가방에들어가신다.',1, 0.0))\n",
    "\n",
    "# SentencePiece를 활용한 encoding -> sentence 복원\n",
    "print(s.DecodeIds(tokensIDs))"
   ]
  },
  {
   "cell_type": "code",
   "execution_count": 19,
   "id": "7f780299",
   "metadata": {},
   "outputs": [
    {
     "data": {
      "text/plain": [
       "-1"
      ]
     },
     "execution_count": 19,
     "metadata": {},
     "output_type": "execute_result"
    }
   ],
   "source": [
    "# 특수토큰 확인\n",
    "s.pad_id()"
   ]
  },
  {
   "cell_type": "code",
   "execution_count": 20,
   "id": "a8c70485",
   "metadata": {},
   "outputs": [
    {
     "data": {
      "text/plain": [
       "0"
      ]
     },
     "execution_count": 20,
     "metadata": {},
     "output_type": "execute_result"
    }
   ],
   "source": [
    "s.unk_id()"
   ]
  },
  {
   "cell_type": "code",
   "execution_count": 21,
   "id": "cd0c312e",
   "metadata": {},
   "outputs": [
    {
     "data": {
      "text/plain": [
       "1"
      ]
     },
     "execution_count": 21,
     "metadata": {},
     "output_type": "execute_result"
    }
   ],
   "source": [
    "s.bos_id()"
   ]
  },
  {
   "cell_type": "code",
   "execution_count": 22,
   "id": "c965a6b3",
   "metadata": {},
   "outputs": [
    {
     "data": {
      "text/plain": [
       "2"
      ]
     },
     "execution_count": 22,
     "metadata": {},
     "output_type": "execute_result"
    }
   ],
   "source": [
    "s.eos_id()"
   ]
  },
  {
   "cell_type": "markdown",
   "id": "ad991358",
   "metadata": {},
   "source": [
    "### Sentence Piece Tokenizer 함수 작성"
   ]
  },
  {
   "cell_type": "markdown",
   "id": "8e666ca3",
   "metadata": {},
   "source": [
    "1. 매개변수로 토큰화된 문장의 list를 전달하는 대신 온전한 문장의 list 를 전달합니다.\n",
    "\n",
    "2. 생성된 vocab 파일을 읽어와 { <word> : <idx> } 형태를 가지는 word_index 사전과 { <idx> : <word>} 형태를 가지는 index_word 사전을 생성하고 함께 반환합니다.\n",
    "\n",
    "3. 리턴값인 tensor 는 앞의 함수와 동일하게 토큰화한 후 Encoding된 문장입니다. 바로 학습에 사용할 수 있게 Padding은 당연히 해야겠죠?"
   ]
  },
  {
   "cell_type": "code",
   "execution_count": 23,
   "id": "f02d572f",
   "metadata": {},
   "outputs": [],
   "source": [
    "# SP Tokenizer 함수 작성\n",
    "\n",
    "def sp_tokenize(s, corpus): \n",
    "\n",
    "    tensor = []\n",
    "\n",
    "    for sen in corpus:\n",
    "        tensor.append(s.EncodeAsIds(sen))\n",
    "\n",
    "    with open(\"./korean_spm.vocab\", 'r') as f:\n",
    "        vocab = f.readlines()\n",
    "\n",
    "    word_index = {}\n",
    "    index_word = {}\n",
    "\n",
    "    for idx, line in enumerate(vocab):\n",
    "        word = line.split(\"\\t\")[0]\n",
    "\n",
    "        word_index.update({word:idx})\n",
    "        index_word.update({idx:word})\n",
    "\n",
    "    tensor = tf.keras.preprocessing.sequence.pad_sequences(tensor, value = s.pad_id(), padding='pre')\n",
    "\n",
    "    return tensor, word_index, index_word"
   ]
  },
  {
   "cell_type": "code",
   "execution_count": 24,
   "id": "a489054f",
   "metadata": {},
   "outputs": [],
   "source": [
    "train_corpus = train_filtered['document'].to_list()\n",
    "train_labels = train_filtered['label'].to_list()\n",
    "test_corpus = test_filtered['document'].to_list()\n",
    "test_labels = test_filtered['label'].to_list()"
   ]
  },
  {
   "cell_type": "code",
   "execution_count": 25,
   "id": "060816f6",
   "metadata": {},
   "outputs": [],
   "source": [
    "train_tensor, word_index, index_word = sp_tokenize(s, train_corpus)\n",
    "test_tensor, _, _ = sp_tokenize(s, test_corpus)"
   ]
  },
  {
   "cell_type": "code",
   "execution_count": 27,
   "id": "03dff25c",
   "metadata": {},
   "outputs": [],
   "source": [
    "# 이름 정리하기...\n",
    "X_train = np.array(train_tensor)\n",
    "y_train = np.array(train_labels)\n",
    "X_test = np.array(test_tensor)\n",
    "y_test = np.array(test_labels)"
   ]
  },
  {
   "cell_type": "code",
   "execution_count": 28,
   "id": "4ecf1f84",
   "metadata": {},
   "outputs": [],
   "source": [
    "X_train_partial = X_train[20000:]\n",
    "y_train_partial = y_train[20000:]\n",
    "X_val = X_train[:20000]\n",
    "y_val = y_train[:20000]"
   ]
  },
  {
   "cell_type": "markdown",
   "id": "bac8b15c",
   "metadata": {},
   "source": [
    "## 2-3 Komoran 형태소 분석기"
   ]
  },
  {
   "cell_type": "code",
   "execution_count": 46,
   "id": "c9ffd465",
   "metadata": {},
   "outputs": [],
   "source": [
    "from konlpy.tag import Komoran\n",
    "from collections import Counter\n",
    "komoran = Komoran()"
   ]
  },
  {
   "cell_type": "code",
   "execution_count": 47,
   "id": "8cfc3539",
   "metadata": {},
   "outputs": [
    {
     "name": "stdout",
     "output_type": "stream",
     "text": [
      "아 더빙.. 진짜 짜증나네요 목소리\n",
      "['아', '더빙', '.', '.', '진짜', '짜증', '나', '네요', '목소리']\n"
     ]
    }
   ],
   "source": [
    "# 성능 테스트\n",
    "print(train_corpus[0])\n",
    "print(komoran.morphs(train_corpus[0]))"
   ]
  },
  {
   "cell_type": "code",
   "execution_count": 82,
   "id": "04fedecf",
   "metadata": {},
   "outputs": [],
   "source": [
    "def apply_komoran(train_filtered, test_filterd, num_words = 8000):\n",
    "    stopwords = ['의','가','이','은','들','는','좀','잘','걍','과','도','를','으로','자','에','와','한', '하다']\n",
    "    \n",
    "    X_train = []\n",
    "    for sentence in train_filtered['document']:\n",
    "        temp_X = komoran.morphs(sentence)\n",
    "        temp_X = [word for word in temp_X if not word in stopwords]\n",
    "        X_train.append(temp_X)\n",
    "        \n",
    "    X_test = []\n",
    "    for sentence in test_filtered['document']:\n",
    "        temp_X = komoran.morphs(sentence)\n",
    "        temp_X = [word for word in temp_X if not word in stopwords]\n",
    "        X_test.append(temp_X)\n",
    "    \n",
    "    # 사전 word_to_index 구성\n",
    "    words = np.concatenate(X_train).tolist()\n",
    "    counter = Counter(words)\n",
    "    counter = counter.most_common(num_words-4)\n",
    "    vocab = [\"<PAD>\", \"<BOS>\", \"<UNK>\", \"<UNUSED>\"] + [key for key, _ in counter]\n",
    "    word_to_index = {word:index for index, word in enumerate(vocab)}\n",
    "    \n",
    "    def wordlist_to_indexlist(wordlist):\n",
    "        return [word_to_index[word] if word in word_to_index else word_to_index['<UNK>'] for word in wordlist]\n",
    "    \n",
    "    \n",
    "    X_train = list(map(wordlist_to_indexlist, X_train))\n",
    "    X_test = list(map(wordlist_to_indexlist, X_test))\n",
    "    X_train = tf.keras.preprocessing.sequence.pad_sequences(X_train, value = word_to_index[\"<PAD>\"], padding = \"pre\")\n",
    "    X_test = tf.keras.preprocessing.sequence.pad_sequences(X_test, value = word_to_index[\"<PAD>\"], padding = \"pre\")\n",
    "    \n",
    "    y_train = np.array(list(train_filtered['label']))\n",
    "    y_test = np.array(list(test_filtered['label']))\n",
    "    \n",
    "    return X_train, y_train, X_test, y_test, word_to_index"
   ]
  },
  {
   "cell_type": "code",
   "execution_count": 83,
   "id": "147a869b",
   "metadata": {},
   "outputs": [],
   "source": [
    "X_train_km, y_train_km, X_test_km, y_test_km, word_to_index_km = apply_komoran(train_filtered, test_filtered)"
   ]
  },
  {
   "cell_type": "code",
   "execution_count": 84,
   "id": "6ebd1d4a",
   "metadata": {},
   "outputs": [
    {
     "data": {
      "text/plain": [
       "(134795, 134795, 45231, 45231)"
      ]
     },
     "execution_count": 84,
     "metadata": {},
     "output_type": "execute_result"
    }
   ],
   "source": [
    "len(X_train_km), len(y_train_km), len(X_test_km), len(y_test_km)"
   ]
  },
  {
   "cell_type": "code",
   "execution_count": 85,
   "id": "670d96c1",
   "metadata": {},
   "outputs": [],
   "source": [
    "X_train_partial_km = X_train_km[20000:]\n",
    "y_train_partial_km = y_train_km[20000:]\n",
    "X_val_km = X_train_km[:20000]\n",
    "y_val_km = y_train_km[:20000]"
   ]
  },
  {
   "cell_type": "markdown",
   "id": "20a5ff0a",
   "metadata": {},
   "source": [
    "# 3. 모델 구성 및 Validation set 구성"
   ]
  },
  {
   "cell_type": "code",
   "execution_count": 29,
   "id": "805ba0fb",
   "metadata": {},
   "outputs": [],
   "source": [
    "vocab_size = len(word_index) + 1\n",
    "embedding_dim = 128\n",
    "#input_length = X_train.shape[1]"
   ]
  },
  {
   "cell_type": "markdown",
   "id": "b8e26754",
   "metadata": {},
   "source": [
    "## 3-1. SentencePiece 적용 모델"
   ]
  },
  {
   "cell_type": "code",
   "execution_count": 35,
   "id": "79bbc06b",
   "metadata": {},
   "outputs": [
    {
     "name": "stdout",
     "output_type": "stream",
     "text": [
      "Model: \"sequential_1\"\n",
      "_________________________________________________________________\n",
      "Layer (type)                 Output Shape              Param #   \n",
      "=================================================================\n",
      "embedding_1 (Embedding)      (None, 73, 128)           1024128   \n",
      "_________________________________________________________________\n",
      "lstm_1 (LSTM)                (None, 128)               131584    \n",
      "_________________________________________________________________\n",
      "dense_2 (Dense)              (None, 32)                4128      \n",
      "_________________________________________________________________\n",
      "dense_3 (Dense)              (None, 1)                 33        \n",
      "=================================================================\n",
      "Total params: 1,159,873\n",
      "Trainable params: 1,159,873\n",
      "Non-trainable params: 0\n",
      "_________________________________________________________________\n"
     ]
    }
   ],
   "source": [
    "from tensorflow.keras.models import Sequential\n",
    "from tensorflow.keras import layers\n",
    "\n",
    "model_rnn = tf.keras.Sequential([\n",
    "    layers.Embedding(input_dim = vocab_size, output_dim = embedding_dim, input_shape = (None, )),\n",
    "    layers.LSTM(128),\n",
    "    layers.Dense(32, activation= \"relu\"),\n",
    "    layers.Dense(1, activation = \"sigmoid\")\n",
    "])\n",
    "\n",
    "model_rnn.summary()"
   ]
  },
  {
   "cell_type": "code",
   "execution_count": 36,
   "id": "bc448d09",
   "metadata": {},
   "outputs": [],
   "source": [
    "from keras.callbacks import ModelCheckpoint\n",
    "checkpoint = ModelCheckpoint(\"best_model_rnn.keras\", monitor = \"val_accuracy\", verbose = 1, save_best_only = True)"
   ]
  },
  {
   "cell_type": "code",
   "execution_count": 38,
   "id": "97256376",
   "metadata": {},
   "outputs": [
    {
     "name": "stdout",
     "output_type": "stream",
     "text": [
      "Epoch 1/20\n",
      "225/225 [==============================] - 5s 18ms/step - loss: 0.4185 - accuracy: 0.8075 - val_loss: 0.3427 - val_accuracy: 0.8483\n",
      "\n",
      "Epoch 00001: val_accuracy improved from -inf to 0.84830, saving model to best_model_rnn.keras\n",
      "Epoch 2/20\n",
      "225/225 [==============================] - 4s 16ms/step - loss: 0.3210 - accuracy: 0.8608 - val_loss: 0.3386 - val_accuracy: 0.8489\n",
      "\n",
      "Epoch 00002: val_accuracy improved from 0.84830 to 0.84890, saving model to best_model_rnn.keras\n",
      "Epoch 3/20\n",
      "225/225 [==============================] - 4s 16ms/step - loss: 0.2913 - accuracy: 0.8723 - val_loss: 0.3412 - val_accuracy: 0.8493\n",
      "\n",
      "Epoch 00003: val_accuracy improved from 0.84890 to 0.84935, saving model to best_model_rnn.keras\n",
      "Epoch 4/20\n",
      "225/225 [==============================] - 4s 16ms/step - loss: 0.2658 - accuracy: 0.8827 - val_loss: 0.3440 - val_accuracy: 0.8524\n",
      "\n",
      "Epoch 00004: val_accuracy improved from 0.84935 to 0.85240, saving model to best_model_rnn.keras\n",
      "Epoch 5/20\n",
      "225/225 [==============================] - 4s 16ms/step - loss: 0.2392 - accuracy: 0.8958 - val_loss: 0.3601 - val_accuracy: 0.8478\n",
      "\n",
      "Epoch 00005: val_accuracy did not improve from 0.85240\n",
      "Epoch 6/20\n",
      "225/225 [==============================] - 4s 17ms/step - loss: 0.2141 - accuracy: 0.9080 - val_loss: 0.3781 - val_accuracy: 0.8447\n",
      "\n",
      "Epoch 00006: val_accuracy did not improve from 0.85240\n",
      "Epoch 7/20\n",
      "225/225 [==============================] - 4s 17ms/step - loss: 0.1892 - accuracy: 0.9197 - val_loss: 0.4428 - val_accuracy: 0.8478\n",
      "\n",
      "Epoch 00007: val_accuracy did not improve from 0.85240\n",
      "Epoch 8/20\n",
      "225/225 [==============================] - 4s 17ms/step - loss: 0.1668 - accuracy: 0.9292 - val_loss: 0.4609 - val_accuracy: 0.8402\n",
      "\n",
      "Epoch 00008: val_accuracy did not improve from 0.85240\n",
      "Epoch 9/20\n",
      "225/225 [==============================] - 4s 17ms/step - loss: 0.1452 - accuracy: 0.9395 - val_loss: 0.5218 - val_accuracy: 0.8363\n",
      "\n",
      "Epoch 00009: val_accuracy did not improve from 0.85240\n",
      "Epoch 10/20\n",
      "225/225 [==============================] - 4s 17ms/step - loss: 0.1218 - accuracy: 0.9504 - val_loss: 0.6073 - val_accuracy: 0.8326\n",
      "\n",
      "Epoch 00010: val_accuracy did not improve from 0.85240\n",
      "Epoch 11/20\n",
      "225/225 [==============================] - 4s 17ms/step - loss: 0.1058 - accuracy: 0.9574 - val_loss: 0.6636 - val_accuracy: 0.8316\n",
      "\n",
      "Epoch 00011: val_accuracy did not improve from 0.85240\n",
      "Epoch 12/20\n",
      "225/225 [==============================] - 4s 17ms/step - loss: 0.0888 - accuracy: 0.9649 - val_loss: 0.7482 - val_accuracy: 0.8309\n",
      "\n",
      "Epoch 00012: val_accuracy did not improve from 0.85240\n",
      "Epoch 13/20\n",
      "225/225 [==============================] - 4s 17ms/step - loss: 0.0731 - accuracy: 0.9720 - val_loss: 0.8541 - val_accuracy: 0.8301\n",
      "\n",
      "Epoch 00013: val_accuracy did not improve from 0.85240\n",
      "Epoch 14/20\n",
      "225/225 [==============================] - 4s 17ms/step - loss: 0.0617 - accuracy: 0.9765 - val_loss: 0.9399 - val_accuracy: 0.8285\n",
      "\n",
      "Epoch 00014: val_accuracy did not improve from 0.85240\n",
      "Epoch 15/20\n",
      "225/225 [==============================] - 4s 17ms/step - loss: 0.0517 - accuracy: 0.9811 - val_loss: 0.9787 - val_accuracy: 0.8318\n",
      "\n",
      "Epoch 00015: val_accuracy did not improve from 0.85240\n",
      "Epoch 16/20\n",
      "225/225 [==============================] - 4s 17ms/step - loss: 0.0447 - accuracy: 0.9838 - val_loss: 1.0496 - val_accuracy: 0.8309\n",
      "\n",
      "Epoch 00016: val_accuracy did not improve from 0.85240\n",
      "Epoch 17/20\n",
      "225/225 [==============================] - 4s 17ms/step - loss: 0.0381 - accuracy: 0.9866 - val_loss: 1.1413 - val_accuracy: 0.8275\n",
      "\n",
      "Epoch 00017: val_accuracy did not improve from 0.85240\n",
      "Epoch 18/20\n",
      "225/225 [==============================] - 4s 16ms/step - loss: 0.0320 - accuracy: 0.9886 - val_loss: 1.1325 - val_accuracy: 0.8213\n",
      "\n",
      "Epoch 00018: val_accuracy did not improve from 0.85240\n",
      "Epoch 19/20\n",
      "225/225 [==============================] - 4s 16ms/step - loss: 0.0279 - accuracy: 0.9898 - val_loss: 1.2134 - val_accuracy: 0.8267\n",
      "\n",
      "Epoch 00019: val_accuracy did not improve from 0.85240\n",
      "Epoch 20/20\n",
      "225/225 [==============================] - 4s 16ms/step - loss: 0.0248 - accuracy: 0.9914 - val_loss: 1.2787 - val_accuracy: 0.8268\n",
      "\n",
      "Epoch 00020: val_accuracy did not improve from 0.85240\n"
     ]
    }
   ],
   "source": [
    "model_rnn.compile(optimizer = 'adam', loss = 'binary_crossentropy', metrics = ['accuracy'])\n",
    "epochs = 20\n",
    "history_rnn = model_rnn.fit(\n",
    "    X_train_partial, \n",
    "    y_train_partial, \n",
    "    epochs = epochs, \n",
    "    batch_size = 512, \n",
    "    validation_data = (X_val, y_val),\n",
    "    callbacks = [checkpoint])"
   ]
  },
  {
   "cell_type": "code",
   "execution_count": 39,
   "id": "a717cb99",
   "metadata": {},
   "outputs": [],
   "source": [
    "import matplotlib.pyplot as plt\n",
    "\n",
    "def draw_history(history, epochs, model_name):\n",
    "    acc = history.history['accuracy']\n",
    "    val_acc = history.history['val_accuracy']\n",
    "    loss = history.history['loss']\n",
    "    val_loss = history.history['val_loss']\n",
    "    \n",
    "    epochs = range(1, epochs + 1)\n",
    "    \n",
    "    plt.figure(figsize = (15, 7))\n",
    "    \n",
    "    plt.subplot(121)\n",
    "    plt.plot(epochs, acc, '--b',  label = 'Training')\n",
    "    plt.plot(epochs, val_acc, 'b', label = \"Valdation\")\n",
    "    plt.title(\"Training and Validation Accuracy\")\n",
    "    plt.xlabel(\"Epochs\")\n",
    "    plt.ylabel(\"Accuracy\")\n",
    "    plt.legend()\n",
    "    \n",
    "    plt.subplot(122)\n",
    "    plt.plot(epochs, loss, '--b',  label = 'Training')\n",
    "    plt.plot(epochs, val_loss, 'b', label = \"Valdation\")\n",
    "    plt.title(\"Training and Validation loss\")\n",
    "    plt.xlabel(\"Epochs\")\n",
    "    plt.ylabel(\"Loss\")\n",
    "    plt.legend()\n",
    "    \n",
    "    plt.suptitle(f\"Training result of model: {model_name}\", fontsize = 20)\n",
    "    \n",
    "    plt.show()"
   ]
  },
  {
   "cell_type": "code",
   "execution_count": 40,
   "id": "4277f9ea",
   "metadata": {},
   "outputs": [
    {
     "data": {
      "image/png": "[encoded data removed]",
      "text/plain": [
       "<Figure size 1080x504 with 2 Axes>"
      ]
     },
     "metadata": {
      "needs_background": "light"
     },
     "output_type": "display_data"
    }
   ],
   "source": [
    "draw_history(history_rnn, epochs, \"LSTM\")"
   ]
  },
  {
   "cell_type": "markdown",
   "id": "721a0e82",
   "metadata": {},
   "source": [
    "- 완전 과적합 일어남!!!"
   ]
  },
  {
   "cell_type": "code",
   "execution_count": 41,
   "id": "1e3ba651",
   "metadata": {},
   "outputs": [
    {
     "name": "stdout",
     "output_type": "stream",
     "text": [
      "WARNING:tensorflow:Model was constructed with shape (None, 73) for input KerasTensor(type_spec=TensorSpec(shape=(None, 73), dtype=tf.float32, name='embedding_1_input'), name='embedding_1_input', description=\"created by layer 'embedding_1_input'\"), but it was called on an input with incompatible shape (None, 75).\n",
      "1414/1414 [==============================] - 5s 3ms/step - loss: 0.3548 - accuracy: 0.8489\n"
     ]
    }
   ],
   "source": [
    "from tensorflow.keras.models import load_model\n",
    "\n",
    "model_rnn = load_model(\"best_model_rnn.keras\")\n",
    "results_rnn = model_rnn.evaluate(X_test, y_test)"
   ]
  },
  {
   "cell_type": "markdown",
   "id": "07be684e",
   "metadata": {},
   "source": [
    "## 3-2. Komoran 적용 모델 "
   ]
  },
  {
   "cell_type": "code",
   "execution_count": 102,
   "id": "d3092da5",
   "metadata": {},
   "outputs": [],
   "source": [
    "vocab_size = len(word_to_index_km) + 1\n",
    "embedding_dim = 128"
   ]
  },
  {
   "cell_type": "code",
   "execution_count": 103,
   "id": "82f52c2e",
   "metadata": {},
   "outputs": [
    {
     "name": "stdout",
     "output_type": "stream",
     "text": [
      "Model: \"sequential_7\"\n",
      "_________________________________________________________________\n",
      "Layer (type)                 Output Shape              Param #   \n",
      "=================================================================\n",
      "embedding_7 (Embedding)      (None, None, 128)         1024128   \n",
      "_________________________________________________________________\n",
      "lstm_7 (LSTM)                (None, 128)               131584    \n",
      "_________________________________________________________________\n",
      "dense_14 (Dense)             (None, 32)                4128      \n",
      "_________________________________________________________________\n",
      "dense_15 (Dense)             (None, 1)                 33        \n",
      "=================================================================\n",
      "Total params: 1,159,873\n",
      "Trainable params: 1,159,873\n",
      "Non-trainable params: 0\n",
      "_________________________________________________________________\n"
     ]
    }
   ],
   "source": [
    "model_rnn_km = tf.keras.Sequential([\n",
    "    layers.Embedding(input_dim = vocab_size, output_dim = embedding_dim, input_shape = (None, )),\n",
    "    layers.LSTM(128),\n",
    "    layers.Dense(32, activation= \"relu\"),\n",
    "    layers.Dense(1, activation = \"sigmoid\")\n",
    "])\n",
    "\n",
    "model_rnn_km.summary()"
   ]
  },
  {
   "cell_type": "code",
   "execution_count": 104,
   "id": "d40ae1a0",
   "metadata": {},
   "outputs": [],
   "source": [
    "checkpoint = ModelCheckpoint(\"best_model_rnn_km.keras\", monitor = \"val_accuracy\", verbose = -1, save_best_only = True)\n",
    "model_rnn_km.compile(optimizer = \"adam\", loss = \"binary_crossentropy\", metrics = [\"accuracy\"])\n",
    "epochs = 20"
   ]
  },
  {
   "cell_type": "code",
   "execution_count": 105,
   "id": "5182f6de",
   "metadata": {},
   "outputs": [
    {
     "name": "stdout",
     "output_type": "stream",
     "text": [
      "Epoch 1/20\n",
      "225/225 [==============================] - 6s 18ms/step - loss: 0.4268 - accuracy: 0.8042 - val_loss: 0.3571 - val_accuracy: 0.8416\n",
      "Epoch 2/20\n",
      "225/225 [==============================] - 4s 16ms/step - loss: 0.3342 - accuracy: 0.8548 - val_loss: 0.3455 - val_accuracy: 0.8466\n",
      "Epoch 3/20\n",
      "225/225 [==============================] - 4s 17ms/step - loss: 0.3017 - accuracy: 0.8700 - val_loss: 0.3455 - val_accuracy: 0.8518\n",
      "Epoch 4/20\n",
      "225/225 [==============================] - 4s 17ms/step - loss: 0.2732 - accuracy: 0.8825 - val_loss: 0.3556 - val_accuracy: 0.8502\n",
      "Epoch 5/20\n",
      "225/225 [==============================] - 4s 17ms/step - loss: 0.2485 - accuracy: 0.8949 - val_loss: 0.3690 - val_accuracy: 0.8511\n",
      "Epoch 6/20\n",
      "225/225 [==============================] - 4s 17ms/step - loss: 0.2267 - accuracy: 0.9051 - val_loss: 0.3849 - val_accuracy: 0.8462\n",
      "Epoch 7/20\n",
      "225/225 [==============================] - 4s 17ms/step - loss: 0.2055 - accuracy: 0.9148 - val_loss: 0.4143 - val_accuracy: 0.8476\n",
      "Epoch 8/20\n",
      "225/225 [==============================] - 4s 17ms/step - loss: 0.1875 - accuracy: 0.9230 - val_loss: 0.4483 - val_accuracy: 0.8422\n",
      "Epoch 9/20\n",
      "225/225 [==============================] - 4s 17ms/step - loss: 0.1702 - accuracy: 0.9310 - val_loss: 0.4830 - val_accuracy: 0.8429\n",
      "Epoch 10/20\n",
      "225/225 [==============================] - 4s 17ms/step - loss: 0.1556 - accuracy: 0.9367 - val_loss: 0.5153 - val_accuracy: 0.8433\n",
      "Epoch 11/20\n",
      "225/225 [==============================] - 4s 17ms/step - loss: 0.1423 - accuracy: 0.9427 - val_loss: 0.5487 - val_accuracy: 0.8396\n",
      "Epoch 12/20\n",
      "225/225 [==============================] - 4s 17ms/step - loss: 0.1313 - accuracy: 0.9477 - val_loss: 0.5757 - val_accuracy: 0.8395\n",
      "Epoch 13/20\n",
      "225/225 [==============================] - 4s 17ms/step - loss: 0.1191 - accuracy: 0.9527 - val_loss: 0.6728 - val_accuracy: 0.8371\n",
      "Epoch 14/20\n",
      "225/225 [==============================] - 4s 17ms/step - loss: 0.1094 - accuracy: 0.9562 - val_loss: 0.6915 - val_accuracy: 0.8391\n",
      "Epoch 15/20\n",
      "225/225 [==============================] - 4s 17ms/step - loss: 0.1006 - accuracy: 0.9602 - val_loss: 0.7655 - val_accuracy: 0.8397\n",
      "Epoch 16/20\n",
      "225/225 [==============================] - 4s 17ms/step - loss: 0.0907 - accuracy: 0.9644 - val_loss: 0.8047 - val_accuracy: 0.8381\n",
      "Epoch 17/20\n",
      "225/225 [==============================] - 4s 17ms/step - loss: 0.0890 - accuracy: 0.9646 - val_loss: 0.8235 - val_accuracy: 0.8331\n",
      "Epoch 18/20\n",
      "225/225 [==============================] - 4s 17ms/step - loss: 0.0797 - accuracy: 0.9686 - val_loss: 0.8461 - val_accuracy: 0.8335\n",
      "Epoch 19/20\n",
      "225/225 [==============================] - 4s 17ms/step - loss: 0.0704 - accuracy: 0.9724 - val_loss: 0.9336 - val_accuracy: 0.8273\n",
      "Epoch 20/20\n",
      "225/225 [==============================] - 4s 17ms/step - loss: 0.0674 - accuracy: 0.9728 - val_loss: 0.9682 - val_accuracy: 0.8339\n"
     ]
    }
   ],
   "source": [
    "history_km = model_rnn_km.fit(\n",
    "    X_train_partial_km, \n",
    "    y_train_partial_km, \n",
    "    epochs = epochs, \n",
    "    batch_size = 512, \n",
    "    validation_data = (X_val_km, y_val_km), \n",
    "    callbacks = [checkpoint], \n",
    "    verbose= 1)"
   ]
  },
  {
   "cell_type": "code",
   "execution_count": 106,
   "id": "54cdb9e7",
   "metadata": {},
   "outputs": [
    {
     "data": {
      "image/png": "[encoded data removed]",
      "text/plain": [
       "<Figure size 1080x504 with 2 Axes>"
      ]
     },
     "metadata": {
      "needs_background": "light"
     },
     "output_type": "display_data"
    }
   ],
   "source": [
    "draw_history(history_km, epochs, \"LSTM_KOMORAN\")"
   ]
  },
  {
   "cell_type": "code",
   "execution_count": 107,
   "id": "a3bcb190",
   "metadata": {},
   "outputs": [
    {
     "name": "stdout",
     "output_type": "stream",
     "text": [
      "1414/1414 [==============================] - 4s 3ms/step - loss: 1.1924 - accuracy: 0.5033\n"
     ]
    }
   ],
   "source": [
    "model_rnn_km = load_model(\"best_model_rnn_km.keras\")\n",
    "results_rnn_km = model_rnn_km.evaluate(X_test, y_test)"
   ]
  },
  {
   "cell_type": "markdown",
   "id": "fcf13e10",
   "metadata": {},
   "source": [
    "- validation의 accuracy값과 굉장히 차이가 크다...\n",
    "- 0.50이면 랜덤분류기 아닌가?"
   ]
  },
  {
   "cell_type": "code",
   "execution_count": 108,
   "id": "00b39d2a",
   "metadata": {},
   "outputs": [
    {
     "data": {
      "image/png": "[encoded data removed]",
      "text/plain": [
       "<Figure size 432x288 with 1 Axes>"
      ]
     },
     "metadata": {
      "needs_background": "light"
     },
     "output_type": "display_data"
    }
   ],
   "source": [
    "# 성능 비교하기\n",
    "\n",
    "test_acc = {\n",
    "    \"SP\": results_rnn[1],\n",
    "    \"KOMORAN\": results_rnn_km[1]\n",
    "}\n",
    "\n",
    "plt.bar(test_acc.keys(), test_acc.values())\n",
    "plt.xlabel(\"Tokenizer\")\n",
    "plt.ylabel(\"Accuracy\")\n",
    "plt.title(\"Test Accuracy Comparison by Models\")\n",
    "plt.show()"
   ]
  },
  {
   "cell_type": "markdown",
   "id": "2cf03ed5",
   "metadata": {},
   "source": [
    "# 회고 "
   ]
  },
  {
   "cell_type": "markdown",
   "id": "7d422aff",
   "metadata": {},
   "source": [
    "- Sentence Piece 사용한 모델에 비해 KOMORAN 사용 모델 성능(Accuracy)가 30% 이상 낮음\n",
    "- KOMORAN 모델은 학습 데이터에는 과적합 되었지만 일반화 성능이 SP에 비해 낮은 것 같음\n",
    "- KOMORAN OOV 처리 성능이 sentence piece에 비해 훨씬 약한 것인가?\n",
    "\n"
   ]
  },
  {
   "cell_type": "code",
   "execution_count": null,
   "id": "847d3441",
   "metadata": {},
   "outputs": [],
   "source": []
  }
 ],
 "metadata": {
  "kernelspec": {
   "display_name": "Python 3 (ipykernel)",
   "language": "python",
   "name": "python3"
  },
  "language_info": {
   "codemirror_mode": {
    "name": "ipython",
    "version": 3
   },
   "file_extension": ".py",
   "mimetype": "text/x-python",
   "name": "python",
   "nbconvert_exporter": "python",
   "pygments_lexer": "ipython3",
   "version": "3.9.7"
  }
 },
 "nbformat": 4,
 "nbformat_minor": 5
}
