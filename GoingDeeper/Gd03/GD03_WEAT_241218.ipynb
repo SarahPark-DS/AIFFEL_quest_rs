{
 "cells": [
  {
   "cell_type": "markdown",
   "id": "593f6cd9",
   "metadata": {},
   "source": [
    "# 프로젝트 9-1: 모든 장르 간 편향성 측정해보기 \n",
    "\n",
    "1. 형태소 분석기를 이용하여 품사가 명사인 경우 해당 단어를 추출하기\n",
    "2. 추출된 결과로 embedding model 만들기\n",
    "3. target, attribute 단어 셋 만들기 - TFIDF, LDA\n",
    "4. WEAT score 계산과 시각화하기"
   ]
  },
  {
   "cell_type": "markdown",
   "id": "81f39e7c",
   "metadata": {},
   "source": [
    "## 0. 필요 클래스 및 함수 정의"
   ]
  },
  {
   "cell_type": "code",
   "execution_count": 1,
   "id": "aca15bfa",
   "metadata": {},
   "outputs": [],
   "source": [
    "import os\n",
    "import numpy as np\n",
    "import matplotlib.pyplot as plt\n",
    "import seaborn as sns\n",
    "from numpy import dot\n",
    "from numpy.linalg import norm\n",
    "from gensim.models import KeyedVectors\n",
    "from sklearn.feature_extraction.text import TfidfVectorizer\n",
    "from konlpy.tag import Okt"
   ]
  },
  {
   "cell_type": "code",
   "execution_count": 2,
   "id": "a82b2af6",
   "metadata": {},
   "outputs": [],
   "source": [
    "def cos_sim(i, j):\n",
    "    return dot(i, j.T)/(norm(i)*norm(j))"
   ]
  },
  {
   "cell_type": "code",
   "execution_count": 3,
   "id": "753ab8a4",
   "metadata": {},
   "outputs": [],
   "source": [
    "def s(w, A, B):\n",
    "    c_a = cos_sim(w, A)\n",
    "    c_b = cos_sim(w, B)\n",
    "    mean_A = np.mean(c_a, axis = -1)\n",
    "    mean_B = np.mean(c_b, axis = -1)\n",
    "    return mean_A - mean_B"
   ]
  },
  {
   "cell_type": "code",
   "execution_count": 88,
   "id": "d7a43fbb",
   "metadata": {},
   "outputs": [],
   "source": [
    "def weat_score(X, Y, A, B):\n",
    "    s_X = s(X, A, B)\n",
    "    s_Y = s(Y, A, B)\n",
    "    \n",
    "    mean_X = np.mean(s_X)\n",
    "    mean_Y = np.mean(s_Y)\n",
    "    \n",
    "    std_dev = np.std(np.concatenate([s_X, s_Y], axis = 0))\n",
    "    return (mean_X - mean_Y) / std_dev"
   ]
  },
  {
   "cell_type": "markdown",
   "id": "cefccce9",
   "metadata": {},
   "source": [
    "## 1. 데이터 로드하기"
   ]
  },
  {
   "cell_type": "code",
   "execution_count": 7,
   "id": "3bdb4ab5",
   "metadata": {},
   "outputs": [
    {
     "name": "stdout",
     "output_type": "stream",
     "text": [
      "71156\n"
     ]
    }
   ],
   "source": [
    "okt = Okt()\n",
    "tokenized = []\n",
    "with open(os.getenv(\"HOME\") + \"/aiffel/weat/synopsis.txt\", 'r') as file:\n",
    "    while True:\n",
    "        line = file.readline()\n",
    "        if not line: break\n",
    "        words = okt.pos(line, stem = True, norm = True)\n",
    "        res = []\n",
    "        for w in words:\n",
    "            if w[1] in [\"Noun\"]:\n",
    "                res.append(w[0])\n",
    "        tokenized.append(res)\n",
    "\n",
    "print(len(tokenized))"
   ]
  },
  {
   "cell_type": "markdown",
   "id": "ab2693f1",
   "metadata": {},
   "source": [
    "## 2. Embedding 모델 만들기"
   ]
  },
  {
   "cell_type": "code",
   "execution_count": 9,
   "id": "2e8f2f03",
   "metadata": {},
   "outputs": [],
   "source": [
    "from gensim.models import Word2Vec\n",
    "\n",
    "model = Word2Vec(tokenized, vector_size = 100, window = 5, min_count = 3, sg = 0)"
   ]
  },
  {
   "cell_type": "code",
   "execution_count": 10,
   "id": "64c362a8",
   "metadata": {},
   "outputs": [
    {
     "data": {
      "text/plain": [
       "[('작품', 0.8883106112480164),\n",
       " ('다큐멘터리', 0.8397124409675598),\n",
       " ('영화로', 0.8040646910667419),\n",
       " ('드라마', 0.8034080266952515),\n",
       " ('시대극', 0.7763749957084656),\n",
       " ('주제', 0.772083580493927),\n",
       " ('코미디', 0.7704250812530518),\n",
       " ('형식', 0.7660905718803406),\n",
       " ('설정', 0.7657263875007629),\n",
       " ('실화', 0.7596107125282288)]"
      ]
     },
     "execution_count": 10,
     "metadata": {},
     "output_type": "execute_result"
    }
   ],
   "source": [
    "model.wv.most_similar(positive = ['영화'])"
   ]
  },
  {
   "cell_type": "code",
   "execution_count": 37,
   "id": "2cb4af34",
   "metadata": {},
   "outputs": [],
   "source": [
    "art_txt = 'synopsis_art.txt'\n",
    "gen_txt = 'synopsis_gen.txt'\n",
    "\n",
    "def read_token(file_name):\n",
    "    okt = Okt()\n",
    "    result = []\n",
    "    with open(os.getenv(\"HOME\") + \"/aiffel/weat/\" + file_name, 'r') as fread:\n",
    "        print(file_name, '파일을 읽고 있습니다.')\n",
    "        while True:\n",
    "            line = fread.readline()\n",
    "            if not line: break\n",
    "            tokenlist = okt.pos(line, stem = True, norm = True)\n",
    "            res = []\n",
    "            for word in tokenlist:\n",
    "                if word[1] in [\"Noun\"]:\n",
    "                    res.append(word[0])\n",
    "            result.append(res)\n",
    "    \n",
    "    return result"
   ]
  },
  {
   "cell_type": "code",
   "execution_count": 38,
   "id": "a5a0160e",
   "metadata": {},
   "outputs": [
    {
     "name": "stdout",
     "output_type": "stream",
     "text": [
      "synopsis_art.txt 파일을 읽고 있습니다.\n",
      "synopsis_gen.txt 파일을 읽고 있습니다.\n"
     ]
    }
   ],
   "source": [
    "art = read_token(art_txt)\n",
    "gen = read_token(gen_txt)"
   ]
  },
  {
   "cell_type": "markdown",
   "id": "9c75268d",
   "metadata": {},
   "source": [
    "## 3. LDA 키워드 추출하기"
   ]
  },
  {
   "cell_type": "markdown",
   "id": "2a336f10",
   "metadata": {},
   "source": [
    "### LDA를 통한 키워드 추출 (실험)"
   ]
  },
  {
   "cell_type": "code",
   "execution_count": 16,
   "id": "b71a82cb",
   "metadata": {},
   "outputs": [],
   "source": [
    "# LDA를 통한 키워드 추출\n",
    "from sklearn.feature_extraction.text import CountVectorizer\n",
    "from sklearn.decomposition import LatentDirichletAllocation"
   ]
  },
  {
   "cell_type": "code",
   "execution_count": 62,
   "id": "10706581",
   "metadata": {},
   "outputs": [],
   "source": [
    "def lda_analysis(text, n_topics = 3, n_keywords = 15):\n",
    "    # tf-idf 사용 안하는 대신 max_df 규제를 통해 최다 빈출 단어 top 5% 제거\n",
    "    text = [' '.join(doc) for doc in text]\n",
    "    vectorizer = CountVectorizer(max_df = 0.95, min_df = 2)\n",
    "    X = vectorizer.fit_transform(text)\n",
    "    \n",
    "    lda = LatentDirichletAllocation(n_components = n_topics, random_state = 2024)\n",
    "    lda.fit(X)\n",
    "    \n",
    "    words = vectorizer.get_feature_names_out()\n",
    "    topic_keywords = {}\n",
    "    for topic_idx, topic in enumerate(lda.components_):\n",
    "        print(f\"토픽 {topic_idx + 1}: \")\n",
    "        keywords = [words[i] for i in topic.argsort()[:-n_keywords -1 : -1]]\n",
    "        print(\", \".join(keywords))\n",
    "        topic_keywords[topic_idx + 1] = keywords\n",
    "        \n",
    "    return topic_keywords\n"
   ]
  },
  {
   "cell_type": "code",
   "execution_count": 64,
   "id": "9757ffe4",
   "metadata": {},
   "outputs": [
    {
     "name": "stdout",
     "output_type": "stream",
     "text": [
      "토픽 1: \n",
      "시작, 위해, 그녀, 아이, 세상, 사람, 엄마, 자신, 남자, 아빠, 모든, 아내, 사랑, 여자, 아버지\n",
      "토픽 2: \n",
      "사랑, 그녀, 자신, 사람, 영화, 시작, 친구, 위해, 마음, 서로, 영화제, 남자, 이야기, 다시, 다른\n",
      "토픽 3: \n",
      "사건, 시작, 자신, 위해, 그녀, 영화, 세계, 감독, 마을, 친구, 가족, 미국, 인간, 이야기, 비밀\n"
     ]
    }
   ],
   "source": [
    "target_art = lda_analysis(art)\n",
    "#target_art"
   ]
  },
  {
   "cell_type": "code",
   "execution_count": 66,
   "id": "ecc9f726",
   "metadata": {},
   "outputs": [
    {
     "data": {
      "text/plain": [
       "['사랑',\n",
       " '그녀',\n",
       " '자신',\n",
       " '사람',\n",
       " '영화',\n",
       " '시작',\n",
       " '친구',\n",
       " '위해',\n",
       " '마음',\n",
       " '서로',\n",
       " '영화제',\n",
       " '남자',\n",
       " '이야기',\n",
       " '다시',\n",
       " '다른']"
      ]
     },
     "execution_count": 66,
     "metadata": {},
     "output_type": "execute_result"
    }
   ],
   "source": [
    "# 2번이 예술 영화스러운 듯...?\n",
    "target_art[2]"
   ]
  },
  {
   "cell_type": "code",
   "execution_count": 65,
   "id": "367cd6cd",
   "metadata": {},
   "outputs": [
    {
     "name": "stdout",
     "output_type": "stream",
     "text": [
      "토픽 1: \n",
      "영화제, 국제, 영화, 서울, 이야기, 단편, 작품, 사람, 대한, 감독, 애니메이션, 우리, 통해, 세계, 연출\n",
      "토픽 2: \n",
      "위해, 자신, 시작, 사건, 마을, 사람, 경찰, 친구, 과연, 조직, 세계, 모든, 살인, 발견, 가족\n",
      "토픽 3: \n",
      "그녀, 자신, 남자, 사랑, 친구, 시작, 사람, 여자, 남편, 위해, 엄마, 아버지, 마음, 아들, 아내\n"
     ]
    }
   ],
   "source": [
    "# 여기도 2번이 상업영화 생각했을 때 떠오르는 단어가 많은 것 같다\n",
    "target_gen = lda_analysis(gen)\n",
    "#target_gen"
   ]
  },
  {
   "cell_type": "code",
   "execution_count": 67,
   "id": "404ac8b0",
   "metadata": {},
   "outputs": [
    {
     "data": {
      "text/plain": [
       "['위해',\n",
       " '자신',\n",
       " '시작',\n",
       " '사건',\n",
       " '마을',\n",
       " '사람',\n",
       " '경찰',\n",
       " '친구',\n",
       " '과연',\n",
       " '조직',\n",
       " '세계',\n",
       " '모든',\n",
       " '살인',\n",
       " '발견',\n",
       " '가족']"
      ]
     },
     "execution_count": 67,
     "metadata": {},
     "output_type": "execute_result"
    }
   ],
   "source": [
    "target_gen[2]"
   ]
  },
  {
   "cell_type": "markdown",
   "id": "43849854",
   "metadata": {},
   "source": [
    "### 장르별 key words 확인하기..."
   ]
  },
  {
   "cell_type": "code",
   "execution_count": null,
   "id": "e0ee5e63",
   "metadata": {},
   "outputs": [],
   "source": [
    "# 장르 파일 확인하기\n",
    "dir_path = os.getenv(\"HOME\")+\"/aiffel/weat\"\n",
    "substract_names = ['synopsis_art.txt', 'synopsis_gen.txt', 'synopsis.txt']\n",
    "genre_txt = []\n",
    "\n",
    "for fname in os.listdir(dir_path):\n",
    "    if fname.endswith('.txt'):\n",
    "        if fname not in substract_names:\n",
    "            genre_txt.append(fname)\n",
    "\n",
    "genre_txt"
   ]
  },
  {
   "cell_type": "code",
   "execution_count": 78,
   "id": "9c247cd0",
   "metadata": {},
   "outputs": [
    {
     "data": {
      "text/plain": [
       "'action'"
      ]
     },
     "execution_count": 78,
     "metadata": {},
     "output_type": "execute_result"
    }
   ],
   "source": [
    "genre_txt[0][9:-4]"
   ]
  },
  {
   "cell_type": "code",
   "execution_count": 79,
   "id": "811a7f81",
   "metadata": {},
   "outputs": [
    {
     "data": {
      "text/plain": [
       "['action',\n",
       " 'family',\n",
       " 'show',\n",
       " 'thriller',\n",
       " 'western',\n",
       " 'etc',\n",
       " 'adult',\n",
       " 'mystery',\n",
       " 'horror',\n",
       " 'historical',\n",
       " 'romance',\n",
       " 'war',\n",
       " 'SF',\n",
       " 'animation',\n",
       " 'documentary',\n",
       " 'crime',\n",
       " 'musical',\n",
       " 'fantasy',\n",
       " 'comedy',\n",
       " 'drama',\n",
       " 'adventure']"
      ]
     },
     "execution_count": 79,
     "metadata": {},
     "output_type": "execute_result"
    }
   ],
   "source": [
    "genre_name = [txt[9:-4] for txt in genre_txt]\n",
    "genre_name"
   ]
  },
  {
   "cell_type": "code",
   "execution_count": 80,
   "id": "1557612e",
   "metadata": {},
   "outputs": [
    {
     "name": "stdout",
     "output_type": "stream",
     "text": [
      "synopsis_action.txt 파일을 읽고 있습니다.\n",
      "synopsis_family.txt 파일을 읽고 있습니다.\n",
      "synopsis_show.txt 파일을 읽고 있습니다.\n",
      "synopsis_thriller.txt 파일을 읽고 있습니다.\n",
      "synopsis_western.txt 파일을 읽고 있습니다.\n",
      "synopsis_etc.txt 파일을 읽고 있습니다.\n",
      "synopsis_adult.txt 파일을 읽고 있습니다.\n",
      "synopsis_mystery.txt 파일을 읽고 있습니다.\n",
      "synopsis_horror.txt 파일을 읽고 있습니다.\n",
      "synopsis_historical.txt 파일을 읽고 있습니다.\n",
      "synopsis_romance.txt 파일을 읽고 있습니다.\n",
      "synopsis_war.txt 파일을 읽고 있습니다.\n",
      "synopsis_SF.txt 파일을 읽고 있습니다.\n",
      "synopsis_animation.txt 파일을 읽고 있습니다.\n",
      "synopsis_documentary.txt 파일을 읽고 있습니다.\n",
      "synopsis_crime.txt 파일을 읽고 있습니다.\n",
      "synopsis_musical.txt 파일을 읽고 있습니다.\n",
      "synopsis_fantasy.txt 파일을 읽고 있습니다.\n",
      "synopsis_comedy.txt 파일을 읽고 있습니다.\n",
      "synopsis_drama.txt 파일을 읽고 있습니다.\n",
      "synopsis_adventure.txt 파일을 읽고 있습니다.\n"
     ]
    }
   ],
   "source": [
    "genre = []\n",
    "for file_name in genre_txt:\n",
    "    genre.append(read_token(file_name))"
   ]
  },
  {
   "cell_type": "code",
   "execution_count": 82,
   "id": "021f270c",
   "metadata": {},
   "outputs": [
    {
     "name": "stdout",
     "output_type": "stream",
     "text": [
      "------------------------------------------------\n",
      "LDA Analysis for  action is being processed...\n",
      "토픽 1: \n",
      "자신, 위해, 사건, 조직, 영화, 경찰, 사람, 형사, 살인, 요원, 친구, 그녀, 임무, 범죄, 동료\n",
      "토픽 2: \n",
      "위해, 자신, 그녀, 조직, 시작, 복수, 사람, 사랑, 친구, 운명, 목숨, 세계, 남자, 납치, 한편\n",
      "토픽 3: \n",
      "시작, 자신, 위해, 사건, 인간, 전쟁, 경찰, 사실, 지구, 목숨, 사람, 비밀, 공격, 모든, 가족\n",
      "------------------------------------------------\n",
      "LDA Analysis for  family is being processed...\n",
      "토픽 1: \n",
      "영화제, 엄마, 아빠, 국제, 할머니, 학교, 가족, 자신, 서울, 사람, 아주르, 위해, 고양이, 시작, 영화\n",
      "토픽 2: \n",
      "아버지, 친구, 사랑, 위해, 아이, 자신, 그녀, 어머니, 마을, 시작, 세상, 대한, 미아, 소년, 과연\n",
      "토픽 3: \n",
      "가족, 아들, 자신, 엄마, 위해, 시작, 그녀, 아빠, 엠마, 낙타, 아내, 사람, 마을, 해나, 씨제이\n",
      "------------------------------------------------\n",
      "LDA Analysis for  show is being processed...\n",
      "토픽 1: \n",
      "공연, 콘서트, 그녀, 실황, 음악, 여왕, 오텔로, 사랑, 미노, 시작, 세계, 비바, 백작부인, 자신, 위해\n",
      "토픽 2: \n",
      "사랑, 올레, 프레, 자신, 왕자, 공작, 그녀, 반니, 위해, 파리, 여자, 여인, 리골레토, 시작, 오페라\n",
      "토픽 3: \n",
      "사랑, 오페라, 토스카, 자신, 카바, 아이, 도시, 실황, 백작, 공연, 위해, 리코, 그녀, 카르피, 무대\n",
      "------------------------------------------------\n",
      "LDA Analysis for  thriller is being processed...\n",
      "토픽 1: \n",
      "그녀, 자신, 시작, 사람, 위해, 발견, 남자, 정체, 목숨, 사랑, 영화, 요원, 다른, 비밀, 소녀\n",
      "토픽 2: \n",
      "시작, 그녀, 사람, 위해, 영화제, 발견, 사고, 사건, 남자, 살인, 아내, 죽음, 국제, 여자, 남편\n",
      "토픽 3: \n",
      "사건, 자신, 위해, 그녀, 시작, 살인, 사람, 남자, 아내, 친구, 마을, 가족, 형사, 사실, 경찰\n",
      "------------------------------------------------\n",
      "LDA Analysis for  western is being processed...\n",
      "토픽 1: \n",
      "서부, 카우보이, 위해, 사랑, 무법자, 사람, 서로, 엠마, 미국, 정의, 자신, 가족, 누가, 열차, 사냥꾼\n",
      "토픽 2: \n",
      "위해, 시작, 벌린, 사냥, 대결, 자신, 보안관, 마을, 복수, 찰리, 싸움, 한편, 숙명, 농장, 방식\n",
      "토픽 3: \n",
      "아이, 헨리, 보안관, 마을, 아들, 아버지, 자신, 분노, 서부, 부하, 가득, 개릿, 위해, 릴리, 스탠리\n",
      "------------------------------------------------\n",
      "LDA Analysis for  etc is being processed...\n",
      "토픽 1: \n",
      "영화, 페스티벌, 엄마, 자신, 위해, 뉴미디어, 연출, 사람, 시작, 작품, 대한, 이미지, 도시, 현실, 모습\n",
      "토픽 2: \n",
      "이야기, 그녀, 남자, 사람, 자신, 사랑, 영화, 여자, 위해, 시작, 소녀, 다른, 시간, 우리, 친구\n",
      "토픽 3: \n",
      "영화제, 국제, 서울, 단편, 독립, 부산, 아시아나, 유럽, 청소년, 부천, 지하철, 판타스틱, 상영작, 부문, 경쟁\n",
      "------------------------------------------------\n",
      "LDA Analysis for  adult is being processed...\n",
      "토픽 1: \n",
      "그녀, 남편, 자신, 관계, 시작, 레이, 유부녀, 섹스, 유미, 미키, 정사, 마음, 모습, 유우, 아키\n",
      "토픽 2: \n",
      "그녀, 남편, 영화, 남자, 마사지, 그린, 이야기, 위해, 자신, 관계, 여자, 섹스, 시작, 에피소드, 사랑\n",
      "토픽 3: \n",
      "그녀, 자신, 남편, 관계, 정사, 마음, 위해, 시작, 다시, 사실, 남자, 회사, 유이, 결혼, 친구\n",
      "------------------------------------------------\n",
      "LDA Analysis for  mystery is being processed...\n",
      "토픽 1: \n",
      "사건, 그녀, 아내, 시작, 위해, 남편, 발생, 사람, 비밀, 누구, 납치, 의심, 자신, 살인, 무엇\n",
      "토픽 2: \n",
      "사건, 그녀, 자신, 영화, 발견, 시작, 소설, 위해, 이야기, 과연, 형사, 사람, 작가, 정체, 불명\n",
      "토픽 3: \n",
      "자신, 사건, 그녀, 시작, 죽음, 친구, 기억, 사람, 진실, 위해, 사고, 경찰, 살인, 민혁, 아빠\n",
      "------------------------------------------------\n",
      "LDA Analysis for  horror is being processed...\n",
      "토픽 1: \n",
      "사람, 위해, 자신, 시작, 마을, 좀비, 사건, 친구, 죽음, 하나, 여자, 살인, 남자, 정체, 게임\n",
      "토픽 2: \n",
      "영화, 발견, 사건, 가족, 그녀, 자신, 위해, 시작, 사람, 아들, 영화제, 이사, 병원, 공포, 이야기\n",
      "토픽 3: \n",
      "친구, 그녀, 시작, 공포, 위해, 자신, 소녀, 죽음, 사건, 악령, 저주, 사고, 마을, 모든, 여행\n",
      "------------------------------------------------\n",
      "LDA Analysis for  historical is being processed...\n",
      "토픽 1: \n",
      "조선, 위해, 전쟁, 마음, 자신, 황제, 최고, 사랑, 이야기, 사람, 양반, 세상, 권력, 트로이, 아킬레스\n",
      "토픽 2: \n",
      "시작, 자신, 사람, 아들, 가장, 위해, 최고, 정조, 사건, 아버지, 생각, 하선, 우리, 조선, 운명\n",
      "토픽 3: \n",
      "사랑, 위해, 그녀, 조선, 운명, 신기전, 황제, 목숨, 동생, 소리, 권력, 일본군, 개발, 대호, 모든\n",
      "------------------------------------------------\n",
      "LDA Analysis for  romance is being processed...\n",
      "토픽 1: \n",
      "그녀, 자신, 결혼, 사랑, 시작, 친구, 남자, 마음, 사람, 여자, 점점, 위해, 모습, 서로, 새엄마\n",
      "토픽 2: \n",
      "그녀, 사랑, 자신, 시작, 남편, 남자, 사람, 여자, 위해, 마음, 친구, 서로, 다시, 관계, 시간\n",
      "토픽 3: \n",
      "남편, 부부, 아내, 남자, 그녀, 섹스, 영화, 자신, 시작, 친구, 사랑, 위해, 사람, 여자, 영화제\n",
      "------------------------------------------------\n",
      "LDA Analysis for  war is being processed...\n",
      "토픽 1: \n",
      "전쟁, 작전, 사람, 그녀, 위해, 자신, 폭격, 시작, 독일, 동막골, 장군, 폴란드, 혁리, 북한, 비밀\n",
      "토픽 2: \n",
      "전투, 작전, 전쟁, 독일군, 위해, 시작, 부대, 지역, 중위, 대위, 윈터스, 군인, 가장, 공격, 미국\n",
      "토픽 3: \n",
      "시작, 위해, 부대, 독일, 전쟁, 영화, 임무, 독일군, 명령, 나치, 목숨, 영국, 일본, 일본군, 상황\n",
      "------------------------------------------------\n",
      "LDA Analysis for  SF is being processed...\n",
      "토픽 1: \n",
      "자신, 위해, 지구, 인간, 모든, 미래, 그녀, 시작, 사람, 인류, 로봇, 우주, 시간, 박사, 기억\n",
      "토픽 2: \n",
      "사람, 시작, 자신, 위해, 영화, 지구, 인간, 미래, 인류, 세상, 시스템, 모든, 사건, 아들, 아버지\n",
      "토픽 3: \n",
      "시작, 지구, 위해, 자신, 세계, 사람, 인류, 우주, 비밀, 인간, 외계, 로봇, 그녀, 우주선, 친구\n",
      "------------------------------------------------\n",
      "LDA Analysis for  animation is being processed...\n",
      "토픽 1: \n",
      "친구, 위해, 자신, 아이, 시작, 마을, 소년, 세상, 소녀, 엄마, 과연, 모험, 애니, 최강, 주인공\n",
      "토픽 2: \n",
      "사람, 인디애니페스트, 이야기, 위해, 자신, 세계, 시작, 인간, 우리, 그녀, 사랑, 남자, 소녀, 모든, 다른\n",
      "토픽 3: \n",
      "애니메이션, 국제, 영화제, 서울, 페스티벌, 단편, 부문, 부천, 작품, 만화, 경쟁, 남자, 학생, 연출, 표현\n",
      "------------------------------------------------\n",
      "LDA Analysis for  documentary is being processed...\n",
      "토픽 1: \n",
      "영화제, 국제, 다큐, 서울, 다큐멘터리, 환경, 독립, 음악, 시작, 여성, 밴드, 부산, 단편, 영화, 한국\n",
      "토픽 2: \n",
      "사람, 영화, 우리, 위해, 마을, 대한, 자신, 통해, 가족, 이야기, 시작, 아이, 감독, 다큐멘터리, 세상\n",
      "토픽 3: \n",
      "영화, 이야기, 그녀, 감독, 대한, 세계, 자신, 다큐멘터리, 시작, 위해, 사람, 작품, 여성, 통해, 한국\n",
      "------------------------------------------------\n",
      "LDA Analysis for  crime is being processed...\n",
      "토픽 1: \n",
      "사건, 경찰, 시작, 자신, 그녀, 위해, 마약, 살인, 조직, 발견, 형사, 범인, 범죄, 수사, 모든\n",
      "토픽 2: \n",
      "남자, 자신, 은행, 영화, 위해, 영화제, 사람, 미국, 아버지, 그녀, 국제, 이야기, 살해, 사랑, 친구\n",
      "토픽 3: \n",
      "위해, 자신, 시작, 사건, 사람, 조직, 복수, 살인, 범죄, 소년, 계획, 모든, 마지막, 서로, 요원\n",
      "------------------------------------------------\n",
      "LDA Analysis for  musical is being processed...\n",
      "토픽 1: \n",
      "음악, 모차르트, 영화, 바흐, 스페인, 아들, 세계, 대한, 사랑, 자신, 결혼, 라훌, 제루샤, 가족, 아버지\n",
      "토픽 2: \n",
      "사랑, 자신, 시작, 엄마, 사람, 위해, 그녀, 최고, 파티, 사실, 포르노, 서로, 공연, 모든, 미국\n",
      "토픽 3: \n",
      "뮤지컬, 그녀, 영화제, 충무로, 카바, 에스메랄다, 토스카, 크리스틴, 노래, 영화, 모도, 위해, 성당, 도시, 카르피\n",
      "------------------------------------------------\n",
      "LDA Analysis for  fantasy is being processed...\n",
      "토픽 1: \n",
      "위해, 시작, 사랑, 자신, 왕자, 공주, 사람, 악마, 뱀파이어, 왕국, 인간, 이자, 공격, 왕비, 친구\n",
      "토픽 2: \n",
      "자신, 사람, 그녀, 위해, 사랑, 알렉스, 사건, 인간, 요괴, 시간, 세상, 마법, 아이, 소녀, 과연\n",
      "토픽 3: \n",
      "영화제, 그녀, 시작, 영화, 자신, 남자, 이야기, 국제, 판타스틱, 세계, 부천, 하나, 현실, 작품, 아버지\n",
      "------------------------------------------------\n",
      "LDA Analysis for  comedy is being processed...\n",
      "토픽 1: \n",
      "그녀, 사랑, 자신, 남자, 시작, 위해, 여자, 친구, 인생, 남편, 결혼, 모든, 과연, 아들, 파티\n",
      "토픽 2: \n",
      "영화, 영화제, 사람, 자신, 시작, 위해, 그녀, 사랑, 국제, 친구, 이야기, 남자, 마을, 작품, 아버지\n",
      "토픽 3: \n",
      "위해, 자신, 시작, 친구, 그녀, 사건, 가족, 사람, 마을, 학교, 사랑, 아이, 위기, 한편, 형사\n",
      "------------------------------------------------\n",
      "LDA Analysis for  drama is being processed...\n",
      "토픽 1: \n",
      "그녀, 자신, 사랑, 사람, 남자, 시작, 여자, 위해, 남편, 아버지, 친구, 아들, 마음, 아내, 서로\n",
      "토픽 2: \n",
      "영화제, 영화, 국제, 단편, 이야기, 서울, 감독, 작품, 대한, 연출, 사람, 자신, 부문, 통해, 부산\n",
      "토픽 3: \n",
      "위해, 엄마, 자신, 친구, 시작, 학교, 사람, 아이, 사건, 할머니, 세상, 소년, 남자, 때문, 가족\n",
      "------------------------------------------------\n",
      "LDA Analysis for  adventure is being processed...\n",
      "토픽 1: \n",
      "친구, 마을, 사람, 위해, 지역, 세계, 이야기, 시작, 서로, 이름, 대한, 보이, 영화, 할아버지, 앤트\n",
      "토픽 2: \n",
      "위해, 자신, 모험, 바다, 시작, 과연, 한편, 세계, 보물, 미션, 다른, 발견, 아이, 형제, 다시\n",
      "토픽 3: \n",
      "위해, 여행, 자신, 아버지, 가족, 시작, 영화제, 영화, 국제, 아이, 세상, 비밀, 위기, 대한, 모든\n"
     ]
    }
   ],
   "source": [
    "attribute_dict = {}\n",
    "for name, text in zip(genre_name, genre):\n",
    "    print(\"------------------------------------------------\")\n",
    "    print(\"LDA Analysis for \", name, \"is being processed...\")\n",
    "    attribute_dict[name] = lda_analysis(text)\n"
   ]
  },
  {
   "cell_type": "code",
   "execution_count": 86,
   "id": "440c23f4",
   "metadata": {
    "scrolled": true
   },
   "outputs": [
    {
     "name": "stdout",
     "output_type": "stream",
     "text": [
      "토픽 1: \n",
      "자신, 위해, 사건, 조직, 영화, 경찰, 사람, 형사, 살인, 요원, 친구, 그녀, 임무, 범죄, 동료\n",
      "토픽 2: \n",
      "위해, 자신, 그녀, 조직, 시작, 복수, 사람, 사랑, 친구, 운명, 목숨, 세계, 남자, 납치, 한편\n",
      "토픽 3: \n",
      "시작, 자신, 위해, 사건, 인간, 전쟁, 경찰, 사실, 지구, 목숨, 사람, 비밀, 공격, 모든, 가족\n",
      "토픽 1: \n",
      "영화제, 엄마, 아빠, 국제, 할머니, 학교, 가족, 자신, 서울, 사람, 아주르, 위해, 고양이, 시작, 영화\n",
      "토픽 2: \n",
      "아버지, 친구, 사랑, 위해, 아이, 자신, 그녀, 어머니, 마을, 시작, 세상, 대한, 미아, 소년, 과연\n",
      "토픽 3: \n",
      "가족, 아들, 자신, 엄마, 위해, 시작, 그녀, 아빠, 엠마, 낙타, 아내, 사람, 마을, 해나, 씨제이\n",
      "토픽 1: \n",
      "공연, 콘서트, 그녀, 실황, 음악, 여왕, 오텔로, 사랑, 미노, 시작, 세계, 비바, 백작부인, 자신, 위해\n",
      "토픽 2: \n",
      "사랑, 올레, 프레, 자신, 왕자, 공작, 그녀, 반니, 위해, 파리, 여자, 여인, 리골레토, 시작, 오페라\n",
      "토픽 3: \n",
      "사랑, 오페라, 토스카, 자신, 카바, 아이, 도시, 실황, 백작, 공연, 위해, 리코, 그녀, 카르피, 무대\n",
      "토픽 1: \n",
      "그녀, 자신, 시작, 사람, 위해, 발견, 남자, 정체, 목숨, 사랑, 영화, 요원, 다른, 비밀, 소녀\n",
      "토픽 2: \n",
      "시작, 그녀, 사람, 위해, 영화제, 발견, 사고, 사건, 남자, 살인, 아내, 죽음, 국제, 여자, 남편\n",
      "토픽 3: \n",
      "사건, 자신, 위해, 그녀, 시작, 살인, 사람, 남자, 아내, 친구, 마을, 가족, 형사, 사실, 경찰\n",
      "토픽 1: \n",
      "서부, 카우보이, 위해, 사랑, 무법자, 사람, 서로, 엠마, 미국, 정의, 자신, 가족, 누가, 열차, 사냥꾼\n",
      "토픽 2: \n",
      "위해, 시작, 벌린, 사냥, 대결, 자신, 보안관, 마을, 복수, 찰리, 싸움, 한편, 숙명, 농장, 방식\n",
      "토픽 3: \n",
      "아이, 헨리, 보안관, 마을, 아들, 아버지, 자신, 분노, 서부, 부하, 가득, 개릿, 위해, 릴리, 스탠리\n",
      "토픽 1: \n",
      "영화, 페스티벌, 엄마, 자신, 위해, 뉴미디어, 연출, 사람, 시작, 작품, 대한, 이미지, 도시, 현실, 모습\n",
      "토픽 2: \n",
      "이야기, 그녀, 남자, 사람, 자신, 사랑, 영화, 여자, 위해, 시작, 소녀, 다른, 시간, 우리, 친구\n",
      "토픽 3: \n",
      "영화제, 국제, 서울, 단편, 독립, 부산, 아시아나, 유럽, 청소년, 부천, 지하철, 판타스틱, 상영작, 부문, 경쟁\n",
      "토픽 1: \n",
      "그녀, 남편, 자신, 관계, 시작, 레이, 유부녀, 섹스, 유미, 미키, 정사, 마음, 모습, 유우, 아키\n",
      "토픽 2: \n",
      "그녀, 남편, 영화, 남자, 마사지, 그린, 이야기, 위해, 자신, 관계, 여자, 섹스, 시작, 에피소드, 사랑\n",
      "토픽 3: \n",
      "그녀, 자신, 남편, 관계, 정사, 마음, 위해, 시작, 다시, 사실, 남자, 회사, 유이, 결혼, 친구\n",
      "토픽 1: \n",
      "사건, 그녀, 아내, 시작, 위해, 남편, 발생, 사람, 비밀, 누구, 납치, 의심, 자신, 살인, 무엇\n",
      "토픽 2: \n",
      "사건, 그녀, 자신, 영화, 발견, 시작, 소설, 위해, 이야기, 과연, 형사, 사람, 작가, 정체, 불명\n",
      "토픽 3: \n",
      "자신, 사건, 그녀, 시작, 죽음, 친구, 기억, 사람, 진실, 위해, 사고, 경찰, 살인, 민혁, 아빠\n",
      "토픽 1: \n",
      "사람, 위해, 자신, 시작, 마을, 좀비, 사건, 친구, 죽음, 하나, 여자, 살인, 남자, 정체, 게임\n",
      "토픽 2: \n",
      "영화, 발견, 사건, 가족, 그녀, 자신, 위해, 시작, 사람, 아들, 영화제, 이사, 병원, 공포, 이야기\n",
      "토픽 3: \n",
      "친구, 그녀, 시작, 공포, 위해, 자신, 소녀, 죽음, 사건, 악령, 저주, 사고, 마을, 모든, 여행\n",
      "토픽 1: \n",
      "조선, 위해, 전쟁, 마음, 자신, 황제, 최고, 사랑, 이야기, 사람, 양반, 세상, 권력, 트로이, 아킬레스\n",
      "토픽 2: \n",
      "시작, 자신, 사람, 아들, 가장, 위해, 최고, 정조, 사건, 아버지, 생각, 하선, 우리, 조선, 운명\n",
      "토픽 3: \n",
      "사랑, 위해, 그녀, 조선, 운명, 신기전, 황제, 목숨, 동생, 소리, 권력, 일본군, 개발, 대호, 모든\n",
      "토픽 1: \n",
      "그녀, 자신, 결혼, 사랑, 시작, 친구, 남자, 마음, 사람, 여자, 점점, 위해, 모습, 서로, 새엄마\n",
      "토픽 2: \n",
      "그녀, 사랑, 자신, 시작, 남편, 남자, 사람, 여자, 위해, 마음, 친구, 서로, 다시, 관계, 시간\n",
      "토픽 3: \n",
      "남편, 부부, 아내, 남자, 그녀, 섹스, 영화, 자신, 시작, 친구, 사랑, 위해, 사람, 여자, 영화제\n",
      "토픽 1: \n",
      "전쟁, 작전, 사람, 그녀, 위해, 자신, 폭격, 시작, 독일, 동막골, 장군, 폴란드, 혁리, 북한, 비밀\n",
      "토픽 2: \n",
      "전투, 작전, 전쟁, 독일군, 위해, 시작, 부대, 지역, 중위, 대위, 윈터스, 군인, 가장, 공격, 미국\n",
      "토픽 3: \n",
      "시작, 위해, 부대, 독일, 전쟁, 영화, 임무, 독일군, 명령, 나치, 목숨, 영국, 일본, 일본군, 상황\n",
      "토픽 1: \n",
      "자신, 위해, 지구, 인간, 모든, 미래, 그녀, 시작, 사람, 인류, 로봇, 우주, 시간, 박사, 기억\n",
      "토픽 2: \n",
      "사람, 시작, 자신, 위해, 영화, 지구, 인간, 미래, 인류, 세상, 시스템, 모든, 사건, 아들, 아버지\n",
      "토픽 3: \n",
      "시작, 지구, 위해, 자신, 세계, 사람, 인류, 우주, 비밀, 인간, 외계, 로봇, 그녀, 우주선, 친구\n",
      "토픽 1: \n",
      "친구, 위해, 자신, 아이, 시작, 마을, 소년, 세상, 소녀, 엄마, 과연, 모험, 애니, 최강, 주인공\n",
      "토픽 2: \n",
      "사람, 인디애니페스트, 이야기, 위해, 자신, 세계, 시작, 인간, 우리, 그녀, 사랑, 남자, 소녀, 모든, 다른\n",
      "토픽 3: \n",
      "애니메이션, 국제, 영화제, 서울, 페스티벌, 단편, 부문, 부천, 작품, 만화, 경쟁, 남자, 학생, 연출, 표현\n",
      "토픽 1: \n",
      "영화제, 국제, 다큐, 서울, 다큐멘터리, 환경, 독립, 음악, 시작, 여성, 밴드, 부산, 단편, 영화, 한국\n",
      "토픽 2: \n",
      "사람, 영화, 우리, 위해, 마을, 대한, 자신, 통해, 가족, 이야기, 시작, 아이, 감독, 다큐멘터리, 세상\n",
      "토픽 3: \n",
      "영화, 이야기, 그녀, 감독, 대한, 세계, 자신, 다큐멘터리, 시작, 위해, 사람, 작품, 여성, 통해, 한국\n",
      "토픽 1: \n",
      "사건, 경찰, 시작, 자신, 그녀, 위해, 마약, 살인, 조직, 발견, 형사, 범인, 범죄, 수사, 모든\n",
      "토픽 2: \n",
      "남자, 자신, 은행, 영화, 위해, 영화제, 사람, 미국, 아버지, 그녀, 국제, 이야기, 살해, 사랑, 친구\n",
      "토픽 3: \n",
      "위해, 자신, 시작, 사건, 사람, 조직, 복수, 살인, 범죄, 소년, 계획, 모든, 마지막, 서로, 요원\n",
      "토픽 1: \n",
      "음악, 모차르트, 영화, 바흐, 스페인, 아들, 세계, 대한, 사랑, 자신, 결혼, 라훌, 제루샤, 가족, 아버지\n",
      "토픽 2: \n",
      "사랑, 자신, 시작, 엄마, 사람, 위해, 그녀, 최고, 파티, 사실, 포르노, 서로, 공연, 모든, 미국\n",
      "토픽 3: \n",
      "뮤지컬, 그녀, 영화제, 충무로, 카바, 에스메랄다, 토스카, 크리스틴, 노래, 영화, 모도, 위해, 성당, 도시, 카르피\n",
      "토픽 1: \n",
      "위해, 시작, 사랑, 자신, 왕자, 공주, 사람, 악마, 뱀파이어, 왕국, 인간, 이자, 공격, 왕비, 친구\n",
      "토픽 2: \n",
      "자신, 사람, 그녀, 위해, 사랑, 알렉스, 사건, 인간, 요괴, 시간, 세상, 마법, 아이, 소녀, 과연\n",
      "토픽 3: \n",
      "영화제, 그녀, 시작, 영화, 자신, 남자, 이야기, 국제, 판타스틱, 세계, 부천, 하나, 현실, 작품, 아버지\n",
      "토픽 1: \n",
      "그녀, 사랑, 자신, 남자, 시작, 위해, 여자, 친구, 인생, 남편, 결혼, 모든, 과연, 아들, 파티\n",
      "토픽 2: \n",
      "영화, 영화제, 사람, 자신, 시작, 위해, 그녀, 사랑, 국제, 친구, 이야기, 남자, 마을, 작품, 아버지\n",
      "토픽 3: \n",
      "위해, 자신, 시작, 친구, 그녀, 사건, 가족, 사람, 마을, 학교, 사랑, 아이, 위기, 한편, 형사\n",
      "토픽 1: \n",
      "그녀, 자신, 사랑, 사람, 남자, 시작, 여자, 위해, 남편, 아버지, 친구, 아들, 마음, 아내, 서로\n",
      "토픽 2: \n",
      "영화제, 영화, 국제, 단편, 이야기, 서울, 감독, 작품, 대한, 연출, 사람, 자신, 부문, 통해, 부산\n",
      "토픽 3: \n",
      "위해, 엄마, 자신, 친구, 시작, 학교, 사람, 아이, 사건, 할머니, 세상, 소년, 남자, 때문, 가족\n",
      "토픽 1: \n",
      "친구, 마을, 사람, 위해, 지역, 세계, 이야기, 시작, 서로, 이름, 대한, 보이, 영화, 할아버지, 앤트\n",
      "토픽 2: \n",
      "위해, 자신, 모험, 바다, 시작, 과연, 한편, 세계, 보물, 미션, 다른, 발견, 아이, 형제, 다시\n",
      "토픽 3: \n",
      "위해, 여행, 자신, 아버지, 가족, 시작, 영화제, 영화, 국제, 아이, 세상, 비밀, 위기, 대한, 모든\n"
     ]
    },
    {
     "data": {
      "text/plain": [
       "21"
      ]
     },
     "execution_count": 86,
     "metadata": {},
     "output_type": "execute_result"
    }
   ],
   "source": [
    "# 대부분 1번이 괜찮은 것 같아서 다 Topic 1로 통일하겠음\n",
    "attributes = []\n",
    "\n",
    "for text in genre:\n",
    "    results = lda_analysis(text)\n",
    "    attribute = results[1]\n",
    "    attributes.append(attribute)\n",
    "\n",
    "len(attributes)"
   ]
  },
  {
   "cell_type": "markdown",
   "id": "4f72c3dd",
   "metadata": {},
   "source": [
    "## 4. WEAT 분석 수행"
   ]
  },
  {
   "cell_type": "code",
   "execution_count": 85,
   "id": "3b6bcaaa",
   "metadata": {},
   "outputs": [],
   "source": [
    "matrix = [[0 for _ in range(len(genre_name))] for _ in range(len(genre_name))]"
   ]
  },
  {
   "cell_type": "code",
   "execution_count": 89,
   "id": "87f285c0",
   "metadata": {},
   "outputs": [],
   "source": [
    "X = np.array([model.wv[word] for word in target_art[2]])\n",
    "Y = np.array([model.wv[word] for word in target_gen[2]])\n",
    "\n",
    "for i in range(len(genre_name) - 1):\n",
    "    for j in range(i+1, len(genre_name)):\n",
    "        A = np.array([model.wv[word] for word in attributes[i]])\n",
    "        B = np.array([model.wv[word] for word in attributes[j]])\n",
    "        matrix[i][j] = weat_score(X, Y, A, B)\n",
    "        "
   ]
  },
  {
   "cell_type": "code",
   "execution_count": 90,
   "id": "8e784c7c",
   "metadata": {},
   "outputs": [
    {
     "name": "stdout",
     "output_type": "stream",
     "text": [
      "action family -0.93929595\n",
      "action show -1.0066972\n",
      "action thriller -1.0411624\n",
      "action western -0.9384258\n",
      "action etc -1.0054299\n",
      "action adult -1.2449162\n",
      "action mystery -0.8057949\n",
      "action horror -0.69954544\n",
      "action historical -0.96826696\n",
      "action romance -1.0991405\n",
      "action war -0.7140297\n",
      "action SF -0.6350931\n",
      "action animation -0.7112046\n",
      "action documentary -0.8550109\n",
      "action crime 0.8287884\n",
      "action musical -1.0620989\n",
      "action fantasy -0.77316326\n",
      "action comedy -1.0454319\n",
      "action drama -1.0490378\n",
      "action adventure -0.863681\n",
      "family show -0.17774211\n",
      "family thriller 0.35379195\n",
      "family western 0.46270013\n",
      "family etc -0.37922373\n",
      "family adult -0.56573766\n",
      "family mystery 0.6952024\n",
      "family horror 0.7751216\n",
      "family historical 0.2616251\n",
      "family romance -0.43235978\n",
      "family war 0.874531\n",
      "family SF 0.75659794\n",
      "family animation 0.7576274\n",
      "family documentary -0.4294633\n",
      "family crime 0.97893757\n",
      "family musical -0.40356266\n",
      "family fantasy 0.5254823\n",
      "family comedy -0.13197905\n",
      "family drama -0.23918307\n",
      "family adventure 0.38066965\n",
      "show thriller 0.51320356\n",
      "show western 0.5959385\n",
      "show etc -0.12051311\n",
      "show adult -0.4998193\n",
      "show mystery 0.7757317\n",
      "show horror 0.8238198\n",
      "show historical 0.6324744\n",
      "show romance -0.34834045\n",
      "show war 1.1676799\n",
      "show SF 1.15672\n",
      "show animation 0.7847909\n",
      "show documentary -0.294568\n",
      "show crime 1.05872\n",
      "show musical -0.15469758\n",
      "show fantasy 0.85665375\n",
      "show comedy -0.012679987\n",
      "show drama -0.13822386\n",
      "show adventure 0.39850098\n",
      "thriller western -0.042531423\n",
      "thriller etc -0.5182041\n",
      "thriller adult -1.0429277\n",
      "thriller mystery 0.90165323\n",
      "thriller horror 1.1391948\n",
      "thriller historical -0.26044542\n",
      "thriller romance -0.9512737\n",
      "thriller war 0.6607362\n",
      "thriller SF 0.5599999\n",
      "thriller animation 0.21579076\n",
      "thriller documentary -0.45043734\n",
      "thriller crime 1.1002698\n",
      "thriller musical -0.61509\n",
      "thriller fantasy 0.18562481\n",
      "thriller comedy -0.65919733\n",
      "thriller drama -0.7232123\n",
      "thriller adventure -0.18698616\n",
      "western etc -0.5853969\n",
      "western adult -0.9348114\n",
      "western mystery 0.68655306\n",
      "western horror 0.78474766\n",
      "western historical -0.40467805\n",
      "western romance -0.90793777\n",
      "western war 0.8009374\n",
      "western SF 0.6924995\n",
      "western animation 0.33106837\n",
      "western documentary -0.48471087\n",
      "western crime 0.98386693\n",
      "western musical -0.79975826\n",
      "western fantasy 0.32682213\n",
      "western comedy -0.61156577\n",
      "western drama -0.6730498\n",
      "western adventure -0.22192587\n",
      "etc adult -0.3570384\n",
      "etc mystery 0.7762596\n",
      "etc horror 0.8433386\n",
      "etc historical 0.54568833\n",
      "etc romance -0.21439163\n",
      "etc war 0.9638464\n",
      "etc SF 0.9345502\n",
      "etc animation 0.6997493\n",
      "etc documentary -0.3322023\n",
      "etc crime 1.0392482\n",
      "etc musical -0.023631165\n",
      "etc fantasy 0.59269077\n",
      "etc comedy 0.05979861\n",
      "etc drama -0.050509736\n",
      "etc adventure 0.68774885\n",
      "adult mystery 1.3119048\n",
      "adult horror 1.2321612\n",
      "adult historical 0.7311069\n",
      "adult romance 0.43015313\n",
      "adult war 1.042359\n",
      "adult SF 1.0268364\n",
      "adult animation 0.9482799\n",
      "adult documentary 0.08990337\n",
      "adult crime 1.2793372\n",
      "adult musical 0.44713306\n",
      "adult fantasy 1.0152073\n",
      "adult comedy 0.9146649\n",
      "adult drama 0.83068645\n",
      "adult adventure 0.6893132\n",
      "mystery horror -0.11035893\n",
      "mystery historical -0.69213074\n",
      "mystery romance -1.1406449\n",
      "mystery war -0.16234961\n",
      "mystery SF -0.24764004\n",
      "mystery animation -0.40734574\n",
      "mystery documentary -0.63439184\n",
      "mystery crime 1.0363938\n",
      "mystery musical -0.86908686\n",
      "mystery fantasy -0.4758255\n",
      "mystery comedy -1.0160348\n",
      "mystery drama -1.0682298\n",
      "mystery adventure -0.6235087\n",
      "horror historical -0.762666\n",
      "horror romance -1.1846068\n",
      "horror war -0.124563895\n",
      "horror SF -0.23659004\n",
      "horror animation -0.48104477\n",
      "horror documentary -0.6576979\n",
      "horror crime 0.8806256\n",
      "horror musical -0.9175571\n",
      "horror fantasy -0.5254063\n",
      "horror comedy -1.0336531\n",
      "horror drama -1.0693706\n",
      "horror adventure -0.76125354\n",
      "historical romance -0.6365784\n",
      "historical war 1.0286337\n",
      "historical SF 0.9885651\n",
      "historical animation 0.56171703\n",
      "historical documentary -0.4662868\n",
      "historical crime 1.0070632\n",
      "historical musical -0.7482751\n",
      "historical fantasy 0.5710182\n",
      "historical comedy -0.3421028\n",
      "historical drama -0.41175944\n",
      "historical adventure 0.059184954\n",
      "romance war 0.9671254\n",
      "romance SF 1.0094825\n",
      "romance animation 0.9635091\n",
      "romance documentary -0.014841593\n",
      "romance crime 1.1339109\n",
      "romance musical 0.26406124\n",
      "romance fantasy 1.0574801\n",
      "romance comedy 0.8907185\n",
      "romance drama 0.8800439\n",
      "romance adventure 0.62892693\n",
      "war SF -0.22170125\n",
      "war animation -0.39841196\n",
      "war documentary -0.75490624\n",
      "war crime 0.879435\n",
      "war musical -0.9862919\n",
      "war fantasy -0.5581422\n",
      "war comedy -0.8547441\n",
      "war drama -0.8227939\n",
      "war adventure -0.70287836\n",
      "SF animation -0.28549066\n",
      "SF documentary -0.69013214\n",
      "SF crime 0.7914276\n",
      "SF musical -0.9560552\n",
      "SF fantasy -0.45631388\n",
      "SF comedy -0.8310664\n",
      "SF drama -0.8144606\n",
      "SF adventure -0.6655209\n",
      "animation documentary -0.5713216\n",
      "animation crime 0.8025907\n",
      "animation musical -0.88627577\n",
      "animation fantasy -0.08019354\n",
      "animation comedy -0.7583668\n",
      "animation drama -0.7558353\n",
      "animation adventure -0.5061056\n",
      "documentary crime 0.90798515\n",
      "documentary musical 0.23305933\n",
      "documentary fantasy 0.51521397\n",
      "documentary comedy 0.19071738\n",
      "documentary drama 0.1108494\n",
      "documentary adventure 0.50077534\n",
      "crime musical -1.0647833\n",
      "crime fantasy -0.8685174\n",
      "crime comedy -1.0942341\n",
      "crime drama -1.0917596\n",
      "crime adventure -0.91942513\n",
      "musical fantasy 0.7675071\n",
      "musical comedy 0.095726945\n",
      "musical drama -0.05380762\n",
      "musical adventure 0.666253\n",
      "fantasy comedy -0.8699635\n",
      "fantasy drama -0.8187435\n",
      "fantasy adventure -0.33191952\n",
      "comedy drama -0.4117911\n",
      "comedy adventure 0.31778434\n",
      "drama adventure 0.40906566\n"
     ]
    }
   ],
   "source": [
    "for i in range(len(genre_name) - 1):\n",
    "    for j in range(i+1, len(genre_name)):\n",
    "        print(genre_name[i], genre_name[j], matrix[i][j])"
   ]
  },
  {
   "cell_type": "code",
   "execution_count": 95,
   "id": "b077fdca",
   "metadata": {},
   "outputs": [
    {
     "data": {
      "image/png": "[encoded data removed]",
      "text/plain": [
       "<Figure size 1296x1296 with 2 Axes>"
      ]
     },
     "metadata": {},
     "output_type": "display_data"
    }
   ],
   "source": [
    "np.random.seed(0)\n",
    "plt.figure(figsize = (18, 18))\n",
    "sns.set(font = \"NanumGothic\")\n",
    "plt.rcParams['axes.unicode_minus'] = False\n",
    "ax = sns.heatmap(matrix, xticklabels = genre_name, yticklabels = genre_name, annot = True, cmap = \"RdBu_r\")\n",
    "plt.show()"
   ]
  },
  {
   "cell_type": "markdown",
   "id": "6272abf7",
   "metadata": {},
   "source": [
    "## 5. 회고"
   ]
  },
  {
   "cell_type": "markdown",
   "id": "b8b236ea",
   "metadata": {},
   "source": [
    "**결과 해석**\n",
    "- art-gen 과의 편향성 관계\n",
    "- 로맨스, 성인 영화와 같이 사랑을 다루는 영화는 예술에 가깝다고 나온듯 함\n",
    "- 액션, 전쟁, SF, 범죄, 스릴러, 미스테리의 값은 대부분 음수로 대중 영화와 가깝다고 나옴\n",
    "- 가족, 연극, 웨스턴, 역사와 같은 장르는 비교하는 대상에 따라 음수/양수 값이 다양하게 나타남"
   ]
  },
  {
   "cell_type": "markdown",
   "id": "06bd5855",
   "metadata": {},
   "source": [
    "**추가로 실험하면 좋을 것**\n",
    "- tf-idf로 구한 weat값과 LDA 결과값 비교\n",
    "- 장르를 대표할 수 있는 단어 찾는 방법 추가적으로 탐색이 필요함"
   ]
  }
 ],
 "metadata": {
  "kernelspec": {
   "display_name": "Python 3 (ipykernel)",
   "language": "python",
   "name": "python3"
  },
  "language_info": {
   "codemirror_mode": {
    "name": "ipython",
    "version": 3
   },
   "file_extension": ".py",
   "mimetype": "text/x-python",
   "name": "python",
   "nbconvert_exporter": "python",
   "pygments_lexer": "ipython3",
   "version": "3.9.7"
  }
 },
 "nbformat": 4,
 "nbformat_minor": 5
}
